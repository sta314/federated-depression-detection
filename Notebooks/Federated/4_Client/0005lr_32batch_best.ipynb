{
  "cells": [
    {
      "cell_type": "code",
      "execution_count": 1,
      "metadata": {
        "colab": {
          "base_uri": "https://localhost:8080/"
        },
        "id": "r744gux56lPI",
        "outputId": "5367c22b-8a2c-4033-8c9e-9895a2091a03"
      },
      "outputs": [
        {
          "name": "stdout",
          "output_type": "stream",
          "text": [
            "\u001b[2K     \u001b[90m━━━━━━━━━━━━━━━━━━━━━━━━━━━━━━━━━━━━━━━━\u001b[0m \u001b[32m219.2/219.2 kB\u001b[0m \u001b[31m1.6 MB/s\u001b[0m eta \u001b[36m0:00:00\u001b[0m\n",
            "\u001b[2K     \u001b[90m━━━━━━━━━━━━━━━━━━━━━━━━━━━━━━━━━━━━━━━━\u001b[0m \u001b[32m2.1/2.1 MB\u001b[0m \u001b[31m16.4 MB/s\u001b[0m eta \u001b[36m0:00:00\u001b[0m\n",
            "\u001b[2K     \u001b[90m━━━━━━━━━━━━━━━━━━━━━━━━━━━━━━━━━━━━━━━━\u001b[0m \u001b[32m56.9/56.9 MB\u001b[0m \u001b[31m28.6 MB/s\u001b[0m eta \u001b[36m0:00:00\u001b[0m\n",
            "\u001b[?25h"
          ]
        }
      ],
      "source": [
        "!pip install -q flwr[simulation]"
      ]
    },
    {
      "cell_type": "code",
      "execution_count": 2,
      "metadata": {
        "id": "QhYdGQVU6py4"
      },
      "outputs": [],
      "source": [
        "import flwr as fl\n",
        "from flwr.common import Metrics\n",
        "from flwr.common.typing import NDArrays, Scalar\n",
        "from collections import OrderedDict\n",
        "from typing import List, Tuple, Dict, Optional\n",
        "\n",
        "import matplotlib.pyplot as plt\n",
        "import numpy as np\n",
        "import pandas as pd\n",
        "import tensorflow as tf\n",
        "\n",
        "import os\n",
        "import librosa"
      ]
    },
    {
      "cell_type": "code",
      "execution_count": 3,
      "metadata": {
        "colab": {
          "base_uri": "https://localhost:8080/"
        },
        "id": "pUTPz2ww8yDy",
        "outputId": "d6b23d34-d735-49b5-c55a-be52ea2bb2b5"
      },
      "outputs": [
        {
          "name": "stdout",
          "output_type": "stream",
          "text": [
            "Mounted at /content/gdrive\n"
          ]
        }
      ],
      "source": [
        "from google.colab import drive\n",
        "drive.mount('/content/gdrive')"
      ]
    },
    {
      "cell_type": "code",
      "execution_count": 4,
      "metadata": {
        "colab": {
          "base_uri": "https://localhost:8080/"
        },
        "id": "if3RTu9E8zUl",
        "outputId": "127b7d1d-72d7-486a-91c8-f8e2ac00b99b"
      },
      "outputs": [
        {
          "name": "stdout",
          "output_type": "stream",
          "text": [
            "/content/gdrive/MyDrive/daic/ProjectPrototype\n"
          ]
        }
      ],
      "source": [
        "%cd /content/gdrive/MyDrive/daic/ProjectPrototype"
      ]
    },
    {
      "cell_type": "code",
      "execution_count": 5,
      "metadata": {
        "colab": {
          "base_uri": "https://localhost:8080/"
        },
        "id": "BJsOdA0d80eO",
        "outputId": "9ed61520-4d69-4a81-8d98-8903d1b57a69"
      },
      "outputs": [
        {
          "name": "stdout",
          "output_type": "stream",
          "text": [
            "'212148conf copy 3.ipynb'   edaicwoz   MFCCs_1030   MFCCs_1030.zip   preprocess_data.ipynb\n"
          ]
        }
      ],
      "source": [
        "!ls"
      ]
    },
    {
      "cell_type": "code",
      "execution_count": 6,
      "metadata": {
        "id": "NOdo724P811N"
      },
      "outputs": [],
      "source": [
        "train_labels_df = pd.read_csv(\"edaicwoz/train_split.csv\")\n",
        "test_labels_df = pd.read_csv(\"edaicwoz/test_split.csv\")\n",
        "val_labels_df = pd.read_csv(\"edaicwoz/dev_split.csv\")"
      ]
    },
    {
      "cell_type": "code",
      "execution_count": 7,
      "metadata": {
        "id": "4TEHAQf083qj"
      },
      "outputs": [],
      "source": [
        "def load_audio_files(data_dir, sr=16000):\n",
        "    file_ids = os.listdir(data_dir)\n",
        "    subject_ids = []\n",
        "    file_paths = []\n",
        "    types = []\n",
        "    labels = []\n",
        "    labels_binary = []\n",
        "\n",
        "    for file_id in file_ids:\n",
        "        file_id = file_id.split(\"_\")[0]\n",
        "        file_path = [data_dir + \"/\" + file_id + \"/\" + file_id + \"_MFCC_\" + str(i) + \".npy\" for i in range(len(next(iter(enumerate(os.walk(data_dir + \"/\" + str(file_id) + \"/\"))))[1][2]))]\n",
        "        if int(file_id) in train_labels_df[\"Participant_ID\"].values:\n",
        "            types.append(0)\n",
        "            labels.append(train_labels_df[train_labels_df[\"Participant_ID\"] == int(file_id)]['PHQ_Score'].values[0])\n",
        "            labels_binary.append(train_labels_df[train_labels_df[\"Participant_ID\"] == int(file_id)]['PHQ_Binary'].values[0])\n",
        "\n",
        "        elif int(file_id) in test_labels_df[\"Participant_ID\"].values:\n",
        "            types.append(1)\n",
        "            labels.append(test_labels_df[test_labels_df[\"Participant_ID\"] == int(file_id)]['PHQ_Score'].values[0])\n",
        "            labels_binary.append(test_labels_df[test_labels_df[\"Participant_ID\"] == int(file_id)]['PHQ_Binary'].values[0])\n",
        "        else:\n",
        "            types.append(2)\n",
        "            labels.append(val_labels_df[val_labels_df[\"Participant_ID\"] == int(file_id)]['PHQ_Score'].values[0])\n",
        "            labels_binary.append(val_labels_df[val_labels_df[\"Participant_ID\"] == int(file_id)]['PHQ_Binary'].values[0])\n",
        "        subject_ids.append(int(file_id))\n",
        "        file_paths.append(file_path)\n",
        "\n",
        "    return file_ids, subject_ids, file_paths, types, labels, labels_binary\n",
        "\n",
        "data_dir = \"MFCCs_1030\"\n",
        "\n",
        "file_ids, subject_ids, file_paths, types, labels, labels_binary = load_audio_files(data_dir)"
      ]
    },
    {
      "cell_type": "code",
      "execution_count": 8,
      "metadata": {
        "colab": {
          "base_uri": "https://localhost:8080/"
        },
        "id": "f54IRuEk889P",
        "outputId": "7a16f7e9-1aae-4cc4-ff1d-390b726d583c"
      },
      "outputs": [
        {
          "name": "stdout",
          "output_type": "stream",
          "text": [
            "[INFO] preparing data...\n"
          ]
        }
      ],
      "source": [
        "def prepare_audio_set(file_paths):\n",
        "\n",
        "    samples = []\n",
        "    samples_ids = []\n",
        "    samples_types = []\n",
        "    samples_labels = []\n",
        "    samples_labels_binary = []\n",
        "\n",
        "    for i, file_path in enumerate(file_paths):\n",
        "        all_mfccs = []\n",
        "        for j in range(len(file_path)):\n",
        "            all_mfccs.append(np.load(file_path[j]))\n",
        "        all_mfccs = np.array(all_mfccs)\n",
        "        samples.extend(all_mfccs)\n",
        "        samples_ids.extend([subject_ids[i]] * len(all_mfccs))\n",
        "        samples_types.extend([types[i]] * len(all_mfccs))\n",
        "        samples_labels.extend([labels[i]] * len(all_mfccs))\n",
        "        samples_labels_binary.extend([labels_binary[i]] * len(all_mfccs))\n",
        "\n",
        "    samples = np.array(samples)\n",
        "\n",
        "    samples_ids = np.array(samples_ids)\n",
        "    samples_types = np.array(samples_types)\n",
        "    samples_labels = np.array(samples_labels)\n",
        "    samples_labels_binary = np.array(samples_labels_binary)\n",
        "\n",
        "    return samples, samples_ids, samples_types, samples_labels, samples_labels_binary\n",
        "\n",
        "print(\"[INFO] preparing data...\")\n",
        "samples, samples_ids, samples_types, samples_labels, samples_labels_binary = prepare_audio_set(file_paths)\n",
        "samples = np.swapaxes(samples, 1, 2)"
      ]
    },
    {
      "cell_type": "code",
      "execution_count": 9,
      "metadata": {
        "id": "uMLrvS1L9F8v"
      },
      "outputs": [],
      "source": [
        "training_samples = samples[samples_types == 0]\n",
        "training_labels = samples_labels_binary[samples_types == 0]\n",
        "training_subject_ids = samples_ids[samples_types == 0]\n",
        "\n",
        "test_samples = samples[samples_types == 1]\n",
        "test_labels = samples_labels_binary[samples_types == 1]\n",
        "\n",
        "val_samples = samples[samples_types == 2]\n",
        "val_labels_df = samples_labels_binary[samples_types == 2]"
      ]
    },
    {
      "cell_type": "code",
      "execution_count": 10,
      "metadata": {
        "id": "bpe1dRB-8WdZ"
      },
      "outputs": [],
      "source": [
        "del samples, samples_ids, samples_types, samples_labels, samples_labels_binary\n",
        "del file_ids, subject_ids, file_paths, types, labels, labels_binary"
      ]
    },
    {
      "cell_type": "code",
      "execution_count": 11,
      "metadata": {
        "id": "PDSzvY3L6woq"
      },
      "outputs": [],
      "source": [
        "SEED = 42\n",
        "NUM_CLIENTS = 4\n",
        "BATCH_SIZE = 32\n",
        "NUM_ROUNDS = 5\n",
        "DEPRESSIVE_MULTIPLIER = 30\n",
        "NON_DEPRESSIVE_MULTIPLIER = 10"
      ]
    },
    {
      "cell_type": "code",
      "execution_count": 12,
      "metadata": {
        "colab": {
          "base_uri": "https://localhost:8080/"
        },
        "id": "uoLCYLk-60oa",
        "outputId": "12e793ab-52e0-4775-8eb7-c3341cfd7ff5"
      },
      "outputs": [
        {
          "name": "stderr",
          "output_type": "stream",
          "text": [
            "<ipython-input-12-45e26c792d34>:9: VisibleDeprecationWarning: Creating an ndarray from ragged nested sequences (which is a list-or-tuple of lists-or-tuples-or ndarrays with different lengths or shapes) is deprecated. If you meant to do this, you must specify 'dtype=object' when creating the ndarray.\n",
            "  training_samples_grouped = np.array(training_samples_grouped)\n"
          ]
        }
      ],
      "source": [
        "def partition_data(X: np.ndarray, X_ids: np.ndarray, n_clients: int, d_mult: int, n_d_mult: int) -> Tuple[List[np.ndarray], List[np.ndarray]]:\n",
        "\n",
        "    unique_subject_ids, counts = np.unique(X_ids, return_counts=True)\n",
        "\n",
        "    # grouping the training samples by patient\n",
        "    training_samples_grouped = []\n",
        "    for i in unique_subject_ids:\n",
        "        training_samples_grouped.append(X[X_ids == i])\n",
        "    training_samples_grouped = np.array(training_samples_grouped)\n",
        "\n",
        "    mask_30_segments = np.array([sample.shape[0] == DEPRESSIVE_MULTIPLIER for sample in training_samples_grouped])\n",
        "\n",
        "    # creating masks to get deppressives and non deppressives\n",
        "    mask_10_segments = np.array([sample.shape[0] == NON_DEPRESSIVE_MULTIPLIER for sample in training_samples_grouped])\n",
        "\n",
        "    data_array_30_segments = training_samples_grouped[mask_30_segments]\n",
        "\n",
        "    data_array_10_segments = training_samples_grouped[mask_10_segments]\n",
        "\n",
        "    # recreating labels\n",
        "    X_train_zeros = np.array_split(data_array_10_segments, NUM_CLIENTS)\n",
        "    X_train_ones = np.array_split(data_array_30_segments, NUM_CLIENTS)\n",
        "\n",
        "    # concatenating splitted ones and zeros with labels\n",
        "    X_train_splitted = [] # (NUM_CLIENTS, data)\n",
        "    y_train_splitted = [] # (NUM_CLIENTS, labels)\n",
        "    for i in range(NUM_CLIENTS):\n",
        "\n",
        "        # stack the segments from groups then concatenate\n",
        "        client_data = np.concatenate((np.vstack(X_train_zeros[i]), np.vstack(X_train_ones[i])), axis=0)\n",
        "        client_labels = np.concatenate((np.zeros((X_train_zeros[i].shape[0] * NON_DEPRESSIVE_MULTIPLIER), dtype=int), np.ones((X_train_ones[i].shape[0] * DEPRESSIVE_MULTIPLIER), dtype=int)), axis=0)\n",
        "\n",
        "        X_train_splitted.append(client_data)\n",
        "        y_train_splitted.append(client_labels)\n",
        "\n",
        "    return X_train_splitted, y_train_splitted\n",
        "\n",
        "X_trains, y_trains = partition_data(training_samples, training_subject_ids, NUM_CLIENTS, DEPRESSIVE_MULTIPLIER, NON_DEPRESSIVE_MULTIPLIER)"
      ]
    },
    {
      "cell_type": "code",
      "execution_count": 13,
      "metadata": {
        "id": "0CIVmuPtAV9R"
      },
      "outputs": [],
      "source": [
        "del training_samples, training_labels, training_subject_ids"
      ]
    },
    {
      "cell_type": "code",
      "execution_count": null,
      "metadata": {
        "colab": {
          "base_uri": "https://localhost:8080/"
        },
        "id": "MOakTnvyGeG9",
        "outputId": "0536affa-2519-405d-c4ee-e825b90ea146"
      },
      "outputs": [
        {
          "data": {
            "text/plain": [
              "(610, 15001, 13)"
            ]
          },
          "execution_count": 13,
          "metadata": {},
          "output_type": "execute_result"
        }
      ],
      "source": [
        "X_trains[0].shape"
      ]
    },
    {
      "cell_type": "code",
      "execution_count": 14,
      "metadata": {
        "id": "6TLISBYkEXxm"
      },
      "outputs": [],
      "source": [
        "def get_model(input_shape):\n",
        "    model = tf.keras.models.Sequential()\n",
        "\n",
        "    model.add(tf.keras.layers.GRU(units = 64, input_shape = input_shape)) \n",
        "\n",
        "    model.add(tf.keras.layers.Dense(32, activation='relu'))\n",
        "    model.add(tf.keras.layers.Dropout(0.3))\n",
        "\n",
        "    model.add(tf.keras.layers.Dense(1, activation='sigmoid'))\n",
        "\n",
        "    return model"
      ]
    },
    {
      "cell_type": "code",
      "execution_count": 18,
      "metadata": {
        "id": "NqrDDSKP7HtP"
      },
      "outputs": [],
      "source": [
        "from flwr.common.typing import NDArrays\n",
        "class FlowerClient(fl.client.NumPyClient):\n",
        "\n",
        "    def __init__(self, model: tf.keras.models.Sequential, X_train: np.ndarray, y_train: np.ndarray):\n",
        "        self.model = model\n",
        "        self.X_train = X_train\n",
        "        self.y_train = y_train\n",
        "\n",
        "    def get_parameters(self, config):\n",
        "        return self.model.get_weights()\n",
        "\n",
        "\n",
        "    def fit(self, parameters: NDArrays, config: Dict[str, Scalar]) -> NDArrays:\n",
        "        self.model.compile(optimizer=tf.keras.optimizers.Adam(learning_rate=0.0005), loss=tf.keras.losses.BinaryCrossentropy(label_smoothing=0.1), metrics=['accuracy'])\n",
        "\n",
        "        self.model.set_weights(parameters)\n",
        "\n",
        "        history = self.model.fit(self.X_train, self.y_train ,batch_size=BATCH_SIZE, epochs=1, verbose=0)\n",
        "        results = {\n",
        "            \"loss\": history.history[\"loss\"][0],\n",
        "            \"accuracy\": history.history[\"accuracy\"][0],\n",
        "        }\n",
        "        return self.model.get_weights(), len(self.X_train), results\n",
        "\n",
        "    def evaluate(self, parameters: NDArrays, config: Dict[str, Scalar])-> Tuple[float, int, Dict[str, Scalar]]:\n",
        "        self.model.compile(optimizer=tf.keras.optimizers.Adam(learning_rate=0.0005), loss=tf.keras.losses.BinaryCrossentropy(label_smoothing=0.1), metrics=['accuracy'])\n",
        "        self.model.set_weights(parameters)\n",
        "\n",
        "        loss, acc = self.model.evaluate(self.X_train, self.y_train, verbose=0)\n",
        "        return loss, len(self.X_train), {\"accuracy\": acc}"
      ]
    },
    {
      "cell_type": "code",
      "execution_count": 19,
      "metadata": {
        "id": "qgf9oz_57I9I"
      },
      "outputs": [],
      "source": [
        "# client creator by client id\n",
        "def create_client_fn(cid: str) -> FlowerClient:\n",
        "\n",
        "    input_shape = (15001, 13)\n",
        "    model = get_model(input_shape)\n",
        "    cid_int = int(cid)\n",
        "    return FlowerClient(model, X_trains[cid_int], y_trains[cid_int])"
      ]
    },
    {
      "cell_type": "code",
      "execution_count": 20,
      "metadata": {
        "id": "-BT6BuAA7J3j"
      },
      "outputs": [],
      "source": [
        "def weighted_average(metrics: List[Tuple[int, Metrics]]) -> Metrics:\n",
        "    accuracies = [num_examples * m[\"accuracy\"] for num_examples, m in metrics]\n",
        "    examples = [num_examples for num_examples, _ in metrics]\n",
        "\n",
        "    # Aggregate and return custom metric (weighted average)\n",
        "    return {\"accuracy\": sum(accuracies) / sum(examples)}"
      ]
    },
    {
      "cell_type": "code",
      "execution_count": 27,
      "metadata": {
        "colab": {
          "base_uri": "https://localhost:8080/"
        },
        "id": "6l4S_aJJ7Laq",
        "outputId": "7194c459-ca42-49ee-fa8e-7bf08421cbd1"
      },
      "outputs": [
        {
          "name": "stderr",
          "output_type": "stream",
          "text": [
            "INFO flwr 2023-12-11 10:41:35,057 | app.py:178 | Starting Flower simulation, config: ServerConfig(num_rounds=25, round_timeout=None)\n",
            "INFO:flwr:Starting Flower simulation, config: ServerConfig(num_rounds=25, round_timeout=None)\n",
            "2023-12-11 10:41:39,440\tINFO worker.py:1621 -- Started a local Ray instance.\n",
            "INFO flwr 2023-12-11 10:41:40,956 | app.py:213 | Flower VCE: Ray initialized with resources: {'node:__internal_head__': 1.0, 'CPU': 8.0, 'accelerator_type:V100': 1.0, 'memory': 32521003008.0, 'object_store_memory': 16260501504.0, 'node:172.28.0.12': 1.0, 'GPU': 1.0}\n",
            "INFO:flwr:Flower VCE: Ray initialized with resources: {'node:__internal_head__': 1.0, 'CPU': 8.0, 'accelerator_type:V100': 1.0, 'memory': 32521003008.0, 'object_store_memory': 16260501504.0, 'node:172.28.0.12': 1.0, 'GPU': 1.0}\n",
            "INFO flwr 2023-12-11 10:41:40,959 | app.py:219 | Optimize your simulation with Flower VCE: https://flower.dev/docs/framework/how-to-run-simulations.html\n",
            "INFO:flwr:Optimize your simulation with Flower VCE: https://flower.dev/docs/framework/how-to-run-simulations.html\n",
            "INFO flwr 2023-12-11 10:41:40,963 | app.py:242 | Flower VCE: Resources for each Virtual Client: {'num_cpus': 2, 'num_gpus': 1}\n",
            "INFO:flwr:Flower VCE: Resources for each Virtual Client: {'num_cpus': 2, 'num_gpus': 1}\n",
            "INFO flwr 2023-12-11 10:41:40,977 | app.py:288 | Flower VCE: Creating VirtualClientEngineActorPool with 1 actors\n",
            "INFO:flwr:Flower VCE: Creating VirtualClientEngineActorPool with 1 actors\n",
            "INFO flwr 2023-12-11 10:41:40,979 | server.py:89 | Initializing global parameters\n",
            "INFO:flwr:Initializing global parameters\n",
            "INFO flwr 2023-12-11 10:41:40,982 | server.py:276 | Requesting initial parameters from one random client\n",
            "INFO:flwr:Requesting initial parameters from one random client\n",
            "\u001b[2m\u001b[36m(pid=28061)\u001b[0m 2023-12-11 10:41:42.115197: E tensorflow/compiler/xla/stream_executor/cuda/cuda_dnn.cc:9342] Unable to register cuDNN factory: Attempting to register factory for plugin cuDNN when one has already been registered\n",
            "\u001b[2m\u001b[36m(pid=28061)\u001b[0m 2023-12-11 10:41:42.115264: E tensorflow/compiler/xla/stream_executor/cuda/cuda_fft.cc:609] Unable to register cuFFT factory: Attempting to register factory for plugin cuFFT when one has already been registered\n",
            "\u001b[2m\u001b[36m(pid=28061)\u001b[0m 2023-12-11 10:41:42.115297: E tensorflow/compiler/xla/stream_executor/cuda/cuda_blas.cc:1518] Unable to register cuBLAS factory: Attempting to register factory for plugin cuBLAS when one has already been registered\n",
            "\u001b[2m\u001b[36m(pid=28061)\u001b[0m 2023-12-11 10:41:43.224341: W tensorflow/compiler/tf2tensorrt/utils/py_utils.cc:38] TF-TRT Warning: Could not find TensorRT\n",
            "\u001b[2m\u001b[36m(DefaultActor pid=28061)\u001b[0m 2023-12-11 10:41:50.067256: W tensorflow/core/common_runtime/gpu/gpu_bfc_allocator.cc:47] Overriding orig_value setting because the TF_FORCE_GPU_ALLOW_GROWTH environment variable is set. Original config value was 0.\n",
            "INFO flwr 2023-12-11 10:41:50,466 | server.py:280 | Received initial parameters from one random client\n",
            "INFO:flwr:Received initial parameters from one random client\n",
            "INFO flwr 2023-12-11 10:41:50,468 | server.py:91 | Evaluating initial parameters\n",
            "INFO:flwr:Evaluating initial parameters\n",
            "INFO flwr 2023-12-11 10:41:59,176 | server.py:94 | initial parameters (loss, other metrics): 0.7719388008117676, {'accuracy': 0.45500001311302185}\n",
            "INFO:flwr:initial parameters (loss, other metrics): 0.7719388008117676, {'accuracy': 0.45500001311302185}\n",
            "INFO flwr 2023-12-11 10:41:59,178 | server.py:104 | FL starting\n",
            "INFO:flwr:FL starting\n",
            "DEBUG flwr 2023-12-11 10:41:59,180 | server.py:222 | fit_round 1: strategy sampled 4 clients (out of 4)\n",
            "DEBUG:flwr:fit_round 1: strategy sampled 4 clients (out of 4)\n"
          ]
        },
        {
          "name": "stdout",
          "output_type": "stream",
          "text": [
            "LOSS: 0.7719388008117676\n",
            "BEST_LOSS: 999\n",
            "ACCURACY: 0.45500001311302185\n",
            "BEST_ACCURACY: 0.0\n"
          ]
        },
        {
          "name": "stderr",
          "output_type": "stream",
          "text": [
            "DEBUG flwr 2023-12-11 10:43:15,324 | server.py:236 | fit_round 1 received 4 results and 0 failures\n",
            "DEBUG:flwr:fit_round 1 received 4 results and 0 failures\n",
            "WARNING flwr 2023-12-11 10:43:15,335 | fedavg.py:242 | No fit_metrics_aggregation_fn provided\n",
            "WARNING:flwr:No fit_metrics_aggregation_fn provided\n",
            "INFO flwr 2023-12-11 10:43:24,081 | server.py:125 | fit progress: (1, 0.6810452938079834, {'accuracy': 0.5737500190734863}, 84.9012222299998)\n",
            "INFO:flwr:fit progress: (1, 0.6810452938079834, {'accuracy': 0.5737500190734863}, 84.9012222299998)\n",
            "DEBUG flwr 2023-12-11 10:43:24,083 | server.py:173 | evaluate_round 1: strategy sampled 4 clients (out of 4)\n",
            "DEBUG:flwr:evaluate_round 1: strategy sampled 4 clients (out of 4)\n"
          ]
        },
        {
          "name": "stdout",
          "output_type": "stream",
          "text": [
            "LOSS: 0.6810452938079834\n",
            "BEST_LOSS: 0.7719388008117676\n",
            "ACCURACY: 0.5737500190734863\n",
            "BEST_ACCURACY: 0.45500001311302185\n"
          ]
        },
        {
          "name": "stderr",
          "output_type": "stream",
          "text": [
            "DEBUG flwr 2023-12-11 10:44:15,130 | server.py:187 | evaluate_round 1 received 4 results and 0 failures\n",
            "DEBUG:flwr:evaluate_round 1 received 4 results and 0 failures\n",
            "DEBUG flwr 2023-12-11 10:44:15,133 | server.py:222 | fit_round 2: strategy sampled 4 clients (out of 4)\n",
            "DEBUG:flwr:fit_round 2: strategy sampled 4 clients (out of 4)\n",
            "DEBUG flwr 2023-12-11 10:45:26,862 | server.py:236 | fit_round 2 received 4 results and 0 failures\n",
            "DEBUG:flwr:fit_round 2 received 4 results and 0 failures\n",
            "INFO flwr 2023-12-11 10:45:35,565 | server.py:125 | fit progress: (2, 0.679108202457428, {'accuracy': 0.5724999904632568}, 216.38547342199945)\n",
            "INFO:flwr:fit progress: (2, 0.679108202457428, {'accuracy': 0.5724999904632568}, 216.38547342199945)\n",
            "DEBUG flwr 2023-12-11 10:45:35,567 | server.py:173 | evaluate_round 2: strategy sampled 4 clients (out of 4)\n",
            "DEBUG:flwr:evaluate_round 2: strategy sampled 4 clients (out of 4)\n"
          ]
        },
        {
          "name": "stdout",
          "output_type": "stream",
          "text": [
            "LOSS: 0.679108202457428\n",
            "BEST_LOSS: 0.6810452938079834\n",
            "ACCURACY: 0.5724999904632568\n",
            "BEST_ACCURACY: 0.5737500190734863\n"
          ]
        },
        {
          "name": "stderr",
          "output_type": "stream",
          "text": [
            "DEBUG flwr 2023-12-11 10:46:25,668 | server.py:187 | evaluate_round 2 received 4 results and 0 failures\n",
            "DEBUG:flwr:evaluate_round 2 received 4 results and 0 failures\n",
            "DEBUG flwr 2023-12-11 10:46:25,672 | server.py:222 | fit_round 3: strategy sampled 4 clients (out of 4)\n",
            "DEBUG:flwr:fit_round 3: strategy sampled 4 clients (out of 4)\n",
            "DEBUG flwr 2023-12-11 10:47:35,366 | server.py:236 | fit_round 3 received 4 results and 0 failures\n",
            "DEBUG:flwr:fit_round 3 received 4 results and 0 failures\n",
            "INFO flwr 2023-12-11 10:47:43,906 | server.py:125 | fit progress: (3, 0.6761940121650696, {'accuracy': 0.5837500095367432}, 344.7268479229997)\n",
            "INFO:flwr:fit progress: (3, 0.6761940121650696, {'accuracy': 0.5837500095367432}, 344.7268479229997)\n",
            "DEBUG flwr 2023-12-11 10:47:43,910 | server.py:173 | evaluate_round 3: strategy sampled 4 clients (out of 4)\n",
            "DEBUG:flwr:evaluate_round 3: strategy sampled 4 clients (out of 4)\n"
          ]
        },
        {
          "name": "stdout",
          "output_type": "stream",
          "text": [
            "LOSS: 0.6761940121650696\n",
            "BEST_LOSS: 0.679108202457428\n",
            "ACCURACY: 0.5837500095367432\n",
            "BEST_ACCURACY: 0.5724999904632568\n"
          ]
        },
        {
          "name": "stderr",
          "output_type": "stream",
          "text": [
            "DEBUG flwr 2023-12-11 10:48:34,442 | server.py:187 | evaluate_round 3 received 4 results and 0 failures\n",
            "DEBUG:flwr:evaluate_round 3 received 4 results and 0 failures\n",
            "DEBUG flwr 2023-12-11 10:48:34,445 | server.py:222 | fit_round 4: strategy sampled 4 clients (out of 4)\n",
            "DEBUG:flwr:fit_round 4: strategy sampled 4 clients (out of 4)\n",
            "DEBUG flwr 2023-12-11 10:49:43,989 | server.py:236 | fit_round 4 received 4 results and 0 failures\n",
            "DEBUG:flwr:fit_round 4 received 4 results and 0 failures\n",
            "INFO flwr 2023-12-11 10:49:52,711 | server.py:125 | fit progress: (4, 0.6755344867706299, {'accuracy': 0.5774999856948853}, 473.5311966479994)\n",
            "INFO:flwr:fit progress: (4, 0.6755344867706299, {'accuracy': 0.5774999856948853}, 473.5311966479994)\n",
            "DEBUG flwr 2023-12-11 10:49:52,715 | server.py:173 | evaluate_round 4: strategy sampled 4 clients (out of 4)\n",
            "DEBUG:flwr:evaluate_round 4: strategy sampled 4 clients (out of 4)\n"
          ]
        },
        {
          "name": "stdout",
          "output_type": "stream",
          "text": [
            "LOSS: 0.6755344867706299\n",
            "BEST_LOSS: 0.6761940121650696\n",
            "ACCURACY: 0.5774999856948853\n",
            "BEST_ACCURACY: 0.5837500095367432\n"
          ]
        },
        {
          "name": "stderr",
          "output_type": "stream",
          "text": [
            "DEBUG flwr 2023-12-11 10:50:43,175 | server.py:187 | evaluate_round 4 received 4 results and 0 failures\n",
            "DEBUG:flwr:evaluate_round 4 received 4 results and 0 failures\n",
            "DEBUG flwr 2023-12-11 10:50:43,178 | server.py:222 | fit_round 5: strategy sampled 4 clients (out of 4)\n",
            "DEBUG:flwr:fit_round 5: strategy sampled 4 clients (out of 4)\n",
            "DEBUG flwr 2023-12-11 10:51:54,074 | server.py:236 | fit_round 5 received 4 results and 0 failures\n",
            "DEBUG:flwr:fit_round 5 received 4 results and 0 failures\n",
            "INFO flwr 2023-12-11 10:52:02,711 | server.py:125 | fit progress: (5, 0.6690609455108643, {'accuracy': 0.6200000047683716}, 603.5319713849995)\n",
            "INFO:flwr:fit progress: (5, 0.6690609455108643, {'accuracy': 0.6200000047683716}, 603.5319713849995)\n",
            "DEBUG flwr 2023-12-11 10:52:02,714 | server.py:173 | evaluate_round 5: strategy sampled 4 clients (out of 4)\n",
            "DEBUG:flwr:evaluate_round 5: strategy sampled 4 clients (out of 4)\n"
          ]
        },
        {
          "name": "stdout",
          "output_type": "stream",
          "text": [
            "LOSS: 0.6690609455108643\n",
            "BEST_LOSS: 0.6755344867706299\n",
            "ACCURACY: 0.6200000047683716\n",
            "BEST_ACCURACY: 0.5774999856948853\n"
          ]
        },
        {
          "name": "stderr",
          "output_type": "stream",
          "text": [
            "DEBUG flwr 2023-12-11 10:52:51,741 | server.py:187 | evaluate_round 5 received 4 results and 0 failures\n",
            "DEBUG:flwr:evaluate_round 5 received 4 results and 0 failures\n",
            "DEBUG flwr 2023-12-11 10:52:51,743 | server.py:222 | fit_round 6: strategy sampled 4 clients (out of 4)\n",
            "DEBUG:flwr:fit_round 6: strategy sampled 4 clients (out of 4)\n",
            "DEBUG flwr 2023-12-11 10:54:03,135 | server.py:236 | fit_round 6 received 4 results and 0 failures\n",
            "DEBUG:flwr:fit_round 6 received 4 results and 0 failures\n",
            "INFO flwr 2023-12-11 10:54:11,669 | server.py:125 | fit progress: (6, 0.6669384837150574, {'accuracy': 0.6137499809265137}, 732.4893105379997)\n",
            "INFO:flwr:fit progress: (6, 0.6669384837150574, {'accuracy': 0.6137499809265137}, 732.4893105379997)\n",
            "DEBUG flwr 2023-12-11 10:54:11,671 | server.py:173 | evaluate_round 6: strategy sampled 4 clients (out of 4)\n",
            "DEBUG:flwr:evaluate_round 6: strategy sampled 4 clients (out of 4)\n"
          ]
        },
        {
          "name": "stdout",
          "output_type": "stream",
          "text": [
            "LOSS: 0.6669384837150574\n",
            "BEST_LOSS: 0.6690609455108643\n",
            "ACCURACY: 0.6137499809265137\n",
            "BEST_ACCURACY: 0.6200000047683716\n"
          ]
        },
        {
          "name": "stderr",
          "output_type": "stream",
          "text": [
            "DEBUG flwr 2023-12-11 10:55:01,775 | server.py:187 | evaluate_round 6 received 4 results and 0 failures\n",
            "DEBUG:flwr:evaluate_round 6 received 4 results and 0 failures\n",
            "DEBUG flwr 2023-12-11 10:55:01,779 | server.py:222 | fit_round 7: strategy sampled 4 clients (out of 4)\n",
            "DEBUG:flwr:fit_round 7: strategy sampled 4 clients (out of 4)\n",
            "DEBUG flwr 2023-12-11 10:56:12,029 | server.py:236 | fit_round 7 received 4 results and 0 failures\n",
            "DEBUG:flwr:fit_round 7 received 4 results and 0 failures\n",
            "INFO flwr 2023-12-11 10:56:20,684 | server.py:125 | fit progress: (7, 0.6650485396385193, {'accuracy': 0.581250011920929}, 861.5050354979994)\n",
            "INFO:flwr:fit progress: (7, 0.6650485396385193, {'accuracy': 0.581250011920929}, 861.5050354979994)\n",
            "DEBUG flwr 2023-12-11 10:56:20,687 | server.py:173 | evaluate_round 7: strategy sampled 4 clients (out of 4)\n",
            "DEBUG:flwr:evaluate_round 7: strategy sampled 4 clients (out of 4)\n"
          ]
        },
        {
          "name": "stdout",
          "output_type": "stream",
          "text": [
            "LOSS: 0.6650485396385193\n",
            "BEST_LOSS: 0.6669384837150574\n",
            "ACCURACY: 0.581250011920929\n",
            "BEST_ACCURACY: 0.6137499809265137\n"
          ]
        },
        {
          "name": "stderr",
          "output_type": "stream",
          "text": [
            "DEBUG flwr 2023-12-11 10:57:11,480 | server.py:187 | evaluate_round 7 received 4 results and 0 failures\n",
            "DEBUG:flwr:evaluate_round 7 received 4 results and 0 failures\n",
            "DEBUG flwr 2023-12-11 10:57:11,485 | server.py:222 | fit_round 8: strategy sampled 4 clients (out of 4)\n",
            "DEBUG:flwr:fit_round 8: strategy sampled 4 clients (out of 4)\n",
            "DEBUG flwr 2023-12-11 10:58:21,856 | server.py:236 | fit_round 8 received 4 results and 0 failures\n",
            "DEBUG:flwr:fit_round 8 received 4 results and 0 failures\n",
            "INFO flwr 2023-12-11 10:58:30,620 | server.py:125 | fit progress: (8, 0.664384663105011, {'accuracy': 0.606249988079071}, 991.440317218)\n",
            "INFO:flwr:fit progress: (8, 0.664384663105011, {'accuracy': 0.606249988079071}, 991.440317218)\n",
            "DEBUG flwr 2023-12-11 10:58:30,622 | server.py:173 | evaluate_round 8: strategy sampled 4 clients (out of 4)\n",
            "DEBUG:flwr:evaluate_round 8: strategy sampled 4 clients (out of 4)\n"
          ]
        },
        {
          "name": "stdout",
          "output_type": "stream",
          "text": [
            "LOSS: 0.664384663105011\n",
            "BEST_LOSS: 0.6650485396385193\n",
            "ACCURACY: 0.606249988079071\n",
            "BEST_ACCURACY: 0.581250011920929\n"
          ]
        },
        {
          "name": "stderr",
          "output_type": "stream",
          "text": [
            "DEBUG flwr 2023-12-11 10:59:22,057 | server.py:187 | evaluate_round 8 received 4 results and 0 failures\n",
            "DEBUG:flwr:evaluate_round 8 received 4 results and 0 failures\n",
            "DEBUG flwr 2023-12-11 10:59:22,061 | server.py:222 | fit_round 9: strategy sampled 4 clients (out of 4)\n",
            "DEBUG:flwr:fit_round 9: strategy sampled 4 clients (out of 4)\n",
            "DEBUG flwr 2023-12-11 11:00:32,140 | server.py:236 | fit_round 9 received 4 results and 0 failures\n",
            "DEBUG:flwr:fit_round 9 received 4 results and 0 failures\n",
            "INFO flwr 2023-12-11 11:00:40,802 | server.py:125 | fit progress: (9, 0.6671249270439148, {'accuracy': 0.6012499928474426}, 1121.6225500789997)\n",
            "INFO:flwr:fit progress: (9, 0.6671249270439148, {'accuracy': 0.6012499928474426}, 1121.6225500789997)\n",
            "DEBUG flwr 2023-12-11 11:00:40,805 | server.py:173 | evaluate_round 9: strategy sampled 4 clients (out of 4)\n",
            "DEBUG:flwr:evaluate_round 9: strategy sampled 4 clients (out of 4)\n"
          ]
        },
        {
          "name": "stdout",
          "output_type": "stream",
          "text": [
            "LOSS: 0.6671249270439148\n",
            "BEST_LOSS: 0.664384663105011\n",
            "ACCURACY: 0.6012499928474426\n",
            "BEST_ACCURACY: 0.606249988079071\n"
          ]
        },
        {
          "name": "stderr",
          "output_type": "stream",
          "text": [
            "DEBUG flwr 2023-12-11 11:01:31,996 | server.py:187 | evaluate_round 9 received 4 results and 0 failures\n",
            "DEBUG:flwr:evaluate_round 9 received 4 results and 0 failures\n",
            "DEBUG flwr 2023-12-11 11:01:32,001 | server.py:222 | fit_round 10: strategy sampled 4 clients (out of 4)\n",
            "DEBUG:flwr:fit_round 10: strategy sampled 4 clients (out of 4)\n",
            "DEBUG flwr 2023-12-11 11:02:43,945 | server.py:236 | fit_round 10 received 4 results and 0 failures\n",
            "DEBUG:flwr:fit_round 10 received 4 results and 0 failures\n",
            "INFO flwr 2023-12-11 11:02:52,625 | server.py:125 | fit progress: (10, 0.6702646017074585, {'accuracy': 0.6100000143051147}, 1253.4456602949995)\n",
            "INFO:flwr:fit progress: (10, 0.6702646017074585, {'accuracy': 0.6100000143051147}, 1253.4456602949995)\n",
            "DEBUG flwr 2023-12-11 11:02:52,627 | server.py:173 | evaluate_round 10: strategy sampled 4 clients (out of 4)\n",
            "DEBUG:flwr:evaluate_round 10: strategy sampled 4 clients (out of 4)\n"
          ]
        },
        {
          "name": "stdout",
          "output_type": "stream",
          "text": [
            "LOSS: 0.6702646017074585\n",
            "BEST_LOSS: 0.664384663105011\n",
            "ACCURACY: 0.6100000143051147\n",
            "BEST_ACCURACY: 0.606249988079071\n"
          ]
        },
        {
          "name": "stderr",
          "output_type": "stream",
          "text": [
            "DEBUG flwr 2023-12-11 11:03:41,814 | server.py:187 | evaluate_round 10 received 4 results and 0 failures\n",
            "DEBUG:flwr:evaluate_round 10 received 4 results and 0 failures\n",
            "DEBUG flwr 2023-12-11 11:03:41,816 | server.py:222 | fit_round 11: strategy sampled 4 clients (out of 4)\n",
            "DEBUG:flwr:fit_round 11: strategy sampled 4 clients (out of 4)\n",
            "DEBUG flwr 2023-12-11 11:04:54,043 | server.py:236 | fit_round 11 received 4 results and 0 failures\n",
            "DEBUG:flwr:fit_round 11 received 4 results and 0 failures\n",
            "INFO flwr 2023-12-11 11:05:02,686 | server.py:125 | fit progress: (11, 0.6742975115776062, {'accuracy': 0.5899999737739563}, 1383.5062351799997)\n",
            "INFO:flwr:fit progress: (11, 0.6742975115776062, {'accuracy': 0.5899999737739563}, 1383.5062351799997)\n",
            "DEBUG flwr 2023-12-11 11:05:02,688 | server.py:173 | evaluate_round 11: strategy sampled 4 clients (out of 4)\n",
            "DEBUG:flwr:evaluate_round 11: strategy sampled 4 clients (out of 4)\n"
          ]
        },
        {
          "name": "stdout",
          "output_type": "stream",
          "text": [
            "LOSS: 0.6742975115776062\n",
            "BEST_LOSS: 0.664384663105011\n",
            "ACCURACY: 0.5899999737739563\n",
            "BEST_ACCURACY: 0.606249988079071\n"
          ]
        },
        {
          "name": "stderr",
          "output_type": "stream",
          "text": [
            "DEBUG flwr 2023-12-11 11:05:53,339 | server.py:187 | evaluate_round 11 received 4 results and 0 failures\n",
            "DEBUG:flwr:evaluate_round 11 received 4 results and 0 failures\n",
            "DEBUG flwr 2023-12-11 11:05:53,344 | server.py:222 | fit_round 12: strategy sampled 4 clients (out of 4)\n",
            "DEBUG:flwr:fit_round 12: strategy sampled 4 clients (out of 4)\n",
            "DEBUG flwr 2023-12-11 11:07:03,390 | server.py:236 | fit_round 12 received 4 results and 0 failures\n",
            "DEBUG:flwr:fit_round 12 received 4 results and 0 failures\n",
            "INFO flwr 2023-12-11 11:07:12,023 | server.py:125 | fit progress: (12, 0.6758741736412048, {'accuracy': 0.606249988079071}, 1512.8432943110001)\n",
            "INFO:flwr:fit progress: (12, 0.6758741736412048, {'accuracy': 0.606249988079071}, 1512.8432943110001)\n",
            "DEBUG flwr 2023-12-11 11:07:12,025 | server.py:173 | evaluate_round 12: strategy sampled 4 clients (out of 4)\n",
            "DEBUG:flwr:evaluate_round 12: strategy sampled 4 clients (out of 4)\n"
          ]
        },
        {
          "name": "stdout",
          "output_type": "stream",
          "text": [
            "LOSS: 0.6758741736412048\n",
            "BEST_LOSS: 0.664384663105011\n",
            "ACCURACY: 0.606249988079071\n",
            "BEST_ACCURACY: 0.606249988079071\n"
          ]
        },
        {
          "name": "stderr",
          "output_type": "stream",
          "text": [
            "DEBUG flwr 2023-12-11 11:08:03,368 | server.py:187 | evaluate_round 12 received 4 results and 0 failures\n",
            "DEBUG:flwr:evaluate_round 12 received 4 results and 0 failures\n",
            "DEBUG flwr 2023-12-11 11:08:03,371 | server.py:222 | fit_round 13: strategy sampled 4 clients (out of 4)\n",
            "DEBUG:flwr:fit_round 13: strategy sampled 4 clients (out of 4)\n",
            "DEBUG flwr 2023-12-11 11:09:13,748 | server.py:236 | fit_round 13 received 4 results and 0 failures\n",
            "DEBUG:flwr:fit_round 13 received 4 results and 0 failures\n",
            "INFO flwr 2023-12-11 11:09:22,448 | server.py:125 | fit progress: (13, 0.682945728302002, {'accuracy': 0.606249988079071}, 1643.2685305269997)\n",
            "INFO:flwr:fit progress: (13, 0.682945728302002, {'accuracy': 0.606249988079071}, 1643.2685305269997)\n",
            "DEBUG flwr 2023-12-11 11:09:22,452 | server.py:173 | evaluate_round 13: strategy sampled 4 clients (out of 4)\n",
            "DEBUG:flwr:evaluate_round 13: strategy sampled 4 clients (out of 4)\n"
          ]
        },
        {
          "name": "stdout",
          "output_type": "stream",
          "text": [
            "LOSS: 0.682945728302002\n",
            "BEST_LOSS: 0.664384663105011\n",
            "ACCURACY: 0.606249988079071\n",
            "BEST_ACCURACY: 0.606249988079071\n"
          ]
        },
        {
          "name": "stderr",
          "output_type": "stream",
          "text": [
            "DEBUG flwr 2023-12-11 11:10:13,900 | server.py:187 | evaluate_round 13 received 4 results and 0 failures\n",
            "DEBUG:flwr:evaluate_round 13 received 4 results and 0 failures\n",
            "DEBUG flwr 2023-12-11 11:10:13,904 | server.py:222 | fit_round 14: strategy sampled 4 clients (out of 4)\n",
            "DEBUG:flwr:fit_round 14: strategy sampled 4 clients (out of 4)\n",
            "DEBUG flwr 2023-12-11 11:11:24,250 | server.py:236 | fit_round 14 received 4 results and 0 failures\n",
            "DEBUG:flwr:fit_round 14 received 4 results and 0 failures\n",
            "INFO flwr 2023-12-11 11:11:33,028 | server.py:125 | fit progress: (14, 0.6949994564056396, {'accuracy': 0.5975000262260437}, 1773.849005305)\n",
            "INFO:flwr:fit progress: (14, 0.6949994564056396, {'accuracy': 0.5975000262260437}, 1773.849005305)\n",
            "DEBUG flwr 2023-12-11 11:11:33,031 | server.py:173 | evaluate_round 14: strategy sampled 4 clients (out of 4)\n",
            "DEBUG:flwr:evaluate_round 14: strategy sampled 4 clients (out of 4)\n"
          ]
        },
        {
          "name": "stdout",
          "output_type": "stream",
          "text": [
            "LOSS: 0.6949994564056396\n",
            "BEST_LOSS: 0.664384663105011\n",
            "ACCURACY: 0.5975000262260437\n",
            "BEST_ACCURACY: 0.606249988079071\n"
          ]
        },
        {
          "name": "stderr",
          "output_type": "stream",
          "text": [
            "DEBUG flwr 2023-12-11 11:12:24,720 | server.py:187 | evaluate_round 14 received 4 results and 0 failures\n",
            "DEBUG:flwr:evaluate_round 14 received 4 results and 0 failures\n",
            "DEBUG flwr 2023-12-11 11:12:24,723 | server.py:222 | fit_round 15: strategy sampled 4 clients (out of 4)\n",
            "DEBUG:flwr:fit_round 15: strategy sampled 4 clients (out of 4)\n",
            "DEBUG flwr 2023-12-11 11:13:37,384 | server.py:236 | fit_round 15 received 4 results and 0 failures\n",
            "DEBUG:flwr:fit_round 15 received 4 results and 0 failures\n",
            "INFO flwr 2023-12-11 11:13:46,141 | server.py:125 | fit progress: (15, 0.70476233959198, {'accuracy': 0.6012499928474426}, 1906.9613990459993)\n",
            "INFO:flwr:fit progress: (15, 0.70476233959198, {'accuracy': 0.6012499928474426}, 1906.9613990459993)\n",
            "DEBUG flwr 2023-12-11 11:13:46,143 | server.py:173 | evaluate_round 15: strategy sampled 4 clients (out of 4)\n",
            "DEBUG:flwr:evaluate_round 15: strategy sampled 4 clients (out of 4)\n"
          ]
        },
        {
          "name": "stdout",
          "output_type": "stream",
          "text": [
            "LOSS: 0.70476233959198\n",
            "BEST_LOSS: 0.664384663105011\n",
            "ACCURACY: 0.6012499928474426\n",
            "BEST_ACCURACY: 0.606249988079071\n"
          ]
        },
        {
          "name": "stderr",
          "output_type": "stream",
          "text": [
            "DEBUG flwr 2023-12-11 11:14:35,527 | server.py:187 | evaluate_round 15 received 4 results and 0 failures\n",
            "DEBUG:flwr:evaluate_round 15 received 4 results and 0 failures\n",
            "DEBUG flwr 2023-12-11 11:14:35,530 | server.py:222 | fit_round 16: strategy sampled 4 clients (out of 4)\n",
            "DEBUG:flwr:fit_round 16: strategy sampled 4 clients (out of 4)\n",
            "DEBUG flwr 2023-12-11 11:15:48,459 | server.py:236 | fit_round 16 received 4 results and 0 failures\n",
            "DEBUG:flwr:fit_round 16 received 4 results and 0 failures\n",
            "INFO flwr 2023-12-11 11:15:57,226 | server.py:125 | fit progress: (16, 0.722639262676239, {'accuracy': 0.5899999737739563}, 2038.0468328099996)\n",
            "INFO:flwr:fit progress: (16, 0.722639262676239, {'accuracy': 0.5899999737739563}, 2038.0468328099996)\n",
            "DEBUG flwr 2023-12-11 11:15:57,229 | server.py:173 | evaluate_round 16: strategy sampled 4 clients (out of 4)\n",
            "DEBUG:flwr:evaluate_round 16: strategy sampled 4 clients (out of 4)\n"
          ]
        },
        {
          "name": "stdout",
          "output_type": "stream",
          "text": [
            "LOSS: 0.722639262676239\n",
            "BEST_LOSS: 0.664384663105011\n",
            "ACCURACY: 0.5899999737739563\n",
            "BEST_ACCURACY: 0.606249988079071\n"
          ]
        },
        {
          "name": "stderr",
          "output_type": "stream",
          "text": [
            "DEBUG flwr 2023-12-11 11:16:48,769 | server.py:187 | evaluate_round 16 received 4 results and 0 failures\n",
            "DEBUG:flwr:evaluate_round 16 received 4 results and 0 failures\n",
            "DEBUG flwr 2023-12-11 11:16:48,771 | server.py:222 | fit_round 17: strategy sampled 4 clients (out of 4)\n",
            "DEBUG:flwr:fit_round 17: strategy sampled 4 clients (out of 4)\n",
            "DEBUG flwr 2023-12-11 11:18:00,449 | server.py:236 | fit_round 17 received 4 results and 0 failures\n",
            "DEBUG:flwr:fit_round 17 received 4 results and 0 failures\n",
            "INFO flwr 2023-12-11 11:18:09,276 | server.py:125 | fit progress: (17, 0.7247633337974548, {'accuracy': 0.5862500071525574}, 2170.0966159439995)\n",
            "INFO:flwr:fit progress: (17, 0.7247633337974548, {'accuracy': 0.5862500071525574}, 2170.0966159439995)\n",
            "DEBUG flwr 2023-12-11 11:18:09,278 | server.py:173 | evaluate_round 17: strategy sampled 4 clients (out of 4)\n",
            "DEBUG:flwr:evaluate_round 17: strategy sampled 4 clients (out of 4)\n"
          ]
        },
        {
          "name": "stdout",
          "output_type": "stream",
          "text": [
            "LOSS: 0.7247633337974548\n",
            "BEST_LOSS: 0.664384663105011\n",
            "ACCURACY: 0.5862500071525574\n",
            "BEST_ACCURACY: 0.606249988079071\n"
          ]
        },
        {
          "name": "stderr",
          "output_type": "stream",
          "text": [
            "DEBUG flwr 2023-12-11 11:19:01,347 | server.py:187 | evaluate_round 17 received 4 results and 0 failures\n",
            "DEBUG:flwr:evaluate_round 17 received 4 results and 0 failures\n",
            "DEBUG flwr 2023-12-11 11:19:01,352 | server.py:222 | fit_round 18: strategy sampled 4 clients (out of 4)\n",
            "DEBUG:flwr:fit_round 18: strategy sampled 4 clients (out of 4)\n",
            "DEBUG flwr 2023-12-11 11:20:12,125 | server.py:236 | fit_round 18 received 4 results and 0 failures\n",
            "DEBUG:flwr:fit_round 18 received 4 results and 0 failures\n",
            "INFO flwr 2023-12-11 11:20:20,977 | server.py:125 | fit progress: (18, 0.7382436394691467, {'accuracy': 0.5762500166893005}, 2301.7973967849994)\n",
            "INFO:flwr:fit progress: (18, 0.7382436394691467, {'accuracy': 0.5762500166893005}, 2301.7973967849994)\n",
            "DEBUG flwr 2023-12-11 11:20:20,979 | server.py:173 | evaluate_round 18: strategy sampled 4 clients (out of 4)\n",
            "DEBUG:flwr:evaluate_round 18: strategy sampled 4 clients (out of 4)\n"
          ]
        },
        {
          "name": "stdout",
          "output_type": "stream",
          "text": [
            "LOSS: 0.7382436394691467\n",
            "BEST_LOSS: 0.664384663105011\n",
            "ACCURACY: 0.5762500166893005\n",
            "BEST_ACCURACY: 0.606249988079071\n"
          ]
        },
        {
          "name": "stderr",
          "output_type": "stream",
          "text": [
            "DEBUG flwr 2023-12-11 11:21:13,036 | server.py:187 | evaluate_round 18 received 4 results and 0 failures\n",
            "DEBUG:flwr:evaluate_round 18 received 4 results and 0 failures\n",
            "DEBUG flwr 2023-12-11 11:21:13,040 | server.py:222 | fit_round 19: strategy sampled 4 clients (out of 4)\n",
            "DEBUG:flwr:fit_round 19: strategy sampled 4 clients (out of 4)\n",
            "DEBUG flwr 2023-12-11 11:22:22,353 | server.py:236 | fit_round 19 received 4 results and 0 failures\n",
            "DEBUG:flwr:fit_round 19 received 4 results and 0 failures\n",
            "INFO flwr 2023-12-11 11:22:30,882 | server.py:125 | fit progress: (19, 0.7559373378753662, {'accuracy': 0.5799999833106995}, 2431.7027453249993)\n",
            "INFO:flwr:fit progress: (19, 0.7559373378753662, {'accuracy': 0.5799999833106995}, 2431.7027453249993)\n",
            "DEBUG flwr 2023-12-11 11:22:30,885 | server.py:173 | evaluate_round 19: strategy sampled 4 clients (out of 4)\n",
            "DEBUG:flwr:evaluate_round 19: strategy sampled 4 clients (out of 4)\n"
          ]
        },
        {
          "name": "stdout",
          "output_type": "stream",
          "text": [
            "LOSS: 0.7559373378753662\n",
            "BEST_LOSS: 0.664384663105011\n",
            "ACCURACY: 0.5799999833106995\n",
            "BEST_ACCURACY: 0.606249988079071\n"
          ]
        },
        {
          "name": "stderr",
          "output_type": "stream",
          "text": [
            "DEBUG flwr 2023-12-11 11:23:22,920 | server.py:187 | evaluate_round 19 received 4 results and 0 failures\n",
            "DEBUG:flwr:evaluate_round 19 received 4 results and 0 failures\n",
            "DEBUG flwr 2023-12-11 11:23:22,922 | server.py:222 | fit_round 20: strategy sampled 4 clients (out of 4)\n",
            "DEBUG:flwr:fit_round 20: strategy sampled 4 clients (out of 4)\n",
            "DEBUG flwr 2023-12-11 11:24:35,840 | server.py:236 | fit_round 20 received 4 results and 0 failures\n",
            "DEBUG:flwr:fit_round 20 received 4 results and 0 failures\n",
            "INFO flwr 2023-12-11 11:24:44,506 | server.py:125 | fit progress: (20, 0.7718173265457153, {'accuracy': 0.5737500190734863}, 2565.3269001139997)\n",
            "INFO:flwr:fit progress: (20, 0.7718173265457153, {'accuracy': 0.5737500190734863}, 2565.3269001139997)\n",
            "DEBUG flwr 2023-12-11 11:24:44,508 | server.py:173 | evaluate_round 20: strategy sampled 4 clients (out of 4)\n",
            "DEBUG:flwr:evaluate_round 20: strategy sampled 4 clients (out of 4)\n"
          ]
        },
        {
          "name": "stdout",
          "output_type": "stream",
          "text": [
            "LOSS: 0.7718173265457153\n",
            "BEST_LOSS: 0.664384663105011\n",
            "ACCURACY: 0.5737500190734863\n",
            "BEST_ACCURACY: 0.606249988079071\n"
          ]
        },
        {
          "name": "stderr",
          "output_type": "stream",
          "text": [
            "DEBUG flwr 2023-12-11 11:25:33,727 | server.py:187 | evaluate_round 20 received 4 results and 0 failures\n",
            "DEBUG:flwr:evaluate_round 20 received 4 results and 0 failures\n",
            "DEBUG flwr 2023-12-11 11:25:33,730 | server.py:222 | fit_round 21: strategy sampled 4 clients (out of 4)\n",
            "DEBUG:flwr:fit_round 21: strategy sampled 4 clients (out of 4)\n",
            "DEBUG flwr 2023-12-11 11:26:47,173 | server.py:236 | fit_round 21 received 4 results and 0 failures\n",
            "DEBUG:flwr:fit_round 21 received 4 results and 0 failures\n",
            "INFO flwr 2023-12-11 11:26:55,752 | server.py:125 | fit progress: (21, 0.7841352820396423, {'accuracy': 0.5712500214576721}, 2696.5727751569993)\n",
            "INFO:flwr:fit progress: (21, 0.7841352820396423, {'accuracy': 0.5712500214576721}, 2696.5727751569993)\n",
            "DEBUG flwr 2023-12-11 11:26:55,754 | server.py:173 | evaluate_round 21: strategy sampled 4 clients (out of 4)\n",
            "DEBUG:flwr:evaluate_round 21: strategy sampled 4 clients (out of 4)\n"
          ]
        },
        {
          "name": "stdout",
          "output_type": "stream",
          "text": [
            "LOSS: 0.7841352820396423\n",
            "BEST_LOSS: 0.664384663105011\n",
            "ACCURACY: 0.5712500214576721\n",
            "BEST_ACCURACY: 0.606249988079071\n"
          ]
        },
        {
          "name": "stderr",
          "output_type": "stream",
          "text": [
            "DEBUG flwr 2023-12-11 11:27:46,768 | server.py:187 | evaluate_round 21 received 4 results and 0 failures\n",
            "DEBUG:flwr:evaluate_round 21 received 4 results and 0 failures\n",
            "DEBUG flwr 2023-12-11 11:27:46,770 | server.py:222 | fit_round 22: strategy sampled 4 clients (out of 4)\n",
            "DEBUG:flwr:fit_round 22: strategy sampled 4 clients (out of 4)\n",
            "DEBUG flwr 2023-12-11 11:28:57,204 | server.py:236 | fit_round 22 received 4 results and 0 failures\n",
            "DEBUG:flwr:fit_round 22 received 4 results and 0 failures\n",
            "INFO flwr 2023-12-11 11:29:05,753 | server.py:125 | fit progress: (22, 0.7952831387519836, {'accuracy': 0.5724999904632568}, 2826.573152729)\n",
            "INFO:flwr:fit progress: (22, 0.7952831387519836, {'accuracy': 0.5724999904632568}, 2826.573152729)\n",
            "DEBUG flwr 2023-12-11 11:29:05,755 | server.py:173 | evaluate_round 22: strategy sampled 4 clients (out of 4)\n",
            "DEBUG:flwr:evaluate_round 22: strategy sampled 4 clients (out of 4)\n"
          ]
        },
        {
          "name": "stdout",
          "output_type": "stream",
          "text": [
            "LOSS: 0.7952831387519836\n",
            "BEST_LOSS: 0.664384663105011\n",
            "ACCURACY: 0.5724999904632568\n",
            "BEST_ACCURACY: 0.606249988079071\n"
          ]
        },
        {
          "name": "stderr",
          "output_type": "stream",
          "text": [
            "DEBUG flwr 2023-12-11 11:29:57,265 | server.py:187 | evaluate_round 22 received 4 results and 0 failures\n",
            "DEBUG:flwr:evaluate_round 22 received 4 results and 0 failures\n",
            "DEBUG flwr 2023-12-11 11:29:57,272 | server.py:222 | fit_round 23: strategy sampled 4 clients (out of 4)\n",
            "DEBUG:flwr:fit_round 23: strategy sampled 4 clients (out of 4)\n",
            "DEBUG flwr 2023-12-11 11:31:07,081 | server.py:236 | fit_round 23 received 4 results and 0 failures\n",
            "DEBUG:flwr:fit_round 23 received 4 results and 0 failures\n",
            "INFO flwr 2023-12-11 11:31:15,770 | server.py:125 | fit progress: (23, 0.8037551641464233, {'accuracy': 0.581250011920929}, 2956.591033776999)\n",
            "INFO:flwr:fit progress: (23, 0.8037551641464233, {'accuracy': 0.581250011920929}, 2956.591033776999)\n",
            "DEBUG flwr 2023-12-11 11:31:15,773 | server.py:173 | evaluate_round 23: strategy sampled 4 clients (out of 4)\n",
            "DEBUG:flwr:evaluate_round 23: strategy sampled 4 clients (out of 4)\n"
          ]
        },
        {
          "name": "stdout",
          "output_type": "stream",
          "text": [
            "LOSS: 0.8037551641464233\n",
            "BEST_LOSS: 0.664384663105011\n",
            "ACCURACY: 0.581250011920929\n",
            "BEST_ACCURACY: 0.606249988079071\n"
          ]
        },
        {
          "name": "stderr",
          "output_type": "stream",
          "text": [
            "DEBUG flwr 2023-12-11 11:32:07,581 | server.py:187 | evaluate_round 23 received 4 results and 0 failures\n",
            "DEBUG:flwr:evaluate_round 23 received 4 results and 0 failures\n",
            "DEBUG flwr 2023-12-11 11:32:07,591 | server.py:222 | fit_round 24: strategy sampled 4 clients (out of 4)\n",
            "DEBUG:flwr:fit_round 24: strategy sampled 4 clients (out of 4)\n",
            "DEBUG flwr 2023-12-11 11:33:17,485 | server.py:236 | fit_round 24 received 4 results and 0 failures\n",
            "DEBUG:flwr:fit_round 24 received 4 results and 0 failures\n",
            "INFO flwr 2023-12-11 11:33:26,092 | server.py:125 | fit progress: (24, 0.802239179611206, {'accuracy': 0.5849999785423279}, 3086.9127907150005)\n",
            "INFO:flwr:fit progress: (24, 0.802239179611206, {'accuracy': 0.5849999785423279}, 3086.9127907150005)\n",
            "DEBUG flwr 2023-12-11 11:33:26,094 | server.py:173 | evaluate_round 24: strategy sampled 4 clients (out of 4)\n",
            "DEBUG:flwr:evaluate_round 24: strategy sampled 4 clients (out of 4)\n"
          ]
        },
        {
          "name": "stdout",
          "output_type": "stream",
          "text": [
            "LOSS: 0.802239179611206\n",
            "BEST_LOSS: 0.664384663105011\n",
            "ACCURACY: 0.5849999785423279\n",
            "BEST_ACCURACY: 0.606249988079071\n"
          ]
        },
        {
          "name": "stderr",
          "output_type": "stream",
          "text": [
            "DEBUG flwr 2023-12-11 11:34:18,146 | server.py:187 | evaluate_round 24 received 4 results and 0 failures\n",
            "DEBUG:flwr:evaluate_round 24 received 4 results and 0 failures\n",
            "DEBUG flwr 2023-12-11 11:34:18,154 | server.py:222 | fit_round 25: strategy sampled 4 clients (out of 4)\n",
            "DEBUG:flwr:fit_round 25: strategy sampled 4 clients (out of 4)\n",
            "DEBUG flwr 2023-12-11 11:35:31,304 | server.py:236 | fit_round 25 received 4 results and 0 failures\n",
            "DEBUG:flwr:fit_round 25 received 4 results and 0 failures\n",
            "INFO flwr 2023-12-11 11:35:39,871 | server.py:125 | fit progress: (25, 0.8071300387382507, {'accuracy': 0.5774999856948853}, 3220.6914203959996)\n",
            "INFO:flwr:fit progress: (25, 0.8071300387382507, {'accuracy': 0.5774999856948853}, 3220.6914203959996)\n",
            "DEBUG flwr 2023-12-11 11:35:39,873 | server.py:173 | evaluate_round 25: strategy sampled 4 clients (out of 4)\n",
            "DEBUG:flwr:evaluate_round 25: strategy sampled 4 clients (out of 4)\n"
          ]
        },
        {
          "name": "stdout",
          "output_type": "stream",
          "text": [
            "LOSS: 0.8071300387382507\n",
            "BEST_LOSS: 0.664384663105011\n",
            "ACCURACY: 0.5774999856948853\n",
            "BEST_ACCURACY: 0.606249988079071\n"
          ]
        },
        {
          "name": "stderr",
          "output_type": "stream",
          "text": [
            "DEBUG flwr 2023-12-11 11:36:29,042 | server.py:187 | evaluate_round 25 received 4 results and 0 failures\n",
            "DEBUG:flwr:evaluate_round 25 received 4 results and 0 failures\n",
            "INFO flwr 2023-12-11 11:36:29,044 | server.py:153 | FL finished in 3269.8649426519996\n",
            "INFO:flwr:FL finished in 3269.8649426519996\n",
            "INFO flwr 2023-12-11 11:36:29,046 | app.py:226 | app_fit: losses_distributed [(1, 0.683141635326629), (2, 0.6696657989887481), (3, 0.6598204610195566), (4, 0.6504833825091099), (5, 0.6414851876015358), (6, 0.6295759459759327), (7, 0.6158229614825959), (8, 0.6060631810350621), (9, 0.5957427681760585), (10, 0.5860120172196246), (11, 0.5777181059756178), (12, 0.5718287726666065), (13, 0.5674677529233567), (14, 0.5557119278197593), (15, 0.5494240418393561), (16, 0.5501413669992), (17, 0.5374023777373294), (18, 0.5264038091010236), (19, 0.5228546698042686), (20, 0.5166430473327637), (21, 0.5075230469094946), (22, 0.5027921532062773), (23, 0.5019869921055246), (24, 0.4931996284647191), (25, 0.4809347528092405)]\n",
            "INFO:flwr:app_fit: losses_distributed [(1, 0.683141635326629), (2, 0.6696657989887481), (3, 0.6598204610195566), (4, 0.6504833825091099), (5, 0.6414851876015358), (6, 0.6295759459759327), (7, 0.6158229614825959), (8, 0.6060631810350621), (9, 0.5957427681760585), (10, 0.5860120172196246), (11, 0.5777181059756178), (12, 0.5718287726666065), (13, 0.5674677529233567), (14, 0.5557119278197593), (15, 0.5494240418393561), (16, 0.5501413669992), (17, 0.5374023777373294), (18, 0.5264038091010236), (19, 0.5228546698042686), (20, 0.5166430473327637), (21, 0.5075230469094946), (22, 0.5027921532062773), (23, 0.5019869921055246), (24, 0.4931996284647191), (25, 0.4809347528092405)]\n",
            "INFO flwr 2023-12-11 11:36:29,048 | app.py:227 | app_fit: metrics_distributed_fit {}\n",
            "INFO:flwr:app_fit: metrics_distributed_fit {}\n",
            "INFO flwr 2023-12-11 11:36:29,050 | app.py:228 | app_fit: metrics_distributed {'accuracy': [(1, 0.5676595710693522), (2, 0.6106382999014347), (3, 0.6293616903589127), (4, 0.651914902950855), (5, 0.6723404219809999), (6, 0.6782978828917159), (7, 0.7148936076367155), (8, 0.7046808572525673), (9, 0.723829797227332), (10, 0.7314893537379326), (11, 0.740851071033072), (12, 0.7485106303336773), (13, 0.7382978708186048), (14, 0.759999996296903), (15, 0.7621276561250078), (16, 0.7353191274277707), (17, 0.7489361742709545), (18, 0.7574467960824358), (19, 0.7693616968520144), (20, 0.7714893622601285), (21, 0.7740425421836529), (22, 0.7863829706577544), (23, 0.771063816293757), (24, 0.7978723247000512), (25, 0.8004255284654334)]}\n",
            "INFO:flwr:app_fit: metrics_distributed {'accuracy': [(1, 0.5676595710693522), (2, 0.6106382999014347), (3, 0.6293616903589127), (4, 0.651914902950855), (5, 0.6723404219809999), (6, 0.6782978828917159), (7, 0.7148936076367155), (8, 0.7046808572525673), (9, 0.723829797227332), (10, 0.7314893537379326), (11, 0.740851071033072), (12, 0.7485106303336773), (13, 0.7382978708186048), (14, 0.759999996296903), (15, 0.7621276561250078), (16, 0.7353191274277707), (17, 0.7489361742709545), (18, 0.7574467960824358), (19, 0.7693616968520144), (20, 0.7714893622601285), (21, 0.7740425421836529), (22, 0.7863829706577544), (23, 0.771063816293757), (24, 0.7978723247000512), (25, 0.8004255284654334)]}\n",
            "INFO flwr 2023-12-11 11:36:29,052 | app.py:229 | app_fit: losses_centralized [(0, 0.7719388008117676), (1, 0.6810452938079834), (2, 0.679108202457428), (3, 0.6761940121650696), (4, 0.6755344867706299), (5, 0.6690609455108643), (6, 0.6669384837150574), (7, 0.6650485396385193), (8, 0.664384663105011), (9, 0.6671249270439148), (10, 0.6702646017074585), (11, 0.6742975115776062), (12, 0.6758741736412048), (13, 0.682945728302002), (14, 0.6949994564056396), (15, 0.70476233959198), (16, 0.722639262676239), (17, 0.7247633337974548), (18, 0.7382436394691467), (19, 0.7559373378753662), (20, 0.7718173265457153), (21, 0.7841352820396423), (22, 0.7952831387519836), (23, 0.8037551641464233), (24, 0.802239179611206), (25, 0.8071300387382507)]\n",
            "INFO:flwr:app_fit: losses_centralized [(0, 0.7719388008117676), (1, 0.6810452938079834), (2, 0.679108202457428), (3, 0.6761940121650696), (4, 0.6755344867706299), (5, 0.6690609455108643), (6, 0.6669384837150574), (7, 0.6650485396385193), (8, 0.664384663105011), (9, 0.6671249270439148), (10, 0.6702646017074585), (11, 0.6742975115776062), (12, 0.6758741736412048), (13, 0.682945728302002), (14, 0.6949994564056396), (15, 0.70476233959198), (16, 0.722639262676239), (17, 0.7247633337974548), (18, 0.7382436394691467), (19, 0.7559373378753662), (20, 0.7718173265457153), (21, 0.7841352820396423), (22, 0.7952831387519836), (23, 0.8037551641464233), (24, 0.802239179611206), (25, 0.8071300387382507)]\n",
            "INFO flwr 2023-12-11 11:36:29,054 | app.py:230 | app_fit: metrics_centralized {'accuracy': [(0, 0.45500001311302185), (1, 0.5737500190734863), (2, 0.5724999904632568), (3, 0.5837500095367432), (4, 0.5774999856948853), (5, 0.6200000047683716), (6, 0.6137499809265137), (7, 0.581250011920929), (8, 0.606249988079071), (9, 0.6012499928474426), (10, 0.6100000143051147), (11, 0.5899999737739563), (12, 0.606249988079071), (13, 0.606249988079071), (14, 0.5975000262260437), (15, 0.6012499928474426), (16, 0.5899999737739563), (17, 0.5862500071525574), (18, 0.5762500166893005), (19, 0.5799999833106995), (20, 0.5737500190734863), (21, 0.5712500214576721), (22, 0.5724999904632568), (23, 0.581250011920929), (24, 0.5849999785423279), (25, 0.5774999856948853)]}\n",
            "INFO:flwr:app_fit: metrics_centralized {'accuracy': [(0, 0.45500001311302185), (1, 0.5737500190734863), (2, 0.5724999904632568), (3, 0.5837500095367432), (4, 0.5774999856948853), (5, 0.6200000047683716), (6, 0.6137499809265137), (7, 0.581250011920929), (8, 0.606249988079071), (9, 0.6012499928474426), (10, 0.6100000143051147), (11, 0.5899999737739563), (12, 0.606249988079071), (13, 0.606249988079071), (14, 0.5975000262260437), (15, 0.6012499928474426), (16, 0.5899999737739563), (17, 0.5862500071525574), (18, 0.5762500166893005), (19, 0.5799999833106995), (20, 0.5737500190734863), (21, 0.5712500214576721), (22, 0.5724999904632568), (23, 0.581250011920929), (24, 0.5849999785423279), (25, 0.5774999856948853)]}\n"
          ]
        }
      ],
      "source": [
        "patience = 5\n",
        "best_accuracy = 0.0\n",
        "best_loss = 999\n",
        "weights = np.array([])\n",
        "def evaluate(\n",
        "    server_round: int,\n",
        "    parameters: fl.common.NDArrays,\n",
        "    config: Dict[str, fl.common.Scalar],\n",
        "    ) -> Optional[Tuple[float, Dict[str, fl.common.Scalar]]]:\n",
        "    \"\"\"Centralized evaluation function\"\"\"\n",
        "\n",
        "    input_shape = (15001, 13)\n",
        "    model = get_model(input_shape)\n",
        "    model.compile(optimizer=tf.keras.optimizers.Adam(learning_rate=0.0005), loss=tf.keras.losses.BinaryCrossentropy(label_smoothing=0.1), metrics=['accuracy'])\n",
        "\n",
        "    model.set_weights(parameters)\n",
        "\n",
        "    loss, accuracy = model.evaluate(val_samples, val_labels_df, batch_size=16, verbose=0)\n",
        "\n",
        "    global best_accuracy\n",
        "    global best_loss\n",
        "    global weights\n",
        "    \n",
        "    print(f\"LOSS: {loss}\")\n",
        "    print(f\"BEST_LOSS: {best_loss}\")\n",
        "    print(f\"ACCURACY: {accuracy}\")\n",
        "    print(f\"BEST_ACCURACY: {best_accuracy}\")\n",
        "\n",
        "    if loss < best_loss:\n",
        "        best_accuracy = accuracy\n",
        "        weights = parameters\n",
        "        best_loss = loss\n",
        "\n",
        "    return loss, {\"accuracy\": accuracy}\n",
        "\n",
        "\n",
        "\n",
        "client_resources = {\"num_cpus\": 2}\n",
        "if tf.config.get_visible_devices(\"GPU\"):\n",
        "    client_resources[\"num_gpus\"] = 1\n",
        "\n",
        "# Specify the Strategy\n",
        "strategy = fl.server.strategy.FedAvg(\n",
        "    fraction_fit=1.0,  # Sample 100% of available clients for training\n",
        "    fraction_evaluate=1.0, \n",
        "    min_fit_clients=NUM_CLIENTS, \n",
        "    min_evaluate_clients=NUM_CLIENTS, \n",
        "    min_available_clients=NUM_CLIENTS,  # Wait until all 4 clients are available\n",
        "    evaluate_metrics_aggregation_fn=weighted_average,\n",
        "    evaluate_fn=evaluate\n",
        ")\n",
        "\n",
        "# Start simulation\n",
        "history = fl.simulation.start_simulation(\n",
        "    client_fn=create_client_fn,\n",
        "    num_clients=NUM_CLIENTS,\n",
        "    config=fl.server.ServerConfig(num_rounds=25),\n",
        "    strategy=strategy,\n",
        "    client_resources=client_resources,\n",
        ")"
      ]
    },
    {
      "cell_type": "code",
      "execution_count": 28,
      "metadata": {
        "colab": {
          "base_uri": "https://localhost:8080/"
        },
        "id": "MO-YYWSD7NcS",
        "outputId": "a8d2e56f-83ea-4f0b-c773-2a6f26bd4c77"
      },
      "outputs": [
        {
          "data": {
            "text/plain": [
              "History (loss, distributed):\n",
              "\tround 1: 0.683141635326629\n",
              "\tround 2: 0.6696657989887481\n",
              "\tround 3: 0.6598204610195566\n",
              "\tround 4: 0.6504833825091099\n",
              "\tround 5: 0.6414851876015358\n",
              "\tround 6: 0.6295759459759327\n",
              "\tround 7: 0.6158229614825959\n",
              "\tround 8: 0.6060631810350621\n",
              "\tround 9: 0.5957427681760585\n",
              "\tround 10: 0.5860120172196246\n",
              "\tround 11: 0.5777181059756178\n",
              "\tround 12: 0.5718287726666065\n",
              "\tround 13: 0.5674677529233567\n",
              "\tround 14: 0.5557119278197593\n",
              "\tround 15: 0.5494240418393561\n",
              "\tround 16: 0.5501413669992\n",
              "\tround 17: 0.5374023777373294\n",
              "\tround 18: 0.5264038091010236\n",
              "\tround 19: 0.5228546698042686\n",
              "\tround 20: 0.5166430473327637\n",
              "\tround 21: 0.5075230469094946\n",
              "\tround 22: 0.5027921532062773\n",
              "\tround 23: 0.5019869921055246\n",
              "\tround 24: 0.4931996284647191\n",
              "\tround 25: 0.4809347528092405\n",
              "History (loss, centralized):\n",
              "\tround 0: 0.7719388008117676\n",
              "\tround 1: 0.6810452938079834\n",
              "\tround 2: 0.679108202457428\n",
              "\tround 3: 0.6761940121650696\n",
              "\tround 4: 0.6755344867706299\n",
              "\tround 5: 0.6690609455108643\n",
              "\tround 6: 0.6669384837150574\n",
              "\tround 7: 0.6650485396385193\n",
              "\tround 8: 0.664384663105011\n",
              "\tround 9: 0.6671249270439148\n",
              "\tround 10: 0.6702646017074585\n",
              "\tround 11: 0.6742975115776062\n",
              "\tround 12: 0.6758741736412048\n",
              "\tround 13: 0.682945728302002\n",
              "\tround 14: 0.6949994564056396\n",
              "\tround 15: 0.70476233959198\n",
              "\tround 16: 0.722639262676239\n",
              "\tround 17: 0.7247633337974548\n",
              "\tround 18: 0.7382436394691467\n",
              "\tround 19: 0.7559373378753662\n",
              "\tround 20: 0.7718173265457153\n",
              "\tround 21: 0.7841352820396423\n",
              "\tround 22: 0.7952831387519836\n",
              "\tround 23: 0.8037551641464233\n",
              "\tround 24: 0.802239179611206\n",
              "\tround 25: 0.8071300387382507\n",
              "History (metrics, distributed, evaluate):\n",
              "{'accuracy': [(1, 0.5676595710693522), (2, 0.6106382999014347), (3, 0.6293616903589127), (4, 0.651914902950855), (5, 0.6723404219809999), (6, 0.6782978828917159), (7, 0.7148936076367155), (8, 0.7046808572525673), (9, 0.723829797227332), (10, 0.7314893537379326), (11, 0.740851071033072), (12, 0.7485106303336773), (13, 0.7382978708186048), (14, 0.759999996296903), (15, 0.7621276561250078), (16, 0.7353191274277707), (17, 0.7489361742709545), (18, 0.7574467960824358), (19, 0.7693616968520144), (20, 0.7714893622601285), (21, 0.7740425421836529), (22, 0.7863829706577544), (23, 0.771063816293757), (24, 0.7978723247000512), (25, 0.8004255284654334)]}History (metrics, centralized):\n",
              "{'accuracy': [(0, 0.45500001311302185), (1, 0.5737500190734863), (2, 0.5724999904632568), (3, 0.5837500095367432), (4, 0.5774999856948853), (5, 0.6200000047683716), (6, 0.6137499809265137), (7, 0.581250011920929), (8, 0.606249988079071), (9, 0.6012499928474426), (10, 0.6100000143051147), (11, 0.5899999737739563), (12, 0.606249988079071), (13, 0.606249988079071), (14, 0.5975000262260437), (15, 0.6012499928474426), (16, 0.5899999737739563), (17, 0.5862500071525574), (18, 0.5762500166893005), (19, 0.5799999833106995), (20, 0.5737500190734863), (21, 0.5712500214576721), (22, 0.5724999904632568), (23, 0.581250011920929), (24, 0.5849999785423279), (25, 0.5774999856948853)]}"
            ]
          },
          "execution_count": 28,
          "metadata": {},
          "output_type": "execute_result"
        }
      ],
      "source": [
        "history"
      ]
    },
    {
      "cell_type": "code",
      "execution_count": 29,
      "metadata": {
        "colab": {
          "base_uri": "https://localhost:8080/"
        },
        "id": "D-29DaJU7PWE",
        "outputId": "669bc670-bb80-4e49-9b8e-d672f48da323"
      },
      "outputs": [
        {
          "name": "stdout",
          "output_type": "stream",
          "text": [
            "0.606249988079071\n",
            "0.664384663105011\n",
            "5\n",
            "[array([[-0.06994066,  0.05564391,  0.00976616, ...,  0.11722373,\n",
            "        -0.13458657, -0.16258053],\n",
            "       [ 0.03089281, -0.1371244 , -0.10657254, ...,  0.14988244,\n",
            "        -0.08280139,  0.00337988],\n",
            "       [ 0.06557301, -0.12406567,  0.02839158, ..., -0.02232929,\n",
            "        -0.10008051,  0.09818005],\n",
            "       ...,\n",
            "       [ 0.10380115, -0.09644467, -0.0252454 , ...,  0.12678124,\n",
            "        -0.16799314, -0.18072154],\n",
            "       [ 0.12014075,  0.1705786 ,  0.05098794, ...,  0.13406095,\n",
            "        -0.15388075, -0.06678468],\n",
            "       [-0.06118714, -0.08014546, -0.00699787, ...,  0.13966732,\n",
            "        -0.07440311,  0.11775417]], dtype=float32), array([[-0.00974427, -0.00937715,  0.08989271, ..., -0.01705151,\n",
            "        -0.00616625,  0.01163915],\n",
            "       [-0.11839157,  0.09261702, -0.02385725, ...,  0.02739944,\n",
            "        -0.0188187 ,  0.04025863],\n",
            "       [ 0.0023925 , -0.06585002,  0.04161897, ...,  0.04701117,\n",
            "         0.06881989, -0.05447621],\n",
            "       ...,\n",
            "       [ 0.00097213,  0.14086285, -0.01376604, ..., -0.08633877,\n",
            "         0.00910375, -0.02247764],\n",
            "       [-0.10119441, -0.0345714 ,  0.03141528, ..., -0.04225172,\n",
            "         0.00296142,  0.08634831],\n",
            "       [ 0.07519819,  0.102882  , -0.03313897, ...,  0.01240007,\n",
            "        -0.0224683 , -0.01219404]], dtype=float32), array([[ 2.1557405e-03,  2.1276667e-03,  2.3177483e-03,  6.4568216e-04,\n",
            "        -9.8018767e-03, -5.1435851e-03,  1.8119784e-02,  9.4300080e-03,\n",
            "        -6.3899248e-03,  4.3831756e-03, -5.1134625e-03,  2.6601390e-03,\n",
            "        -6.9870208e-03, -9.1899289e-03, -2.9278174e-03, -1.5121755e-03,\n",
            "        -1.5807525e-03, -1.0414949e-03, -5.7893633e-03, -5.1450095e-04,\n",
            "        -1.4023752e-03, -1.1383357e-02, -3.1324040e-02,  8.4017427e-04,\n",
            "        -4.3392945e-03,  5.8841350e-05, -6.7385021e-03,  1.5285490e-03,\n",
            "        -7.4948869e-03, -1.9644198e-03, -2.7373615e-03,  6.4018543e-04,\n",
            "        -1.3589370e-04, -6.0009905e-03, -1.0494348e-02, -2.0960828e-03,\n",
            "         4.0904819e-03,  1.4256859e-03,  8.6010955e-03,  4.0739072e-03,\n",
            "         1.1305484e-02,  2.6599297e-04,  1.2660741e-02,  6.6894642e-03,\n",
            "         1.1672701e-03,  3.8194901e-03, -5.5640298e-03, -2.2475678e-03,\n",
            "        -3.1476128e-03, -2.2616459e-03,  1.7126911e-05, -1.6115990e-02,\n",
            "         5.8069797e-03, -6.5585641e-06,  4.7706421e-03, -6.2656286e-03,\n",
            "        -1.5664332e-02, -3.7399812e-03, -1.0549334e-02,  1.4424532e-04,\n",
            "        -1.8196810e-03,  2.7521148e-03,  1.2121922e-03, -1.1736033e-04,\n",
            "         3.0275362e-03,  1.5198281e-06, -4.3809303e-04, -1.3780430e-03,\n",
            "         1.3490667e-04, -6.7548106e-05, -1.0243599e-04, -6.3381233e-04,\n",
            "        -7.0789491e-04, -1.2963433e-03,  9.9659126e-05,  2.0873968e-05,\n",
            "         1.1497574e-03,  6.8745734e-08,  6.2138772e-10,  1.3380100e-04,\n",
            "        -8.8733266e-04,  1.1813869e-02, -2.2821289e-03,  2.6008565e-04,\n",
            "         4.5903502e-03,  2.2035164e-03,  1.3689030e-03, -9.9718394e-03,\n",
            "         1.1236909e-03,  5.1751961e-03, -1.9006256e-03,  2.5970858e-04,\n",
            "         2.7205107e-05,  7.8860419e-03,  5.6534179e-04,  1.9514498e-07,\n",
            "         9.3596609e-04,  8.0608111e-03,  1.5635241e-03,  1.8814951e-03,\n",
            "        -1.2517997e-04, -5.3051446e-04,  1.9635242e-09,  4.2607502e-05,\n",
            "        -1.3869888e-03,  2.4407696e-05, -1.4806818e-03,  1.3456606e-04,\n",
            "         1.3688438e-05,  2.6512605e-05, -3.3134271e-03,  6.3382462e-03,\n",
            "         1.1879205e-03,  4.8050200e-04, -2.0719426e-05,  1.5590097e-11,\n",
            "         3.6569779e-07,  3.4038629e-05, -1.5602144e-04, -3.8275180e-10,\n",
            "        -1.7081496e-04,  6.1585130e-03,  3.0495690e-03, -2.6276256e-03,\n",
            "         6.3769449e-04, -1.2980824e-03,  6.2327445e-09, -4.6101245e-04,\n",
            "         1.2997677e-02,  2.9989739e-04,  3.1102002e-03,  9.5981210e-03,\n",
            "        -4.4867578e-03,  1.3263794e-02, -7.6331263e-03,  2.2400350e-03,\n",
            "        -2.9857138e-03,  3.1444142e-03,  6.3169315e-03, -6.3467044e-03,\n",
            "        -2.7241217e-04,  2.1553078e-05, -1.3012134e-02, -2.9839387e-03,\n",
            "         5.7105106e-05,  5.4854234e-03,  6.1871544e-03,  3.4143943e-03,\n",
            "        -8.0786220e-04, -3.6947840e-04,  1.0231534e-02, -7.2141690e-03,\n",
            "        -6.4306450e-04, -1.6582123e-03, -1.0407990e-02,  1.2949211e-02,\n",
            "         1.2998498e-02,  2.3760227e-02,  1.9581812e-03,  2.6553990e-03,\n",
            "        -7.6943566e-03,  3.9902441e-03,  1.8921833e-02, -1.1230071e-02,\n",
            "         1.1140585e-03, -4.1608480e-03,  2.1612959e-04, -1.0717879e-04,\n",
            "         5.8496126e-04, -3.8245507e-03,  2.0716954e-03, -7.2750822e-03,\n",
            "        -5.9318300e-03, -2.2013003e-03,  5.8814324e-04, -5.8175358e-03,\n",
            "        -1.1782908e-02, -1.8109815e-02,  3.2414733e-03,  3.6139141e-07,\n",
            "        -3.8913244e-03,  1.0471279e-02,  1.0268090e-02, -4.7057490e-03,\n",
            "         8.3433222e-03, -2.8329082e-03,  2.8190210e-03,  1.0932348e-03,\n",
            "         9.5671311e-04, -2.6406695e-03,  8.9520676e-05,  2.7383475e-03],\n",
            "       [ 2.1557405e-03,  2.1276667e-03,  2.3177483e-03,  6.4568216e-04,\n",
            "        -9.8018767e-03, -5.1435851e-03,  1.8119784e-02,  9.4300080e-03,\n",
            "        -6.3899248e-03,  4.3831756e-03, -5.1134625e-03,  2.6601390e-03,\n",
            "        -6.9870208e-03, -9.1899289e-03, -2.9278174e-03, -1.5121755e-03,\n",
            "        -1.5807525e-03, -1.0414949e-03, -5.7893633e-03, -5.1450095e-04,\n",
            "        -1.4023752e-03, -1.1383357e-02, -3.1324040e-02,  8.4017427e-04,\n",
            "        -4.3392945e-03,  5.8841350e-05, -6.7385021e-03,  1.5285490e-03,\n",
            "        -7.4948869e-03, -1.9644198e-03, -2.7373615e-03,  6.4018543e-04,\n",
            "        -1.3589370e-04, -6.0009905e-03, -1.0494348e-02, -2.0960828e-03,\n",
            "         4.0904819e-03,  1.4256859e-03,  8.6010955e-03,  4.0739072e-03,\n",
            "         1.1305484e-02,  2.6599297e-04,  1.2660741e-02,  6.6894642e-03,\n",
            "         1.1672701e-03,  3.8194901e-03, -5.5640298e-03, -2.2475678e-03,\n",
            "        -3.1476128e-03, -2.2616459e-03,  1.7126911e-05, -1.6115990e-02,\n",
            "         5.8069797e-03, -6.5585641e-06,  4.7706421e-03, -6.2656286e-03,\n",
            "        -1.5664332e-02, -3.7399812e-03, -1.0549334e-02,  1.4424532e-04,\n",
            "        -1.8196810e-03,  2.7521148e-03,  1.2121922e-03, -1.1736033e-04,\n",
            "         3.0275362e-03,  1.5198281e-06, -4.3809303e-04, -1.3780430e-03,\n",
            "         1.3490667e-04, -6.7548106e-05, -1.0243599e-04, -6.3381233e-04,\n",
            "        -7.0789491e-04, -1.2963433e-03,  9.9659126e-05,  2.0873968e-05,\n",
            "         1.1497574e-03,  6.8745734e-08,  6.2138772e-10,  1.3380100e-04,\n",
            "        -8.8733266e-04,  1.1813869e-02, -2.2821289e-03,  2.6008565e-04,\n",
            "         4.5903502e-03,  2.2035164e-03,  1.3689030e-03, -9.9718394e-03,\n",
            "         1.1236909e-03,  5.1751961e-03, -1.9006256e-03,  2.5970858e-04,\n",
            "         2.7205107e-05,  7.8860419e-03,  5.6534179e-04,  1.9514498e-07,\n",
            "         9.3596609e-04,  8.0608111e-03,  1.5635241e-03,  1.8814951e-03,\n",
            "        -1.2517997e-04, -5.3051446e-04,  1.9635242e-09,  4.2607502e-05,\n",
            "        -1.3869888e-03,  2.4407696e-05, -1.4806818e-03,  1.3456606e-04,\n",
            "         1.3688438e-05,  2.6512605e-05, -3.3134271e-03,  6.3382462e-03,\n",
            "         1.1879205e-03,  4.8050200e-04, -2.0719426e-05,  1.5590097e-11,\n",
            "         3.6569779e-07,  3.4038629e-05, -1.5602144e-04, -3.8275180e-10,\n",
            "        -1.7081496e-04,  6.1585130e-03,  3.0495690e-03, -2.6276256e-03,\n",
            "         6.3769449e-04, -1.2980824e-03,  6.2327445e-09, -4.6101245e-04,\n",
            "         1.3095978e-02,  7.3766178e-06,  3.3505028e-03,  4.9286834e-03,\n",
            "        -4.4871760e-03, -7.9509678e-05, -7.9337684e-03,  1.2577551e-03,\n",
            "         1.7494767e-04,  8.1578450e-04,  6.5026800e-03, -6.3459342e-03,\n",
            "         3.3418245e-03, -2.0787637e-03, -2.8171183e-08, -2.9324307e-03,\n",
            "        -4.0228460e-03,  1.8799665e-03,  6.1231875e-03, -5.4658641e-04,\n",
            "        -1.0892588e-02, -2.4739667e-03,  4.9181026e-03, -5.2086632e-03,\n",
            "         1.9278916e-03, -7.6401755e-03, -2.0492668e-03,  1.6919461e-03,\n",
            "         1.2992596e-02,  2.5778178e-03,  3.4700548e-03,  2.1656514e-03,\n",
            "        -4.5042885e-03,  1.2758921e-02,  1.8542850e-02, -1.6011791e-02,\n",
            "        -2.5113442e-04, -4.3399124e-03,  2.1612183e-04, -8.4942451e-04,\n",
            "         5.7756081e-03, -5.8158305e-03,  7.5295558e-03, -7.2701694e-03,\n",
            "        -3.3324755e-05,  1.2771832e-05,  5.9002911e-04, -5.8142371e-03,\n",
            "        -2.1798224e-03, -1.1427696e-03,  3.0913455e-03,  8.6068939e-09,\n",
            "        -3.8913772e-03,  1.0471915e-02,  5.5075143e-03, -4.7057490e-03,\n",
            "         8.2696145e-03, -3.0228116e-03,  5.1782127e-03,  1.8294395e-03,\n",
            "        -4.7865147e-03, -2.2175573e-03,  8.9512265e-05,  2.2433720e-04]],\n",
            "      dtype=float32), array([[-0.22331016,  0.07978604,  0.19915037, ..., -0.19166987,\n",
            "         0.14952564, -0.1864735 ],\n",
            "       [ 0.16197637,  0.15823658,  0.16483162, ..., -0.10352591,\n",
            "         0.2366827 ,  0.14010897],\n",
            "       [-0.07154866,  0.18465486,  0.08207998, ...,  0.0157954 ,\n",
            "        -0.19163758, -0.16356805],\n",
            "       ...,\n",
            "       [ 0.07190621, -0.2031765 ,  0.13776402, ..., -0.10930003,\n",
            "        -0.08355123, -0.03971432],\n",
            "       [ 0.20899862,  0.08335455,  0.18459553, ...,  0.16702661,\n",
            "        -0.21293423,  0.00992639],\n",
            "       [ 0.17804283,  0.01509329, -0.22675942, ..., -0.03040621,\n",
            "         0.17320396, -0.24694505]], dtype=float32), array([-0.01278779,  0.00064619, -0.00734131, -0.015079  ,  0.01249298,\n",
            "       -0.01924509,  0.01339969, -0.00468753, -0.00768954, -0.00098796,\n",
            "       -0.00360539,  0.00603679, -0.00725326,  0.0021286 , -0.01380917,\n",
            "       -0.00047862, -0.00271785, -0.01585371, -0.000795  , -0.00759071,\n",
            "        0.00913532,  0.00012417,  0.00022257, -0.01006285, -0.00280877,\n",
            "       -0.00752355,  0.01486924, -0.00975865, -0.01727573, -0.00070081,\n",
            "       -0.00258102, -0.00484135], dtype=float32), array([[-0.14962588],\n",
            "       [-0.3623374 ],\n",
            "       [-0.12496541],\n",
            "       [ 0.17501381],\n",
            "       [-0.4148194 ],\n",
            "       [ 0.33183914],\n",
            "       [-0.43714574],\n",
            "       [ 0.2936849 ],\n",
            "       [-0.20909438],\n",
            "       [ 0.12986487],\n",
            "       [ 0.23792924],\n",
            "       [-0.2790398 ],\n",
            "       [ 0.32897338],\n",
            "       [-0.13227777],\n",
            "       [-0.2739738 ],\n",
            "       [ 0.38579175],\n",
            "       [ 0.36817792],\n",
            "       [-0.28725544],\n",
            "       [ 0.37394068],\n",
            "       [-0.3355595 ],\n",
            "       [-0.3380025 ],\n",
            "       [ 0.14179222],\n",
            "       [-0.1280603 ],\n",
            "       [-0.0614683 ],\n",
            "       [-0.11346811],\n",
            "       [ 0.27662197],\n",
            "       [-0.4094616 ],\n",
            "       [ 0.41330552],\n",
            "       [ 0.36031535],\n",
            "       [ 0.06903629],\n",
            "       [ 0.1184428 ],\n",
            "       [ 0.26703045]], dtype=float32), array([0.00075838], dtype=float32)]\n"
          ]
        }
      ],
      "source": [
        "# printing the validation results\n",
        "print(best_accuracy)\n",
        "print(best_loss)\n",
        "print(patience)\n",
        "print(weights)"
      ]
    },
    {
      "cell_type": "code",
      "execution_count": 30,
      "metadata": {
        "colab": {
          "base_uri": "https://localhost:8080/"
        },
        "id": "2L4NkzZuKvHB",
        "outputId": "a135dc9d-872b-4919-d104-de1a7e16da1c"
      },
      "outputs": [
        {
          "name": "stdout",
          "output_type": "stream",
          "text": [
            "[INFO] evaluating on testing set...\n",
            "70/70 [==============================] - 10s 129ms/step - loss: 0.6595 - accuracy: 0.6482\n",
            "[INFO] loss=0.6595, accuracy: 64.8214%\n"
          ]
        }
      ],
      "source": [
        "# testing the model\n",
        "input_shape = (15001, 13)\n",
        "test_model = get_model(input_shape)\n",
        "test_model.compile(optimizer=tf.keras.optimizers.Adam(learning_rate=0.0005), loss=tf.keras.losses.BinaryCrossentropy(label_smoothing=0.1), metrics=['accuracy'])\n",
        "\n",
        "test_model.set_weights(weights)\n",
        "\n",
        "print(\"[INFO] evaluating on testing set...\")\n",
        "(test_loss, test_accuracy) = test_model.evaluate(test_samples, test_labels, batch_size=8, verbose=1)\n",
        "print(\"[INFO] loss={:.4f}, accuracy: {:.4f}%\".format(test_loss, test_accuracy * 100))"
      ]
    },
    {
      "cell_type": "code",
      "execution_count": 31,
      "metadata": {
        "colab": {
          "base_uri": "https://localhost:8080/"
        },
        "id": "tF1ptwc1L8Se",
        "outputId": "8ff5fd39-6719-4753-93d8-3e60b95c425e"
      },
      "outputs": [
        {
          "name": "stderr",
          "output_type": "stream",
          "text": [
            "100%|██████████| 273/273 [00:18<00:00, 14.48it/s]\n"
          ]
        }
      ],
      "source": [
        "from tqdm import tqdm\n",
        "\n",
        "test_preds = []\n",
        "\n",
        "file_ids = os.listdir(data_dir)\n",
        "\n",
        "test_label_file = pd.read_csv(\"edaicwoz/test_split.csv\")\n",
        "\n",
        "for file_id in tqdm(file_ids):\n",
        "    if int(file_id) in test_label_file[\"Participant_ID\"].values:\n",
        "        all_mfccs = []\n",
        "        for j in range(10):\n",
        "            file_path = \"MFCCs_1030/\" + file_id + \"/\" + file_id + \"_MFCC_\" + str(j) + \".npy\"\n",
        "            all_mfccs.append(np.load(file_path))\n",
        "        all_mfccs = np.array(all_mfccs)\n",
        "        all_mfccs = np.swapaxes(all_mfccs, 1, 2)\n",
        "        prediction = test_model.predict(all_mfccs, verbose=0, batch_size=8)\n",
        "        prediction = prediction.mean(axis=0)\n",
        "        test_preds.append(prediction)"
      ]
    },
    {
      "cell_type": "code",
      "execution_count": 32,
      "metadata": {
        "colab": {
          "base_uri": "https://localhost:8080/",
          "height": 630
        },
        "id": "Cnj3Z4aUL1vo",
        "outputId": "43f6d52c-6efd-4d35-c089-2d77913312f2"
      },
      "outputs": [
        {
          "data": {
            "image/png": "[encoded data removed]",
            "text/plain": [
              "<Figure size 640x480 with 2 Axes>"
            ]
          },
          "metadata": {},
          "output_type": "display_data"
        },
        {
          "name": "stdout",
          "output_type": "stream",
          "text": [
            "              precision    recall  f1-score   support\n",
            "\n",
            "           0       0.80      0.72      0.76        39\n",
            "           1       0.48      0.59      0.53        17\n",
            "\n",
            "    accuracy                           0.68        56\n",
            "   macro avg       0.64      0.65      0.64        56\n",
            "weighted avg       0.70      0.68      0.69        56\n",
            "\n"
          ]
        }
      ],
      "source": [
        "label_file = test_label_file\n",
        "true = label_file.to_numpy()[:, 2].flatten().tolist()\n",
        "predicted = (np.array(test_preds) > 0.5).astype(np.int32).flatten().tolist()\n",
        "\n",
        "\n",
        "\n",
        "true_labels = true\n",
        "predicted_labels = predicted\n",
        "\n",
        "from sklearn.metrics import confusion_matrix, precision_score, recall_score, f1_score\n",
        "from sklearn.metrics import classification_report\n",
        "import matplotlib.pyplot as plt\n",
        "\n",
        "def create_confusion_matrix(true_labels, predicted_labels):\n",
        "    true_labels = np.array(true_labels)\n",
        "    predicted_labels = np.array(predicted_labels)\n",
        "    cm = confusion_matrix(true_labels, predicted_labels)\n",
        "    return cm\n",
        "\n",
        "def plot_confusion_matrix(conf_matrix, classes):\n",
        "    plt.imshow(conf_matrix, interpolation='nearest', cmap=plt.cm.Blues)\n",
        "    plt.title('Confusion Matrix')\n",
        "    plt.colorbar()\n",
        "    tick_marks = np.arange(len(classes))\n",
        "    plt.xticks(tick_marks, classes, rotation=45)\n",
        "    plt.yticks(tick_marks, classes)\n",
        "\n",
        "    for i in range(len(classes)):\n",
        "        for j in range(len(classes)):\n",
        "            plt.text(j, i, str(conf_matrix[i, j]), ha='center', va='center', color='white' if conf_matrix[i, j] > conf_matrix.max() / 2 else 'black')\n",
        "\n",
        "    plt.xlabel('Predicted Label')\n",
        "    plt.ylabel('True Label')\n",
        "    plt.show()\n",
        "\n",
        "def calculate_metrics(true_labels, predicted_labels):\n",
        "    precision = precision_score(true_labels, predicted_labels)\n",
        "    recall = recall_score(true_labels, predicted_labels)\n",
        "    f1 = f1_score(true_labels, predicted_labels)\n",
        "\n",
        "    return precision, recall, f1\n",
        "\n",
        "conf_matrix = create_confusion_matrix(true_labels, predicted_labels)\n",
        "classes = ['0', '1']\n",
        "\n",
        "# Plot confusion matrix\n",
        "plot_confusion_matrix(conf_matrix, classes)\n",
        "\n",
        "# Calculate precision, recall, and F1-score\n",
        "\n",
        "# Calculate precision, recall, and F1-score for both classes\n",
        "classification_report = classification_report(true_labels, predicted_labels, target_names=classes)\n",
        "\n",
        "print(classification_report)"
      ]
    }
  ],
  "metadata": {
    "accelerator": "GPU",
    "colab": {
      "gpuType": "V100",
      "machine_shape": "hm",
      "provenance": []
    },
    "kernelspec": {
      "display_name": "Python 3.9.0 64-bit",
      "language": "python",
      "name": "python3"
    },
    "language_info": {
      "name": "python",
      "version": "3.9.0"
    },
    "vscode": {
      "interpreter": {
        "hash": "5addf786bcd861d1ce5006f23111f8cbb206731e5b61b0a5632ba9e0252558a8"
      }
    }
  },
  "nbformat": 4,
  "nbformat_minor": 0
}
