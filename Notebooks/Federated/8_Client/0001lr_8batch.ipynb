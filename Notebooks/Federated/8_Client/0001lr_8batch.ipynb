{
  "cells": [
    {
      "cell_type": "code",
      "execution_count": 1,
      "metadata": {
        "colab": {
          "base_uri": "https://localhost:8080/"
        },
        "id": "r744gux56lPI",
        "outputId": "b71f8c84-2f19-4536-d930-5849cf41a2c3"
      },
      "outputs": [
        {
          "name": "stdout",
          "output_type": "stream",
          "text": [
            "\u001b[2K     \u001b[90m━━━━━━━━━━━━━━━━━━━━━━━━━━━━━━━━━━━━━━━━\u001b[0m \u001b[32m219.2/219.2 kB\u001b[0m \u001b[31m3.4 MB/s\u001b[0m eta \u001b[36m0:00:00\u001b[0m\n",
            "\u001b[2K     \u001b[90m━━━━━━━━━━━━━━━━━━━━━━━━━━━━━━━━━━━━━━━━\u001b[0m \u001b[32m2.1/2.1 MB\u001b[0m \u001b[31m43.9 MB/s\u001b[0m eta \u001b[36m0:00:00\u001b[0m\n",
            "\u001b[2K     \u001b[90m━━━━━━━━━━━━━━━━━━━━━━━━━━━━━━━━━━━━━━━━\u001b[0m \u001b[32m56.9/56.9 MB\u001b[0m \u001b[31m27.7 MB/s\u001b[0m eta \u001b[36m0:00:00\u001b[0m\n",
            "\u001b[?25h"
          ]
        }
      ],
      "source": [
        "!pip install -q flwr[simulation]"
      ]
    },
    {
      "cell_type": "code",
      "execution_count": 2,
      "metadata": {
        "id": "QhYdGQVU6py4"
      },
      "outputs": [],
      "source": [
        "import flwr as fl\n",
        "from flwr.common import Metrics\n",
        "from flwr.common.typing import NDArrays, Scalar\n",
        "from collections import OrderedDict\n",
        "from typing import List, Tuple, Dict, Optional\n",
        "\n",
        "import matplotlib.pyplot as plt\n",
        "import numpy as np\n",
        "import pandas as pd\n",
        "import tensorflow as tf\n",
        "\n",
        "import os\n",
        "import librosa"
      ]
    },
    {
      "cell_type": "code",
      "execution_count": 3,
      "metadata": {
        "colab": {
          "base_uri": "https://localhost:8080/"
        },
        "id": "pUTPz2ww8yDy",
        "outputId": "55d49156-b194-4370-fe8e-def2f06da595"
      },
      "outputs": [
        {
          "name": "stdout",
          "output_type": "stream",
          "text": [
            "Mounted at /content/gdrive\n"
          ]
        }
      ],
      "source": [
        "from google.colab import drive\n",
        "drive.mount('/content/gdrive')#, force_remount=True)"
      ]
    },
    {
      "cell_type": "code",
      "execution_count": 4,
      "metadata": {
        "colab": {
          "base_uri": "https://localhost:8080/"
        },
        "id": "if3RTu9E8zUl",
        "outputId": "915d0f7a-e267-4ef4-f3bb-f09d883e66c2"
      },
      "outputs": [
        {
          "name": "stdout",
          "output_type": "stream",
          "text": [
            "/content/gdrive/MyDrive/daic/ProjectPrototype\n"
          ]
        }
      ],
      "source": [
        "%cd /content/gdrive/MyDrive/daic/ProjectPrototype"
      ]
    },
    {
      "cell_type": "code",
      "execution_count": 5,
      "metadata": {
        "colab": {
          "base_uri": "https://localhost:8080/"
        },
        "id": "BJsOdA0d80eO",
        "outputId": "36c66377-d93f-4e45-d505-24287afbf614"
      },
      "outputs": [
        {
          "name": "stdout",
          "output_type": "stream",
          "text": [
            "'212148conf copy 3.ipynb'   edaicwoz   MFCCs_1030   MFCCs_1030.zip   preprocess_data.ipynb\n"
          ]
        }
      ],
      "source": [
        "!ls"
      ]
    },
    {
      "cell_type": "code",
      "execution_count": 6,
      "metadata": {
        "id": "NOdo724P811N"
      },
      "outputs": [],
      "source": [
        "train_labels_df = pd.read_csv(\"edaicwoz/train_split.csv\")\n",
        "test_labels_df = pd.read_csv(\"edaicwoz/test_split.csv\")\n",
        "val_labels_df = pd.read_csv(\"edaicwoz/dev_split.csv\")"
      ]
    },
    {
      "cell_type": "code",
      "execution_count": 7,
      "metadata": {
        "id": "4TEHAQf083qj"
      },
      "outputs": [],
      "source": [
        "def load_audio_files(data_dir, sr=16000):\n",
        "    file_ids = os.listdir(data_dir)\n",
        "    subject_ids = []\n",
        "    file_paths = []\n",
        "    types = []\n",
        "    labels = []\n",
        "    labels_binary = []\n",
        "\n",
        "    for file_id in file_ids:\n",
        "        file_id = file_id.split(\"_\")[0]\n",
        "        file_path = [data_dir + \"/\" + file_id + \"/\" + file_id + \"_MFCC_\" + str(i) + \".npy\" for i in range(len(next(iter(enumerate(os.walk(data_dir + \"/\" + str(file_id) + \"/\"))))[1][2]))]\n",
        "        if int(file_id) in train_labels_df[\"Participant_ID\"].values:\n",
        "            types.append(0)\n",
        "            labels.append(train_labels_df[train_labels_df[\"Participant_ID\"] == int(file_id)]['PHQ_Score'].values[0])\n",
        "            labels_binary.append(train_labels_df[train_labels_df[\"Participant_ID\"] == int(file_id)]['PHQ_Binary'].values[0])\n",
        "\n",
        "        elif int(file_id) in test_labels_df[\"Participant_ID\"].values:\n",
        "            types.append(1)\n",
        "            labels.append(test_labels_df[test_labels_df[\"Participant_ID\"] == int(file_id)]['PHQ_Score'].values[0])\n",
        "            labels_binary.append(test_labels_df[test_labels_df[\"Participant_ID\"] == int(file_id)]['PHQ_Binary'].values[0])\n",
        "        else:\n",
        "            types.append(2)\n",
        "            labels.append(val_labels_df[val_labels_df[\"Participant_ID\"] == int(file_id)]['PHQ_Score'].values[0])\n",
        "            labels_binary.append(val_labels_df[val_labels_df[\"Participant_ID\"] == int(file_id)]['PHQ_Binary'].values[0])\n",
        "        subject_ids.append(int(file_id))\n",
        "        file_paths.append(file_path)\n",
        "\n",
        "    return file_ids, subject_ids, file_paths, types, labels, labels_binary\n",
        "\n",
        "data_dir = \"MFCCs_1030\"\n",
        "\n",
        "file_ids, subject_ids, file_paths, types, labels, labels_binary = load_audio_files(data_dir)"
      ]
    },
    {
      "cell_type": "code",
      "execution_count": 8,
      "metadata": {
        "colab": {
          "base_uri": "https://localhost:8080/"
        },
        "id": "f54IRuEk889P",
        "outputId": "634ebe90-1b29-47c8-f0a6-ecaff293c322"
      },
      "outputs": [
        {
          "name": "stdout",
          "output_type": "stream",
          "text": [
            "[INFO] preparing data...\n"
          ]
        }
      ],
      "source": [
        "def prepare_audio_set(file_paths):\n",
        "\n",
        "    samples = []\n",
        "    samples_ids = []\n",
        "    samples_types = []\n",
        "    samples_labels = []\n",
        "    samples_labels_binary = []\n",
        "\n",
        "    for i, file_path in enumerate(file_paths):\n",
        "        all_mfccs = []\n",
        "        for j in range(len(file_path)):\n",
        "            all_mfccs.append(np.load(file_path[j]))\n",
        "        all_mfccs = np.array(all_mfccs)\n",
        "        samples.extend(all_mfccs)\n",
        "        samples_ids.extend([subject_ids[i]] * len(all_mfccs))\n",
        "        samples_types.extend([types[i]] * len(all_mfccs))\n",
        "        samples_labels.extend([labels[i]] * len(all_mfccs))\n",
        "        samples_labels_binary.extend([labels_binary[i]] * len(all_mfccs))\n",
        "\n",
        "    samples = np.array(samples)\n",
        "\n",
        "    samples_ids = np.array(samples_ids)\n",
        "    samples_types = np.array(samples_types)\n",
        "    samples_labels = np.array(samples_labels)\n",
        "    samples_labels_binary = np.array(samples_labels_binary)\n",
        "\n",
        "    return samples, samples_ids, samples_types, samples_labels, samples_labels_binary\n",
        "\n",
        "print(\"[INFO] preparing data...\")\n",
        "samples, samples_ids, samples_types, samples_labels, samples_labels_binary = prepare_audio_set(file_paths)\n",
        "samples = np.swapaxes(samples, 1, 2)"
      ]
    },
    {
      "cell_type": "code",
      "execution_count": 9,
      "metadata": {
        "id": "uMLrvS1L9F8v"
      },
      "outputs": [],
      "source": [
        "training_samples = samples[samples_types == 0]\n",
        "training_labels = samples_labels_binary[samples_types == 0]\n",
        "training_subject_ids = samples_ids[samples_types == 0]\n",
        "\n",
        "test_samples = samples[samples_types == 1]\n",
        "test_labels = samples_labels_binary[samples_types == 1]\n",
        "\n",
        "val_samples = samples[samples_types == 2]\n",
        "val_labels_df = samples_labels_binary[samples_types == 2]"
      ]
    },
    {
      "cell_type": "code",
      "execution_count": 10,
      "metadata": {
        "id": "bpe1dRB-8WdZ"
      },
      "outputs": [],
      "source": [
        "del samples, samples_ids, samples_types, samples_labels, samples_labels_binary\n",
        "del file_ids, subject_ids, file_paths, types, labels, labels_binary"
      ]
    },
    {
      "cell_type": "code",
      "execution_count": 11,
      "metadata": {
        "id": "PDSzvY3L6woq"
      },
      "outputs": [],
      "source": [
        "SEED = 42\n",
        "NUM_CLIENTS = 8\n",
        "BATCH_SIZE = 8\n",
        "NUM_ROUNDS = 5\n",
        "DEPRESSIVE_MULTIPLIER = 30\n",
        "NON_DEPRESSIVE_MULTIPLIER = 10"
      ]
    },
    {
      "cell_type": "code",
      "execution_count": 12,
      "metadata": {
        "colab": {
          "base_uri": "https://localhost:8080/"
        },
        "id": "uoLCYLk-60oa",
        "outputId": "da17ccb5-e0f0-4b15-c2be-3dd8bb5797eb"
      },
      "outputs": [
        {
          "name": "stderr",
          "output_type": "stream",
          "text": [
            "<ipython-input-12-45e26c792d34>:9: VisibleDeprecationWarning: Creating an ndarray from ragged nested sequences (which is a list-or-tuple of lists-or-tuples-or ndarrays with different lengths or shapes) is deprecated. If you meant to do this, you must specify 'dtype=object' when creating the ndarray.\n",
            "  training_samples_grouped = np.array(training_samples_grouped)\n"
          ]
        }
      ],
      "source": [
        "def partition_data(X: np.ndarray, X_ids: np.ndarray, n_clients: int, d_mult: int, n_d_mult: int) -> Tuple[List[np.ndarray], List[np.ndarray]]:\n",
        "\n",
        "    unique_subject_ids, counts = np.unique(X_ids, return_counts=True)\n",
        "\n",
        "    # grouping the training samples by patient\n",
        "    training_samples_grouped = []\n",
        "    for i in unique_subject_ids:\n",
        "        training_samples_grouped.append(X[X_ids == i])\n",
        "    training_samples_grouped = np.array(training_samples_grouped)\n",
        "\n",
        "    mask_30_segments = np.array([sample.shape[0] == DEPRESSIVE_MULTIPLIER for sample in training_samples_grouped])\n",
        "\n",
        "    # creating masks to get deppressives and non deppressives\n",
        "    mask_10_segments = np.array([sample.shape[0] == NON_DEPRESSIVE_MULTIPLIER for sample in training_samples_grouped])\n",
        "\n",
        "    data_array_30_segments = training_samples_grouped[mask_30_segments]\n",
        "\n",
        "    data_array_10_segments = training_samples_grouped[mask_10_segments]\n",
        "\n",
        "    # recreating labels\n",
        "    X_train_zeros = np.array_split(data_array_10_segments, NUM_CLIENTS)\n",
        "    X_train_ones = np.array_split(data_array_30_segments, NUM_CLIENTS)\n",
        "\n",
        "    # concatenating splitted ones and zeros with labels\n",
        "    X_train_splitted = [] # (NUM_CLIENTS, data)\n",
        "    y_train_splitted = [] # (NUM_CLIENTS, labels)\n",
        "    for i in range(NUM_CLIENTS):\n",
        "\n",
        "        # stack the segments from groups then concatenate\n",
        "        client_data = np.concatenate((np.vstack(X_train_zeros[i]), np.vstack(X_train_ones[i])), axis=0)\n",
        "        client_labels = np.concatenate((np.zeros((X_train_zeros[i].shape[0] * NON_DEPRESSIVE_MULTIPLIER), dtype=int), np.ones((X_train_ones[i].shape[0] * DEPRESSIVE_MULTIPLIER), dtype=int)), axis=0)\n",
        "\n",
        "        X_train_splitted.append(client_data)\n",
        "        y_train_splitted.append(client_labels)\n",
        "\n",
        "    return X_train_splitted, y_train_splitted\n",
        "\n",
        "X_trains, y_trains = partition_data(training_samples, training_subject_ids, NUM_CLIENTS, DEPRESSIVE_MULTIPLIER, NON_DEPRESSIVE_MULTIPLIER)"
      ]
    },
    {
      "cell_type": "code",
      "execution_count": null,
      "metadata": {
        "colab": {
          "base_uri": "https://localhost:8080/"
        },
        "id": "MOakTnvyGeG9",
        "outputId": "0536affa-2519-405d-c4ee-e825b90ea146"
      },
      "outputs": [
        {
          "data": {
            "text/plain": [
              "(610, 15001, 13)"
            ]
          },
          "execution_count": 13,
          "metadata": {},
          "output_type": "execute_result"
        }
      ],
      "source": [
        "X_trains[0].shape"
      ]
    },
    {
      "cell_type": "code",
      "execution_count": 14,
      "metadata": {
        "id": "6TLISBYkEXxm"
      },
      "outputs": [],
      "source": [
        "def get_model(input_shape):\n",
        "    model = tf.keras.models.Sequential()\n",
        "\n",
        "    model.add(tf.keras.layers.GRU(units = 64, input_shape = input_shape)) \n",
        "\n",
        "    model.add(tf.keras.layers.Dense(32, activation='relu'))\n",
        "    model.add(tf.keras.layers.Dropout(0.3))\n",
        "\n",
        "    model.add(tf.keras.layers.Dense(1, activation='sigmoid'))\n",
        "\n",
        "    return model"
      ]
    },
    {
      "cell_type": "code",
      "execution_count": 24,
      "metadata": {
        "id": "NqrDDSKP7HtP"
      },
      "outputs": [],
      "source": [
        "from flwr.common.typing import NDArrays\n",
        "class FlowerClient(fl.client.NumPyClient):\n",
        "\n",
        "    def __init__(self, model: tf.keras.models.Sequential, X_train: np.ndarray, y_train: np.ndarray):\n",
        "        self.model = model\n",
        "        self.X_train = X_train\n",
        "        self.y_train = y_train\n",
        "\n",
        "    def get_parameters(self, config):\n",
        "        return self.model.get_weights()\n",
        "\n",
        "\n",
        "    def fit(self, parameters: NDArrays, config: Dict[str, Scalar]) -> NDArrays:\n",
        "\n",
        "        self.model.compile(optimizer=tf.keras.optimizers.Adam(learning_rate=0.0001), loss=tf.keras.losses.BinaryCrossentropy(label_smoothing=0.1), metrics=['accuracy'])\n",
        "\n",
        "        self.model.set_weights(parameters)\n",
        "\n",
        "        history = self.model.fit(self.X_train, self.y_train ,batch_size=BATCH_SIZE, epochs=1, verbose=0)\n",
        "        results = {\n",
        "            \"loss\": history.history[\"loss\"][0],\n",
        "            \"accuracy\": history.history[\"accuracy\"][0],\n",
        "        }\n",
        "        return self.model.get_weights(), len(self.X_train), results\n",
        "\n",
        "    def evaluate(self, parameters: NDArrays, config: Dict[str, Scalar])-> Tuple[float, int, Dict[str, Scalar]]:\n",
        "        self.model.compile(optimizer=tf.keras.optimizers.Adam(learning_rate=0.0001), loss=tf.keras.losses.BinaryCrossentropy(label_smoothing=0.1), metrics=['accuracy'])\n",
        "        self.model.set_weights(parameters)\n",
        "\n",
        "        loss, acc = self.model.evaluate(self.X_train, self.y_train, verbose=0)\n",
        "        return loss, len(self.X_train), {\"accuracy\": acc}"
      ]
    },
    {
      "cell_type": "code",
      "execution_count": 25,
      "metadata": {
        "id": "qgf9oz_57I9I"
      },
      "outputs": [],
      "source": [
        "# client creator by client id\n",
        "def create_client_fn(cid: str) -> FlowerClient:\n",
        "\n",
        "    input_shape = (15001, 13)\n",
        "    model = get_model(input_shape)\n",
        "    cid_int = int(cid)\n",
        "    return FlowerClient(model, X_trains[cid_int], y_trains[cid_int])"
      ]
    },
    {
      "cell_type": "code",
      "execution_count": 26,
      "metadata": {
        "id": "-BT6BuAA7J3j"
      },
      "outputs": [],
      "source": [
        "def weighted_average(metrics: List[Tuple[int, Metrics]]) -> Metrics:\n",
        "    accuracies = [num_examples * m[\"accuracy\"] for num_examples, m in metrics]\n",
        "    examples = [num_examples for num_examples, _ in metrics]\n",
        "\n",
        "    # Aggregate and return custom metric (weighted average)\n",
        "    return {\"accuracy\": sum(accuracies) / sum(examples)}\n"
      ]
    },
    {
      "cell_type": "code",
      "execution_count": 27,
      "metadata": {
        "colab": {
          "base_uri": "https://localhost:8080/"
        },
        "id": "6l4S_aJJ7Laq",
        "outputId": "1a7558a4-9c45-4ba3-eb61-6bce1e470950"
      },
      "outputs": [
        {
          "name": "stderr",
          "output_type": "stream",
          "text": [
            "INFO flwr 2023-12-13 08:54:23,098 | app.py:178 | Starting Flower simulation, config: ServerConfig(num_rounds=15, round_timeout=None)\n",
            "INFO:flwr:Starting Flower simulation, config: ServerConfig(num_rounds=15, round_timeout=None)\n",
            "2023-12-13 08:54:27,477\tINFO worker.py:1621 -- Started a local Ray instance.\n",
            "INFO flwr 2023-12-13 08:54:29,193 | app.py:213 | Flower VCE: Ray initialized with resources: {'memory': 32565475739.0, 'CPU': 8.0, 'object_store_memory': 16282737868.0, 'GPU': 1.0, 'node:172.28.0.12': 1.0, 'node:__internal_head__': 1.0}\n",
            "INFO:flwr:Flower VCE: Ray initialized with resources: {'memory': 32565475739.0, 'CPU': 8.0, 'object_store_memory': 16282737868.0, 'GPU': 1.0, 'node:172.28.0.12': 1.0, 'node:__internal_head__': 1.0}\n",
            "INFO flwr 2023-12-13 08:54:29,195 | app.py:219 | Optimize your simulation with Flower VCE: https://flower.dev/docs/framework/how-to-run-simulations.html\n",
            "INFO:flwr:Optimize your simulation with Flower VCE: https://flower.dev/docs/framework/how-to-run-simulations.html\n",
            "INFO flwr 2023-12-13 08:54:29,198 | app.py:242 | Flower VCE: Resources for each Virtual Client: {'num_cpus': 2, 'num_gpus': 1}\n",
            "INFO:flwr:Flower VCE: Resources for each Virtual Client: {'num_cpus': 2, 'num_gpus': 1}\n",
            "INFO flwr 2023-12-13 08:54:29,214 | app.py:288 | Flower VCE: Creating VirtualClientEngineActorPool with 1 actors\n",
            "INFO:flwr:Flower VCE: Creating VirtualClientEngineActorPool with 1 actors\n",
            "INFO flwr 2023-12-13 08:54:29,218 | server.py:89 | Initializing global parameters\n",
            "INFO:flwr:Initializing global parameters\n",
            "INFO flwr 2023-12-13 08:54:29,221 | server.py:276 | Requesting initial parameters from one random client\n",
            "INFO:flwr:Requesting initial parameters from one random client\n",
            "\u001b[2m\u001b[36m(pid=38750)\u001b[0m 2023-12-13 08:54:30.476582: E tensorflow/compiler/xla/stream_executor/cuda/cuda_dnn.cc:9342] Unable to register cuDNN factory: Attempting to register factory for plugin cuDNN when one has already been registered\n",
            "\u001b[2m\u001b[36m(pid=38750)\u001b[0m 2023-12-13 08:54:30.476646: E tensorflow/compiler/xla/stream_executor/cuda/cuda_fft.cc:609] Unable to register cuFFT factory: Attempting to register factory for plugin cuFFT when one has already been registered\n",
            "\u001b[2m\u001b[36m(pid=38750)\u001b[0m 2023-12-13 08:54:30.476678: E tensorflow/compiler/xla/stream_executor/cuda/cuda_blas.cc:1518] Unable to register cuBLAS factory: Attempting to register factory for plugin cuBLAS when one has already been registered\n",
            "\u001b[2m\u001b[36m(pid=38750)\u001b[0m 2023-12-13 08:54:31.758461: W tensorflow/compiler/tf2tensorrt/utils/py_utils.cc:38] TF-TRT Warning: Could not find TensorRT\n",
            "\u001b[2m\u001b[36m(DefaultActor pid=38750)\u001b[0m 2023-12-13 08:54:39.169454: W tensorflow/core/common_runtime/gpu/gpu_bfc_allocator.cc:47] Overriding orig_value setting because the TF_FORCE_GPU_ALLOW_GROWTH environment variable is set. Original config value was 0.\n",
            "INFO flwr 2023-12-13 08:54:39,611 | server.py:280 | Received initial parameters from one random client\n",
            "INFO:flwr:Received initial parameters from one random client\n",
            "INFO flwr 2023-12-13 08:54:39,614 | server.py:91 | Evaluating initial parameters\n",
            "INFO:flwr:Evaluating initial parameters\n",
            "INFO flwr 2023-12-13 08:54:49,197 | server.py:94 | initial parameters (loss, other metrics): 1.0393654108047485, {'accuracy': 0.550000011920929}\n",
            "INFO:flwr:initial parameters (loss, other metrics): 1.0393654108047485, {'accuracy': 0.550000011920929}\n",
            "INFO flwr 2023-12-13 08:54:49,199 | server.py:104 | FL starting\n",
            "INFO:flwr:FL starting\n",
            "DEBUG flwr 2023-12-13 08:54:49,201 | server.py:222 | fit_round 1: strategy sampled 8 clients (out of 8)\n",
            "DEBUG:flwr:fit_round 1: strategy sampled 8 clients (out of 8)\n"
          ]
        },
        {
          "name": "stdout",
          "output_type": "stream",
          "text": [
            "LOSS: 1.0393654108047485\n",
            "BEST_LOSS: 999\n",
            "ACCURACY: 0.550000011920929\n",
            "BEST_ACCURACY: 0.0\n"
          ]
        },
        {
          "name": "stderr",
          "output_type": "stream",
          "text": [
            "DEBUG flwr 2023-12-13 08:57:49,769 | server.py:236 | fit_round 1 received 8 results and 0 failures\n",
            "DEBUG:flwr:fit_round 1 received 8 results and 0 failures\n",
            "WARNING flwr 2023-12-13 08:57:49,785 | fedavg.py:242 | No fit_metrics_aggregation_fn provided\n",
            "WARNING:flwr:No fit_metrics_aggregation_fn provided\n",
            "INFO flwr 2023-12-13 08:57:59,275 | server.py:125 | fit progress: (1, 0.879640519618988, {'accuracy': 0.550000011920929}, 190.07454040500033)\n",
            "INFO:flwr:fit progress: (1, 0.879640519618988, {'accuracy': 0.550000011920929}, 190.07454040500033)\n",
            "DEBUG flwr 2023-12-13 08:57:59,278 | server.py:173 | evaluate_round 1: strategy sampled 8 clients (out of 8)\n",
            "DEBUG:flwr:evaluate_round 1: strategy sampled 8 clients (out of 8)\n"
          ]
        },
        {
          "name": "stdout",
          "output_type": "stream",
          "text": [
            "LOSS: 0.879640519618988\n",
            "BEST_LOSS: 1.0393654108047485\n",
            "ACCURACY: 0.550000011920929\n",
            "BEST_ACCURACY: 0.550000011920929\n"
          ]
        },
        {
          "name": "stderr",
          "output_type": "stream",
          "text": [
            "DEBUG flwr 2023-12-13 08:59:25,145 | server.py:187 | evaluate_round 1 received 8 results and 0 failures\n",
            "DEBUG:flwr:evaluate_round 1 received 8 results and 0 failures\n",
            "DEBUG flwr 2023-12-13 08:59:25,148 | server.py:222 | fit_round 2: strategy sampled 8 clients (out of 8)\n",
            "DEBUG:flwr:fit_round 2: strategy sampled 8 clients (out of 8)\n",
            "DEBUG flwr 2023-12-13 09:02:17,771 | server.py:236 | fit_round 2 received 8 results and 0 failures\n",
            "DEBUG:flwr:fit_round 2 received 8 results and 0 failures\n",
            "INFO flwr 2023-12-13 09:02:27,375 | server.py:125 | fit progress: (2, 0.775047779083252, {'accuracy': 0.550000011920929}, 458.17402977599977)\n",
            "INFO:flwr:fit progress: (2, 0.775047779083252, {'accuracy': 0.550000011920929}, 458.17402977599977)\n",
            "DEBUG flwr 2023-12-13 09:02:27,377 | server.py:173 | evaluate_round 2: strategy sampled 8 clients (out of 8)\n",
            "DEBUG:flwr:evaluate_round 2: strategy sampled 8 clients (out of 8)\n"
          ]
        },
        {
          "name": "stdout",
          "output_type": "stream",
          "text": [
            "LOSS: 0.775047779083252\n",
            "BEST_LOSS: 0.879640519618988\n",
            "ACCURACY: 0.550000011920929\n",
            "BEST_ACCURACY: 0.550000011920929\n"
          ]
        },
        {
          "name": "stderr",
          "output_type": "stream",
          "text": [
            "DEBUG flwr 2023-12-13 09:03:51,388 | server.py:187 | evaluate_round 2 received 8 results and 0 failures\n",
            "DEBUG:flwr:evaluate_round 2 received 8 results and 0 failures\n",
            "DEBUG flwr 2023-12-13 09:03:51,391 | server.py:222 | fit_round 3: strategy sampled 8 clients (out of 8)\n",
            "DEBUG:flwr:fit_round 3: strategy sampled 8 clients (out of 8)\n",
            "DEBUG flwr 2023-12-13 09:06:46,138 | server.py:236 | fit_round 3 received 8 results and 0 failures\n",
            "DEBUG:flwr:fit_round 3 received 8 results and 0 failures\n",
            "INFO flwr 2023-12-13 09:06:55,636 | server.py:125 | fit progress: (3, 0.7194886207580566, {'accuracy': 0.550000011920929}, 726.4352752169998)\n",
            "INFO:flwr:fit progress: (3, 0.7194886207580566, {'accuracy': 0.550000011920929}, 726.4352752169998)\n",
            "DEBUG flwr 2023-12-13 09:06:55,639 | server.py:173 | evaluate_round 3: strategy sampled 8 clients (out of 8)\n",
            "DEBUG:flwr:evaluate_round 3: strategy sampled 8 clients (out of 8)\n"
          ]
        },
        {
          "name": "stdout",
          "output_type": "stream",
          "text": [
            "LOSS: 0.7194886207580566\n",
            "BEST_LOSS: 0.775047779083252\n",
            "ACCURACY: 0.550000011920929\n",
            "BEST_ACCURACY: 0.550000011920929\n"
          ]
        },
        {
          "name": "stderr",
          "output_type": "stream",
          "text": [
            "DEBUG flwr 2023-12-13 09:08:19,764 | server.py:187 | evaluate_round 3 received 8 results and 0 failures\n",
            "DEBUG:flwr:evaluate_round 3 received 8 results and 0 failures\n",
            "DEBUG flwr 2023-12-13 09:08:19,767 | server.py:222 | fit_round 4: strategy sampled 8 clients (out of 8)\n",
            "DEBUG:flwr:fit_round 4: strategy sampled 8 clients (out of 8)\n",
            "DEBUG flwr 2023-12-13 09:11:14,055 | server.py:236 | fit_round 4 received 8 results and 0 failures\n",
            "DEBUG:flwr:fit_round 4 received 8 results and 0 failures\n",
            "INFO flwr 2023-12-13 09:11:23,733 | server.py:125 | fit progress: (4, 0.699170708656311, {'accuracy': 0.5625}, 994.5322684970006)\n",
            "INFO:flwr:fit progress: (4, 0.699170708656311, {'accuracy': 0.5625}, 994.5322684970006)\n",
            "DEBUG flwr 2023-12-13 09:11:23,736 | server.py:173 | evaluate_round 4: strategy sampled 8 clients (out of 8)\n",
            "DEBUG:flwr:evaluate_round 4: strategy sampled 8 clients (out of 8)\n"
          ]
        },
        {
          "name": "stdout",
          "output_type": "stream",
          "text": [
            "LOSS: 0.699170708656311\n",
            "BEST_LOSS: 0.7194886207580566\n",
            "ACCURACY: 0.5625\n",
            "BEST_ACCURACY: 0.550000011920929\n"
          ]
        },
        {
          "name": "stderr",
          "output_type": "stream",
          "text": [
            "DEBUG flwr 2023-12-13 09:12:48,069 | server.py:187 | evaluate_round 4 received 8 results and 0 failures\n",
            "DEBUG:flwr:evaluate_round 4 received 8 results and 0 failures\n",
            "DEBUG flwr 2023-12-13 09:12:48,073 | server.py:222 | fit_round 5: strategy sampled 8 clients (out of 8)\n",
            "DEBUG:flwr:fit_round 5: strategy sampled 8 clients (out of 8)\n",
            "DEBUG flwr 2023-12-13 09:15:44,144 | server.py:236 | fit_round 5 received 8 results and 0 failures\n",
            "DEBUG:flwr:fit_round 5 received 8 results and 0 failures\n",
            "INFO flwr 2023-12-13 09:15:53,733 | server.py:125 | fit progress: (5, 0.6914127469062805, {'accuracy': 0.5612499713897705}, 1264.532377595)\n",
            "INFO:flwr:fit progress: (5, 0.6914127469062805, {'accuracy': 0.5612499713897705}, 1264.532377595)\n",
            "DEBUG flwr 2023-12-13 09:15:53,739 | server.py:173 | evaluate_round 5: strategy sampled 8 clients (out of 8)\n",
            "DEBUG:flwr:evaluate_round 5: strategy sampled 8 clients (out of 8)\n"
          ]
        },
        {
          "name": "stdout",
          "output_type": "stream",
          "text": [
            "LOSS: 0.6914127469062805\n",
            "BEST_LOSS: 0.699170708656311\n",
            "ACCURACY: 0.5612499713897705\n",
            "BEST_ACCURACY: 0.5625\n"
          ]
        },
        {
          "name": "stderr",
          "output_type": "stream",
          "text": [
            "DEBUG flwr 2023-12-13 09:17:18,467 | server.py:187 | evaluate_round 5 received 8 results and 0 failures\n",
            "DEBUG:flwr:evaluate_round 5 received 8 results and 0 failures\n",
            "DEBUG flwr 2023-12-13 09:17:18,470 | server.py:222 | fit_round 6: strategy sampled 8 clients (out of 8)\n",
            "DEBUG:flwr:fit_round 6: strategy sampled 8 clients (out of 8)\n",
            "DEBUG flwr 2023-12-13 09:20:13,096 | server.py:236 | fit_round 6 received 8 results and 0 failures\n",
            "DEBUG:flwr:fit_round 6 received 8 results and 0 failures\n",
            "INFO flwr 2023-12-13 09:20:22,535 | server.py:125 | fit progress: (6, 0.6889903545379639, {'accuracy': 0.5537499785423279}, 1533.3342882140005)\n",
            "INFO:flwr:fit progress: (6, 0.6889903545379639, {'accuracy': 0.5537499785423279}, 1533.3342882140005)\n",
            "DEBUG flwr 2023-12-13 09:20:22,540 | server.py:173 | evaluate_round 6: strategy sampled 8 clients (out of 8)\n",
            "DEBUG:flwr:evaluate_round 6: strategy sampled 8 clients (out of 8)\n"
          ]
        },
        {
          "name": "stdout",
          "output_type": "stream",
          "text": [
            "LOSS: 0.6889903545379639\n",
            "BEST_LOSS: 0.6914127469062805\n",
            "ACCURACY: 0.5537499785423279\n",
            "BEST_ACCURACY: 0.5612499713897705\n"
          ]
        },
        {
          "name": "stderr",
          "output_type": "stream",
          "text": [
            "DEBUG flwr 2023-12-13 09:21:46,615 | server.py:187 | evaluate_round 6 received 8 results and 0 failures\n",
            "DEBUG:flwr:evaluate_round 6 received 8 results and 0 failures\n",
            "DEBUG flwr 2023-12-13 09:21:46,618 | server.py:222 | fit_round 7: strategy sampled 8 clients (out of 8)\n",
            "DEBUG:flwr:fit_round 7: strategy sampled 8 clients (out of 8)\n",
            "DEBUG flwr 2023-12-13 09:24:42,233 | server.py:236 | fit_round 7 received 8 results and 0 failures\n",
            "DEBUG:flwr:fit_round 7 received 8 results and 0 failures\n",
            "INFO flwr 2023-12-13 09:24:51,794 | server.py:125 | fit progress: (7, 0.6879273056983948, {'accuracy': 0.5687500238418579}, 1802.5934795350004)\n",
            "INFO:flwr:fit progress: (7, 0.6879273056983948, {'accuracy': 0.5687500238418579}, 1802.5934795350004)\n",
            "DEBUG flwr 2023-12-13 09:24:51,796 | server.py:173 | evaluate_round 7: strategy sampled 8 clients (out of 8)\n",
            "DEBUG:flwr:evaluate_round 7: strategy sampled 8 clients (out of 8)\n"
          ]
        },
        {
          "name": "stdout",
          "output_type": "stream",
          "text": [
            "LOSS: 0.6879273056983948\n",
            "BEST_LOSS: 0.6889903545379639\n",
            "ACCURACY: 0.5687500238418579\n",
            "BEST_ACCURACY: 0.5537499785423279\n"
          ]
        },
        {
          "name": "stderr",
          "output_type": "stream",
          "text": [
            "DEBUG flwr 2023-12-13 09:26:16,025 | server.py:187 | evaluate_round 7 received 8 results and 0 failures\n",
            "DEBUG:flwr:evaluate_round 7 received 8 results and 0 failures\n",
            "DEBUG flwr 2023-12-13 09:26:16,027 | server.py:222 | fit_round 8: strategy sampled 8 clients (out of 8)\n",
            "DEBUG:flwr:fit_round 8: strategy sampled 8 clients (out of 8)\n",
            "DEBUG flwr 2023-12-13 09:29:09,710 | server.py:236 | fit_round 8 received 8 results and 0 failures\n",
            "DEBUG:flwr:fit_round 8 received 8 results and 0 failures\n",
            "INFO flwr 2023-12-13 09:29:19,292 | server.py:125 | fit progress: (8, 0.6869351863861084, {'accuracy': 0.5562499761581421}, 2070.0906775700005)\n",
            "INFO:flwr:fit progress: (8, 0.6869351863861084, {'accuracy': 0.5562499761581421}, 2070.0906775700005)\n",
            "DEBUG flwr 2023-12-13 09:29:19,294 | server.py:173 | evaluate_round 8: strategy sampled 8 clients (out of 8)\n",
            "DEBUG:flwr:evaluate_round 8: strategy sampled 8 clients (out of 8)\n"
          ]
        },
        {
          "name": "stdout",
          "output_type": "stream",
          "text": [
            "LOSS: 0.6869351863861084\n",
            "BEST_LOSS: 0.6879273056983948\n",
            "ACCURACY: 0.5562499761581421\n",
            "BEST_ACCURACY: 0.5687500238418579\n"
          ]
        },
        {
          "name": "stderr",
          "output_type": "stream",
          "text": [
            "DEBUG flwr 2023-12-13 09:30:43,662 | server.py:187 | evaluate_round 8 received 8 results and 0 failures\n",
            "DEBUG:flwr:evaluate_round 8 received 8 results and 0 failures\n",
            "DEBUG flwr 2023-12-13 09:30:43,665 | server.py:222 | fit_round 9: strategy sampled 8 clients (out of 8)\n",
            "DEBUG:flwr:fit_round 9: strategy sampled 8 clients (out of 8)\n",
            "DEBUG flwr 2023-12-13 09:33:39,808 | server.py:236 | fit_round 9 received 8 results and 0 failures\n",
            "DEBUG:flwr:fit_round 9 received 8 results and 0 failures\n",
            "INFO flwr 2023-12-13 09:33:49,363 | server.py:125 | fit progress: (9, 0.6863436102867126, {'accuracy': 0.5487499833106995}, 2340.162350738001)\n",
            "INFO:flwr:fit progress: (9, 0.6863436102867126, {'accuracy': 0.5487499833106995}, 2340.162350738001)\n",
            "DEBUG flwr 2023-12-13 09:33:49,366 | server.py:173 | evaluate_round 9: strategy sampled 8 clients (out of 8)\n",
            "DEBUG:flwr:evaluate_round 9: strategy sampled 8 clients (out of 8)\n"
          ]
        },
        {
          "name": "stdout",
          "output_type": "stream",
          "text": [
            "LOSS: 0.6863436102867126\n",
            "BEST_LOSS: 0.6869351863861084\n",
            "ACCURACY: 0.5487499833106995\n",
            "BEST_ACCURACY: 0.5562499761581421\n"
          ]
        },
        {
          "name": "stderr",
          "output_type": "stream",
          "text": [
            "DEBUG flwr 2023-12-13 09:35:13,742 | server.py:187 | evaluate_round 9 received 8 results and 0 failures\n",
            "DEBUG:flwr:evaluate_round 9 received 8 results and 0 failures\n",
            "DEBUG flwr 2023-12-13 09:35:13,744 | server.py:222 | fit_round 10: strategy sampled 8 clients (out of 8)\n",
            "DEBUG:flwr:fit_round 10: strategy sampled 8 clients (out of 8)\n",
            "DEBUG flwr 2023-12-13 09:38:07,758 | server.py:236 | fit_round 10 received 8 results and 0 failures\n",
            "DEBUG:flwr:fit_round 10 received 8 results and 0 failures\n",
            "INFO flwr 2023-12-13 09:38:17,166 | server.py:125 | fit progress: (10, 0.6859428286552429, {'accuracy': 0.5425000190734863}, 2607.9648091729996)\n",
            "INFO:flwr:fit progress: (10, 0.6859428286552429, {'accuracy': 0.5425000190734863}, 2607.9648091729996)\n",
            "DEBUG flwr 2023-12-13 09:38:17,168 | server.py:173 | evaluate_round 10: strategy sampled 8 clients (out of 8)\n",
            "DEBUG:flwr:evaluate_round 10: strategy sampled 8 clients (out of 8)\n"
          ]
        },
        {
          "name": "stdout",
          "output_type": "stream",
          "text": [
            "LOSS: 0.6859428286552429\n",
            "BEST_LOSS: 0.6863436102867126\n",
            "ACCURACY: 0.5425000190734863\n",
            "BEST_ACCURACY: 0.5487499833106995\n"
          ]
        },
        {
          "name": "stderr",
          "output_type": "stream",
          "text": [
            "DEBUG flwr 2023-12-13 09:39:42,018 | server.py:187 | evaluate_round 10 received 8 results and 0 failures\n",
            "DEBUG:flwr:evaluate_round 10 received 8 results and 0 failures\n",
            "DEBUG flwr 2023-12-13 09:39:42,020 | server.py:222 | fit_round 11: strategy sampled 8 clients (out of 8)\n",
            "DEBUG:flwr:fit_round 11: strategy sampled 8 clients (out of 8)\n",
            "DEBUG flwr 2023-12-13 09:42:40,054 | server.py:236 | fit_round 11 received 8 results and 0 failures\n",
            "DEBUG:flwr:fit_round 11 received 8 results and 0 failures\n",
            "INFO flwr 2023-12-13 09:42:49,513 | server.py:125 | fit progress: (11, 0.685799241065979, {'accuracy': 0.5375000238418579}, 2880.3118019920003)\n",
            "INFO:flwr:fit progress: (11, 0.685799241065979, {'accuracy': 0.5375000238418579}, 2880.3118019920003)\n",
            "DEBUG flwr 2023-12-13 09:42:49,515 | server.py:173 | evaluate_round 11: strategy sampled 8 clients (out of 8)\n",
            "DEBUG:flwr:evaluate_round 11: strategy sampled 8 clients (out of 8)\n"
          ]
        },
        {
          "name": "stdout",
          "output_type": "stream",
          "text": [
            "LOSS: 0.685799241065979\n",
            "BEST_LOSS: 0.6859428286552429\n",
            "ACCURACY: 0.5375000238418579\n",
            "BEST_ACCURACY: 0.5425000190734863\n"
          ]
        },
        {
          "name": "stderr",
          "output_type": "stream",
          "text": [
            "DEBUG flwr 2023-12-13 09:44:14,793 | server.py:187 | evaluate_round 11 received 8 results and 0 failures\n",
            "DEBUG:flwr:evaluate_round 11 received 8 results and 0 failures\n",
            "DEBUG flwr 2023-12-13 09:44:14,795 | server.py:222 | fit_round 12: strategy sampled 8 clients (out of 8)\n",
            "DEBUG:flwr:fit_round 12: strategy sampled 8 clients (out of 8)\n",
            "DEBUG flwr 2023-12-13 09:47:09,758 | server.py:236 | fit_round 12 received 8 results and 0 failures\n",
            "DEBUG:flwr:fit_round 12 received 8 results and 0 failures\n",
            "INFO flwr 2023-12-13 09:47:19,316 | server.py:125 | fit progress: (12, 0.6845251321792603, {'accuracy': 0.5387499928474426}, 3150.1147908990006)\n",
            "INFO:flwr:fit progress: (12, 0.6845251321792603, {'accuracy': 0.5387499928474426}, 3150.1147908990006)\n",
            "DEBUG flwr 2023-12-13 09:47:19,318 | server.py:173 | evaluate_round 12: strategy sampled 8 clients (out of 8)\n",
            "DEBUG:flwr:evaluate_round 12: strategy sampled 8 clients (out of 8)\n"
          ]
        },
        {
          "name": "stdout",
          "output_type": "stream",
          "text": [
            "LOSS: 0.6845251321792603\n",
            "BEST_LOSS: 0.685799241065979\n",
            "ACCURACY: 0.5387499928474426\n",
            "BEST_ACCURACY: 0.5375000238418579\n"
          ]
        },
        {
          "name": "stderr",
          "output_type": "stream",
          "text": [
            "DEBUG flwr 2023-12-13 09:48:44,804 | server.py:187 | evaluate_round 12 received 8 results and 0 failures\n",
            "DEBUG:flwr:evaluate_round 12 received 8 results and 0 failures\n",
            "DEBUG flwr 2023-12-13 09:48:44,807 | server.py:222 | fit_round 13: strategy sampled 8 clients (out of 8)\n",
            "DEBUG:flwr:fit_round 13: strategy sampled 8 clients (out of 8)\n",
            "DEBUG flwr 2023-12-13 09:51:44,029 | server.py:236 | fit_round 13 received 8 results and 0 failures\n",
            "DEBUG:flwr:fit_round 13 received 8 results and 0 failures\n",
            "INFO flwr 2023-12-13 09:51:53,596 | server.py:125 | fit progress: (13, 0.6837866306304932, {'accuracy': 0.5387499928474426}, 3424.3951567389995)\n",
            "INFO:flwr:fit progress: (13, 0.6837866306304932, {'accuracy': 0.5387499928474426}, 3424.3951567389995)\n",
            "DEBUG flwr 2023-12-13 09:51:53,598 | server.py:173 | evaluate_round 13: strategy sampled 8 clients (out of 8)\n",
            "DEBUG:flwr:evaluate_round 13: strategy sampled 8 clients (out of 8)\n"
          ]
        },
        {
          "name": "stdout",
          "output_type": "stream",
          "text": [
            "LOSS: 0.6837866306304932\n",
            "BEST_LOSS: 0.6845251321792603\n",
            "ACCURACY: 0.5387499928474426\n",
            "BEST_ACCURACY: 0.5387499928474426\n"
          ]
        },
        {
          "name": "stderr",
          "output_type": "stream",
          "text": [
            "DEBUG flwr 2023-12-13 09:53:18,823 | server.py:187 | evaluate_round 13 received 8 results and 0 failures\n",
            "DEBUG:flwr:evaluate_round 13 received 8 results and 0 failures\n",
            "DEBUG flwr 2023-12-13 09:53:18,826 | server.py:222 | fit_round 14: strategy sampled 8 clients (out of 8)\n",
            "DEBUG:flwr:fit_round 14: strategy sampled 8 clients (out of 8)\n",
            "DEBUG flwr 2023-12-13 09:56:14,785 | server.py:236 | fit_round 14 received 8 results and 0 failures\n",
            "DEBUG:flwr:fit_round 14 received 8 results and 0 failures\n",
            "INFO flwr 2023-12-13 09:56:24,319 | server.py:125 | fit progress: (14, 0.6825131177902222, {'accuracy': 0.5475000143051147}, 3695.1184985990003)\n",
            "INFO:flwr:fit progress: (14, 0.6825131177902222, {'accuracy': 0.5475000143051147}, 3695.1184985990003)\n",
            "DEBUG flwr 2023-12-13 09:56:24,322 | server.py:173 | evaluate_round 14: strategy sampled 8 clients (out of 8)\n",
            "DEBUG:flwr:evaluate_round 14: strategy sampled 8 clients (out of 8)\n"
          ]
        },
        {
          "name": "stdout",
          "output_type": "stream",
          "text": [
            "LOSS: 0.6825131177902222\n",
            "BEST_LOSS: 0.6837866306304932\n",
            "ACCURACY: 0.5475000143051147\n",
            "BEST_ACCURACY: 0.5387499928474426\n"
          ]
        },
        {
          "name": "stderr",
          "output_type": "stream",
          "text": [
            "DEBUG flwr 2023-12-13 09:57:49,724 | server.py:187 | evaluate_round 14 received 8 results and 0 failures\n",
            "DEBUG:flwr:evaluate_round 14 received 8 results and 0 failures\n",
            "DEBUG flwr 2023-12-13 09:57:49,726 | server.py:222 | fit_round 15: strategy sampled 8 clients (out of 8)\n",
            "DEBUG:flwr:fit_round 15: strategy sampled 8 clients (out of 8)\n",
            "DEBUG flwr 2023-12-13 10:00:50,494 | server.py:236 | fit_round 15 received 8 results and 0 failures\n",
            "DEBUG:flwr:fit_round 15 received 8 results and 0 failures\n",
            "INFO flwr 2023-12-13 10:00:59,987 | server.py:125 | fit progress: (15, 0.6816101670265198, {'accuracy': 0.550000011920929}, 3970.786519063)\n",
            "INFO:flwr:fit progress: (15, 0.6816101670265198, {'accuracy': 0.550000011920929}, 3970.786519063)\n",
            "DEBUG flwr 2023-12-13 10:00:59,990 | server.py:173 | evaluate_round 15: strategy sampled 8 clients (out of 8)\n",
            "DEBUG:flwr:evaluate_round 15: strategy sampled 8 clients (out of 8)\n"
          ]
        },
        {
          "name": "stdout",
          "output_type": "stream",
          "text": [
            "LOSS: 0.6816101670265198\n",
            "BEST_LOSS: 0.6825131177902222\n",
            "ACCURACY: 0.550000011920929\n",
            "BEST_ACCURACY: 0.5475000143051147\n"
          ]
        },
        {
          "name": "stderr",
          "output_type": "stream",
          "text": [
            "DEBUG flwr 2023-12-13 10:02:25,701 | server.py:187 | evaluate_round 15 received 8 results and 0 failures\n",
            "DEBUG:flwr:evaluate_round 15 received 8 results and 0 failures\n",
            "INFO flwr 2023-12-13 10:02:25,704 | server.py:153 | FL finished in 4056.503205037001\n",
            "INFO:flwr:FL finished in 4056.503205037001\n",
            "INFO flwr 2023-12-13 10:02:25,709 | app.py:226 | app_fit: losses_distributed [(1, 0.9148432937074215), (2, 0.799807577183906), (3, 0.7346454168887848), (4, 0.7083110114361377), (5, 0.696900852436715), (6, 0.6919547750594768), (7, 0.6891813186888999), (8, 0.6872253430650589), (9, 0.685520889657609), (10, 0.6841349337963347), (11, 0.6828996229679026), (12, 0.6817188443021571), (13, 0.6806632714068636), (14, 0.6793856078005852), (15, 0.6780747309644172)]\n",
            "INFO:flwr:app_fit: losses_distributed [(1, 0.9148432937074215), (2, 0.799807577183906), (3, 0.7346454168887848), (4, 0.7083110114361377), (5, 0.696900852436715), (6, 0.6919547750594768), (7, 0.6891813186888999), (8, 0.6872253430650589), (9, 0.685520889657609), (10, 0.6841349337963347), (11, 0.6828996229679026), (12, 0.6817188443021571), (13, 0.6806632714068636), (14, 0.6793856078005852), (15, 0.6780747309644172)]\n",
            "INFO flwr 2023-12-13 10:02:25,711 | app.py:227 | app_fit: metrics_distributed_fit {}\n",
            "INFO:flwr:app_fit: metrics_distributed_fit {}\n",
            "INFO flwr 2023-12-13 10:02:25,715 | app.py:228 | app_fit: metrics_distributed {'accuracy': [(1, 0.5276595754826322), (2, 0.5276595754826322), (3, 0.521702124463751), (4, 0.5382978761449774), (5, 0.5348936229310137), (6, 0.5434042645261643), (7, 0.5493617029900246), (8, 0.5565957503115877), (9, 0.5544680818598321), (10, 0.5697872274733604), (11, 0.5727659604650863), (12, 0.580851067000247), (13, 0.5851063843737258), (14, 0.5855319185459867), (15, 0.5923404247202771)]}\n",
            "INFO:flwr:app_fit: metrics_distributed {'accuracy': [(1, 0.5276595754826322), (2, 0.5276595754826322), (3, 0.521702124463751), (4, 0.5382978761449774), (5, 0.5348936229310137), (6, 0.5434042645261643), (7, 0.5493617029900246), (8, 0.5565957503115877), (9, 0.5544680818598321), (10, 0.5697872274733604), (11, 0.5727659604650863), (12, 0.580851067000247), (13, 0.5851063843737258), (14, 0.5855319185459867), (15, 0.5923404247202771)]}\n",
            "INFO flwr 2023-12-13 10:02:25,718 | app.py:229 | app_fit: losses_centralized [(0, 1.0393654108047485), (1, 0.879640519618988), (2, 0.775047779083252), (3, 0.7194886207580566), (4, 0.699170708656311), (5, 0.6914127469062805), (6, 0.6889903545379639), (7, 0.6879273056983948), (8, 0.6869351863861084), (9, 0.6863436102867126), (10, 0.6859428286552429), (11, 0.685799241065979), (12, 0.6845251321792603), (13, 0.6837866306304932), (14, 0.6825131177902222), (15, 0.6816101670265198)]\n",
            "INFO:flwr:app_fit: losses_centralized [(0, 1.0393654108047485), (1, 0.879640519618988), (2, 0.775047779083252), (3, 0.7194886207580566), (4, 0.699170708656311), (5, 0.6914127469062805), (6, 0.6889903545379639), (7, 0.6879273056983948), (8, 0.6869351863861084), (9, 0.6863436102867126), (10, 0.6859428286552429), (11, 0.685799241065979), (12, 0.6845251321792603), (13, 0.6837866306304932), (14, 0.6825131177902222), (15, 0.6816101670265198)]\n",
            "INFO flwr 2023-12-13 10:02:25,720 | app.py:230 | app_fit: metrics_centralized {'accuracy': [(0, 0.550000011920929), (1, 0.550000011920929), (2, 0.550000011920929), (3, 0.550000011920929), (4, 0.5625), (5, 0.5612499713897705), (6, 0.5537499785423279), (7, 0.5687500238418579), (8, 0.5562499761581421), (9, 0.5487499833106995), (10, 0.5425000190734863), (11, 0.5375000238418579), (12, 0.5387499928474426), (13, 0.5387499928474426), (14, 0.5475000143051147), (15, 0.550000011920929)]}\n",
            "INFO:flwr:app_fit: metrics_centralized {'accuracy': [(0, 0.550000011920929), (1, 0.550000011920929), (2, 0.550000011920929), (3, 0.550000011920929), (4, 0.5625), (5, 0.5612499713897705), (6, 0.5537499785423279), (7, 0.5687500238418579), (8, 0.5562499761581421), (9, 0.5487499833106995), (10, 0.5425000190734863), (11, 0.5375000238418579), (12, 0.5387499928474426), (13, 0.5387499928474426), (14, 0.5475000143051147), (15, 0.550000011920929)]}\n"
          ]
        }
      ],
      "source": [
        "patience = 5\n",
        "best_accuracy = 0.0\n",
        "best_loss = 999\n",
        "weights = np.array([])\n",
        "\n",
        "def evaluate(\n",
        "    server_round: int,\n",
        "    parameters: fl.common.NDArrays,\n",
        "    config: Dict[str, fl.common.Scalar],\n",
        "    ) -> Optional[Tuple[float, Dict[str, fl.common.Scalar]]]:\n",
        "    \"\"\"Centralized evaluation function\"\"\"\n",
        "\n",
        "    input_shape = (15001, 13)\n",
        "    model = get_model(input_shape)\n",
        "    model.compile(optimizer=tf.keras.optimizers.Adam(learning_rate=0.0001), loss=tf.keras.losses.BinaryCrossentropy(label_smoothing=0.1), metrics=['accuracy'])\n",
        "    model.set_weights(parameters)\n",
        "\n",
        "    loss, accuracy = model.evaluate(val_samples, val_labels_df, batch_size=16, verbose=0)\n",
        "\n",
        "    global best_accuracy\n",
        "    global best_loss\n",
        "    global weights\n",
        "\n",
        "    print(f\"LOSS: {loss}\")\n",
        "    print(f\"BEST_LOSS: {best_loss}\")\n",
        "    print(f\"ACCURACY: {accuracy}\")\n",
        "    print(f\"BEST_ACCURACY: {best_accuracy}\")\n",
        "\n",
        "    if loss < best_loss:\n",
        "        best_accuracy = accuracy\n",
        "        weights = parameters\n",
        "        best_loss = loss\n",
        "\n",
        "    return loss, {\"accuracy\": accuracy}\n",
        "\n",
        "\n",
        "client_resources = {\"num_cpus\": 2}\n",
        "if tf.config.get_visible_devices(\"GPU\"):\n",
        "    client_resources[\"num_gpus\"] = 1\n",
        "\n",
        "# Specify the Strategy\n",
        "strategy = fl.server.strategy.FedAvg(\n",
        "    fraction_fit=1.0,  # Sample 100% of available clients for training\n",
        "    fraction_evaluate=1.0,\n",
        "    min_fit_clients=NUM_CLIENTS,\n",
        "    min_evaluate_clients=NUM_CLIENTS,\n",
        "    min_available_clients=NUM_CLIENTS,  # Wait until all 8 clients are available\n",
        "    evaluate_metrics_aggregation_fn=weighted_average,\n",
        "    evaluate_fn=evaluate\n",
        ")\n",
        "\n",
        "# Start simulation\n",
        "history = fl.simulation.start_simulation(\n",
        "    client_fn=create_client_fn,\n",
        "    num_clients=NUM_CLIENTS,\n",
        "    config=fl.server.ServerConfig(num_rounds=15),\n",
        "    strategy=strategy,\n",
        "    client_resources=client_resources,\n",
        ")"
      ]
    },
    {
      "cell_type": "code",
      "execution_count": 28,
      "metadata": {
        "colab": {
          "base_uri": "https://localhost:8080/"
        },
        "id": "MO-YYWSD7NcS",
        "outputId": "bdcb374c-c6c0-4b6e-f457-3059bf922724"
      },
      "outputs": [
        {
          "data": {
            "text/plain": [
              "History (loss, distributed):\n",
              "\tround 1: 0.9148432937074215\n",
              "\tround 2: 0.799807577183906\n",
              "\tround 3: 0.7346454168887848\n",
              "\tround 4: 0.7083110114361377\n",
              "\tround 5: 0.696900852436715\n",
              "\tround 6: 0.6919547750594768\n",
              "\tround 7: 0.6891813186888999\n",
              "\tround 8: 0.6872253430650589\n",
              "\tround 9: 0.685520889657609\n",
              "\tround 10: 0.6841349337963347\n",
              "\tround 11: 0.6828996229679026\n",
              "\tround 12: 0.6817188443021571\n",
              "\tround 13: 0.6806632714068636\n",
              "\tround 14: 0.6793856078005852\n",
              "\tround 15: 0.6780747309644172\n",
              "History (loss, centralized):\n",
              "\tround 0: 1.0393654108047485\n",
              "\tround 1: 0.879640519618988\n",
              "\tround 2: 0.775047779083252\n",
              "\tround 3: 0.7194886207580566\n",
              "\tround 4: 0.699170708656311\n",
              "\tround 5: 0.6914127469062805\n",
              "\tround 6: 0.6889903545379639\n",
              "\tround 7: 0.6879273056983948\n",
              "\tround 8: 0.6869351863861084\n",
              "\tround 9: 0.6863436102867126\n",
              "\tround 10: 0.6859428286552429\n",
              "\tround 11: 0.685799241065979\n",
              "\tround 12: 0.6845251321792603\n",
              "\tround 13: 0.6837866306304932\n",
              "\tround 14: 0.6825131177902222\n",
              "\tround 15: 0.6816101670265198\n",
              "History (metrics, distributed, evaluate):\n",
              "{'accuracy': [(1, 0.5276595754826322), (2, 0.5276595754826322), (3, 0.521702124463751), (4, 0.5382978761449774), (5, 0.5348936229310137), (6, 0.5434042645261643), (7, 0.5493617029900246), (8, 0.5565957503115877), (9, 0.5544680818598321), (10, 0.5697872274733604), (11, 0.5727659604650863), (12, 0.580851067000247), (13, 0.5851063843737258), (14, 0.5855319185459867), (15, 0.5923404247202771)]}History (metrics, centralized):\n",
              "{'accuracy': [(0, 0.550000011920929), (1, 0.550000011920929), (2, 0.550000011920929), (3, 0.550000011920929), (4, 0.5625), (5, 0.5612499713897705), (6, 0.5537499785423279), (7, 0.5687500238418579), (8, 0.5562499761581421), (9, 0.5487499833106995), (10, 0.5425000190734863), (11, 0.5375000238418579), (12, 0.5387499928474426), (13, 0.5387499928474426), (14, 0.5475000143051147), (15, 0.550000011920929)]}"
            ]
          },
          "execution_count": 28,
          "metadata": {},
          "output_type": "execute_result"
        }
      ],
      "source": [
        "history"
      ]
    },
    {
      "cell_type": "code",
      "execution_count": 29,
      "metadata": {
        "colab": {
          "base_uri": "https://localhost:8080/"
        },
        "id": "D-29DaJU7PWE",
        "outputId": "d311ce9e-f524-46b4-f3d3-b211a6ac1cc7"
      },
      "outputs": [
        {
          "name": "stdout",
          "output_type": "stream",
          "text": [
            "0.550000011920929\n",
            "0.6816101670265198\n",
            "5\n",
            "[array([[-0.14468935, -0.15487021, -0.11520033, ..., -0.10937705,\n",
            "         0.05243111,  0.05822818],\n",
            "       [ 0.14861004,  0.1690577 ,  0.13361292, ...,  0.01210249,\n",
            "         0.13257517,  0.09150499],\n",
            "       [ 0.09970164, -0.04803832,  0.01149381, ...,  0.10679574,\n",
            "         0.16116373,  0.03768284],\n",
            "       ...,\n",
            "       [-0.03896639, -0.16270816,  0.0356646 , ...,  0.08474819,\n",
            "         0.12993914,  0.04826183],\n",
            "       [ 0.10817764,  0.11533503,  0.16700113, ...,  0.11447874,\n",
            "        -0.12542164,  0.02255333],\n",
            "       [-0.02850386, -0.09021209, -0.00647247, ..., -0.15612717,\n",
            "         0.14257371, -0.0555552 ]], dtype=float32), array([[ 0.08680966, -0.03668498,  0.02651676, ...,  0.1284284 ,\n",
            "        -0.00320715,  0.08178491],\n",
            "       [-0.17349042, -0.10886156,  0.06280419, ...,  0.0921331 ,\n",
            "         0.02863936,  0.03896013],\n",
            "       [-0.14476648,  0.09932635,  0.04586903, ...,  0.0359214 ,\n",
            "        -0.06277787, -0.03039948],\n",
            "       ...,\n",
            "       [ 0.07741299, -0.06841601,  0.15292165, ...,  0.00346905,\n",
            "        -0.01176931,  0.06815978],\n",
            "       [-0.04115913, -0.00425158,  0.01011715, ..., -0.04891017,\n",
            "        -0.10473287, -0.04280174],\n",
            "       [-0.03658618,  0.07491038,  0.10659105, ...,  0.16170494,\n",
            "        -0.05012049,  0.10385732]], dtype=float32), array([[-5.37937391e-04,  2.32713972e-03,  6.58592489e-03,\n",
            "         1.36772101e-03, -2.57660961e-03,  4.10767877e-03,\n",
            "         8.50001990e-04,  2.83155451e-03, -3.87086300e-03,\n",
            "         3.84759449e-04, -5.84779336e-05, -5.48433978e-03,\n",
            "         6.26549218e-03,  2.00251327e-03,  1.09969336e-03,\n",
            "        -1.41805469e-03, -3.94449849e-03,  1.95324712e-04,\n",
            "        -1.25308083e-02, -4.74246684e-03, -1.57288066e-03,\n",
            "        -9.53058247e-03, -1.96256861e-03, -3.22945137e-03,\n",
            "         2.70763063e-04,  2.39368039e-03, -4.02139546e-03,\n",
            "         3.77644625e-07, -6.59376831e-10,  4.16010246e-03,\n",
            "        -1.12264242e-03, -5.18347428e-04, -5.57189996e-05,\n",
            "         1.04396080e-03, -7.50920852e-04,  3.03913141e-03,\n",
            "        -1.86584052e-03,  7.30113301e-04,  2.48941290e-03,\n",
            "        -5.69772255e-03,  6.34992309e-03,  4.59853123e-04,\n",
            "        -4.22463985e-03, -7.70958934e-07,  7.26966828e-04,\n",
            "        -1.80007482e-03, -1.04177254e-03,  3.68362432e-03,\n",
            "        -2.73141218e-03, -8.85720644e-03, -4.08904534e-03,\n",
            "         2.73406180e-03,  3.17726913e-03, -2.00915150e-03,\n",
            "         3.74562806e-03, -3.49491398e-04, -2.93955122e-06,\n",
            "         1.47036638e-03,  3.27307568e-03,  1.45009451e-03,\n",
            "        -2.58036726e-03,  1.00610079e-03, -3.33271967e-03,\n",
            "         7.06438965e-04, -8.06242312e-12,  6.27586360e-06,\n",
            "         1.10194458e-04, -3.23557600e-07, -5.27290103e-06,\n",
            "        -2.02455628e-03, -2.82502906e-12, -9.39216290e-04,\n",
            "         2.79118540e-03,  6.94282528e-04, -1.02250153e-11,\n",
            "        -1.72242682e-04,  1.67915423e-05, -1.44193275e-03,\n",
            "         8.15107021e-04,  2.51650577e-04, -1.42765362e-04,\n",
            "        -2.22427134e-05, -1.64199286e-04, -6.62226739e-06,\n",
            "         7.57266935e-06, -4.04588945e-07, -7.01374745e-07,\n",
            "         3.84723628e-03,  2.92719460e-06,  1.45912694e-03,\n",
            "        -9.27806017e-04,  1.52068313e-08,  1.88519134e-05,\n",
            "        -1.14643795e-03,  7.83794560e-04, -3.37375270e-04,\n",
            "         1.43354991e-04,  1.44467340e-04,  1.87028502e-06,\n",
            "         4.72835876e-04,  2.33770066e-07, -1.27840165e-08,\n",
            "         2.21907994e-05, -3.24638182e-04, -3.56857818e-05,\n",
            "         1.63816253e-06,  3.43211391e-03,  5.29554491e-11,\n",
            "        -5.80250125e-05,  3.14706849e-04,  1.52947812e-03,\n",
            "         2.50091776e-03,  3.28082820e-06,  1.43718638e-03,\n",
            "         6.40921598e-07, -3.79630364e-04,  3.80467926e-03,\n",
            "         1.29271171e-03, -1.81578580e-04,  2.05235532e-03,\n",
            "        -1.66272791e-03, -5.30649093e-04, -4.15657159e-05,\n",
            "        -5.65486191e-09, -1.47512891e-09,  1.08207425e-03,\n",
            "        -1.07172469e-03,  3.81803664e-04,  7.12612518e-06,\n",
            "        -1.17301242e-03,  3.89599409e-05, -9.83603168e-05,\n",
            "        -1.44103193e-03,  7.66829762e-04,  1.62470460e-05,\n",
            "         1.87805423e-03, -3.30023491e-03, -9.41001927e-04,\n",
            "         2.36861183e-07, -5.24022733e-04,  3.79778305e-03,\n",
            "        -4.68154158e-03, -4.57023317e-03,  4.00654448e-04,\n",
            "        -3.79580725e-03, -8.58016952e-04,  1.45693484e-03,\n",
            "         1.21406585e-04,  7.50928069e-04, -1.40192057e-03,\n",
            "         1.14112173e-03,  5.04774554e-03,  2.05712859e-03,\n",
            "        -5.95206115e-03, -4.68467042e-04,  7.45750640e-07,\n",
            "        -1.49475993e-03,  2.36783014e-03, -3.67937057e-04,\n",
            "        -8.18167522e-04, -1.40886428e-03,  1.83016004e-03,\n",
            "        -2.51320860e-04,  2.85300426e-03, -2.71863583e-03,\n",
            "        -8.15603744e-06, -6.37276913e-04, -5.52780170e-04,\n",
            "         2.11763498e-03,  2.02045776e-04, -3.94079322e-03,\n",
            "         3.02196058e-05, -2.57145753e-03, -6.08285540e-04,\n",
            "        -1.34689617e-03, -3.75069352e-03, -2.74562510e-03,\n",
            "        -6.75083464e-03,  9.28572081e-06, -1.02119031e-03,\n",
            "         4.55278298e-03,  3.01087857e-03, -3.15412704e-04,\n",
            "         2.34422652e-04,  6.34096505e-04,  9.13383381e-04,\n",
            "         2.90389289e-03, -5.77394894e-05, -3.56879900e-04,\n",
            "         1.60490011e-03,  3.22833820e-03, -1.83017470e-03],\n",
            "       [-5.37937391e-04,  2.32713972e-03,  6.58592489e-03,\n",
            "         1.36772101e-03, -2.57660961e-03,  4.10767877e-03,\n",
            "         8.50001990e-04,  2.83155451e-03, -3.87086300e-03,\n",
            "         3.84759449e-04, -5.84779336e-05, -5.48433978e-03,\n",
            "         6.26549218e-03,  2.00251327e-03,  1.09969336e-03,\n",
            "        -1.41805469e-03, -3.94449849e-03,  1.95324712e-04,\n",
            "        -1.25308083e-02, -4.74246684e-03, -1.57288066e-03,\n",
            "        -9.53058247e-03, -1.96256861e-03, -3.22945137e-03,\n",
            "         2.70763063e-04,  2.39368039e-03, -4.02139546e-03,\n",
            "         3.77644625e-07, -6.59376831e-10,  4.16010246e-03,\n",
            "        -1.12264242e-03, -5.18347428e-04, -5.57189996e-05,\n",
            "         1.04396080e-03, -7.50920852e-04,  3.03913141e-03,\n",
            "        -1.86584052e-03,  7.30113301e-04,  2.48941290e-03,\n",
            "        -5.69772255e-03,  6.34992309e-03,  4.59853123e-04,\n",
            "        -4.22463985e-03, -7.70958934e-07,  7.26966828e-04,\n",
            "        -1.80007482e-03, -1.04177254e-03,  3.68362432e-03,\n",
            "        -2.73141218e-03, -8.85720644e-03, -4.08904534e-03,\n",
            "         2.73406180e-03,  3.17726913e-03, -2.00915150e-03,\n",
            "         3.74562806e-03, -3.49491398e-04, -2.93955122e-06,\n",
            "         1.47036638e-03,  3.27307568e-03,  1.45009451e-03,\n",
            "        -2.58036726e-03,  1.00610079e-03, -3.33271967e-03,\n",
            "         7.06438965e-04, -8.06242312e-12,  6.27586360e-06,\n",
            "         1.10194458e-04, -3.23557600e-07, -5.27290103e-06,\n",
            "        -2.02455628e-03, -2.82502906e-12, -9.39216290e-04,\n",
            "         2.79118540e-03,  6.94282528e-04, -1.02250153e-11,\n",
            "        -1.72242682e-04,  1.67915423e-05, -1.44193275e-03,\n",
            "         8.15107021e-04,  2.51650577e-04, -1.42765362e-04,\n",
            "        -2.22427134e-05, -1.64199286e-04, -6.62226739e-06,\n",
            "         7.57266935e-06, -4.04588945e-07, -7.01374745e-07,\n",
            "         3.84723628e-03,  2.92719460e-06,  1.45912694e-03,\n",
            "        -9.27806017e-04,  1.52068313e-08,  1.88519134e-05,\n",
            "        -1.14643795e-03,  7.83794560e-04, -3.37375270e-04,\n",
            "         1.43354991e-04,  1.44467340e-04,  1.87028502e-06,\n",
            "         4.72835876e-04,  2.33770066e-07, -1.27840165e-08,\n",
            "         2.21907994e-05, -3.24638182e-04, -3.56857818e-05,\n",
            "         1.63816253e-06,  3.43211391e-03,  5.29554491e-11,\n",
            "        -5.80250125e-05,  3.14706849e-04,  1.52947812e-03,\n",
            "         2.50091776e-03,  3.28082820e-06,  1.43718638e-03,\n",
            "         6.40921598e-07, -3.79630364e-04,  3.80467926e-03,\n",
            "         1.29271171e-03, -1.81578580e-04,  2.05235532e-03,\n",
            "        -1.66272791e-03, -5.30649093e-04, -4.15657159e-05,\n",
            "        -5.65486191e-09, -1.47512891e-09,  1.08207425e-03,\n",
            "        -1.07172469e-03,  3.81803664e-04,  7.12610472e-06,\n",
            "        -1.41079663e-05,  1.33915653e-03, -9.88005486e-05,\n",
            "        -1.44096615e-03, -4.30280343e-03,  3.87239286e-12,\n",
            "        -1.32821593e-03, -2.67988630e-03, -8.83933913e-04,\n",
            "        -4.55882901e-11, -2.27797951e-04,  7.32304063e-04,\n",
            "        -2.95331702e-03, -4.58616298e-03,  4.22429148e-04,\n",
            "        -2.05337419e-03,  2.84980895e-04,  1.60294294e-03,\n",
            "         1.96174067e-03,  8.71776312e-04,  2.07416033e-05,\n",
            "         5.46098545e-06,  4.71158279e-03, -2.30731384e-04,\n",
            "        -2.99860700e-03, -1.04918063e-03,  5.74034686e-07,\n",
            "         1.25473845e-04,  1.90090179e-03, -4.98414389e-04,\n",
            "        -8.27508455e-04, -1.35688286e-03,  2.86461436e-04,\n",
            "        -2.51307647e-04,  5.45994961e-04, -2.74122605e-04,\n",
            "        -8.17478940e-06, -2.95712991e-04, -1.22510514e-03,\n",
            "         2.34057297e-04,  2.02509531e-04, -4.90681967e-03,\n",
            "         3.02194348e-05, -9.18873047e-05, -1.30998320e-03,\n",
            "        -2.05169222e-03, -3.82479886e-03, -2.74182879e-03,\n",
            "        -3.63741722e-03, -4.98477064e-08,  1.18800020e-03,\n",
            "         5.28354337e-03,  2.62534502e-03, -1.30521672e-04,\n",
            "        -1.01491790e-02,  5.83353569e-04,  3.13029112e-03,\n",
            "         2.73303129e-03, -1.44626968e-08,  5.20878736e-08,\n",
            "         5.99063584e-04,  2.06853147e-03, -2.09933743e-04]], dtype=float32), array([[ 0.1393878 , -0.24709532,  0.1764642 , ...,  0.13763711,\n",
            "        -0.04523229,  0.11064057],\n",
            "       [ 0.06085376, -0.09679955, -0.11809132, ...,  0.24961971,\n",
            "        -0.09024636,  0.03495317],\n",
            "       [-0.10700811, -0.23534101,  0.15139857, ...,  0.10366131,\n",
            "         0.00170881,  0.10462906],\n",
            "       ...,\n",
            "       [ 0.14582945, -0.03829476, -0.13894354, ..., -0.0171305 ,\n",
            "        -0.19245906, -0.0993509 ],\n",
            "       [-0.25078228, -0.09114932,  0.00071326, ..., -0.05609131,\n",
            "         0.16535227, -0.14187033],\n",
            "       [-0.2297422 , -0.03323967,  0.06381431, ...,  0.14889109,\n",
            "        -0.07138918, -0.17394292]], dtype=float32), array([-0.01392294,  0.01196256, -0.00196466, -0.00033395, -0.01013888,\n",
            "       -0.01204385,  0.01016865, -0.00679878,  0.00716139,  0.00070987,\n",
            "       -0.00890337,  0.00067326,  0.0094267 , -0.02025926,  0.        ,\n",
            "       -0.00332512,  0.00148115,  0.00668006, -0.01879869, -0.01245318,\n",
            "       -0.01694941, -0.0125726 ,  0.00240808, -0.0017131 , -0.01414504,\n",
            "       -0.0012787 ,  0.01065754, -0.01357906,  0.        ,  0.        ,\n",
            "       -0.00813119, -0.00801033], dtype=float32), array([[-0.13821217],\n",
            "       [ 0.1740923 ],\n",
            "       [ 0.20209868],\n",
            "       [ 0.4096893 ],\n",
            "       [-0.16335736],\n",
            "       [-0.12766545],\n",
            "       [ 0.10604005],\n",
            "       [-0.06917267],\n",
            "       [ 0.42041218],\n",
            "       [ 0.25282454],\n",
            "       [-0.08547945],\n",
            "       [-0.0106539 ],\n",
            "       [ 0.225962  ],\n",
            "       [-0.30349532],\n",
            "       [ 0.11191909],\n",
            "       [-0.2459447 ],\n",
            "       [ 0.38138336],\n",
            "       [ 0.40753275],\n",
            "       [-0.33318058],\n",
            "       [-0.03501983],\n",
            "       [-0.3754489 ],\n",
            "       [-0.27874824],\n",
            "       [-0.04458424],\n",
            "       [-0.39375368],\n",
            "       [-0.07617294],\n",
            "       [ 0.0475385 ],\n",
            "       [ 0.09239361],\n",
            "       [-0.38341245],\n",
            "       [-0.29876214],\n",
            "       [ 0.09572212],\n",
            "       [-0.28648356],\n",
            "       [-0.35965297]], dtype=float32), array([0.01425697], dtype=float32)]\n"
          ]
        }
      ],
      "source": [
        "# printing validation results\n",
        "print(best_accuracy)\n",
        "print(best_loss)\n",
        "print(patience)\n",
        "print(weights)"
      ]
    }
  ],
  "metadata": {
    "accelerator": "GPU",
    "colab": {
      "machine_shape": "hm",
      "provenance": []
    },
    "kernelspec": {
      "display_name": "Python 3.9.0 64-bit",
      "language": "python",
      "name": "python3"
    },
    "language_info": {
      "name": "python",
      "version": "3.9.0"
    },
    "vscode": {
      "interpreter": {
        "hash": "5addf786bcd861d1ce5006f23111f8cbb206731e5b61b0a5632ba9e0252558a8"
      }
    }
  },
  "nbformat": 4,
  "nbformat_minor": 0
}
