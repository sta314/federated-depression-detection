{
 "cells": [
  {
   "cell_type": "code",
   "execution_count": 1,
   "metadata": {},
   "outputs": [],
   "source": [
    "import json\n",
    "import os\n",
    "import math\n",
    "import librosa\n",
    "import pandas as pd\n",
    "import random\n",
    "import numpy as np\n",
    "from tqdm import tqdm\n",
    "from sklearn.preprocessing import MinMaxScaler\n",
    "from librosa import power_to_db"
   ]
  },
  {
   "cell_type": "code",
   "execution_count": 2,
   "metadata": {},
   "outputs": [],
   "source": [
    "train_labels_df = pd.read_csv(\"edaicwoz/train_split.csv\")\n",
    "test_labels_df = pd.read_csv(\"edaicwoz/test_split.csv\")\n",
    "val_labels_df = pd.read_csv(\"edaicwoz/dev_split.csv\")"
   ]
  },
  {
   "cell_type": "code",
   "execution_count": 3,
   "metadata": {},
   "outputs": [],
   "source": [
    "DATASET_PATH = \"edaicwoz/merge\"\n",
    "JSON_PATH = \"data_10.json\"\n",
    "SAMPLE_RATE = 16000\n",
    "SEGMENT_DUR = 15\n",
    "SAMPLES_PER_TRACK = SAMPLE_RATE * SEGMENT_DUR\n",
    "\n",
    "N_FFT = 4000\n",
    "HOP_LENGTH = 1600"
   ]
  },
  {
   "cell_type": "code",
   "execution_count": 4,
   "metadata": {},
   "outputs": [
    {
     "name": "stderr",
     "output_type": "stream",
     "text": [
      "276it [02:48,  1.64it/s]\n"
     ]
    }
   ],
   "source": [
    "out_path = \"MELs_40100_MM_SCA_CROP\"\n",
    "\n",
    "for i, (dirpath, dirnames, filenames) in tqdm(enumerate(os.walk(DATASET_PATH))):\n",
    "    for file in filenames:\n",
    "        sample_id = file.split(\"_\")[0]\n",
    "        file_path = dirpath + \"/\" + sample_id + \"_AUDIO_M.wav\"\n",
    "        signal, _ = librosa.load(file_path, sr=SAMPLE_RATE)\n",
    "\n",
    "        sample_group = \"TRVAL\" if int(sample_id) not in test_labels_df[\"Participant_ID\"].values else \"TEST\"\n",
    "        sample_label = 0\n",
    "        if sample_group == \"TRVAL\":\n",
    "            if int(sample_id) in train_labels_df[\"Participant_ID\"].values:\n",
    "                sample_group = \"TR\"\n",
    "                if train_labels_df[train_labels_df[\"Participant_ID\"] == int(sample_id)][\"PHQ_Binary\"].item() == 1:\n",
    "                    sample_label = 1\n",
    "            else:\n",
    "                sample_group = \"VAL\"\n",
    "                if val_labels_df[val_labels_df[\"Participant_ID\"] == int(sample_id)][\"PHQ_Binary\"].item() == 1:\n",
    "                    sample_label = 1\n",
    "\n",
    "        num_segments = int(40 * (3 if sample_label == 1 else 1))\n",
    "    \n",
    "\n",
    "        random_indices = np.random.choice(range(signal.shape[0] // SAMPLES_PER_TRACK), num_segments, replace=True)\n",
    "\n",
    "        for idx, index in enumerate(random_indices):\n",
    "            start = index * SAMPLES_PER_TRACK\n",
    "            end = start + SAMPLES_PER_TRACK\n",
    "            split_audio = signal[start:end]\n",
    "\n",
    "            mel_spec = librosa.feature.melspectrogram(y=split_audio, sr=SAMPLE_RATE, n_fft=N_FFT, hop_length=HOP_LENGTH, window='hann', n_mels=80)\n",
    "            logps = power_to_db(mel_spec)\n",
    "            \n",
    "            scaler = MinMaxScaler((0, 1))\n",
    "            scaled_mel_spec = scaler.fit_transform(logps)\n",
    "            \n",
    "            out_file_dir = out_path + \"/\" + sample_id\n",
    "            out_file_path = out_file_dir + \"/\" + sample_id + \"_MEL_\" + str(idx) + \".npy\"\n",
    "            os.makedirs(out_file_dir, exist_ok=True)\n",
    "            \n",
    "            np.save(out_file_path, scaled_mel_spec)\n"
   ]
  }
 ],
 "metadata": {
  "kernelspec": {
   "display_name": "Python 3",
   "language": "python",
   "name": "python3"
  },
  "language_info": {
   "codemirror_mode": {
    "name": "ipython",
    "version": 3
   },
   "file_extension": ".py",
   "mimetype": "text/x-python",
   "name": "python",
   "nbconvert_exporter": "python",
   "pygments_lexer": "ipython3",
   "version": "3.10.0"
  }
 },
 "nbformat": 4,
 "nbformat_minor": 2
}
