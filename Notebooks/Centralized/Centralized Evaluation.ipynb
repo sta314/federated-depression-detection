{
 "cells": [
  {
   "cell_type": "code",
   "execution_count": 10,
   "metadata": {},
   "outputs": [],
   "source": [
    "import os\n",
    "import librosa\n",
    "import numpy as np\n",
    "import tensorflow as tf\n",
    "import pandas as pd"
   ]
  },
  {
   "cell_type": "code",
   "execution_count": 11,
   "metadata": {},
   "outputs": [],
   "source": [
    "train_labels_df = pd.read_csv(\"edaicwoz/train_split.csv\")\n",
    "test_labels_df = pd.read_csv(\"edaicwoz/test_split.csv\")\n",
    "val_labels_df = pd.read_csv(\"edaicwoz/dev_split.csv\")"
   ]
  },
  {
   "cell_type": "code",
   "execution_count": 12,
   "metadata": {},
   "outputs": [],
   "source": [
    "def load_audio_files(data_dir, sr=16000):\n",
    "    file_ids = os.listdir(data_dir)\n",
    "    subject_ids = []\n",
    "    file_paths = []\n",
    "    types = []\n",
    "    labels = []\n",
    "    labels_binary = []\n",
    "\n",
    "    for file_id in file_ids:\n",
    "        file_id = file_id.split(\"_\")[0]\n",
    "        file_path = [data_dir + \"/\" + file_id + \"/\" + file_id + \"_MFCC_\" + str(i) + \".npy\" for i in range(len(next(iter(enumerate(os.walk(data_dir + \"/\" + str(file_id) + \"/\"))))[1][2]))]\n",
    "        if int(file_id) in train_labels_df[\"Participant_ID\"].values:\n",
    "            types.append(0)\n",
    "            labels.append(train_labels_df[train_labels_df[\"Participant_ID\"] == int(file_id)]['PHQ_Score'].values[0])\n",
    "            labels_binary.append(train_labels_df[train_labels_df[\"Participant_ID\"] == int(file_id)]['PHQ_Binary'].values[0])\n",
    "            \n",
    "        elif int(file_id) in test_labels_df[\"Participant_ID\"].values:\n",
    "            types.append(1)\n",
    "            labels.append(test_labels_df[test_labels_df[\"Participant_ID\"] == int(file_id)]['PHQ_Score'].values[0])\n",
    "            labels_binary.append(test_labels_df[test_labels_df[\"Participant_ID\"] == int(file_id)]['PHQ_Binary'].values[0])\n",
    "        else:\n",
    "            types.append(2)\n",
    "            labels.append(val_labels_df[val_labels_df[\"Participant_ID\"] == int(file_id)]['PHQ_Score'].values[0])\n",
    "            labels_binary.append(val_labels_df[val_labels_df[\"Participant_ID\"] == int(file_id)]['PHQ_Binary'].values[0])\n",
    "        subject_ids.append(int(file_id))\n",
    "        file_paths.append(file_path)\n",
    "\n",
    "    return file_ids, subject_ids, file_paths, types, labels, labels_binary\n",
    "\n",
    "data_dir = \"MFCCs_1030\"\n",
    "\n",
    "file_ids, subject_ids, file_paths, types, labels, labels_binary = load_audio_files(data_dir)"
   ]
  },
  {
   "cell_type": "code",
   "execution_count": 13,
   "metadata": {},
   "outputs": [
    {
     "name": "stdout",
     "output_type": "stream",
     "text": [
      "[INFO] preparing data...\n"
     ]
    }
   ],
   "source": [
    "def prepare_audio_set(file_paths):\n",
    "\n",
    "    samples = []\n",
    "    samples_ids = []\n",
    "    samples_types = []\n",
    "    samples_labels = []\n",
    "    samples_labels_binary = []\n",
    "\n",
    "    for i, file_path in enumerate(file_paths):\n",
    "        all_mfccs = []\n",
    "        for j in range(len(file_path)):\n",
    "            all_mfccs.append(np.load(file_path[j]))\n",
    "        all_mfccs = np.array(all_mfccs)\n",
    "        samples.extend(all_mfccs)\n",
    "        samples_ids.extend([subject_ids[i]] * len(all_mfccs))\n",
    "        samples_types.extend([types[i]] * len(all_mfccs))\n",
    "        samples_labels.extend([labels[i]] * len(all_mfccs))\n",
    "        samples_labels_binary.extend([labels_binary[i]] * len(all_mfccs))\n",
    "\n",
    "    samples = np.array(samples)\n",
    "\n",
    "    samples_ids = np.array(samples_ids)\n",
    "    samples_types = np.array(samples_types)\n",
    "    samples_labels = np.array(samples_labels)\n",
    "    samples_labels_binary = np.array(samples_labels_binary)\n",
    "\n",
    "    return samples, samples_ids, samples_types, samples_labels, samples_labels_binary\n",
    "\n",
    "print(\"[INFO] preparing data...\")\n",
    "samples, samples_ids, samples_types, samples_labels, samples_labels_binary = prepare_audio_set(file_paths)\n",
    "samples = np.swapaxes(samples, 1, 2)"
   ]
  },
  {
   "cell_type": "code",
   "execution_count": 14,
   "metadata": {},
   "outputs": [],
   "source": [
    "training_samples = samples[samples_types == 0]\n",
    "training_labels = samples_labels_binary[samples_types == 0]\n",
    "training_subject_ids = samples_ids[samples_types == 0]\n",
    "\n",
    "test_samples = samples[samples_types == 1]\n",
    "test_labels = samples_labels_binary[samples_types == 1]\n",
    "\n",
    "val_samples = samples[samples_types == 2]\n",
    "val_labels_df = samples_labels_binary[samples_types == 2]"
   ]
  },
  {
   "cell_type": "code",
   "execution_count": 15,
   "metadata": {},
   "outputs": [
    {
     "data": {
      "text/plain": [
       "(2350, 15001, 13)"
      ]
     },
     "execution_count": 15,
     "metadata": {},
     "output_type": "execute_result"
    }
   ],
   "source": [
    "training_samples.shape"
   ]
  },
  {
   "cell_type": "code",
   "execution_count": 16,
   "metadata": {},
   "outputs": [
    {
     "name": "stdout",
     "output_type": "stream",
     "text": [
      "[INFO] constructing training/testing split...\n"
     ]
    }
   ],
   "source": [
    "import numpy as np\n",
    "\n",
    "class DataGeneratorVanilla(tf.keras.utils.Sequence):\n",
    "    def __init__(self, x_set, y_set, batch_size=256):\n",
    "        self.x, self.y = x_set, y_set\n",
    "        self.batch_size = batch_size\n",
    "        self.indices = np.arange(self.x.shape[0])\n",
    "\n",
    "    def __len__(self):\n",
    "        return int(np.ceil(len(self.x) / float(self.batch_size)))\n",
    "\n",
    "    def __getitem__(self, idx):\n",
    "        inds = self.indices[idx * self.batch_size:(idx + 1) * self.batch_size]\n",
    "        batch_x = self.x[inds]\n",
    "        batch_y = self.y[inds]\n",
    "        return batch_x, batch_y\n",
    "    \n",
    "    def on_epoch_end(self):\n",
    "        np.random.shuffle(self.indices)\n",
    "\n",
    "print(\"[INFO] constructing training/testing split...\")\n",
    "train_gen = DataGeneratorVanilla(training_samples, training_labels, 32)\n",
    "test_gen = DataGeneratorVanilla(test_samples, test_labels, 32)\n",
    "val_gen = DataGeneratorVanilla(val_samples, val_labels_df, 32)"
   ]
  },
  {
   "cell_type": "code",
   "execution_count": 17,
   "metadata": {},
   "outputs": [
    {
     "data": {
      "text/plain": [
       "1240"
      ]
     },
     "execution_count": 17,
     "metadata": {},
     "output_type": "execute_result"
    }
   ],
   "source": [
    "(training_labels == 0).sum()"
   ]
  },
  {
   "cell_type": "code",
   "execution_count": 18,
   "metadata": {},
   "outputs": [
    {
     "data": {
      "text/plain": [
       "(2350, 15001, 13)"
      ]
     },
     "execution_count": 18,
     "metadata": {},
     "output_type": "execute_result"
    }
   ],
   "source": [
    "(training_samples.shape[0], training_samples.shape[1], training_samples.shape[2])"
   ]
  },
  {
   "cell_type": "code",
   "execution_count": 22,
   "metadata": {},
   "outputs": [
    {
     "name": "stdout",
     "output_type": "stream",
     "text": [
      "[INFO] compiling model...\n",
      "Model: \"sequential_30\"\n",
      "_________________________________________________________________\n",
      " Layer (type)                Output Shape              Param #   \n",
      "=================================================================\n",
      " gru_30 (GRU)                (None, 64)                15168     \n",
      "                                                                 \n",
      " dense_60 (Dense)            (None, 32)                2080      \n",
      "                                                                 \n",
      " dropout_30 (Dropout)        (None, 32)                0         \n",
      "                                                                 \n",
      " dense_61 (Dense)            (None, 1)                 33        \n",
      "                                                                 \n",
      "=================================================================\n",
      "Total params: 17,281\n",
      "Trainable params: 17,281\n",
      "Non-trainable params: 0\n",
      "_________________________________________________________________\n",
      "[INFO] fitting model...\n",
      "Epoch 1/100\n",
      "74/74 [==============================] - 55s 724ms/step - loss: 0.7169 - accuracy: 0.5226 - val_loss: 0.6859 - val_accuracy: 0.5537\n",
      "Epoch 2/100\n",
      "74/74 [==============================] - 53s 713ms/step - loss: 0.6743 - accuracy: 0.5983 - val_loss: 0.6670 - val_accuracy: 0.6288\n",
      "Epoch 3/100\n",
      "74/74 [==============================] - 54s 726ms/step - loss: 0.6683 - accuracy: 0.5889 - val_loss: 0.6691 - val_accuracy: 0.6338\n",
      "Epoch 4/100\n",
      "74/74 [==============================] - 54s 725ms/step - loss: 0.6548 - accuracy: 0.6132 - val_loss: 0.6684 - val_accuracy: 0.6112\n",
      "Epoch 5/100\n",
      "74/74 [==============================] - 53s 721ms/step - loss: 0.6380 - accuracy: 0.6460 - val_loss: 0.6600 - val_accuracy: 0.6438\n",
      "Epoch 6/100\n",
      "74/74 [==============================] - 53s 721ms/step - loss: 0.6273 - accuracy: 0.6506 - val_loss: 0.6569 - val_accuracy: 0.5938\n",
      "Epoch 7/100\n",
      "74/74 [==============================] - 52s 703ms/step - loss: 0.6200 - accuracy: 0.6566 - val_loss: 0.6598 - val_accuracy: 0.6400\n",
      "Epoch 8/100\n",
      "74/74 [==============================] - 54s 728ms/step - loss: 0.5984 - accuracy: 0.6940 - val_loss: 0.6552 - val_accuracy: 0.6575\n",
      "Epoch 9/100\n",
      "74/74 [==============================] - 54s 725ms/step - loss: 0.5873 - accuracy: 0.7004 - val_loss: 0.6495 - val_accuracy: 0.6513\n",
      "Epoch 10/100\n",
      "74/74 [==============================] - 53s 720ms/step - loss: 0.5654 - accuracy: 0.7464 - val_loss: 0.6468 - val_accuracy: 0.6438\n",
      "Epoch 11/100\n",
      "74/74 [==============================] - 53s 714ms/step - loss: 0.5496 - accuracy: 0.7579 - val_loss: 0.6549 - val_accuracy: 0.5813\n",
      "Epoch 12/100\n",
      "74/74 [==============================] - 53s 713ms/step - loss: 0.5275 - accuracy: 0.7783 - val_loss: 0.6637 - val_accuracy: 0.6237\n",
      "Epoch 13/100\n",
      "74/74 [==============================] - 53s 714ms/step - loss: 0.5099 - accuracy: 0.7970 - val_loss: 0.6770 - val_accuracy: 0.6150\n",
      "Epoch 14/100\n",
      "74/74 [==============================] - 53s 723ms/step - loss: 0.4831 - accuracy: 0.8247 - val_loss: 0.6897 - val_accuracy: 0.5650\n",
      "Epoch 15/100\n",
      "74/74 [==============================] - 53s 719ms/step - loss: 0.4735 - accuracy: 0.8289 - val_loss: 0.7036 - val_accuracy: 0.5825\n"
     ]
    },
    {
     "name": "stderr",
     "output_type": "stream",
     "text": [
      "100%|██████████| 275/275 [00:35<00:00,  7.64it/s] "
     ]
    },
    {
     "name": "stdout",
     "output_type": "stream",
     "text": [
      "[INFO] compiling model...\n",
      "Model: \"sequential_31\"\n",
      "_________________________________________________________________\n",
      " Layer (type)                Output Shape              Param #   \n",
      "=================================================================\n",
      " gru_31 (GRU)                (None, 64)                15168     \n",
      "                                                                 \n",
      " dense_62 (Dense)            (None, 32)                2080      \n",
      "                                                                 \n",
      " dropout_31 (Dropout)        (None, 32)                0         \n",
      "                                                                 \n",
      " dense_63 (Dense)            (None, 1)                 33        \n",
      "                                                                 \n",
      "=================================================================\n",
      "Total params: 17,281\n",
      "Trainable params: 17,281\n",
      "Non-trainable params: 0\n",
      "_________________________________________________________________\n"
     ]
    },
    {
     "name": "stderr",
     "output_type": "stream",
     "text": [
      "\n"
     ]
    },
    {
     "name": "stdout",
     "output_type": "stream",
     "text": [
      "[INFO] fitting model...\n",
      "Epoch 1/100\n",
      "74/74 [==============================] - 55s 722ms/step - loss: 0.8007 - accuracy: 0.5302 - val_loss: 0.6971 - val_accuracy: 0.5300\n",
      "Epoch 2/100\n",
      "74/74 [==============================] - 54s 725ms/step - loss: 0.6925 - accuracy: 0.5817 - val_loss: 0.6896 - val_accuracy: 0.5675\n",
      "Epoch 3/100\n",
      "74/74 [==============================] - 54s 732ms/step - loss: 0.6440 - accuracy: 0.6443 - val_loss: 0.6765 - val_accuracy: 0.5663\n",
      "Epoch 4/100\n",
      "74/74 [==============================] - 53s 721ms/step - loss: 0.6240 - accuracy: 0.6770 - val_loss: 0.6677 - val_accuracy: 0.5913\n",
      "Epoch 5/100\n",
      "74/74 [==============================] - 53s 716ms/step - loss: 0.5989 - accuracy: 0.7128 - val_loss: 0.6590 - val_accuracy: 0.5962\n",
      "Epoch 6/100\n",
      "74/74 [==============================] - 53s 716ms/step - loss: 0.5673 - accuracy: 0.7494 - val_loss: 0.6528 - val_accuracy: 0.6125\n",
      "Epoch 7/100\n",
      "74/74 [==============================] - 53s 720ms/step - loss: 0.5453 - accuracy: 0.7681 - val_loss: 0.6595 - val_accuracy: 0.6075\n",
      "Epoch 8/100\n",
      "74/74 [==============================] - 52s 710ms/step - loss: 0.5306 - accuracy: 0.7813 - val_loss: 0.6546 - val_accuracy: 0.6212\n",
      "Epoch 9/100\n",
      "74/74 [==============================] - 53s 717ms/step - loss: 0.5036 - accuracy: 0.8085 - val_loss: 0.6450 - val_accuracy: 0.6500\n",
      "Epoch 10/100\n",
      "74/74 [==============================] - 52s 708ms/step - loss: 0.4846 - accuracy: 0.8217 - val_loss: 0.6442 - val_accuracy: 0.6237\n",
      "Epoch 11/100\n",
      "74/74 [==============================] - 53s 718ms/step - loss: 0.4606 - accuracy: 0.8353 - val_loss: 0.6443 - val_accuracy: 0.6413\n",
      "Epoch 12/100\n",
      "74/74 [==============================] - 53s 712ms/step - loss: 0.4480 - accuracy: 0.8481 - val_loss: 0.6559 - val_accuracy: 0.6300\n",
      "Epoch 13/100\n",
      "74/74 [==============================] - 52s 709ms/step - loss: 0.4240 - accuracy: 0.8660 - val_loss: 0.6553 - val_accuracy: 0.6150\n",
      "Epoch 14/100\n",
      "74/74 [==============================] - 53s 719ms/step - loss: 0.4072 - accuracy: 0.8787 - val_loss: 0.6701 - val_accuracy: 0.6112\n",
      "Epoch 15/100\n",
      "74/74 [==============================] - 53s 720ms/step - loss: 0.3881 - accuracy: 0.8974 - val_loss: 0.6791 - val_accuracy: 0.6125\n"
     ]
    },
    {
     "name": "stderr",
     "output_type": "stream",
     "text": [
      "100%|██████████| 275/275 [00:36<00:00,  7.63it/s] "
     ]
    },
    {
     "name": "stdout",
     "output_type": "stream",
     "text": [
      "[INFO] compiling model...\n",
      "Model: \"sequential_32\"\n",
      "_________________________________________________________________\n",
      " Layer (type)                Output Shape              Param #   \n",
      "=================================================================\n",
      " gru_32 (GRU)                (None, 64)                15168     \n",
      "                                                                 \n",
      " dense_64 (Dense)            (None, 32)                2080      \n",
      "                                                                 \n",
      " dropout_32 (Dropout)        (None, 32)                0         \n",
      "                                                                 \n",
      " dense_65 (Dense)            (None, 1)                 33        \n",
      "                                                                 \n",
      "=================================================================\n",
      "Total params: 17,281\n",
      "Trainable params: 17,281\n",
      "Non-trainable params: 0\n",
      "_________________________________________________________________\n"
     ]
    },
    {
     "name": "stderr",
     "output_type": "stream",
     "text": [
      "\n"
     ]
    },
    {
     "name": "stdout",
     "output_type": "stream",
     "text": [
      "[INFO] fitting model...\n",
      "Epoch 1/100\n",
      "74/74 [==============================] - 54s 716ms/step - loss: 0.7118 - accuracy: 0.5379 - val_loss: 0.6733 - val_accuracy: 0.6125\n",
      "Epoch 2/100\n",
      "74/74 [==============================] - 53s 716ms/step - loss: 0.6906 - accuracy: 0.5477 - val_loss: 0.6722 - val_accuracy: 0.5763\n",
      "Epoch 3/100\n",
      "74/74 [==============================] - 53s 717ms/step - loss: 0.6702 - accuracy: 0.5864 - val_loss: 0.6686 - val_accuracy: 0.6037\n",
      "Epoch 4/100\n",
      "74/74 [==============================] - 53s 717ms/step - loss: 0.6567 - accuracy: 0.6221 - val_loss: 0.6702 - val_accuracy: 0.5587\n",
      "Epoch 5/100\n",
      "74/74 [==============================] - 54s 726ms/step - loss: 0.6413 - accuracy: 0.6489 - val_loss: 0.6663 - val_accuracy: 0.5975\n",
      "Epoch 6/100\n",
      "74/74 [==============================] - 52s 708ms/step - loss: 0.6269 - accuracy: 0.6609 - val_loss: 0.6657 - val_accuracy: 0.6050\n",
      "Epoch 7/100\n",
      "74/74 [==============================] - 52s 702ms/step - loss: 0.6095 - accuracy: 0.6915 - val_loss: 0.6552 - val_accuracy: 0.6175\n",
      "Epoch 8/100\n",
      "74/74 [==============================] - 53s 713ms/step - loss: 0.5890 - accuracy: 0.7204 - val_loss: 0.6600 - val_accuracy: 0.6062\n",
      "Epoch 9/100\n",
      "74/74 [==============================] - 53s 715ms/step - loss: 0.5694 - accuracy: 0.7409 - val_loss: 0.6565 - val_accuracy: 0.6050\n",
      "Epoch 10/100\n",
      "74/74 [==============================] - 52s 704ms/step - loss: 0.5467 - accuracy: 0.7672 - val_loss: 0.6762 - val_accuracy: 0.5900\n",
      "Epoch 11/100\n",
      "74/74 [==============================] - 52s 707ms/step - loss: 0.5283 - accuracy: 0.7851 - val_loss: 0.6799 - val_accuracy: 0.5838\n",
      "Epoch 12/100\n",
      "74/74 [==============================] - 53s 712ms/step - loss: 0.5064 - accuracy: 0.7953 - val_loss: 0.6955 - val_accuracy: 0.5537\n"
     ]
    },
    {
     "name": "stderr",
     "output_type": "stream",
     "text": [
      "100%|██████████| 275/275 [00:35<00:00,  7.69it/s] "
     ]
    },
    {
     "name": "stdout",
     "output_type": "stream",
     "text": [
      "[INFO] compiling model...\n",
      "Model: \"sequential_33\"\n",
      "_________________________________________________________________\n",
      " Layer (type)                Output Shape              Param #   \n",
      "=================================================================\n",
      " gru_33 (GRU)                (None, 64)                15168     \n",
      "                                                                 \n",
      " dense_66 (Dense)            (None, 32)                2080      \n",
      "                                                                 \n",
      " dropout_33 (Dropout)        (None, 32)                0         \n",
      "                                                                 \n",
      " dense_67 (Dense)            (None, 1)                 33        \n",
      "                                                                 \n",
      "=================================================================\n",
      "Total params: 17,281\n",
      "Trainable params: 17,281\n",
      "Non-trainable params: 0\n"
     ]
    },
    {
     "name": "stderr",
     "output_type": "stream",
     "text": [
      "\n"
     ]
    },
    {
     "name": "stdout",
     "output_type": "stream",
     "text": [
      "_________________________________________________________________\n",
      "[INFO] fitting model...\n",
      "Epoch 1/100\n",
      "74/74 [==============================] - 53s 708ms/step - loss: 0.7343 - accuracy: 0.5094 - val_loss: 0.6825 - val_accuracy: 0.5550\n",
      "Epoch 2/100\n",
      "74/74 [==============================] - 52s 705ms/step - loss: 0.6882 - accuracy: 0.5647 - val_loss: 0.6731 - val_accuracy: 0.5888\n",
      "Epoch 3/100\n",
      "74/74 [==============================] - 53s 718ms/step - loss: 0.6631 - accuracy: 0.5953 - val_loss: 0.6702 - val_accuracy: 0.5638\n",
      "Epoch 4/100\n",
      "74/74 [==============================] - 53s 717ms/step - loss: 0.6478 - accuracy: 0.6183 - val_loss: 0.6669 - val_accuracy: 0.5663\n",
      "Epoch 5/100\n",
      "74/74 [==============================] - 53s 717ms/step - loss: 0.6341 - accuracy: 0.6370 - val_loss: 0.6632 - val_accuracy: 0.5888\n",
      "Epoch 6/100\n",
      "74/74 [==============================] - 53s 711ms/step - loss: 0.6080 - accuracy: 0.6774 - val_loss: 0.6713 - val_accuracy: 0.6000\n",
      "Epoch 7/100\n",
      "74/74 [==============================] - 52s 710ms/step - loss: 0.5859 - accuracy: 0.7077 - val_loss: 0.6696 - val_accuracy: 0.6037\n",
      "Epoch 8/100\n",
      "74/74 [==============================] - 53s 716ms/step - loss: 0.5659 - accuracy: 0.7289 - val_loss: 0.6750 - val_accuracy: 0.5725\n",
      "Epoch 9/100\n",
      "74/74 [==============================] - 52s 701ms/step - loss: 0.5485 - accuracy: 0.7443 - val_loss: 0.6877 - val_accuracy: 0.5750\n",
      "Epoch 10/100\n",
      "74/74 [==============================] - 54s 724ms/step - loss: 0.5264 - accuracy: 0.7719 - val_loss: 0.6894 - val_accuracy: 0.5738\n"
     ]
    },
    {
     "name": "stderr",
     "output_type": "stream",
     "text": [
      "100%|██████████| 275/275 [00:35<00:00,  7.70it/s] \n"
     ]
    },
    {
     "name": "stdout",
     "output_type": "stream",
     "text": [
      "[INFO] compiling model...\n",
      "Model: \"sequential_34\"\n",
      "_________________________________________________________________\n",
      " Layer (type)                Output Shape              Param #   \n",
      "=================================================================\n",
      " gru_34 (GRU)                (None, 64)                15168     \n",
      "                                                                 \n",
      " dense_68 (Dense)            (None, 32)                2080      \n",
      "                                                                 \n",
      " dropout_34 (Dropout)        (None, 32)                0         \n",
      "                                                                 \n",
      " dense_69 (Dense)            (None, 1)                 33        \n",
      "                                                                 \n",
      "=================================================================\n",
      "Total params: 17,281\n",
      "Trainable params: 17,281\n",
      "Non-trainable params: 0\n",
      "_________________________________________________________________\n",
      "[INFO] fitting model...\n",
      "Epoch 1/100\n",
      "74/74 [==============================] - 53s 705ms/step - loss: 0.7699 - accuracy: 0.4838 - val_loss: 0.6868 - val_accuracy: 0.5375\n",
      "Epoch 2/100\n",
      "74/74 [==============================] - 53s 714ms/step - loss: 0.6978 - accuracy: 0.5396 - val_loss: 0.6848 - val_accuracy: 0.5288\n",
      "Epoch 3/100\n",
      "74/74 [==============================] - 52s 704ms/step - loss: 0.6835 - accuracy: 0.5774 - val_loss: 0.6830 - val_accuracy: 0.5312\n",
      "Epoch 4/100\n",
      "74/74 [==============================] - 52s 709ms/step - loss: 0.6692 - accuracy: 0.5936 - val_loss: 0.6778 - val_accuracy: 0.5238\n",
      "Epoch 5/100\n",
      "74/74 [==============================] - 53s 711ms/step - loss: 0.6507 - accuracy: 0.6391 - val_loss: 0.6695 - val_accuracy: 0.5750\n",
      "Epoch 6/100\n",
      "74/74 [==============================] - 54s 724ms/step - loss: 0.6391 - accuracy: 0.6596 - val_loss: 0.6671 - val_accuracy: 0.5825\n",
      "Epoch 7/100\n",
      "74/74 [==============================] - 53s 713ms/step - loss: 0.6234 - accuracy: 0.6817 - val_loss: 0.6612 - val_accuracy: 0.5888\n",
      "Epoch 8/100\n",
      "74/74 [==============================] - 53s 714ms/step - loss: 0.6076 - accuracy: 0.7115 - val_loss: 0.6601 - val_accuracy: 0.5838\n",
      "Epoch 9/100\n",
      "74/74 [==============================] - 53s 719ms/step - loss: 0.5925 - accuracy: 0.7162 - val_loss: 0.6538 - val_accuracy: 0.5600\n",
      "Epoch 10/100\n",
      "74/74 [==============================] - 53s 713ms/step - loss: 0.5695 - accuracy: 0.7421 - val_loss: 0.6578 - val_accuracy: 0.6000\n",
      "Epoch 11/100\n",
      "74/74 [==============================] - 52s 709ms/step - loss: 0.5424 - accuracy: 0.7736 - val_loss: 0.6674 - val_accuracy: 0.5587\n",
      "Epoch 12/100\n",
      "74/74 [==============================] - 53s 713ms/step - loss: 0.5294 - accuracy: 0.7749 - val_loss: 0.6735 - val_accuracy: 0.5638\n",
      "Epoch 13/100\n",
      "74/74 [==============================] - 53s 717ms/step - loss: 0.5099 - accuracy: 0.7872 - val_loss: 0.6721 - val_accuracy: 0.5813\n",
      "Epoch 14/100\n",
      "74/74 [==============================] - 53s 718ms/step - loss: 0.4884 - accuracy: 0.8136 - val_loss: 0.6775 - val_accuracy: 0.5813\n"
     ]
    },
    {
     "name": "stderr",
     "output_type": "stream",
     "text": [
      "100%|██████████| 275/275 [00:35<00:00,  7.70it/s] "
     ]
    },
    {
     "name": "stdout",
     "output_type": "stream",
     "text": [
      "[INFO] compiling model...\n",
      "Model: \"sequential_35\"\n",
      "_________________________________________________________________\n",
      " Layer (type)                Output Shape              Param #   \n",
      "=================================================================\n",
      " gru_35 (GRU)                (None, 64)                15168     \n",
      "                                                                 \n",
      " dense_70 (Dense)            (None, 32)                2080      \n",
      "                                                                 \n",
      " dropout_35 (Dropout)        (None, 32)                0         \n"
     ]
    },
    {
     "name": "stderr",
     "output_type": "stream",
     "text": [
      "\n"
     ]
    },
    {
     "name": "stdout",
     "output_type": "stream",
     "text": [
      "                                                                 \n",
      " dense_71 (Dense)            (None, 1)                 33        \n",
      "                                                                 \n",
      "=================================================================\n",
      "Total params: 17,281\n",
      "Trainable params: 17,281\n",
      "Non-trainable params: 0\n",
      "_________________________________________________________________\n",
      "[INFO] fitting model...\n",
      "Epoch 1/100\n",
      "74/74 [==============================] - 54s 712ms/step - loss: 0.7049 - accuracy: 0.5366 - val_loss: 0.6789 - val_accuracy: 0.5537\n",
      "Epoch 2/100\n",
      "74/74 [==============================] - 52s 703ms/step - loss: 0.6670 - accuracy: 0.5928 - val_loss: 0.6845 - val_accuracy: 0.5700\n",
      "Epoch 3/100\n",
      "74/74 [==============================] - 52s 701ms/step - loss: 0.6545 - accuracy: 0.6170 - val_loss: 0.6839 - val_accuracy: 0.5962\n",
      "Epoch 4/100\n",
      "74/74 [==============================] - 51s 697ms/step - loss: 0.6323 - accuracy: 0.6609 - val_loss: 0.6922 - val_accuracy: 0.5400\n",
      "Epoch 5/100\n",
      "74/74 [==============================] - 52s 706ms/step - loss: 0.6172 - accuracy: 0.6774 - val_loss: 0.6996 - val_accuracy: 0.5188\n",
      "Epoch 6/100\n",
      "74/74 [==============================] - 52s 704ms/step - loss: 0.5946 - accuracy: 0.7111 - val_loss: 0.7053 - val_accuracy: 0.4913\n"
     ]
    },
    {
     "name": "stderr",
     "output_type": "stream",
     "text": [
      "100%|██████████| 275/275 [00:35<00:00,  7.76it/s] "
     ]
    },
    {
     "name": "stdout",
     "output_type": "stream",
     "text": [
      "[INFO] compiling model...\n",
      "Model: \"sequential_36\"\n",
      "_________________________________________________________________\n",
      " Layer (type)                Output Shape              Param #   \n",
      "=================================================================\n",
      " gru_36 (GRU)                (None, 64)                15168     \n",
      "                                                                 \n",
      " dense_72 (Dense)            (None, 32)                2080      \n",
      "                                                                 \n",
      " dropout_36 (Dropout)        (None, 32)                0         \n",
      "                                                                 \n",
      " dense_73 (Dense)            (None, 1)                 33        \n",
      "                                                                 \n",
      "=================================================================\n",
      "Total params: 17,281\n",
      "Trainable params: 17,281\n",
      "Non-trainable params: 0\n",
      "_________________________________________________________________\n"
     ]
    },
    {
     "name": "stderr",
     "output_type": "stream",
     "text": [
      "\n"
     ]
    },
    {
     "name": "stdout",
     "output_type": "stream",
     "text": [
      "[INFO] fitting model...\n",
      "Epoch 1/100\n",
      "74/74 [==============================] - 54s 718ms/step - loss: 0.7101 - accuracy: 0.5243 - val_loss: 0.6874 - val_accuracy: 0.5663\n",
      "Epoch 2/100\n",
      "74/74 [==============================] - 53s 712ms/step - loss: 0.6745 - accuracy: 0.5923 - val_loss: 0.6904 - val_accuracy: 0.5425\n",
      "Epoch 3/100\n",
      "74/74 [==============================] - 52s 707ms/step - loss: 0.6553 - accuracy: 0.6111 - val_loss: 0.6897 - val_accuracy: 0.5325\n",
      "Epoch 4/100\n",
      "74/74 [==============================] - 53s 715ms/step - loss: 0.6298 - accuracy: 0.6655 - val_loss: 0.6813 - val_accuracy: 0.5838\n",
      "Epoch 5/100\n",
      "74/74 [==============================] - 51s 689ms/step - loss: 0.6108 - accuracy: 0.7026 - val_loss: 0.6907 - val_accuracy: 0.5925\n",
      "Epoch 6/100\n",
      "74/74 [==============================] - 51s 685ms/step - loss: 0.5851 - accuracy: 0.7272 - val_loss: 0.6854 - val_accuracy: 0.5863\n",
      "Epoch 7/100\n",
      "74/74 [==============================] - 51s 686ms/step - loss: 0.5590 - accuracy: 0.7536 - val_loss: 0.6975 - val_accuracy: 0.5575\n",
      "Epoch 8/100\n",
      "74/74 [==============================] - 51s 687ms/step - loss: 0.5266 - accuracy: 0.7936 - val_loss: 0.6986 - val_accuracy: 0.5612\n",
      "Epoch 9/100\n",
      "74/74 [==============================] - 51s 688ms/step - loss: 0.4987 - accuracy: 0.8094 - val_loss: 0.7132 - val_accuracy: 0.5775\n"
     ]
    },
    {
     "name": "stderr",
     "output_type": "stream",
     "text": [
      "100%|██████████| 275/275 [00:35<00:00,  7.81it/s] "
     ]
    },
    {
     "name": "stdout",
     "output_type": "stream",
     "text": [
      "[INFO] compiling model...\n",
      "Model: \"sequential_37\"\n",
      "_________________________________________________________________\n",
      " Layer (type)                Output Shape              Param #   \n",
      "=================================================================\n",
      " gru_37 (GRU)                (None, 64)                15168     \n"
     ]
    },
    {
     "name": "stderr",
     "output_type": "stream",
     "text": [
      "\n"
     ]
    },
    {
     "name": "stdout",
     "output_type": "stream",
     "text": [
      "                                                                 \n",
      " dense_74 (Dense)            (None, 32)                2080      \n",
      "                                                                 \n",
      " dropout_37 (Dropout)        (None, 32)                0         \n",
      "                                                                 \n",
      " dense_75 (Dense)            (None, 1)                 33        \n",
      "                                                                 \n",
      "=================================================================\n",
      "Total params: 17,281\n",
      "Trainable params: 17,281\n",
      "Non-trainable params: 0\n",
      "_________________________________________________________________\n",
      "[INFO] fitting model...\n",
      "Epoch 1/100\n",
      "74/74 [==============================] - 54s 718ms/step - loss: 0.7330 - accuracy: 0.5055 - val_loss: 0.6883 - val_accuracy: 0.5188\n",
      "Epoch 2/100\n",
      "74/74 [==============================] - 52s 709ms/step - loss: 0.6910 - accuracy: 0.5566 - val_loss: 0.6870 - val_accuracy: 0.4975\n",
      "Epoch 3/100\n",
      "74/74 [==============================] - 53s 718ms/step - loss: 0.6668 - accuracy: 0.5996 - val_loss: 0.6874 - val_accuracy: 0.5113\n",
      "Epoch 4/100\n",
      "74/74 [==============================] - 53s 721ms/step - loss: 0.6508 - accuracy: 0.6336 - val_loss: 0.6905 - val_accuracy: 0.5312\n",
      "Epoch 5/100\n",
      "74/74 [==============================] - 53s 714ms/step - loss: 0.6375 - accuracy: 0.6579 - val_loss: 0.6892 - val_accuracy: 0.5238\n",
      "Epoch 6/100\n",
      "74/74 [==============================] - 53s 711ms/step - loss: 0.6271 - accuracy: 0.6719 - val_loss: 0.6946 - val_accuracy: 0.5038\n",
      "Epoch 7/100\n",
      "74/74 [==============================] - 53s 714ms/step - loss: 0.6065 - accuracy: 0.7026 - val_loss: 0.7000 - val_accuracy: 0.4800\n"
     ]
    },
    {
     "name": "stderr",
     "output_type": "stream",
     "text": [
      "100%|██████████| 275/275 [00:35<00:00,  7.77it/s] "
     ]
    },
    {
     "name": "stdout",
     "output_type": "stream",
     "text": [
      "[INFO] compiling model...\n",
      "Model: \"sequential_38\"\n"
     ]
    },
    {
     "name": "stderr",
     "output_type": "stream",
     "text": [
      "\n"
     ]
    },
    {
     "name": "stdout",
     "output_type": "stream",
     "text": [
      "_________________________________________________________________\n",
      " Layer (type)                Output Shape              Param #   \n",
      "=================================================================\n",
      " gru_38 (GRU)                (None, 64)                15168     \n",
      "                                                                 \n",
      " dense_76 (Dense)            (None, 32)                2080      \n",
      "                                                                 \n",
      " dropout_38 (Dropout)        (None, 32)                0         \n",
      "                                                                 \n",
      " dense_77 (Dense)            (None, 1)                 33        \n",
      "                                                                 \n",
      "=================================================================\n",
      "Total params: 17,281\n",
      "Trainable params: 17,281\n",
      "Non-trainable params: 0\n",
      "_________________________________________________________________\n",
      "[INFO] fitting model...\n",
      "Epoch 1/100\n",
      "74/74 [==============================] - 54s 709ms/step - loss: 0.7325 - accuracy: 0.4855 - val_loss: 0.7115 - val_accuracy: 0.4737\n",
      "Epoch 2/100\n",
      "74/74 [==============================] - 51s 684ms/step - loss: 0.6970 - accuracy: 0.5204 - val_loss: 0.6963 - val_accuracy: 0.5188\n",
      "Epoch 3/100\n",
      "74/74 [==============================] - 54s 737ms/step - loss: 0.6903 - accuracy: 0.5366 - val_loss: 0.6867 - val_accuracy: 0.5512\n",
      "Epoch 4/100\n",
      "74/74 [==============================] - 61s 827ms/step - loss: 0.6759 - accuracy: 0.5868 - val_loss: 0.6815 - val_accuracy: 0.5375\n",
      "Epoch 5/100\n",
      "74/74 [==============================] - 55s 743ms/step - loss: 0.6636 - accuracy: 0.6055 - val_loss: 0.6783 - val_accuracy: 0.5788\n",
      "Epoch 6/100\n",
      "74/74 [==============================] - 54s 728ms/step - loss: 0.6547 - accuracy: 0.6277 - val_loss: 0.6705 - val_accuracy: 0.5525\n",
      "Epoch 7/100\n",
      "74/74 [==============================] - 51s 686ms/step - loss: 0.6403 - accuracy: 0.6472 - val_loss: 0.6607 - val_accuracy: 0.5875\n",
      "Epoch 8/100\n",
      "74/74 [==============================] - 51s 686ms/step - loss: 0.6260 - accuracy: 0.6672 - val_loss: 0.6615 - val_accuracy: 0.5838\n",
      "Epoch 9/100\n",
      "74/74 [==============================] - 51s 688ms/step - loss: 0.6106 - accuracy: 0.7064 - val_loss: 0.6593 - val_accuracy: 0.5838\n",
      "Epoch 10/100\n",
      "74/74 [==============================] - 51s 693ms/step - loss: 0.5934 - accuracy: 0.7226 - val_loss: 0.6491 - val_accuracy: 0.5825\n",
      "Epoch 11/100\n",
      "74/74 [==============================] - 53s 712ms/step - loss: 0.5761 - accuracy: 0.7315 - val_loss: 0.6671 - val_accuracy: 0.5537\n",
      "Epoch 12/100\n",
      "74/74 [==============================] - 52s 707ms/step - loss: 0.5558 - accuracy: 0.7647 - val_loss: 0.6563 - val_accuracy: 0.5562\n",
      "Epoch 13/100\n",
      "74/74 [==============================] - 52s 704ms/step - loss: 0.5354 - accuracy: 0.7860 - val_loss: 0.6529 - val_accuracy: 0.5863\n",
      "Epoch 14/100\n",
      "74/74 [==============================] - 52s 703ms/step - loss: 0.5157 - accuracy: 0.8000 - val_loss: 0.6581 - val_accuracy: 0.5950\n",
      "Epoch 15/100\n",
      "74/74 [==============================] - 53s 714ms/step - loss: 0.4998 - accuracy: 0.8132 - val_loss: 0.6535 - val_accuracy: 0.5962\n"
     ]
    },
    {
     "name": "stderr",
     "output_type": "stream",
     "text": [
      "100%|██████████| 275/275 [00:35<00:00,  7.64it/s] "
     ]
    },
    {
     "name": "stdout",
     "output_type": "stream",
     "text": [
      "[INFO] compiling model...\n",
      "Model: \"sequential_39\"\n",
      "_________________________________________________________________\n",
      " Layer (type)                Output Shape              Param #   \n",
      "=================================================================\n",
      " gru_39 (GRU)                (None, 64)                15168     \n",
      "                                                                 \n",
      " dense_78 (Dense)            (None, 32)                2080      \n",
      "                                                                 \n",
      " dropout_39 (Dropout)        (None, 32)                0         \n",
      "                                                                 \n",
      " dense_79 (Dense)            (None, 1)                 33        \n",
      "                                                                 \n",
      "=================================================================\n",
      "Total params: 17,281\n",
      "Trainable params: 17,281\n",
      "Non-trainable params: 0\n",
      "_________________________________________________________________\n"
     ]
    },
    {
     "name": "stderr",
     "output_type": "stream",
     "text": [
      "\n"
     ]
    },
    {
     "name": "stdout",
     "output_type": "stream",
     "text": [
      "[INFO] fitting model...\n",
      "Epoch 1/100\n",
      "74/74 [==============================] - 56s 731ms/step - loss: 0.7365 - accuracy: 0.5106 - val_loss: 0.6844 - val_accuracy: 0.5500\n",
      "Epoch 2/100\n",
      "74/74 [==============================] - 53s 719ms/step - loss: 0.7036 - accuracy: 0.5502 - val_loss: 0.6869 - val_accuracy: 0.5562\n",
      "Epoch 3/100\n",
      "74/74 [==============================] - 52s 700ms/step - loss: 0.6735 - accuracy: 0.5962 - val_loss: 0.6914 - val_accuracy: 0.5587\n",
      "Epoch 4/100\n",
      "74/74 [==============================] - 53s 711ms/step - loss: 0.6569 - accuracy: 0.6132 - val_loss: 0.6931 - val_accuracy: 0.5312\n",
      "Epoch 5/100\n",
      "74/74 [==============================] - 52s 707ms/step - loss: 0.6309 - accuracy: 0.6638 - val_loss: 0.6879 - val_accuracy: 0.5450\n",
      "Epoch 6/100\n",
      "74/74 [==============================] - 53s 716ms/step - loss: 0.6149 - accuracy: 0.6813 - val_loss: 0.6799 - val_accuracy: 0.5850\n",
      "Epoch 7/100\n",
      "74/74 [==============================] - 53s 719ms/step - loss: 0.5933 - accuracy: 0.7060 - val_loss: 0.6750 - val_accuracy: 0.5750\n",
      "Epoch 8/100\n",
      "74/74 [==============================] - 52s 710ms/step - loss: 0.5788 - accuracy: 0.7285 - val_loss: 0.6662 - val_accuracy: 0.6162\n",
      "Epoch 9/100\n",
      "74/74 [==============================] - 51s 695ms/step - loss: 0.5575 - accuracy: 0.7494 - val_loss: 0.6658 - val_accuracy: 0.6100\n",
      "Epoch 10/100\n",
      "74/74 [==============================] - 51s 694ms/step - loss: 0.5326 - accuracy: 0.7728 - val_loss: 0.6532 - val_accuracy: 0.6338\n",
      "Epoch 11/100\n",
      "74/74 [==============================] - 51s 694ms/step - loss: 0.5130 - accuracy: 0.7940 - val_loss: 0.6608 - val_accuracy: 0.6300\n",
      "Epoch 12/100\n",
      "74/74 [==============================] - 52s 707ms/step - loss: 0.4956 - accuracy: 0.8081 - val_loss: 0.6564 - val_accuracy: 0.6050\n",
      "Epoch 13/100\n",
      "74/74 [==============================] - 53s 713ms/step - loss: 0.4746 - accuracy: 0.8179 - val_loss: 0.6500 - val_accuracy: 0.6587\n",
      "Epoch 14/100\n",
      "74/74 [==============================] - 53s 719ms/step - loss: 0.4512 - accuracy: 0.8434 - val_loss: 0.6725 - val_accuracy: 0.6413\n",
      "Epoch 15/100\n",
      "74/74 [==============================] - 53s 715ms/step - loss: 0.4354 - accuracy: 0.8540 - val_loss: 0.7068 - val_accuracy: 0.6150\n",
      "Epoch 16/100\n",
      "74/74 [==============================] - 53s 710ms/step - loss: 0.4162 - accuracy: 0.8779 - val_loss: 0.6927 - val_accuracy: 0.6338\n",
      "Epoch 17/100\n",
      "74/74 [==============================] - 52s 708ms/step - loss: 0.4043 - accuracy: 0.8932 - val_loss: 0.7042 - val_accuracy: 0.6125\n",
      "Epoch 18/100\n",
      "74/74 [==============================] - 53s 713ms/step - loss: 0.3845 - accuracy: 0.8987 - val_loss: 0.7469 - val_accuracy: 0.6012\n"
     ]
    },
    {
     "name": "stderr",
     "output_type": "stream",
     "text": [
      "100%|██████████| 275/275 [00:34<00:00,  7.88it/s] "
     ]
    },
    {
     "name": "stdout",
     "output_type": "stream",
     "text": [
      "The run with the lowest validation loss is run:  1\n",
      "Classification report for the run that has lowest validation error:\n",
      "              precision    recall  f1-score   support\n",
      "\n",
      "           0       0.85      0.72      0.78        39\n",
      "           1       0.52      0.71      0.60        17\n",
      "\n",
      "    accuracy                           0.71        56\n",
      "   macro avg       0.69      0.71      0.69        56\n",
      "weighted avg       0.75      0.71      0.72        56\n",
      "\n",
      "Predictions for the run that has lowest validation error:\n",
      "[[...], [...], [...], [...], [...], [...], [...], [...], [...], [...]]\n"
     ]
    },
    {
     "name": "stderr",
     "output_type": "stream",
     "text": [
      "\n"
     ]
    }
   ],
   "source": [
    "def create_cnn_model(input_shape):\n",
    "    model = tf.keras.models.Sequential()\n",
    "    \n",
    "    model.add(tf.keras.layers.GRU(units = 64, input_shape = input_shape)) # , return_sequences=True\n",
    "    # model.add(tf.keras.layers.GRU(units = 32))\n",
    "\n",
    "    model.add(tf.keras.layers.Dense(32, activation='relu'))\n",
    "    model.add(tf.keras.layers.Dropout(0.3))\n",
    "\n",
    "    model.add(tf.keras.layers.Dense(1, activation='sigmoid'))\n",
    "\n",
    "    return model\n",
    "\n",
    "lr = 0.0003\n",
    "label_smooth = 0.1\n",
    "\n",
    "classification_reports = []\n",
    "histories = []\n",
    "predictions = []\n",
    "\n",
    "for _ in range(10):\n",
    "    model = create_cnn_model((training_samples.shape[1], training_samples.shape[2]))\n",
    "\n",
    "    print(\"[INFO] compiling model...\")\n",
    "    model.compile(optimizer=tf.keras.optimizers.Adam(learning_rate=lr), loss=tf.keras.losses.BinaryCrossentropy(label_smoothing=label_smooth), metrics=['accuracy'])\n",
    "\n",
    "    model.summary()\n",
    "\n",
    "    early_stopping = tf.keras.callbacks.EarlyStopping(monitor='val_loss', patience=5, restore_best_weights=True)\n",
    "\n",
    "    print(\"[INFO] fitting model...\")\n",
    "    history = model.fit(train_gen, epochs=100, validation_data=val_gen, callbacks=[early_stopping])\n",
    "\n",
    "    from tqdm import tqdm\n",
    "\n",
    "    test_preds = []\n",
    "\n",
    "    file_ids = os.listdir(\"edaicwoz/merge\")\n",
    "    test_label_file = pd.read_csv(\"edaicwoz/test_split.csv\")\n",
    "\n",
    "    for file_id in tqdm(file_ids):\n",
    "        if int(file_id) in test_label_file[\"Participant_ID\"].values:\n",
    "            all_mfccs = []\n",
    "            for j in range(10):\n",
    "                file_path = \"MFCCs_1030/\" + file_id + \"/\" + file_id + \"_MFCC_\" + str(j) + \".npy\"\n",
    "                all_mfccs.append(np.load(file_path))\n",
    "            all_mfccs = np.array(all_mfccs)\n",
    "            all_mfccs = np.swapaxes(all_mfccs, 1, 2)\n",
    "            prediction = model.predict(all_mfccs, verbose=0, batch_size=8)\n",
    "            prediction = prediction.mean(axis=0)\n",
    "            test_preds.append(prediction)\n",
    "\n",
    "    label_file = test_label_file\n",
    "    true = label_file.to_numpy()[:, 2].flatten().tolist()\n",
    "    predicted = (np.array(test_preds) > 0.5).astype(np.int32).flatten().tolist()\n",
    "\n",
    "    true_labels = true\n",
    "    predicted_labels = predicted\n",
    "\n",
    "    from sklearn.metrics import confusion_matrix, precision_score, recall_score, f1_score\n",
    "    from sklearn.metrics import classification_report\n",
    "    import matplotlib.pyplot as plt\n",
    "\n",
    "    def create_confusion_matrix(true_labels, predicted_labels):\n",
    "        true_labels = np.array(true_labels)\n",
    "        predicted_labels = np.array(predicted_labels)\n",
    "        cm = confusion_matrix(true_labels, predicted_labels)\n",
    "        return cm\n",
    "\n",
    "    def plot_confusion_matrix(conf_matrix, classes):\n",
    "        plt.imshow(conf_matrix, interpolation='nearest', cmap=plt.cm.Blues)\n",
    "        plt.title('Confusion Matrix')\n",
    "        plt.colorbar()\n",
    "        tick_marks = np.arange(len(classes))\n",
    "        plt.xticks(tick_marks, classes, rotation=45)\n",
    "        plt.yticks(tick_marks, classes)\n",
    "\n",
    "        for i in range(len(classes)):\n",
    "            for j in range(len(classes)):\n",
    "                plt.text(j, i, str(conf_matrix[i, j]), ha='center', va='center', color='white' if conf_matrix[i, j] > conf_matrix.max() / 2 else 'black')\n",
    "\n",
    "        plt.xlabel('Predicted Label')\n",
    "        plt.ylabel('True Label')\n",
    "        plt.show()\n",
    "\n",
    "    def calculate_metrics(true_labels, predicted_labels):\n",
    "        precision = precision_score(true_labels, predicted_labels)\n",
    "        recall = recall_score(true_labels, predicted_labels)\n",
    "        f1 = f1_score(true_labels, predicted_labels)\n",
    "\n",
    "        return precision, recall, f1\n",
    "\n",
    "    classes = ['0', '1']\n",
    "\n",
    "    # Calculate precision, recall, and F1-score for both classes\n",
    "    classification_report = classification_report(true_labels, predicted_labels, target_names=classes)\n",
    "\n",
    "    histories.append(history)\n",
    "    predictions.append(predictions)\n",
    "    classification_reports.append(classification_report)\n",
    "\n",
    "    del model\n",
    "\n",
    "lowest_loss = float('inf')\n",
    "lowest_loss_index = -1\n",
    "\n",
    "for i, history in enumerate(histories):\n",
    "    val_loss = history.history['val_loss'][-6] # we're using -6 since patience of early stopping is 5\n",
    "    if val_loss < lowest_loss:\n",
    "        lowest_loss = val_loss\n",
    "        lowest_loss_index = i\n",
    "\n",
    "print(\"The run with the lowest validation loss is run: \", lowest_loss_index)\n",
    "\n",
    "print(\"Classification report for the run that has lowest validation error:\")\n",
    "print(classification_reports[lowest_loss_index])\n",
    "\n",
    "print(\"Predictions for the run that has lowest validation error:\")\n",
    "print(predictions[lowest_loss_index])"
   ]
  },
  {
   "cell_type": "code",
   "execution_count": 23,
   "metadata": {},
   "outputs": [
    {
     "data": {
      "image/png": "[encoded data removed]",
      "text/plain": [
       "<Figure size 640x480 with 2 Axes>"
      ]
     },
     "metadata": {},
     "output_type": "display_data"
    }
   ],
   "source": [
    "# Deriving confusion matrix from the best_classif_report, we forgot to add that code and lost the variable:\n",
    "\n",
    "TP = round(17 * 0.71) # support multiplied by recall\n",
    "FN = 17 - TP\n",
    "TN = round(39 * 0.72) # support multiplied by recall\n",
    "FP = 39 - TN\n",
    "\n",
    "import seaborn as sn\n",
    "import pandas as pd\n",
    "import matplotlib.pyplot as plt\n",
    "\n",
    "array = [[TN, FP], [FN, TP]]\n",
    "\n",
    "df_cm = pd.DataFrame(array, ['Labeled Non-Depressive', 'Labeled Depressive'], ['Predicted Non-Depressive', 'Predicted Depressive'])\n",
    "sn.set(font_scale=1.0)\n",
    "sn.heatmap(df_cm, annot=True, annot_kws={\"size\": 16})\n",
    "\n",
    "plt.show()"
   ]
  }
 ],
 "metadata": {
  "kernelspec": {
   "display_name": "Python 3",
   "language": "python",
   "name": "python3"
  },
  "language_info": {
   "codemirror_mode": {
    "name": "ipython",
    "version": 3
   },
   "file_extension": ".py",
   "mimetype": "text/x-python",
   "name": "python",
   "nbconvert_exporter": "python",
   "pygments_lexer": "ipython3",
   "version": "3.10.0"
  }
 },
 "nbformat": 4,
 "nbformat_minor": 2
}
