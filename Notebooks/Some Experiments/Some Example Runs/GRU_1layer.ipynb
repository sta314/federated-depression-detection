{
 "cells": [
  {
   "cell_type": "code",
   "execution_count": 1,
   "metadata": {},
   "outputs": [],
   "source": [
    "import os\n",
    "import librosa\n",
    "import numpy as np\n",
    "import tensorflow as tf\n",
    "import pandas as pd"
   ]
  },
  {
   "cell_type": "code",
   "execution_count": 2,
   "metadata": {},
   "outputs": [],
   "source": [
    "train_labels_df = pd.read_csv(\"edaicwoz/train_split.csv\")\n",
    "test_labels_df = pd.read_csv(\"edaicwoz/test_split.csv\")\n",
    "val_labels_df = pd.read_csv(\"edaicwoz/dev_split.csv\")"
   ]
  },
  {
   "cell_type": "code",
   "execution_count": 3,
   "metadata": {},
   "outputs": [],
   "source": [
    "def load_audio_files(data_dir, sr=16000):\n",
    "    file_ids = os.listdir(data_dir)\n",
    "    subject_ids = []\n",
    "    file_paths = []\n",
    "    types = []\n",
    "    labels = []\n",
    "    labels_binary = []\n",
    "\n",
    "    for file_id in file_ids:\n",
    "        file_id = file_id.split(\"_\")[0]\n",
    "        file_path = [data_dir + \"/\" + file_id + \"/\" + file_id + \"_MFCC_\" + str(i) + \".npy\" for i in range(len(next(iter(enumerate(os.walk(data_dir + \"/\" + str(file_id) + \"/\"))))[1][2]))]\n",
    "        if int(file_id) in train_labels_df[\"Participant_ID\"].values:\n",
    "            types.append(0)\n",
    "            labels.append(train_labels_df[train_labels_df[\"Participant_ID\"] == int(file_id)]['PHQ_Score'].values[0])\n",
    "            labels_binary.append(train_labels_df[train_labels_df[\"Participant_ID\"] == int(file_id)]['PHQ_Binary'].values[0])\n",
    "            \n",
    "        elif int(file_id) in test_labels_df[\"Participant_ID\"].values:\n",
    "            types.append(1)\n",
    "            labels.append(test_labels_df[test_labels_df[\"Participant_ID\"] == int(file_id)]['PHQ_Score'].values[0])\n",
    "            labels_binary.append(test_labels_df[test_labels_df[\"Participant_ID\"] == int(file_id)]['PHQ_Binary'].values[0])\n",
    "        else:\n",
    "            types.append(2)\n",
    "            labels.append(val_labels_df[val_labels_df[\"Participant_ID\"] == int(file_id)]['PHQ_Score'].values[0])\n",
    "            labels_binary.append(val_labels_df[val_labels_df[\"Participant_ID\"] == int(file_id)]['PHQ_Binary'].values[0])\n",
    "        subject_ids.append(int(file_id))\n",
    "        file_paths.append(file_path)\n",
    "\n",
    "    return file_ids, subject_ids, file_paths, types, labels, labels_binary\n",
    "\n",
    "data_dir = \"MFCCs_1030\"\n",
    "\n",
    "file_ids, subject_ids, file_paths, types, labels, labels_binary = load_audio_files(data_dir)"
   ]
  },
  {
   "cell_type": "code",
   "execution_count": 4,
   "metadata": {},
   "outputs": [
    {
     "name": "stdout",
     "output_type": "stream",
     "text": [
      "[INFO] preparing data...\n"
     ]
    }
   ],
   "source": [
    "def prepare_audio_set(file_paths):\n",
    "\n",
    "    samples = []\n",
    "    samples_ids = []\n",
    "    samples_types = []\n",
    "    samples_labels = []\n",
    "    samples_labels_binary = []\n",
    "\n",
    "    for i, file_path in enumerate(file_paths):\n",
    "        all_mfccs = []\n",
    "        for j in range(len(file_path)):\n",
    "            all_mfccs.append(np.load(file_path[j]))\n",
    "        all_mfccs = np.array(all_mfccs)\n",
    "        samples.extend(all_mfccs)\n",
    "        samples_ids.extend([subject_ids[i]] * len(all_mfccs))\n",
    "        samples_types.extend([types[i]] * len(all_mfccs))\n",
    "        samples_labels.extend([labels[i]] * len(all_mfccs))\n",
    "        samples_labels_binary.extend([labels_binary[i]] * len(all_mfccs))\n",
    "\n",
    "    samples = np.array(samples)\n",
    "\n",
    "    samples_ids = np.array(samples_ids)\n",
    "    samples_types = np.array(samples_types)\n",
    "    samples_labels = np.array(samples_labels)\n",
    "    samples_labels_binary = np.array(samples_labels_binary)\n",
    "\n",
    "    return samples, samples_ids, samples_types, samples_labels, samples_labels_binary\n",
    "\n",
    "print(\"[INFO] preparing data...\")\n",
    "samples, samples_ids, samples_types, samples_labels, samples_labels_binary = prepare_audio_set(file_paths)\n",
    "samples = np.swapaxes(samples, 1, 2)"
   ]
  },
  {
   "cell_type": "code",
   "execution_count": 5,
   "metadata": {},
   "outputs": [],
   "source": [
    "training_samples = samples[samples_types == 0]\n",
    "training_labels = samples_labels_binary[samples_types == 0]\n",
    "training_subject_ids = samples_ids[samples_types == 0]\n",
    "\n",
    "test_samples = samples[samples_types == 1]\n",
    "test_labels = samples_labels_binary[samples_types == 1]\n",
    "\n",
    "val_samples = samples[samples_types == 2]\n",
    "val_labels_df = samples_labels_binary[samples_types == 2]"
   ]
  },
  {
   "cell_type": "code",
   "execution_count": 55,
   "metadata": {},
   "outputs": [
    {
     "data": {
      "text/plain": [
       "(2350, 15001, 13)"
      ]
     },
     "execution_count": 55,
     "metadata": {},
     "output_type": "execute_result"
    }
   ],
   "source": [
    "training_samples.shape"
   ]
  },
  {
   "cell_type": "code",
   "execution_count": 7,
   "metadata": {},
   "outputs": [
    {
     "name": "stdout",
     "output_type": "stream",
     "text": [
      "[INFO] constructing training/testing split...\n"
     ]
    }
   ],
   "source": [
    "import numpy as np\n",
    "\n",
    "class DataGeneratorVanilla(tf.keras.utils.Sequence):\n",
    "    def __init__(self, x_set, y_set, batch_size=256):\n",
    "        self.x, self.y = x_set, y_set\n",
    "        self.batch_size = batch_size\n",
    "        self.indices = np.arange(self.x.shape[0])\n",
    "\n",
    "    def __len__(self):\n",
    "        return int(np.ceil(len(self.x) / float(self.batch_size)))\n",
    "\n",
    "    def __getitem__(self, idx):\n",
    "        inds = self.indices[idx * self.batch_size:(idx + 1) * self.batch_size]\n",
    "        batch_x = self.x[inds]\n",
    "        batch_y = self.y[inds]\n",
    "        return batch_x, batch_y\n",
    "    \n",
    "    def on_epoch_end(self):\n",
    "        np.random.shuffle(self.indices)\n",
    "\n",
    "print(\"[INFO] constructing training/testing split...\")\n",
    "train_gen = DataGeneratorVanilla(training_samples, training_labels, 32)\n",
    "test_gen = DataGeneratorVanilla(test_samples, test_labels, 32)\n",
    "val_gen = DataGeneratorVanilla(val_samples, val_labels_df, 32)"
   ]
  },
  {
   "cell_type": "code",
   "execution_count": 8,
   "metadata": {},
   "outputs": [
    {
     "data": {
      "text/plain": [
       "(2350, 15001, 13)"
      ]
     },
     "execution_count": 8,
     "metadata": {},
     "output_type": "execute_result"
    }
   ],
   "source": [
    "(training_samples.shape[0], training_samples.shape[1], training_samples.shape[2])"
   ]
  },
  {
   "cell_type": "code",
   "execution_count": 9,
   "metadata": {},
   "outputs": [
    {
     "name": "stdout",
     "output_type": "stream",
     "text": [
      "[INFO] compiling model...\n",
      "Model: \"sequential\"\n",
      "_________________________________________________________________\n",
      " Layer (type)                Output Shape              Param #   \n",
      "=================================================================\n",
      " gru (GRU)                   (None, 64)                15168     \n",
      "                                                                 \n",
      " dense (Dense)               (None, 32)                2080      \n",
      "                                                                 \n",
      " dropout (Dropout)           (None, 32)                0         \n",
      "                                                                 \n",
      " dense_1 (Dense)             (None, 1)                 33        \n",
      "                                                                 \n",
      "=================================================================\n",
      "Total params: 17,281\n",
      "Trainable params: 17,281\n",
      "Non-trainable params: 0\n",
      "_________________________________________________________________\n",
      "[INFO] fitting model...\n",
      "Epoch 1/100\n",
      "74/74 [==============================] - 64s 840ms/step - loss: 0.7574 - accuracy: 0.4885 - val_loss: 0.7047 - val_accuracy: 0.5060\n",
      "Epoch 2/100\n",
      "74/74 [==============================] - 58s 791ms/step - loss: 0.7320 - accuracy: 0.4949 - val_loss: 0.6918 - val_accuracy: 0.5357\n",
      "Epoch 3/100\n",
      "74/74 [==============================] - 57s 775ms/step - loss: 0.7093 - accuracy: 0.5264 - val_loss: 0.6811 - val_accuracy: 0.5690\n",
      "Epoch 4/100\n",
      "74/74 [==============================] - 59s 795ms/step - loss: 0.7010 - accuracy: 0.5374 - val_loss: 0.6737 - val_accuracy: 0.6125\n",
      "Epoch 5/100\n",
      "74/74 [==============================] - 62s 845ms/step - loss: 0.6878 - accuracy: 0.5728 - val_loss: 0.6719 - val_accuracy: 0.6196\n",
      "Epoch 6/100\n",
      "74/74 [==============================] - 66s 891ms/step - loss: 0.6868 - accuracy: 0.5532 - val_loss: 0.6641 - val_accuracy: 0.6536\n",
      "Epoch 7/100\n",
      "74/74 [==============================] - 58s 783ms/step - loss: 0.6838 - accuracy: 0.5668 - val_loss: 0.6632 - val_accuracy: 0.6482\n",
      "Epoch 8/100\n",
      "74/74 [==============================] - 57s 770ms/step - loss: 0.6719 - accuracy: 0.5740 - val_loss: 0.6526 - val_accuracy: 0.6673\n",
      "Epoch 9/100\n",
      "74/74 [==============================] - 58s 782ms/step - loss: 0.6658 - accuracy: 0.5902 - val_loss: 0.6547 - val_accuracy: 0.6429\n",
      "Epoch 10/100\n",
      "74/74 [==============================] - 57s 774ms/step - loss: 0.6588 - accuracy: 0.6128 - val_loss: 0.6540 - val_accuracy: 0.6250\n",
      "Epoch 11/100\n",
      "74/74 [==============================] - 56s 765ms/step - loss: 0.6539 - accuracy: 0.6306 - val_loss: 0.6439 - val_accuracy: 0.6595\n",
      "Epoch 12/100\n",
      "74/74 [==============================] - 59s 805ms/step - loss: 0.6467 - accuracy: 0.6396 - val_loss: 0.6435 - val_accuracy: 0.6560\n",
      "Epoch 13/100\n",
      "74/74 [==============================] - 59s 803ms/step - loss: 0.6383 - accuracy: 0.6515 - val_loss: 0.6327 - val_accuracy: 0.6714\n",
      "Epoch 14/100\n",
      "74/74 [==============================] - 58s 785ms/step - loss: 0.6303 - accuracy: 0.6740 - val_loss: 0.6275 - val_accuracy: 0.6768\n",
      "Epoch 15/100\n",
      "74/74 [==============================] - 58s 780ms/step - loss: 0.6237 - accuracy: 0.6830 - val_loss: 0.6288 - val_accuracy: 0.6756\n",
      "Epoch 16/100\n",
      "74/74 [==============================] - 57s 776ms/step - loss: 0.6127 - accuracy: 0.6881 - val_loss: 0.6103 - val_accuracy: 0.7018\n",
      "Epoch 17/100\n",
      "74/74 [==============================] - 61s 829ms/step - loss: 0.6065 - accuracy: 0.6962 - val_loss: 0.6241 - val_accuracy: 0.6810\n",
      "Epoch 18/100\n",
      "74/74 [==============================] - 58s 786ms/step - loss: 0.6056 - accuracy: 0.6851 - val_loss: 0.6284 - val_accuracy: 0.6702\n",
      "Epoch 19/100\n",
      "74/74 [==============================] - 63s 850ms/step - loss: 0.5984 - accuracy: 0.7140 - val_loss: 0.6101 - val_accuracy: 0.7155\n",
      "Epoch 20/100\n",
      "74/74 [==============================] - 59s 800ms/step - loss: 0.5907 - accuracy: 0.7191 - val_loss: 0.6338 - val_accuracy: 0.6506\n",
      "Epoch 21/100\n",
      "74/74 [==============================] - 59s 803ms/step - loss: 0.5887 - accuracy: 0.7251 - val_loss: 0.6284 - val_accuracy: 0.6619\n",
      "Epoch 22/100\n",
      "74/74 [==============================] - 60s 814ms/step - loss: 0.5797 - accuracy: 0.7332 - val_loss: 0.6087 - val_accuracy: 0.7071\n",
      "Epoch 23/100\n",
      "74/74 [==============================] - 62s 825ms/step - loss: 0.5796 - accuracy: 0.7379 - val_loss: 0.6156 - val_accuracy: 0.6875\n",
      "Epoch 24/100\n",
      "74/74 [==============================] - 58s 781ms/step - loss: 0.5740 - accuracy: 0.7391 - val_loss: 0.6171 - val_accuracy: 0.6875\n",
      "Epoch 25/100\n",
      "74/74 [==============================] - 58s 782ms/step - loss: 0.5646 - accuracy: 0.7485 - val_loss: 0.6244 - val_accuracy: 0.6637\n",
      "Epoch 26/100\n",
      "74/74 [==============================] - 60s 814ms/step - loss: 0.5603 - accuracy: 0.7553 - val_loss: 0.6141 - val_accuracy: 0.6851\n",
      "Epoch 27/100\n",
      "74/74 [==============================] - 63s 852ms/step - loss: 0.5535 - accuracy: 0.7600 - val_loss: 0.6398 - val_accuracy: 0.6393\n"
     ]
    }
   ],
   "source": [
    "def create_cnn_model(input_shape):\n",
    "    model = tf.keras.models.Sequential()\n",
    "    \n",
    "    model.add(tf.keras.layers.GRU(units = 64, input_shape = input_shape)) # , return_sequences=True\n",
    "    # model.add(tf.keras.layers.GRU(units = 32))\n",
    "\n",
    "    model.add(tf.keras.layers.Dense(32, activation='relu'))\n",
    "    model.add(tf.keras.layers.Dropout(0.3))\n",
    "\n",
    "    model.add(tf.keras.layers.Dense(1, activation='sigmoid'))\n",
    "\n",
    "    return model\n",
    "\n",
    "# Create the model\n",
    "model = create_cnn_model((training_samples.shape[1], training_samples.shape[2]))\n",
    "\n",
    "# Compile the model\n",
    "print(\"[INFO] compiling model...\")\n",
    "model.compile(optimizer=tf.keras.optimizers.Adam(learning_rate=0.0001), loss=tf.keras.losses.BinaryCrossentropy(label_smoothing=0.1), metrics=['accuracy'])\n",
    "\n",
    "# Display the model summary\n",
    "model.summary()\n",
    "\n",
    "early_stopping = tf.keras.callbacks.EarlyStopping(monitor='val_loss', patience=5, restore_best_weights=True)\n",
    "\n",
    "print(\"[INFO] fitting model...\")\n",
    "history = model.fit(train_gen, epochs=100, validation_data=val_gen, callbacks=[early_stopping]) # , class_weight={0: .25, 1:1}"
   ]
  },
  {
   "cell_type": "code",
   "execution_count": 11,
   "metadata": {},
   "outputs": [
    {
     "name": "stdout",
     "output_type": "stream",
     "text": [
      "0.27 0--> 0\n",
      "0.47 0--> 0\n",
      "0.46 0--> 0\n",
      "0.33 0--> 0\n",
      "0.38 0--> 0\n",
      "0.49 0--> 1\n",
      "0.31 0--> 0\n",
      "0.42 0--> 0\n",
      "0.37 0--> 0\n",
      "0.47 0--> 0\n",
      "0.43 0--> 0\n",
      "0.45 0--> 1\n",
      "0.53 1--> 1\n",
      "0.52 1--> 1\n",
      "0.45 0--> 0\n",
      "0.30 0--> 0\n",
      "0.34 0--> 0\n",
      "0.55 1--> 1\n",
      "0.40 0--> 0\n",
      "0.60 1--> 1\n",
      "0.55 1--> 0\n",
      "0.45 0--> 0\n",
      "0.54 1--> 1\n",
      "0.61 1--> 0\n",
      "0.55 1--> 1\n",
      "0.31 0--> 0\n",
      "0.45 0--> 0\n",
      "0.60 1--> 0\n",
      "0.55 1--> 0\n",
      "0.49 0--> 0\n",
      "0.41 0--> 0\n",
      "0.56 1--> 0\n",
      "0.59 1--> 1\n",
      "0.35 0--> 0\n",
      "0.55 1--> 1\n",
      "0.15 0--> 0\n",
      "0.66 1--> 0\n",
      "0.46 0--> 0\n",
      "0.44 0--> 0\n",
      "0.34 0--> 0\n",
      "0.56 1--> 0\n",
      "0.16 0--> 0\n",
      "0.63 1--> 0\n",
      "0.40 0--> 0\n",
      "0.46 0--> 0\n",
      "0.30 0--> 0\n",
      "0.43 0--> 1\n",
      "0.45 0--> 0\n",
      "0.33 0--> 0\n",
      "0.49 0--> 0\n",
      "0.55 1--> 0\n",
      "0.26 0--> 0\n",
      "0.43 0--> 0\n",
      "0.48 0--> 0\n",
      "0.52 1--> 1\n",
      "0.42 0--> 0\n"
     ]
    }
   ],
   "source": [
    "file_ids = os.listdir(\"MFCCs_1030/\")\n",
    "val_label_file = pd.read_csv(\"edaicwoz/dev_split.csv\")\n",
    "\n",
    "for file_id in file_ids:\n",
    "    if int(file_id) in val_label_file[\"Participant_ID\"].values:\n",
    "        all_mfccs = []\n",
    "        for j in range(10):\n",
    "            file_path = \"MFCCs_1030/\" + file_id + \"/\" + file_id + \"_MFCC_\" + str(j) + \".npy\"\n",
    "            all_mfccs.append(np.load(file_path))\n",
    "        all_mfccs = np.array(all_mfccs)\n",
    "        all_mfccs = np.swapaxes(all_mfccs, 1, 2)\n",
    "        prediction = model.predict(all_mfccs, verbose=0, batch_size=8)\n",
    "        prediction = prediction.mean(axis=0)\n",
    "        true_label = val_label_file[val_label_file[\"Participant_ID\"] == int(file_id)][\"PHQ_Binary\"].item()\n",
    "        print(f'{prediction[0]:.2f} {int(prediction[0] > 0.5)}--> {true_label}')"
   ]
  },
  {
   "cell_type": "code",
   "execution_count": 12,
   "metadata": {},
   "outputs": [
    {
     "name": "stderr",
     "output_type": "stream",
     "text": [
      "  0%|          | 0/275 [00:00<?, ?it/s]"
     ]
    },
    {
     "name": "stderr",
     "output_type": "stream",
     "text": [
      "100%|██████████| 275/275 [00:34<00:00,  7.92it/s]\n"
     ]
    }
   ],
   "source": [
    "from tqdm import tqdm\n",
    "\n",
    "val_preds = []\n",
    "\n",
    "file_ids = os.listdir(\"edaicwoz/merge\")\n",
    "val_label_file = pd.read_csv(\"edaicwoz/dev_split.csv\")\n",
    "\n",
    "for file_id in tqdm(file_ids):\n",
    "    if int(file_id) in val_label_file[\"Participant_ID\"].values:\n",
    "        all_mfccs = []\n",
    "        for j in range(10):\n",
    "            file_path = \"MFCCs_1030/\" + file_id + \"/\" + file_id + \"_MFCC_\" + str(j) + \".npy\"\n",
    "            all_mfccs.append(np.load(file_path))\n",
    "        all_mfccs = np.array(all_mfccs)\n",
    "        all_mfccs = np.swapaxes(all_mfccs, 1, 2)\n",
    "        prediction = model.predict(all_mfccs, verbose=0, batch_size=8)\n",
    "        prediction = prediction.mean(axis=0)\n",
    "        val_preds.append(prediction)"
   ]
  },
  {
   "cell_type": "code",
   "execution_count": 18,
   "metadata": {},
   "outputs": [
    {
     "data": {
      "image/png": "[encoded data removed]",
      "text/plain": [
       "<Figure size 640x480 with 2 Axes>"
      ]
     },
     "metadata": {},
     "output_type": "display_data"
    },
    {
     "name": "stdout",
     "output_type": "stream",
     "text": [
      "Precision: 0.46\n",
      "Recall: 0.50\n",
      "F1-score: 0.48\n",
      "[[37  7]\n",
      " [ 6  6]]\n"
     ]
    },
    {
     "data": {
      "text/plain": [
       "56"
      ]
     },
     "execution_count": 18,
     "metadata": {},
     "output_type": "execute_result"
    }
   ],
   "source": [
    "file_i = 5\n",
    "\n",
    "label_file = val_label_file\n",
    "true = label_file.to_numpy()[:, 2].flatten().tolist()\n",
    "predicted = (np.array(val_preds) > 0.5).astype(np.int32).flatten().tolist()\n",
    "\n",
    "\n",
    "\n",
    "true_labels = true\n",
    "predicted_labels = predicted\n",
    "\n",
    "from sklearn.metrics import confusion_matrix, precision_score, recall_score, f1_score\n",
    "import matplotlib.pyplot as plt\n",
    "\n",
    "def create_confusion_matrix(true_labels, predicted_labels):\n",
    "    true_labels = np.array(true_labels)\n",
    "    predicted_labels = np.array(predicted_labels)\n",
    "    cm = confusion_matrix(true_labels, predicted_labels)\n",
    "    return cm\n",
    "\n",
    "def plot_confusion_matrix(conf_matrix, classes):\n",
    "    plt.imshow(conf_matrix, interpolation='nearest', cmap=plt.cm.Blues)\n",
    "    plt.title('Confusion Matrix')\n",
    "    plt.colorbar()\n",
    "    tick_marks = np.arange(len(classes))\n",
    "    plt.xticks(tick_marks, classes, rotation=45)\n",
    "    plt.yticks(tick_marks, classes)\n",
    "\n",
    "    for i in range(len(classes)):\n",
    "        for j in range(len(classes)):\n",
    "            plt.text(j, i, str(conf_matrix[i, j]), ha='center', va='center', color='white' if conf_matrix[i, j] > conf_matrix.max() / 2 else 'black')\n",
    "\n",
    "    plt.xlabel('Predicted Label')\n",
    "    plt.ylabel('True Label')\n",
    "    plt.show()\n",
    "\n",
    "def calculate_metrics(true_labels, predicted_labels):\n",
    "    precision = precision_score(true_labels, predicted_labels)\n",
    "    recall = recall_score(true_labels, predicted_labels)\n",
    "    f1 = f1_score(true_labels, predicted_labels)\n",
    "\n",
    "    return precision, recall, f1\n",
    "\n",
    "conf_matrix = create_confusion_matrix(true_labels, predicted_labels)\n",
    "classes = ['0', '1']\n",
    "\n",
    "# Plot confusion matrix\n",
    "plot_confusion_matrix(conf_matrix, classes)\n",
    "\n",
    "# Calculate precision, recall, and F1-score\n",
    "precision, recall, f1 = calculate_metrics(true_labels, predicted_labels)\n",
    "\n",
    "print(f'Precision: {precision:.2f}')\n",
    "print(f'Recall: {recall:.2f}')\n",
    "print(f'F1-score: {f1:.2f}')\n",
    "true_labels = np.array(true_labels)\n",
    "predicted_labels = np.array(predicted_labels)\n",
    "cm = confusion_matrix(true_labels, predicted_labels)\n",
    "print(cm)\n",
    "len(predicted_labels)"
   ]
  },
  {
   "cell_type": "code",
   "execution_count": 58,
   "metadata": {},
   "outputs": [
    {
     "data": {
      "image/png": "[encoded data removed]",
      "text/plain": [
       "<Figure size 640x480 with 1 Axes>"
      ]
     },
     "metadata": {},
     "output_type": "display_data"
    }
   ],
   "source": [
    "import matplotlib.pyplot as plt\n",
    "\n",
    "def plot_training_history(history):\n",
    "    plt.plot(history.history['loss'])\n",
    "    plt.plot(history.history['val_loss'])\n",
    "    plt.xlabel('Epoch')\n",
    "    plt.ylabel('Loss')\n",
    "    plt.legend(['Train', 'Validation'], loc='upper left')\n",
    "    plt.show()\n",
    "\n",
    "plot_training_history(history)"
   ]
  }
 ],
 "metadata": {
  "kernelspec": {
   "display_name": "Python 3",
   "language": "python",
   "name": "python3"
  },
  "language_info": {
   "codemirror_mode": {
    "name": "ipython",
    "version": 3
   },
   "file_extension": ".py",
   "mimetype": "text/x-python",
   "name": "python",
   "nbconvert_exporter": "python",
   "pygments_lexer": "ipython3",
   "version": "3.10.0"
  }
 },
 "nbformat": 4,
 "nbformat_minor": 2
}
