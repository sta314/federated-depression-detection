{
  "cells": [
    {
      "cell_type": "code",
      "execution_count": 1,
      "metadata": {
        "colab": {
          "base_uri": "https://localhost:8080/"
        },
        "id": "r744gux56lPI",
        "outputId": "b71f8c84-2f19-4536-d930-5849cf41a2c3"
      },
      "outputs": [
        {
          "name": "stdout",
          "output_type": "stream",
          "text": [
            "\u001b[2K     \u001b[90m━━━━━━━━━━━━━━━━━━━━━━━━━━━━━━━━━━━━━━━━\u001b[0m \u001b[32m219.2/219.2 kB\u001b[0m \u001b[31m3.4 MB/s\u001b[0m eta \u001b[36m0:00:00\u001b[0m\n",
            "\u001b[2K     \u001b[90m━━━━━━━━━━━━━━━━━━━━━━━━━━━━━━━━━━━━━━━━\u001b[0m \u001b[32m2.1/2.1 MB\u001b[0m \u001b[31m43.9 MB/s\u001b[0m eta \u001b[36m0:00:00\u001b[0m\n",
            "\u001b[2K     \u001b[90m━━━━━━━━━━━━━━━━━━━━━━━━━━━━━━━━━━━━━━━━\u001b[0m \u001b[32m56.9/56.9 MB\u001b[0m \u001b[31m27.7 MB/s\u001b[0m eta \u001b[36m0:00:00\u001b[0m\n",
            "\u001b[?25h"
          ]
        }
      ],
      "source": [
        "!pip install -q flwr[simulation]"
      ]
    },
    {
      "cell_type": "code",
      "execution_count": 2,
      "metadata": {
        "id": "QhYdGQVU6py4"
      },
      "outputs": [],
      "source": [
        "import flwr as fl\n",
        "from flwr.common import Metrics\n",
        "from flwr.common.typing import NDArrays, Scalar\n",
        "from collections import OrderedDict\n",
        "from typing import List, Tuple, Dict, Optional\n",
        "\n",
        "import matplotlib.pyplot as plt\n",
        "import numpy as np\n",
        "import pandas as pd\n",
        "import tensorflow as tf\n",
        "\n",
        "import os\n",
        "import librosa"
      ]
    },
    {
      "cell_type": "code",
      "execution_count": 3,
      "metadata": {
        "colab": {
          "base_uri": "https://localhost:8080/"
        },
        "id": "pUTPz2ww8yDy",
        "outputId": "55d49156-b194-4370-fe8e-def2f06da595"
      },
      "outputs": [
        {
          "name": "stdout",
          "output_type": "stream",
          "text": [
            "Mounted at /content/gdrive\n"
          ]
        }
      ],
      "source": [
        "from google.colab import drive\n",
        "drive.mount('/content/gdrive')#, force_remount=True)"
      ]
    },
    {
      "cell_type": "code",
      "execution_count": 4,
      "metadata": {
        "colab": {
          "base_uri": "https://localhost:8080/"
        },
        "id": "if3RTu9E8zUl",
        "outputId": "915d0f7a-e267-4ef4-f3bb-f09d883e66c2"
      },
      "outputs": [
        {
          "name": "stdout",
          "output_type": "stream",
          "text": [
            "/content/gdrive/MyDrive/daic/ProjectPrototype\n"
          ]
        }
      ],
      "source": [
        "%cd /content/gdrive/MyDrive/daic/ProjectPrototype"
      ]
    },
    {
      "cell_type": "code",
      "execution_count": 5,
      "metadata": {
        "colab": {
          "base_uri": "https://localhost:8080/"
        },
        "id": "BJsOdA0d80eO",
        "outputId": "36c66377-d93f-4e45-d505-24287afbf614"
      },
      "outputs": [
        {
          "name": "stdout",
          "output_type": "stream",
          "text": [
            "'212148conf copy 3.ipynb'   edaicwoz   MFCCs_1030   MFCCs_1030.zip   preprocess_data.ipynb\n"
          ]
        }
      ],
      "source": [
        "!ls"
      ]
    },
    {
      "cell_type": "code",
      "execution_count": 6,
      "metadata": {
        "id": "NOdo724P811N"
      },
      "outputs": [],
      "source": [
        "train_labels_df = pd.read_csv(\"edaicwoz/train_split.csv\")\n",
        "test_labels_df = pd.read_csv(\"edaicwoz/test_split.csv\")\n",
        "val_labels_df = pd.read_csv(\"edaicwoz/dev_split.csv\")"
      ]
    },
    {
      "cell_type": "code",
      "execution_count": 7,
      "metadata": {
        "id": "4TEHAQf083qj"
      },
      "outputs": [],
      "source": [
        "def load_audio_files(data_dir, sr=16000):\n",
        "    file_ids = os.listdir(data_dir)\n",
        "    subject_ids = []\n",
        "    file_paths = []\n",
        "    types = []\n",
        "    labels = []\n",
        "    labels_binary = []\n",
        "\n",
        "    for file_id in file_ids:\n",
        "        file_id = file_id.split(\"_\")[0]\n",
        "        file_path = [data_dir + \"/\" + file_id + \"/\" + file_id + \"_MFCC_\" + str(i) + \".npy\" for i in range(len(next(iter(enumerate(os.walk(data_dir + \"/\" + str(file_id) + \"/\"))))[1][2]))]\n",
        "        if int(file_id) in train_labels_df[\"Participant_ID\"].values:\n",
        "            types.append(0)\n",
        "            labels.append(train_labels_df[train_labels_df[\"Participant_ID\"] == int(file_id)]['PHQ_Score'].values[0])\n",
        "            labels_binary.append(train_labels_df[train_labels_df[\"Participant_ID\"] == int(file_id)]['PHQ_Binary'].values[0])\n",
        "\n",
        "        elif int(file_id) in test_labels_df[\"Participant_ID\"].values:\n",
        "            types.append(1)\n",
        "            labels.append(test_labels_df[test_labels_df[\"Participant_ID\"] == int(file_id)]['PHQ_Score'].values[0])\n",
        "            labels_binary.append(test_labels_df[test_labels_df[\"Participant_ID\"] == int(file_id)]['PHQ_Binary'].values[0])\n",
        "        else:\n",
        "            types.append(2)\n",
        "            labels.append(val_labels_df[val_labels_df[\"Participant_ID\"] == int(file_id)]['PHQ_Score'].values[0])\n",
        "            labels_binary.append(val_labels_df[val_labels_df[\"Participant_ID\"] == int(file_id)]['PHQ_Binary'].values[0])\n",
        "        subject_ids.append(int(file_id))\n",
        "        file_paths.append(file_path)\n",
        "\n",
        "    return file_ids, subject_ids, file_paths, types, labels, labels_binary\n",
        "\n",
        "data_dir = \"MFCCs_1030\"\n",
        "\n",
        "file_ids, subject_ids, file_paths, types, labels, labels_binary = load_audio_files(data_dir)"
      ]
    },
    {
      "cell_type": "code",
      "execution_count": 8,
      "metadata": {
        "colab": {
          "base_uri": "https://localhost:8080/"
        },
        "id": "f54IRuEk889P",
        "outputId": "634ebe90-1b29-47c8-f0a6-ecaff293c322"
      },
      "outputs": [
        {
          "name": "stdout",
          "output_type": "stream",
          "text": [
            "[INFO] preparing data...\n"
          ]
        }
      ],
      "source": [
        "def prepare_audio_set(file_paths):\n",
        "\n",
        "    samples = []\n",
        "    samples_ids = []\n",
        "    samples_types = []\n",
        "    samples_labels = []\n",
        "    samples_labels_binary = []\n",
        "\n",
        "    for i, file_path in enumerate(file_paths):\n",
        "        all_mfccs = []\n",
        "        for j in range(len(file_path)):\n",
        "            all_mfccs.append(np.load(file_path[j]))\n",
        "        all_mfccs = np.array(all_mfccs)\n",
        "        samples.extend(all_mfccs)\n",
        "        samples_ids.extend([subject_ids[i]] * len(all_mfccs))\n",
        "        samples_types.extend([types[i]] * len(all_mfccs))\n",
        "        samples_labels.extend([labels[i]] * len(all_mfccs))\n",
        "        samples_labels_binary.extend([labels_binary[i]] * len(all_mfccs))\n",
        "\n",
        "    samples = np.array(samples)\n",
        "\n",
        "    samples_ids = np.array(samples_ids)\n",
        "    samples_types = np.array(samples_types)\n",
        "    samples_labels = np.array(samples_labels)\n",
        "    samples_labels_binary = np.array(samples_labels_binary)\n",
        "\n",
        "    return samples, samples_ids, samples_types, samples_labels, samples_labels_binary\n",
        "\n",
        "print(\"[INFO] preparing data...\")\n",
        "samples, samples_ids, samples_types, samples_labels, samples_labels_binary = prepare_audio_set(file_paths)\n",
        "samples = np.swapaxes(samples, 1, 2)"
      ]
    },
    {
      "cell_type": "code",
      "execution_count": 9,
      "metadata": {
        "id": "uMLrvS1L9F8v"
      },
      "outputs": [],
      "source": [
        "training_samples = samples[samples_types == 0]\n",
        "training_labels = samples_labels_binary[samples_types == 0]\n",
        "training_subject_ids = samples_ids[samples_types == 0]\n",
        "\n",
        "test_samples = samples[samples_types == 1]\n",
        "test_labels = samples_labels_binary[samples_types == 1]\n",
        "\n",
        "val_samples = samples[samples_types == 2]\n",
        "val_labels_df = samples_labels_binary[samples_types == 2]"
      ]
    },
    {
      "cell_type": "code",
      "execution_count": 10,
      "metadata": {
        "id": "bpe1dRB-8WdZ"
      },
      "outputs": [],
      "source": [
        "del samples, samples_ids, samples_types, samples_labels, samples_labels_binary\n",
        "del file_ids, subject_ids, file_paths, types, labels, labels_binary"
      ]
    },
    {
      "cell_type": "code",
      "execution_count": 11,
      "metadata": {
        "id": "PDSzvY3L6woq"
      },
      "outputs": [],
      "source": [
        "SEED = 42\n",
        "NUM_CLIENTS = 8\n",
        "BATCH_SIZE = 8\n",
        "NUM_ROUNDS = 5\n",
        "DEPRESSIVE_MULTIPLIER = 30\n",
        "NON_DEPRESSIVE_MULTIPLIER = 10"
      ]
    },
    {
      "cell_type": "code",
      "execution_count": 12,
      "metadata": {
        "colab": {
          "base_uri": "https://localhost:8080/"
        },
        "id": "uoLCYLk-60oa",
        "outputId": "da17ccb5-e0f0-4b15-c2be-3dd8bb5797eb"
      },
      "outputs": [
        {
          "name": "stderr",
          "output_type": "stream",
          "text": [
            "<ipython-input-12-45e26c792d34>:9: VisibleDeprecationWarning: Creating an ndarray from ragged nested sequences (which is a list-or-tuple of lists-or-tuples-or ndarrays with different lengths or shapes) is deprecated. If you meant to do this, you must specify 'dtype=object' when creating the ndarray.\n",
            "  training_samples_grouped = np.array(training_samples_grouped)\n"
          ]
        }
      ],
      "source": [
        "def partition_data(X: np.ndarray, X_ids: np.ndarray, n_clients: int, d_mult: int, n_d_mult: int) -> Tuple[List[np.ndarray], List[np.ndarray]]:\n",
        "\n",
        "    unique_subject_ids, counts = np.unique(X_ids, return_counts=True)\n",
        "\n",
        "    # grouping the training samples by patient\n",
        "    training_samples_grouped = []\n",
        "    for i in unique_subject_ids:\n",
        "        training_samples_grouped.append(X[X_ids == i])\n",
        "    training_samples_grouped = np.array(training_samples_grouped)\n",
        "\n",
        "    mask_30_segments = np.array([sample.shape[0] == DEPRESSIVE_MULTIPLIER for sample in training_samples_grouped])\n",
        "\n",
        "    # creating masks to get deppressives and non deppressives\n",
        "    mask_10_segments = np.array([sample.shape[0] == NON_DEPRESSIVE_MULTIPLIER for sample in training_samples_grouped])\n",
        "\n",
        "    data_array_30_segments = training_samples_grouped[mask_30_segments]\n",
        "\n",
        "    data_array_10_segments = training_samples_grouped[mask_10_segments]\n",
        "\n",
        "    # recreating labels\n",
        "    X_train_zeros = np.array_split(data_array_10_segments, NUM_CLIENTS)\n",
        "    X_train_ones = np.array_split(data_array_30_segments, NUM_CLIENTS)\n",
        "\n",
        "    # concatenating splitted ones and zeros with labels\n",
        "    X_train_splitted = [] # (NUM_CLIENTS, data)\n",
        "    y_train_splitted = [] # (NUM_CLIENTS, labels)\n",
        "    for i in range(NUM_CLIENTS):\n",
        "\n",
        "        # stack the segments from groups then concatenate\n",
        "        client_data = np.concatenate((np.vstack(X_train_zeros[i]), np.vstack(X_train_ones[i])), axis=0)\n",
        "        client_labels = np.concatenate((np.zeros((X_train_zeros[i].shape[0] * NON_DEPRESSIVE_MULTIPLIER), dtype=int), np.ones((X_train_ones[i].shape[0] * DEPRESSIVE_MULTIPLIER), dtype=int)), axis=0)\n",
        "\n",
        "        X_train_splitted.append(client_data)\n",
        "        y_train_splitted.append(client_labels)\n",
        "\n",
        "    return X_train_splitted, y_train_splitted\n",
        "\n",
        "X_trains, y_trains = partition_data(training_samples, training_subject_ids, NUM_CLIENTS, DEPRESSIVE_MULTIPLIER, NON_DEPRESSIVE_MULTIPLIER)"
      ]
    },
    {
      "cell_type": "code",
      "execution_count": null,
      "metadata": {
        "colab": {
          "base_uri": "https://localhost:8080/"
        },
        "id": "MOakTnvyGeG9",
        "outputId": "0536affa-2519-405d-c4ee-e825b90ea146"
      },
      "outputs": [
        {
          "data": {
            "text/plain": [
              "(610, 15001, 13)"
            ]
          },
          "execution_count": 13,
          "metadata": {},
          "output_type": "execute_result"
        }
      ],
      "source": [
        "X_trains[0].shape"
      ]
    },
    {
      "cell_type": "code",
      "execution_count": 14,
      "metadata": {
        "id": "6TLISBYkEXxm"
      },
      "outputs": [],
      "source": [
        "def get_model(input_shape):\n",
        "    model = tf.keras.models.Sequential()\n",
        "\n",
        "    model.add(tf.keras.layers.GRU(units = 64, input_shape = input_shape))\n",
        "\n",
        "    model.add(tf.keras.layers.Dense(32, activation='relu'))\n",
        "    model.add(tf.keras.layers.Dropout(0.3))\n",
        "\n",
        "    model.add(tf.keras.layers.Dense(1, activation='sigmoid'))\n",
        "\n",
        "    return model"
      ]
    },
    {
      "cell_type": "code",
      "execution_count": 15,
      "metadata": {
        "id": "NqrDDSKP7HtP"
      },
      "outputs": [],
      "source": [
        "from flwr.common.typing import NDArrays\n",
        "class FlowerClient(fl.client.NumPyClient):\n",
        "\n",
        "    def __init__(self, model: tf.keras.models.Sequential, X_train: np.ndarray, y_train: np.ndarray):\n",
        "        self.model = model\n",
        "\n",
        "        self.X_train = X_train\n",
        "        self.y_train = y_train\n",
        "\n",
        "\n",
        "    def get_parameters(self, config):\n",
        "        return self.model.get_weights()\n",
        "\n",
        "\n",
        "    def fit(self, parameters: NDArrays, config: Dict[str, Scalar]) -> NDArrays:\n",
        "\n",
        "        self.model.compile(optimizer=tf.keras.optimizers.Adam(learning_rate=0.0005), loss=tf.keras.losses.BinaryCrossentropy(label_smoothing=0.1), metrics=['accuracy'])\n",
        "\n",
        "        self.model.set_weights(parameters)\n",
        "\n",
        "        history = self.model.fit(self.X_train, self.y_train ,batch_size=BATCH_SIZE, epochs=1, verbose=0)\n",
        "        results = {\n",
        "            \"loss\": history.history[\"loss\"][0],\n",
        "            \"accuracy\": history.history[\"accuracy\"][0],\n",
        "        }\n",
        "        return self.model.get_weights(), len(self.X_train), results\n",
        "\n",
        "    def evaluate(self, parameters: NDArrays, config: Dict[str, Scalar])-> Tuple[float, int, Dict[str, Scalar]]:\n",
        "        self.model.compile(optimizer=tf.keras.optimizers.Adam(learning_rate=0.0005), loss=tf.keras.losses.BinaryCrossentropy(label_smoothing=0.1), metrics=['accuracy'])\n",
        "        self.model.set_weights(parameters)\n",
        "\n",
        "        loss, acc = self.model.evaluate(self.X_train, self.y_train, verbose=0)\n",
        "        return loss, len(self.X_train), {\"accuracy\": acc}"
      ]
    },
    {
      "cell_type": "code",
      "execution_count": 16,
      "metadata": {
        "id": "qgf9oz_57I9I"
      },
      "outputs": [],
      "source": [
        "# client creator by client id\n",
        "def create_client_fn(cid: str) -> FlowerClient:\n",
        "\n",
        "    input_shape = (15001, 13)\n",
        "    model = get_model(input_shape)\n",
        "    cid_int = int(cid)\n",
        "    return FlowerClient(model, X_trains[cid_int], y_trains[cid_int])"
      ]
    },
    {
      "cell_type": "code",
      "execution_count": 17,
      "metadata": {
        "id": "-BT6BuAA7J3j"
      },
      "outputs": [],
      "source": [
        "def weighted_average(metrics: List[Tuple[int, Metrics]]) -> Metrics:\n",
        "    accuracies = [num_examples * m[\"accuracy\"] for num_examples, m in metrics]\n",
        "    examples = [num_examples for num_examples, _ in metrics]\n",
        "\n",
        "    # Aggregate and return custom metric (weighted average)\n",
        "    return {\"accuracy\": sum(accuracies) / sum(examples)}"
      ]
    },
    {
      "cell_type": "code",
      "execution_count": 18,
      "metadata": {
        "colab": {
          "base_uri": "https://localhost:8080/"
        },
        "id": "6l4S_aJJ7Laq",
        "outputId": "172b83c9-0fbc-487a-8069-41a2cc527f76"
      },
      "outputs": [
        {
          "name": "stderr",
          "output_type": "stream",
          "text": [
            "INFO flwr 2023-12-13 07:35:25,310 | app.py:178 | Starting Flower simulation, config: ServerConfig(num_rounds=15, round_timeout=None)\n",
            "INFO:flwr:Starting Flower simulation, config: ServerConfig(num_rounds=15, round_timeout=None)\n",
            "2023-12-13 07:35:27,678\tINFO worker.py:1621 -- Started a local Ray instance.\n",
            "INFO flwr 2023-12-13 07:35:29,226 | app.py:213 | Flower VCE: Ray initialized with resources: {'object_store_memory': 16280271667.0, 'node:__internal_head__': 1.0, 'CPU': 8.0, 'GPU': 1.0, 'node:172.28.0.12': 1.0, 'memory': 32560543335.0}\n",
            "INFO:flwr:Flower VCE: Ray initialized with resources: {'object_store_memory': 16280271667.0, 'node:__internal_head__': 1.0, 'CPU': 8.0, 'GPU': 1.0, 'node:172.28.0.12': 1.0, 'memory': 32560543335.0}\n",
            "INFO flwr 2023-12-13 07:35:29,229 | app.py:219 | Optimize your simulation with Flower VCE: https://flower.dev/docs/framework/how-to-run-simulations.html\n",
            "INFO:flwr:Optimize your simulation with Flower VCE: https://flower.dev/docs/framework/how-to-run-simulations.html\n",
            "INFO flwr 2023-12-13 07:35:29,233 | app.py:242 | Flower VCE: Resources for each Virtual Client: {'num_cpus': 2, 'num_gpus': 1}\n",
            "INFO:flwr:Flower VCE: Resources for each Virtual Client: {'num_cpus': 2, 'num_gpus': 1}\n",
            "INFO flwr 2023-12-13 07:35:29,252 | app.py:288 | Flower VCE: Creating VirtualClientEngineActorPool with 1 actors\n",
            "INFO:flwr:Flower VCE: Creating VirtualClientEngineActorPool with 1 actors\n",
            "INFO flwr 2023-12-13 07:35:29,255 | server.py:89 | Initializing global parameters\n",
            "INFO:flwr:Initializing global parameters\n",
            "INFO flwr 2023-12-13 07:35:29,258 | server.py:276 | Requesting initial parameters from one random client\n",
            "INFO:flwr:Requesting initial parameters from one random client\n",
            "\u001b[2m\u001b[36m(pid=6469)\u001b[0m 2023-12-13 07:35:30.414411: E tensorflow/compiler/xla/stream_executor/cuda/cuda_dnn.cc:9342] Unable to register cuDNN factory: Attempting to register factory for plugin cuDNN when one has already been registered\n",
            "\u001b[2m\u001b[36m(pid=6469)\u001b[0m 2023-12-13 07:35:30.414478: E tensorflow/compiler/xla/stream_executor/cuda/cuda_fft.cc:609] Unable to register cuFFT factory: Attempting to register factory for plugin cuFFT when one has already been registered\n",
            "\u001b[2m\u001b[36m(pid=6469)\u001b[0m 2023-12-13 07:35:30.414509: E tensorflow/compiler/xla/stream_executor/cuda/cuda_blas.cc:1518] Unable to register cuBLAS factory: Attempting to register factory for plugin cuBLAS when one has already been registered\n",
            "\u001b[2m\u001b[36m(pid=6469)\u001b[0m 2023-12-13 07:35:31.641716: W tensorflow/compiler/tf2tensorrt/utils/py_utils.cc:38] TF-TRT Warning: Could not find TensorRT\n",
            "\u001b[2m\u001b[36m(DefaultActor pid=6469)\u001b[0m 2023-12-13 07:35:40.746861: W tensorflow/core/common_runtime/gpu/gpu_bfc_allocator.cc:47] Overriding orig_value setting because the TF_FORCE_GPU_ALLOW_GROWTH environment variable is set. Original config value was 0.\n",
            "INFO flwr 2023-12-13 07:35:41,658 | server.py:280 | Received initial parameters from one random client\n",
            "INFO:flwr:Received initial parameters from one random client\n",
            "INFO flwr 2023-12-13 07:35:41,660 | server.py:91 | Evaluating initial parameters\n",
            "INFO:flwr:Evaluating initial parameters\n",
            "INFO flwr 2023-12-13 07:35:57,410 | server.py:94 | initial parameters (loss, other metrics): 0.7099450826644897, {'accuracy': 0.550000011920929}\n",
            "INFO:flwr:initial parameters (loss, other metrics): 0.7099450826644897, {'accuracy': 0.550000011920929}\n",
            "INFO flwr 2023-12-13 07:35:57,414 | server.py:104 | FL starting\n",
            "INFO:flwr:FL starting\n",
            "DEBUG flwr 2023-12-13 07:35:57,418 | server.py:222 | fit_round 1: strategy sampled 8 clients (out of 8)\n",
            "DEBUG:flwr:fit_round 1: strategy sampled 8 clients (out of 8)\n"
          ]
        },
        {
          "name": "stdout",
          "output_type": "stream",
          "text": [
            "LOSS: 0.7099450826644897\n",
            "BEST_LOSS: 999\n",
            "ACCURACY: 0.550000011920929\n",
            "BEST_ACCURACY: 0.0\n"
          ]
        },
        {
          "name": "stderr",
          "output_type": "stream",
          "text": [
            "DEBUG flwr 2023-12-13 07:38:55,838 | server.py:236 | fit_round 1 received 8 results and 0 failures\n",
            "DEBUG:flwr:fit_round 1 received 8 results and 0 failures\n",
            "WARNING flwr 2023-12-13 07:38:55,853 | fedavg.py:242 | No fit_metrics_aggregation_fn provided\n",
            "WARNING:flwr:No fit_metrics_aggregation_fn provided\n",
            "INFO flwr 2023-12-13 07:39:05,435 | server.py:125 | fit progress: (1, 0.6778659224510193, {'accuracy': 0.5962499976158142}, 188.0163485930002)\n",
            "INFO:flwr:fit progress: (1, 0.6778659224510193, {'accuracy': 0.5962499976158142}, 188.0163485930002)\n",
            "DEBUG flwr 2023-12-13 07:39:05,440 | server.py:173 | evaluate_round 1: strategy sampled 8 clients (out of 8)\n",
            "DEBUG:flwr:evaluate_round 1: strategy sampled 8 clients (out of 8)\n"
          ]
        },
        {
          "name": "stdout",
          "output_type": "stream",
          "text": [
            "LOSS: 0.6778659224510193\n",
            "BEST_LOSS: 0.7099450826644897\n",
            "ACCURACY: 0.5962499976158142\n",
            "BEST_ACCURACY: 0.550000011920929\n"
          ]
        },
        {
          "name": "stderr",
          "output_type": "stream",
          "text": [
            "DEBUG flwr 2023-12-13 07:40:30,771 | server.py:187 | evaluate_round 1 received 8 results and 0 failures\n",
            "DEBUG:flwr:evaluate_round 1 received 8 results and 0 failures\n",
            "DEBUG flwr 2023-12-13 07:40:30,773 | server.py:222 | fit_round 2: strategy sampled 8 clients (out of 8)\n",
            "DEBUG:flwr:fit_round 2: strategy sampled 8 clients (out of 8)\n",
            "DEBUG flwr 2023-12-13 07:43:21,560 | server.py:236 | fit_round 2 received 8 results and 0 failures\n",
            "DEBUG:flwr:fit_round 2 received 8 results and 0 failures\n",
            "INFO flwr 2023-12-13 07:43:31,088 | server.py:125 | fit progress: (2, 0.6760096549987793, {'accuracy': 0.5662500262260437}, 453.67018381900016)\n",
            "INFO:flwr:fit progress: (2, 0.6760096549987793, {'accuracy': 0.5662500262260437}, 453.67018381900016)\n",
            "DEBUG flwr 2023-12-13 07:43:31,090 | server.py:173 | evaluate_round 2: strategy sampled 8 clients (out of 8)\n",
            "DEBUG:flwr:evaluate_round 2: strategy sampled 8 clients (out of 8)\n"
          ]
        },
        {
          "name": "stdout",
          "output_type": "stream",
          "text": [
            "LOSS: 0.6760096549987793\n",
            "BEST_LOSS: 0.6778659224510193\n",
            "ACCURACY: 0.5662500262260437\n",
            "BEST_ACCURACY: 0.5962499976158142\n"
          ]
        },
        {
          "name": "stderr",
          "output_type": "stream",
          "text": [
            "DEBUG flwr 2023-12-13 07:44:54,207 | server.py:187 | evaluate_round 2 received 8 results and 0 failures\n",
            "DEBUG:flwr:evaluate_round 2 received 8 results and 0 failures\n",
            "DEBUG flwr 2023-12-13 07:44:54,209 | server.py:222 | fit_round 3: strategy sampled 8 clients (out of 8)\n",
            "DEBUG:flwr:fit_round 3: strategy sampled 8 clients (out of 8)\n",
            "DEBUG flwr 2023-12-13 07:47:46,717 | server.py:236 | fit_round 3 received 8 results and 0 failures\n",
            "DEBUG:flwr:fit_round 3 received 8 results and 0 failures\n",
            "INFO flwr 2023-12-13 07:47:56,258 | server.py:125 | fit progress: (3, 0.6721572279930115, {'accuracy': 0.574999988079071}, 718.8399257870001)\n",
            "INFO:flwr:fit progress: (3, 0.6721572279930115, {'accuracy': 0.574999988079071}, 718.8399257870001)\n",
            "DEBUG flwr 2023-12-13 07:47:56,261 | server.py:173 | evaluate_round 3: strategy sampled 8 clients (out of 8)\n",
            "DEBUG:flwr:evaluate_round 3: strategy sampled 8 clients (out of 8)\n"
          ]
        },
        {
          "name": "stdout",
          "output_type": "stream",
          "text": [
            "LOSS: 0.6721572279930115\n",
            "BEST_LOSS: 0.6760096549987793\n",
            "ACCURACY: 0.574999988079071\n",
            "BEST_ACCURACY: 0.5662500262260437\n"
          ]
        },
        {
          "name": "stderr",
          "output_type": "stream",
          "text": [
            "DEBUG flwr 2023-12-13 07:49:19,445 | server.py:187 | evaluate_round 3 received 8 results and 0 failures\n",
            "DEBUG:flwr:evaluate_round 3 received 8 results and 0 failures\n",
            "DEBUG flwr 2023-12-13 07:49:19,448 | server.py:222 | fit_round 4: strategy sampled 8 clients (out of 8)\n",
            "DEBUG:flwr:fit_round 4: strategy sampled 8 clients (out of 8)\n",
            "DEBUG flwr 2023-12-13 07:52:10,280 | server.py:236 | fit_round 4 received 8 results and 0 failures\n",
            "DEBUG:flwr:fit_round 4 received 8 results and 0 failures\n",
            "INFO flwr 2023-12-13 07:52:19,777 | server.py:125 | fit progress: (4, 0.6656020283699036, {'accuracy': 0.6312500238418579}, 982.3592084000002)\n",
            "INFO:flwr:fit progress: (4, 0.6656020283699036, {'accuracy': 0.6312500238418579}, 982.3592084000002)\n",
            "DEBUG flwr 2023-12-13 07:52:19,780 | server.py:173 | evaluate_round 4: strategy sampled 8 clients (out of 8)\n",
            "DEBUG:flwr:evaluate_round 4: strategy sampled 8 clients (out of 8)\n"
          ]
        },
        {
          "name": "stdout",
          "output_type": "stream",
          "text": [
            "LOSS: 0.6656020283699036\n",
            "BEST_LOSS: 0.6721572279930115\n",
            "ACCURACY: 0.6312500238418579\n",
            "BEST_ACCURACY: 0.574999988079071\n"
          ]
        },
        {
          "name": "stderr",
          "output_type": "stream",
          "text": [
            "DEBUG flwr 2023-12-13 07:53:43,100 | server.py:187 | evaluate_round 4 received 8 results and 0 failures\n",
            "DEBUG:flwr:evaluate_round 4 received 8 results and 0 failures\n",
            "DEBUG flwr 2023-12-13 07:53:43,106 | server.py:222 | fit_round 5: strategy sampled 8 clients (out of 8)\n",
            "DEBUG:flwr:fit_round 5: strategy sampled 8 clients (out of 8)\n",
            "DEBUG flwr 2023-12-13 07:56:36,425 | server.py:236 | fit_round 5 received 8 results and 0 failures\n",
            "DEBUG:flwr:fit_round 5 received 8 results and 0 failures\n",
            "INFO flwr 2023-12-13 07:56:45,908 | server.py:125 | fit progress: (5, 0.6659483909606934, {'accuracy': 0.6575000286102295}, 1248.4894900560002)\n",
            "INFO:flwr:fit progress: (5, 0.6659483909606934, {'accuracy': 0.6575000286102295}, 1248.4894900560002)\n",
            "DEBUG flwr 2023-12-13 07:56:45,910 | server.py:173 | evaluate_round 5: strategy sampled 8 clients (out of 8)\n",
            "DEBUG:flwr:evaluate_round 5: strategy sampled 8 clients (out of 8)\n"
          ]
        },
        {
          "name": "stdout",
          "output_type": "stream",
          "text": [
            "LOSS: 0.6659483909606934\n",
            "BEST_LOSS: 0.6656020283699036\n",
            "ACCURACY: 0.6575000286102295\n",
            "BEST_ACCURACY: 0.6312500238418579\n"
          ]
        },
        {
          "name": "stderr",
          "output_type": "stream",
          "text": [
            "DEBUG flwr 2023-12-13 07:58:09,343 | server.py:187 | evaluate_round 5 received 8 results and 0 failures\n",
            "DEBUG:flwr:evaluate_round 5 received 8 results and 0 failures\n",
            "DEBUG flwr 2023-12-13 07:58:09,346 | server.py:222 | fit_round 6: strategy sampled 8 clients (out of 8)\n",
            "DEBUG:flwr:fit_round 6: strategy sampled 8 clients (out of 8)\n",
            "DEBUG flwr 2023-12-13 08:01:01,065 | server.py:236 | fit_round 6 received 8 results and 0 failures\n",
            "DEBUG:flwr:fit_round 6 received 8 results and 0 failures\n",
            "INFO flwr 2023-12-13 08:01:10,584 | server.py:125 | fit progress: (6, 0.6650763750076294, {'accuracy': 0.6387500166893005}, 1513.165479829)\n",
            "INFO:flwr:fit progress: (6, 0.6650763750076294, {'accuracy': 0.6387500166893005}, 1513.165479829)\n",
            "DEBUG flwr 2023-12-13 08:01:10,586 | server.py:173 | evaluate_round 6: strategy sampled 8 clients (out of 8)\n",
            "DEBUG:flwr:evaluate_round 6: strategy sampled 8 clients (out of 8)\n"
          ]
        },
        {
          "name": "stdout",
          "output_type": "stream",
          "text": [
            "LOSS: 0.6650763750076294\n",
            "BEST_LOSS: 0.6656020283699036\n",
            "ACCURACY: 0.6387500166893005\n",
            "BEST_ACCURACY: 0.6312500238418579\n"
          ]
        },
        {
          "name": "stderr",
          "output_type": "stream",
          "text": [
            "DEBUG flwr 2023-12-13 08:02:34,310 | server.py:187 | evaluate_round 6 received 8 results and 0 failures\n",
            "DEBUG:flwr:evaluate_round 6 received 8 results and 0 failures\n",
            "DEBUG flwr 2023-12-13 08:02:34,313 | server.py:222 | fit_round 7: strategy sampled 8 clients (out of 8)\n",
            "DEBUG:flwr:fit_round 7: strategy sampled 8 clients (out of 8)\n",
            "DEBUG flwr 2023-12-13 08:05:28,362 | server.py:236 | fit_round 7 received 8 results and 0 failures\n",
            "DEBUG:flwr:fit_round 7 received 8 results and 0 failures\n",
            "INFO flwr 2023-12-13 08:05:37,856 | server.py:125 | fit progress: (7, 0.6588788628578186, {'accuracy': 0.6474999785423279}, 1780.4379944500001)\n",
            "INFO:flwr:fit progress: (7, 0.6588788628578186, {'accuracy': 0.6474999785423279}, 1780.4379944500001)\n",
            "DEBUG flwr 2023-12-13 08:05:37,861 | server.py:173 | evaluate_round 7: strategy sampled 8 clients (out of 8)\n",
            "DEBUG:flwr:evaluate_round 7: strategy sampled 8 clients (out of 8)\n"
          ]
        },
        {
          "name": "stdout",
          "output_type": "stream",
          "text": [
            "LOSS: 0.6588788628578186\n",
            "BEST_LOSS: 0.6650763750076294\n",
            "ACCURACY: 0.6474999785423279\n",
            "BEST_ACCURACY: 0.6387500166893005\n"
          ]
        },
        {
          "name": "stderr",
          "output_type": "stream",
          "text": [
            "DEBUG flwr 2023-12-13 08:07:01,637 | server.py:187 | evaluate_round 7 received 8 results and 0 failures\n",
            "DEBUG:flwr:evaluate_round 7 received 8 results and 0 failures\n",
            "DEBUG flwr 2023-12-13 08:07:01,642 | server.py:222 | fit_round 8: strategy sampled 8 clients (out of 8)\n",
            "DEBUG:flwr:fit_round 8: strategy sampled 8 clients (out of 8)\n",
            "DEBUG flwr 2023-12-13 08:09:53,720 | server.py:236 | fit_round 8 received 8 results and 0 failures\n",
            "DEBUG:flwr:fit_round 8 received 8 results and 0 failures\n",
            "INFO flwr 2023-12-13 08:10:03,151 | server.py:125 | fit progress: (8, 0.6568055748939514, {'accuracy': 0.6025000214576721}, 2045.732338188)\n",
            "INFO:flwr:fit progress: (8, 0.6568055748939514, {'accuracy': 0.6025000214576721}, 2045.732338188)\n",
            "DEBUG flwr 2023-12-13 08:10:03,153 | server.py:173 | evaluate_round 8: strategy sampled 8 clients (out of 8)\n",
            "DEBUG:flwr:evaluate_round 8: strategy sampled 8 clients (out of 8)\n"
          ]
        },
        {
          "name": "stdout",
          "output_type": "stream",
          "text": [
            "LOSS: 0.6568055748939514\n",
            "BEST_LOSS: 0.6588788628578186\n",
            "ACCURACY: 0.6025000214576721\n",
            "BEST_ACCURACY: 0.6474999785423279\n"
          ]
        },
        {
          "name": "stderr",
          "output_type": "stream",
          "text": [
            "DEBUG flwr 2023-12-13 08:11:27,256 | server.py:187 | evaluate_round 8 received 8 results and 0 failures\n",
            "DEBUG:flwr:evaluate_round 8 received 8 results and 0 failures\n",
            "DEBUG flwr 2023-12-13 08:11:27,260 | server.py:222 | fit_round 9: strategy sampled 8 clients (out of 8)\n",
            "DEBUG:flwr:fit_round 9: strategy sampled 8 clients (out of 8)\n",
            "DEBUG flwr 2023-12-13 08:14:22,358 | server.py:236 | fit_round 9 received 8 results and 0 failures\n",
            "DEBUG:flwr:fit_round 9 received 8 results and 0 failures\n",
            "INFO flwr 2023-12-13 08:14:31,881 | server.py:125 | fit progress: (9, 0.6629763245582581, {'accuracy': 0.59375}, 2314.463162329)\n",
            "INFO:flwr:fit progress: (9, 0.6629763245582581, {'accuracy': 0.59375}, 2314.463162329)\n",
            "DEBUG flwr 2023-12-13 08:14:31,883 | server.py:173 | evaluate_round 9: strategy sampled 8 clients (out of 8)\n",
            "DEBUG:flwr:evaluate_round 9: strategy sampled 8 clients (out of 8)\n"
          ]
        },
        {
          "name": "stdout",
          "output_type": "stream",
          "text": [
            "LOSS: 0.6629763245582581\n",
            "BEST_LOSS: 0.6568055748939514\n",
            "ACCURACY: 0.59375\n",
            "BEST_ACCURACY: 0.6025000214576721\n"
          ]
        },
        {
          "name": "stderr",
          "output_type": "stream",
          "text": [
            "DEBUG flwr 2023-12-13 08:15:56,074 | server.py:187 | evaluate_round 9 received 8 results and 0 failures\n",
            "DEBUG:flwr:evaluate_round 9 received 8 results and 0 failures\n",
            "DEBUG flwr 2023-12-13 08:15:56,079 | server.py:222 | fit_round 10: strategy sampled 8 clients (out of 8)\n",
            "DEBUG:flwr:fit_round 10: strategy sampled 8 clients (out of 8)\n",
            "DEBUG flwr 2023-12-13 08:18:48,636 | server.py:236 | fit_round 10 received 8 results and 0 failures\n",
            "DEBUG:flwr:fit_round 10 received 8 results and 0 failures\n",
            "INFO flwr 2023-12-13 08:18:58,110 | server.py:125 | fit progress: (10, 0.6657003164291382, {'accuracy': 0.5787500143051147}, 2580.6922694990003)\n",
            "INFO:flwr:fit progress: (10, 0.6657003164291382, {'accuracy': 0.5787500143051147}, 2580.6922694990003)\n",
            "DEBUG flwr 2023-12-13 08:18:58,113 | server.py:173 | evaluate_round 10: strategy sampled 8 clients (out of 8)\n",
            "DEBUG:flwr:evaluate_round 10: strategy sampled 8 clients (out of 8)\n"
          ]
        },
        {
          "name": "stdout",
          "output_type": "stream",
          "text": [
            "LOSS: 0.6657003164291382\n",
            "BEST_LOSS: 0.6568055748939514\n",
            "ACCURACY: 0.5787500143051147\n",
            "BEST_ACCURACY: 0.6025000214576721\n"
          ]
        },
        {
          "name": "stderr",
          "output_type": "stream",
          "text": [
            "DEBUG flwr 2023-12-13 08:20:22,575 | server.py:187 | evaluate_round 10 received 8 results and 0 failures\n",
            "DEBUG:flwr:evaluate_round 10 received 8 results and 0 failures\n",
            "DEBUG flwr 2023-12-13 08:20:22,582 | server.py:222 | fit_round 11: strategy sampled 8 clients (out of 8)\n",
            "DEBUG:flwr:fit_round 11: strategy sampled 8 clients (out of 8)\n",
            "DEBUG flwr 2023-12-13 08:23:19,074 | server.py:236 | fit_round 11 received 8 results and 0 failures\n",
            "DEBUG:flwr:fit_round 11 received 8 results and 0 failures\n",
            "INFO flwr 2023-12-13 08:23:28,597 | server.py:125 | fit progress: (11, 0.667773962020874, {'accuracy': 0.5912500023841858}, 2851.1791510539997)\n",
            "INFO:flwr:fit progress: (11, 0.667773962020874, {'accuracy': 0.5912500023841858}, 2851.1791510539997)\n",
            "DEBUG flwr 2023-12-13 08:23:28,599 | server.py:173 | evaluate_round 11: strategy sampled 8 clients (out of 8)\n",
            "DEBUG:flwr:evaluate_round 11: strategy sampled 8 clients (out of 8)\n"
          ]
        },
        {
          "name": "stdout",
          "output_type": "stream",
          "text": [
            "LOSS: 0.667773962020874\n",
            "BEST_LOSS: 0.6568055748939514\n",
            "ACCURACY: 0.5912500023841858\n",
            "BEST_ACCURACY: 0.6025000214576721\n"
          ]
        },
        {
          "name": "stderr",
          "output_type": "stream",
          "text": [
            "DEBUG flwr 2023-12-13 08:24:53,174 | server.py:187 | evaluate_round 11 received 8 results and 0 failures\n",
            "DEBUG:flwr:evaluate_round 11 received 8 results and 0 failures\n",
            "DEBUG flwr 2023-12-13 08:24:53,176 | server.py:222 | fit_round 12: strategy sampled 8 clients (out of 8)\n",
            "DEBUG:flwr:fit_round 12: strategy sampled 8 clients (out of 8)\n",
            "DEBUG flwr 2023-12-13 08:27:45,931 | server.py:236 | fit_round 12 received 8 results and 0 failures\n",
            "DEBUG:flwr:fit_round 12 received 8 results and 0 failures\n",
            "INFO flwr 2023-12-13 08:27:55,473 | server.py:125 | fit progress: (12, 0.6663548946380615, {'accuracy': 0.5699999928474426}, 3118.054564512)\n",
            "INFO:flwr:fit progress: (12, 0.6663548946380615, {'accuracy': 0.5699999928474426}, 3118.054564512)\n",
            "DEBUG flwr 2023-12-13 08:27:55,475 | server.py:173 | evaluate_round 12: strategy sampled 8 clients (out of 8)\n",
            "DEBUG:flwr:evaluate_round 12: strategy sampled 8 clients (out of 8)\n"
          ]
        },
        {
          "name": "stdout",
          "output_type": "stream",
          "text": [
            "LOSS: 0.6663548946380615\n",
            "BEST_LOSS: 0.6568055748939514\n",
            "ACCURACY: 0.5699999928474426\n",
            "BEST_ACCURACY: 0.6025000214576721\n"
          ]
        },
        {
          "name": "stderr",
          "output_type": "stream",
          "text": [
            "DEBUG flwr 2023-12-13 08:29:19,988 | server.py:187 | evaluate_round 12 received 8 results and 0 failures\n",
            "DEBUG:flwr:evaluate_round 12 received 8 results and 0 failures\n",
            "DEBUG flwr 2023-12-13 08:29:19,991 | server.py:222 | fit_round 13: strategy sampled 8 clients (out of 8)\n",
            "DEBUG:flwr:fit_round 13: strategy sampled 8 clients (out of 8)\n",
            "DEBUG flwr 2023-12-13 08:32:17,094 | server.py:236 | fit_round 13 received 8 results and 0 failures\n",
            "DEBUG:flwr:fit_round 13 received 8 results and 0 failures\n",
            "INFO flwr 2023-12-13 08:32:26,608 | server.py:125 | fit progress: (13, 0.6671948432922363, {'accuracy': 0.5862500071525574}, 3389.1897549800005)\n",
            "INFO:flwr:fit progress: (13, 0.6671948432922363, {'accuracy': 0.5862500071525574}, 3389.1897549800005)\n",
            "DEBUG flwr 2023-12-13 08:32:26,610 | server.py:173 | evaluate_round 13: strategy sampled 8 clients (out of 8)\n",
            "DEBUG:flwr:evaluate_round 13: strategy sampled 8 clients (out of 8)\n"
          ]
        },
        {
          "name": "stdout",
          "output_type": "stream",
          "text": [
            "LOSS: 0.6671948432922363\n",
            "BEST_LOSS: 0.6568055748939514\n",
            "ACCURACY: 0.5862500071525574\n",
            "BEST_ACCURACY: 0.6025000214576721\n"
          ]
        },
        {
          "name": "stderr",
          "output_type": "stream",
          "text": [
            "DEBUG flwr 2023-12-13 08:33:51,075 | server.py:187 | evaluate_round 13 received 8 results and 0 failures\n",
            "DEBUG:flwr:evaluate_round 13 received 8 results and 0 failures\n",
            "DEBUG flwr 2023-12-13 08:33:51,084 | server.py:222 | fit_round 14: strategy sampled 8 clients (out of 8)\n",
            "DEBUG:flwr:fit_round 14: strategy sampled 8 clients (out of 8)\n",
            "DEBUG flwr 2023-12-13 08:36:44,132 | server.py:236 | fit_round 14 received 8 results and 0 failures\n",
            "DEBUG:flwr:fit_round 14 received 8 results and 0 failures\n",
            "INFO flwr 2023-12-13 08:36:53,525 | server.py:125 | fit progress: (14, 0.6640973687171936, {'accuracy': 0.6025000214576721}, 3656.106338251)\n",
            "INFO:flwr:fit progress: (14, 0.6640973687171936, {'accuracy': 0.6025000214576721}, 3656.106338251)\n",
            "DEBUG flwr 2023-12-13 08:36:53,527 | server.py:173 | evaluate_round 14: strategy sampled 8 clients (out of 8)\n",
            "DEBUG:flwr:evaluate_round 14: strategy sampled 8 clients (out of 8)\n"
          ]
        },
        {
          "name": "stdout",
          "output_type": "stream",
          "text": [
            "LOSS: 0.6640973687171936\n",
            "BEST_LOSS: 0.6568055748939514\n",
            "ACCURACY: 0.6025000214576721\n",
            "BEST_ACCURACY: 0.6025000214576721\n"
          ]
        },
        {
          "name": "stderr",
          "output_type": "stream",
          "text": [
            "DEBUG flwr 2023-12-13 08:38:18,296 | server.py:187 | evaluate_round 14 received 8 results and 0 failures\n",
            "DEBUG:flwr:evaluate_round 14 received 8 results and 0 failures\n",
            "DEBUG flwr 2023-12-13 08:38:18,300 | server.py:222 | fit_round 15: strategy sampled 8 clients (out of 8)\n",
            "DEBUG:flwr:fit_round 15: strategy sampled 8 clients (out of 8)\n",
            "DEBUG flwr 2023-12-13 08:41:16,585 | server.py:236 | fit_round 15 received 8 results and 0 failures\n",
            "DEBUG:flwr:fit_round 15 received 8 results and 0 failures\n",
            "INFO flwr 2023-12-13 08:41:26,129 | server.py:125 | fit progress: (15, 0.6688230633735657, {'accuracy': 0.5987499952316284}, 3928.71058179)\n",
            "INFO:flwr:fit progress: (15, 0.6688230633735657, {'accuracy': 0.5987499952316284}, 3928.71058179)\n",
            "DEBUG flwr 2023-12-13 08:41:26,131 | server.py:173 | evaluate_round 15: strategy sampled 8 clients (out of 8)\n",
            "DEBUG:flwr:evaluate_round 15: strategy sampled 8 clients (out of 8)\n"
          ]
        },
        {
          "name": "stdout",
          "output_type": "stream",
          "text": [
            "LOSS: 0.6688230633735657\n",
            "BEST_LOSS: 0.6568055748939514\n",
            "ACCURACY: 0.5987499952316284\n",
            "BEST_ACCURACY: 0.6025000214576721\n"
          ]
        },
        {
          "name": "stderr",
          "output_type": "stream",
          "text": [
            "DEBUG flwr 2023-12-13 08:42:51,342 | server.py:187 | evaluate_round 15 received 8 results and 0 failures\n",
            "DEBUG:flwr:evaluate_round 15 received 8 results and 0 failures\n",
            "INFO flwr 2023-12-13 08:42:51,346 | server.py:153 | FL finished in 4013.928286485\n",
            "INFO:flwr:FL finished in 4013.928286485\n",
            "INFO flwr 2023-12-13 08:42:51,361 | app.py:226 | app_fit: losses_distributed [(1, 0.6966565743405768), (2, 0.691108407111878), (3, 0.6872545216945891), (4, 0.6833108612831603), (5, 0.6778410008613099), (6, 0.6726266158388016), (7, 0.6690515023596744), (8, 0.660135530410929), (9, 0.6555818611002983), (10, 0.6505945454252527), (11, 0.6458311162096388), (12, 0.6379370539746386), (13, 0.6357765699954743), (14, 0.6323376526223853), (15, 0.6295694262423414)]\n",
            "INFO:flwr:app_fit: losses_distributed [(1, 0.6966565743405768), (2, 0.691108407111878), (3, 0.6872545216945891), (4, 0.6833108612831603), (5, 0.6778410008613099), (6, 0.6726266158388016), (7, 0.6690515023596744), (8, 0.660135530410929), (9, 0.6555818611002983), (10, 0.6505945454252527), (11, 0.6458311162096388), (12, 0.6379370539746386), (13, 0.6357765699954743), (14, 0.6323376526223853), (15, 0.6295694262423414)]\n",
            "INFO flwr 2023-12-13 08:42:51,363 | app.py:227 | app_fit: metrics_distributed_fit {}\n",
            "INFO:flwr:app_fit: metrics_distributed_fit {}\n",
            "INFO flwr 2023-12-13 08:42:51,366 | app.py:228 | app_fit: metrics_distributed {'accuracy': [(1, 0.4859574498014247), (2, 0.5170212769761998), (3, 0.5442553146088377), (4, 0.568510631297497), (5, 0.5834042450214955), (6, 0.6161702130703216), (7, 0.6144680837367443), (8, 0.6404255316612568), (9, 0.6451063792756263), (10, 0.6408510717939824), (11, 0.6608510605832364), (12, 0.6621276551104607), (13, 0.6599999957896293), (14, 0.6604255278059776), (15, 0.6625531868731722)]}\n",
            "INFO:flwr:app_fit: metrics_distributed {'accuracy': [(1, 0.4859574498014247), (2, 0.5170212769761998), (3, 0.5442553146088377), (4, 0.568510631297497), (5, 0.5834042450214955), (6, 0.6161702130703216), (7, 0.6144680837367443), (8, 0.6404255316612568), (9, 0.6451063792756263), (10, 0.6408510717939824), (11, 0.6608510605832364), (12, 0.6621276551104607), (13, 0.6599999957896293), (14, 0.6604255278059776), (15, 0.6625531868731722)]}\n",
            "INFO flwr 2023-12-13 08:42:51,369 | app.py:229 | app_fit: losses_centralized [(0, 0.7099450826644897), (1, 0.6778659224510193), (2, 0.6760096549987793), (3, 0.6721572279930115), (4, 0.6656020283699036), (5, 0.6659483909606934), (6, 0.6650763750076294), (7, 0.6588788628578186), (8, 0.6568055748939514), (9, 0.6629763245582581), (10, 0.6657003164291382), (11, 0.667773962020874), (12, 0.6663548946380615), (13, 0.6671948432922363), (14, 0.6640973687171936), (15, 0.6688230633735657)]\n",
            "INFO:flwr:app_fit: losses_centralized [(0, 0.7099450826644897), (1, 0.6778659224510193), (2, 0.6760096549987793), (3, 0.6721572279930115), (4, 0.6656020283699036), (5, 0.6659483909606934), (6, 0.6650763750076294), (7, 0.6588788628578186), (8, 0.6568055748939514), (9, 0.6629763245582581), (10, 0.6657003164291382), (11, 0.667773962020874), (12, 0.6663548946380615), (13, 0.6671948432922363), (14, 0.6640973687171936), (15, 0.6688230633735657)]\n",
            "INFO flwr 2023-12-13 08:42:51,370 | app.py:230 | app_fit: metrics_centralized {'accuracy': [(0, 0.550000011920929), (1, 0.5962499976158142), (2, 0.5662500262260437), (3, 0.574999988079071), (4, 0.6312500238418579), (5, 0.6575000286102295), (6, 0.6387500166893005), (7, 0.6474999785423279), (8, 0.6025000214576721), (9, 0.59375), (10, 0.5787500143051147), (11, 0.5912500023841858), (12, 0.5699999928474426), (13, 0.5862500071525574), (14, 0.6025000214576721), (15, 0.5987499952316284)]}\n",
            "INFO:flwr:app_fit: metrics_centralized {'accuracy': [(0, 0.550000011920929), (1, 0.5962499976158142), (2, 0.5662500262260437), (3, 0.574999988079071), (4, 0.6312500238418579), (5, 0.6575000286102295), (6, 0.6387500166893005), (7, 0.6474999785423279), (8, 0.6025000214576721), (9, 0.59375), (10, 0.5787500143051147), (11, 0.5912500023841858), (12, 0.5699999928474426), (13, 0.5862500071525574), (14, 0.6025000214576721), (15, 0.5987499952316284)]}\n"
          ]
        }
      ],
      "source": [
        "patience = 5\n",
        "best_accuracy = 0.0\n",
        "best_loss = 999\n",
        "weights = np.array([])\n",
        "\n",
        "def evaluate(\n",
        "    server_round: int,\n",
        "    parameters: fl.common.NDArrays,\n",
        "    config: Dict[str, fl.common.Scalar],\n",
        "    ) -> Optional[Tuple[float, Dict[str, fl.common.Scalar]]]:\n",
        "    \"\"\"Centralized evaluation function\"\"\"\n",
        "\n",
        "    input_shape = (15001, 13)\n",
        "    model = get_model(input_shape)\n",
        "    model.compile(optimizer=tf.keras.optimizers.Adam(learning_rate=0.0005), loss=tf.keras.losses.BinaryCrossentropy(label_smoothing=0.1), metrics=['accuracy'])\n",
        "\n",
        "    model.set_weights(parameters)\n",
        "\n",
        "    loss, accuracy = model.evaluate(val_samples, val_labels_df, batch_size=16, verbose=0)\n",
        "\n",
        "    global best_accuracy\n",
        "    global best_loss\n",
        "\n",
        "    global weights\n",
        "    print(f\"LOSS: {loss}\")\n",
        "    print(f\"BEST_LOSS: {best_loss}\")\n",
        "    print(f\"ACCURACY: {accuracy}\")\n",
        "    print(f\"BEST_ACCURACY: {best_accuracy}\")\n",
        "\n",
        "    if loss < best_loss:\n",
        "        best_accuracy = accuracy\n",
        "        weights = parameters\n",
        "        best_loss = loss\n",
        "\n",
        "    return loss, {\"accuracy\": accuracy}\n",
        "\n",
        "\n",
        "client_resources = {\"num_cpus\": 2}\n",
        "if tf.config.get_visible_devices(\"GPU\"):\n",
        "    client_resources[\"num_gpus\"] = 1\n",
        "\n",
        "# Specify the Strategy\n",
        "strategy = fl.server.strategy.FedAvg(\n",
        "    fraction_fit=1.0,  # Sample 100% of available clients for training\n",
        "    fraction_evaluate=1.0,  \n",
        "    min_fit_clients=NUM_CLIENTS,  \n",
        "    min_evaluate_clients=NUM_CLIENTS,  \n",
        "    min_available_clients=NUM_CLIENTS,  # Wait until all 8 clients are available\n",
        "    evaluate_metrics_aggregation_fn=weighted_average,\n",
        "    evaluate_fn=evaluate\n",
        ")\n",
        "\n",
        "# Start simulation\n",
        "history = fl.simulation.start_simulation(\n",
        "    client_fn=create_client_fn,\n",
        "    num_clients=NUM_CLIENTS,\n",
        "    config=fl.server.ServerConfig(num_rounds=15),\n",
        "    strategy=strategy,\n",
        "    client_resources=client_resources,\n",
        ")"
      ]
    },
    {
      "cell_type": "code",
      "execution_count": 19,
      "metadata": {
        "colab": {
          "base_uri": "https://localhost:8080/"
        },
        "id": "MO-YYWSD7NcS",
        "outputId": "8622bb41-6bee-4912-de81-7768a831121c"
      },
      "outputs": [
        {
          "data": {
            "text/plain": [
              "History (loss, distributed):\n",
              "\tround 1: 0.6966565743405768\n",
              "\tround 2: 0.691108407111878\n",
              "\tround 3: 0.6872545216945891\n",
              "\tround 4: 0.6833108612831603\n",
              "\tround 5: 0.6778410008613099\n",
              "\tround 6: 0.6726266158388016\n",
              "\tround 7: 0.6690515023596744\n",
              "\tround 8: 0.660135530410929\n",
              "\tround 9: 0.6555818611002983\n",
              "\tround 10: 0.6505945454252527\n",
              "\tround 11: 0.6458311162096388\n",
              "\tround 12: 0.6379370539746386\n",
              "\tround 13: 0.6357765699954743\n",
              "\tround 14: 0.6323376526223853\n",
              "\tround 15: 0.6295694262423414\n",
              "History (loss, centralized):\n",
              "\tround 0: 0.7099450826644897\n",
              "\tround 1: 0.6778659224510193\n",
              "\tround 2: 0.6760096549987793\n",
              "\tround 3: 0.6721572279930115\n",
              "\tround 4: 0.6656020283699036\n",
              "\tround 5: 0.6659483909606934\n",
              "\tround 6: 0.6650763750076294\n",
              "\tround 7: 0.6588788628578186\n",
              "\tround 8: 0.6568055748939514\n",
              "\tround 9: 0.6629763245582581\n",
              "\tround 10: 0.6657003164291382\n",
              "\tround 11: 0.667773962020874\n",
              "\tround 12: 0.6663548946380615\n",
              "\tround 13: 0.6671948432922363\n",
              "\tround 14: 0.6640973687171936\n",
              "\tround 15: 0.6688230633735657\n",
              "History (metrics, distributed, evaluate):\n",
              "{'accuracy': [(1, 0.4859574498014247), (2, 0.5170212769761998), (3, 0.5442553146088377), (4, 0.568510631297497), (5, 0.5834042450214955), (6, 0.6161702130703216), (7, 0.6144680837367443), (8, 0.6404255316612568), (9, 0.6451063792756263), (10, 0.6408510717939824), (11, 0.6608510605832364), (12, 0.6621276551104607), (13, 0.6599999957896293), (14, 0.6604255278059776), (15, 0.6625531868731722)]}History (metrics, centralized):\n",
              "{'accuracy': [(0, 0.550000011920929), (1, 0.5962499976158142), (2, 0.5662500262260437), (3, 0.574999988079071), (4, 0.6312500238418579), (5, 0.6575000286102295), (6, 0.6387500166893005), (7, 0.6474999785423279), (8, 0.6025000214576721), (9, 0.59375), (10, 0.5787500143051147), (11, 0.5912500023841858), (12, 0.5699999928474426), (13, 0.5862500071525574), (14, 0.6025000214576721), (15, 0.5987499952316284)]}"
            ]
          },
          "execution_count": 19,
          "metadata": {},
          "output_type": "execute_result"
        }
      ],
      "source": [
        "history"
      ]
    },
    {
      "cell_type": "code",
      "execution_count": 20,
      "metadata": {
        "colab": {
          "base_uri": "https://localhost:8080/"
        },
        "id": "D-29DaJU7PWE",
        "outputId": "29dffe45-059b-47c5-eefd-09e22cbe80c7"
      },
      "outputs": [
        {
          "name": "stdout",
          "output_type": "stream",
          "text": [
            "0.6025000214576721\n",
            "0.6568055748939514\n",
            "5\n",
            "[array([[-0.13460515,  0.06228058,  0.03838665, ...,  0.17535798,\n",
            "         0.04479178, -0.01715418],\n",
            "       [ 0.00203934,  0.10265492,  0.14164227, ..., -0.016276  ,\n",
            "        -0.11732892,  0.10386518],\n",
            "       [ 0.02977264, -0.0011257 ,  0.16838941, ..., -0.06271558,\n",
            "         0.03566251, -0.08439081],\n",
            "       ...,\n",
            "       [-0.03657882, -0.09460166, -0.15420623, ...,  0.01238968,\n",
            "         0.12772027, -0.10711696],\n",
            "       [-0.10489268, -0.05170003,  0.03282207, ..., -0.01650331,\n",
            "         0.08906396, -0.02811069],\n",
            "       [-0.00391807, -0.10726549,  0.13712958, ..., -0.11617575,\n",
            "        -0.11922924, -0.17400593]], dtype=float32), array([[ 0.00230269,  0.05059732, -0.06124302, ..., -0.06548548,\n",
            "         0.01021009, -0.03047876],\n",
            "       [ 0.01288502, -0.06277417,  0.0346423 , ...,  0.08471325,\n",
            "         0.041029  , -0.03413061],\n",
            "       [ 0.0948083 , -0.01296777,  0.06131935, ...,  0.14463829,\n",
            "        -0.03283406,  0.01855972],\n",
            "       ...,\n",
            "       [ 0.03708176, -0.09775359, -0.04841236, ...,  0.01325276,\n",
            "         0.01095948,  0.04812837],\n",
            "       [-0.08776423, -0.06695107, -0.0349052 , ...,  0.06274641,\n",
            "        -0.02598995, -0.13935503],\n",
            "       [ 0.00705537, -0.05106681,  0.01270363, ...,  0.13886483,\n",
            "         0.1217396 ,  0.00667772]], dtype=float32), array([[-3.78575479e-03, -3.15314537e-04, -6.50645746e-03,\n",
            "        -2.95554264e-03, -7.88058853e-04,  4.70986962e-03,\n",
            "        -1.78029688e-04,  1.82144728e-03,  9.43431072e-03,\n",
            "        -9.16478690e-04, -1.39214704e-03,  8.31850246e-03,\n",
            "         8.72743316e-03, -2.81072222e-02,  6.67481730e-03,\n",
            "         1.99410366e-03,  2.15728462e-04,  7.00889993e-03,\n",
            "        -2.71004857e-03,  6.57108240e-03, -2.47648382e-03,\n",
            "        -2.23334190e-02, -1.04409503e-02,  2.05889708e-04,\n",
            "        -6.49198773e-04,  2.26892895e-04, -3.07953730e-03,\n",
            "         4.64132288e-04,  2.34333519e-03, -1.40250404e-03,\n",
            "        -3.80048063e-03,  5.13813684e-05, -5.66733768e-03,\n",
            "        -4.71946411e-03, -7.34101562e-03, -7.31570879e-03,\n",
            "        -7.45843211e-03, -1.28621692e-02,  3.27659916e-04,\n",
            "        -1.69748664e-02,  4.07212859e-08, -6.38947403e-03,\n",
            "         1.48467501e-04,  8.05689488e-03,  1.37225015e-05,\n",
            "        -6.99240156e-03,  2.07334920e-03,  5.03764795e-06,\n",
            "        -4.64225002e-03,  6.46747998e-04,  1.95530779e-03,\n",
            "         1.17211239e-02,  4.53666458e-03,  5.26332716e-03,\n",
            "         4.60995873e-03, -2.82639684e-03,  6.32922631e-03,\n",
            "        -1.76784620e-02,  1.83393864e-03, -7.52756954e-04,\n",
            "         4.49076155e-03,  2.63310485e-05,  3.47152672e-05,\n",
            "         9.12341347e-04,  1.28937012e-03, -5.96181224e-07,\n",
            "        -1.08733344e-04,  1.14860537e-04,  1.18976932e-04,\n",
            "        -3.84068955e-03, -8.99946142e-04,  2.45286821e-04,\n",
            "         2.53911386e-03, -9.42672137e-04,  1.50443711e-05,\n",
            "         1.36571855e-03, -5.91835240e-03,  4.08735173e-03,\n",
            "         1.54334528e-03, -2.17515408e-05, -1.23806123e-04,\n",
            "        -4.52040462e-04, -1.92784006e-03,  6.30744966e-03,\n",
            "        -1.63819222e-03,  2.46652775e-03, -1.62119372e-03,\n",
            "        -8.61909357e-04,  1.14299401e-04, -7.63603894e-05,\n",
            "         3.48470965e-03, -1.18875769e-05,  5.80233056e-03,\n",
            "         3.85863450e-03,  1.15990741e-04, -5.62082398e-08,\n",
            "         9.64726205e-05,  8.68336007e-04, -4.41396935e-03,\n",
            "         1.78201958e-06, -2.38783705e-05, -1.15711372e-02,\n",
            "         1.84119708e-05,  1.45248824e-03, -1.52385226e-07,\n",
            "        -4.02909517e-03,  4.87644775e-06, -2.18714806e-04,\n",
            "         8.53684639e-07, -7.08092935e-04, -5.03140545e-05,\n",
            "         1.76495625e-04,  1.05482014e-03,  5.28821829e-06,\n",
            "        -2.83120229e-04, -2.42043781e-04, -1.57768023e-04,\n",
            "         1.03810617e-05, -2.94432888e-04,  1.51532725e-03,\n",
            "        -5.79283398e-04,  2.86941184e-04, -4.09596076e-04,\n",
            "         2.31713898e-06,  2.83847359e-04, -4.31617984e-04,\n",
            "        -1.35723283e-04,  2.99039371e-08,  7.10097933e-03,\n",
            "         8.90700554e-04, -3.32780438e-03, -9.58925299e-03,\n",
            "        -1.95888616e-03, -1.76345499e-03,  8.93068966e-03,\n",
            "         1.36003355e-02,  2.37883278e-03,  1.06958335e-03,\n",
            "         3.80772445e-03, -2.26139952e-03,  9.08893533e-03,\n",
            "        -8.83764215e-03,  3.73588316e-03,  1.77063717e-04,\n",
            "         3.18735559e-03,  2.77035986e-03,  3.37583269e-03,\n",
            "         7.14265229e-03, -7.28697982e-03,  5.73991146e-03,\n",
            "         8.13345687e-05,  2.26635602e-03, -1.52020557e-02,\n",
            "        -1.34818663e-03,  3.78331169e-03, -6.42276427e-05,\n",
            "         1.58458166e-02, -6.27375999e-03, -4.35487716e-04,\n",
            "         1.06272237e-04,  3.02775484e-03, -3.11342441e-03,\n",
            "        -8.12556653e-04,  6.38743443e-03, -3.39239999e-03,\n",
            "        -3.82031873e-03, -9.82957613e-03,  7.67058693e-03,\n",
            "        -4.24119324e-04, -7.11751590e-03, -2.88405601e-04,\n",
            "         2.45683175e-03,  6.34823320e-03,  3.04225227e-03,\n",
            "         3.29735805e-03, -3.36505240e-03, -1.93819532e-03,\n",
            "         1.39498699e-03, -1.31767488e-03, -8.05614702e-03,\n",
            "        -1.45886908e-03, -5.65251648e-05,  2.26003095e-03,\n",
            "        -3.39110405e-03, -1.97809609e-03, -6.77753286e-03,\n",
            "         1.46601012e-03,  1.59503616e-04, -6.56489690e-04,\n",
            "        -4.55489877e-04,  1.38608078e-02,  4.13890521e-04],\n",
            "       [-3.78575479e-03, -3.15314537e-04, -6.50645746e-03,\n",
            "        -2.95554264e-03, -7.88058853e-04,  4.70986962e-03,\n",
            "        -1.78029688e-04,  1.82144728e-03,  9.43431072e-03,\n",
            "        -9.16478690e-04, -1.39214704e-03,  8.31850246e-03,\n",
            "         8.72743316e-03, -2.81072222e-02,  6.67481730e-03,\n",
            "         1.99410366e-03,  2.15728462e-04,  7.00889993e-03,\n",
            "        -2.71004857e-03,  6.57108240e-03, -2.47648382e-03,\n",
            "        -2.23334190e-02, -1.04409503e-02,  2.05889708e-04,\n",
            "        -6.49198773e-04,  2.26892895e-04, -3.07953730e-03,\n",
            "         4.64132288e-04,  2.34333519e-03, -1.40250404e-03,\n",
            "        -3.80048063e-03,  5.13813684e-05, -5.66733768e-03,\n",
            "        -4.71946411e-03, -7.34101562e-03, -7.31570879e-03,\n",
            "        -7.45843211e-03, -1.28621692e-02,  3.27659916e-04,\n",
            "        -1.69748664e-02,  4.07212859e-08, -6.38947403e-03,\n",
            "         1.48467501e-04,  8.05689488e-03,  1.37225015e-05,\n",
            "        -6.99240156e-03,  2.07334920e-03,  5.03764795e-06,\n",
            "        -4.64225002e-03,  6.46747998e-04,  1.95530779e-03,\n",
            "         1.17211239e-02,  4.53666458e-03,  5.26332716e-03,\n",
            "         4.60995873e-03, -2.82639684e-03,  6.32922631e-03,\n",
            "        -1.76784620e-02,  1.83393864e-03, -7.52756954e-04,\n",
            "         4.49076155e-03,  2.63310485e-05,  3.47152672e-05,\n",
            "         9.12341347e-04,  1.28937012e-03, -5.96181224e-07,\n",
            "        -1.08733344e-04,  1.14860537e-04,  1.18976932e-04,\n",
            "        -3.84068955e-03, -8.99946142e-04,  2.45286821e-04,\n",
            "         2.53911386e-03, -9.42672137e-04,  1.50443711e-05,\n",
            "         1.36571855e-03, -5.91835240e-03,  4.08735173e-03,\n",
            "         1.54334528e-03, -2.17515408e-05, -1.23806123e-04,\n",
            "        -4.52040462e-04, -1.92784006e-03,  6.30744966e-03,\n",
            "        -1.63819222e-03,  2.46652775e-03, -1.62119372e-03,\n",
            "        -8.61909357e-04,  1.14299401e-04, -7.63603894e-05,\n",
            "         3.48470965e-03, -1.18875769e-05,  5.80233056e-03,\n",
            "         3.85863450e-03,  1.15990741e-04, -5.62082398e-08,\n",
            "         9.64726205e-05,  8.68336007e-04, -4.41396935e-03,\n",
            "         1.78201958e-06, -2.38783705e-05, -1.15711372e-02,\n",
            "         1.84119708e-05,  1.45248824e-03, -1.52385226e-07,\n",
            "        -4.02909517e-03,  4.87644775e-06, -2.18714806e-04,\n",
            "         8.53684639e-07, -7.08092935e-04, -5.03140545e-05,\n",
            "         1.76495625e-04,  1.05482014e-03,  5.28821829e-06,\n",
            "        -2.83120229e-04, -2.42043781e-04, -1.57768023e-04,\n",
            "         1.03810617e-05, -2.94432888e-04,  1.51532725e-03,\n",
            "        -5.79283398e-04,  2.86941184e-04, -4.09596076e-04,\n",
            "         2.31713898e-06,  2.83847359e-04, -4.31617984e-04,\n",
            "        -1.35723283e-04,  2.99039371e-08,  1.44420308e-03,\n",
            "         4.46354670e-06, -3.32268700e-03, -9.66169219e-03,\n",
            "        -2.11091596e-03,  2.03980439e-04, -2.94685335e-04,\n",
            "         1.35996835e-02,  3.09271226e-03, -1.36890437e-03,\n",
            "         3.10364948e-03, -1.42495695e-03,  7.17810355e-03,\n",
            "        -8.86010565e-03,  2.15479173e-03,  8.13857943e-04,\n",
            "         3.18228430e-03,  1.06997485e-03,  2.39069480e-03,\n",
            "        -8.86917766e-03, -1.23685207e-02,  3.57460254e-03,\n",
            "        -5.09853940e-03,  1.89488020e-03,  9.31052142e-04,\n",
            "        -1.37019507e-03,  4.96925414e-03,  3.60927836e-04,\n",
            "         1.83132174e-03, -4.54999739e-03,  6.17048005e-04,\n",
            "         1.68039958e-06, -8.94766526e-06,  3.67225322e-04,\n",
            "         7.07264291e-03, -7.12053406e-06, -3.39454832e-03,\n",
            "        -3.65727930e-03, -2.04723314e-04,  1.09111341e-02,\n",
            "         4.61798038e-07, -9.50822793e-03,  3.09228606e-04,\n",
            "         2.33050762e-03,  6.34823274e-03,  2.59270146e-03,\n",
            "        -8.35954925e-05, -3.33725801e-03, -1.94094237e-03,\n",
            "        -7.94344942e-06, -9.56308970e-04, -6.12540124e-03,\n",
            "        -1.14489603e-03, -1.63729288e-04,  2.05946458e-03,\n",
            "        -1.95826520e-03,  1.80330069e-03, -6.11792924e-03,\n",
            "         4.69528197e-04,  2.02440060e-06,  1.21152482e-03,\n",
            "        -4.60401759e-04, -3.57883633e-04,  4.13891394e-04]], dtype=float32), array([[-0.09578937, -0.0834556 , -0.17073774, ...,  0.1117391 ,\n",
            "         0.21909803,  0.04322245],\n",
            "       [-0.00487304,  0.22590187, -0.00518332, ...,  0.12574098,\n",
            "        -0.05939985, -0.07561374],\n",
            "       [-0.20555146, -0.14387017,  0.07176229, ...,  0.09848738,\n",
            "         0.17422076,  0.03901019],\n",
            "       ...,\n",
            "       [-0.21366961, -0.02105775, -0.0272089 , ..., -0.08932336,\n",
            "         0.07299691, -0.04893002],\n",
            "       [ 0.15372866,  0.20830266,  0.02479663, ...,  0.07536405,\n",
            "         0.25099337,  0.11621036],\n",
            "       [-0.18773611,  0.24145682,  0.01039662, ..., -0.17905782,\n",
            "        -0.15166143, -0.23937802]], dtype=float32), array([ 4.1932135e-04, -6.6700308e-03, -1.4164220e-04,  3.8144090e-03,\n",
            "       -7.1932585e-03, -1.4433578e-02,  1.5945356e-02, -1.2780413e-02,\n",
            "       -3.4045361e-03,  8.3389301e-03, -7.2236161e-04, -1.6588399e-02,\n",
            "        2.8083832e-05,  5.9438562e-03, -4.5212642e-03,  6.4275175e-04,\n",
            "        1.7321732e-02, -1.9713087e-02,  2.7474908e-03, -2.0783419e-02,\n",
            "        4.1011142e-04, -1.1861016e-02,  1.3222498e-02,  6.6148499e-03,\n",
            "        3.5114009e-03, -6.1662830e-03,  7.2961609e-04,  7.6457742e-03,\n",
            "       -6.2237796e-03,  8.5966839e-03,  2.8743325e-03, -8.3502923e-04],\n",
            "      dtype=float32), array([[-0.37927112],\n",
            "       [-0.2312031 ],\n",
            "       [ 0.22206932],\n",
            "       [ 0.03476493],\n",
            "       [-0.00250574],\n",
            "       [-0.36637536],\n",
            "       [-0.3517451 ],\n",
            "       [-0.13493326],\n",
            "       [ 0.41175592],\n",
            "       [-0.06846598],\n",
            "       [ 0.1442319 ],\n",
            "       [-0.10045649],\n",
            "       [-0.14211507],\n",
            "       [-0.07162549],\n",
            "       [ 0.20660977],\n",
            "       [ 0.11617902],\n",
            "       [-0.09920145],\n",
            "       [-0.39969027],\n",
            "       [ 0.22808519],\n",
            "       [-0.28765836],\n",
            "       [ 0.00186901],\n",
            "       [-0.05576515],\n",
            "       [-0.3860448 ],\n",
            "       [-0.30815327],\n",
            "       [ 0.23618935],\n",
            "       [ 0.13381517],\n",
            "       [ 0.25827542],\n",
            "       [ 0.325811  ],\n",
            "       [-0.15787129],\n",
            "       [ 0.14218791],\n",
            "       [-0.04325791],\n",
            "       [ 0.03708857]], dtype=float32), array([0.01115002], dtype=float32)]\n"
          ]
        }
      ],
      "source": [
        "# printing validation results\n",
        "print(best_accuracy)\n",
        "print(best_loss)\n",
        "print(patience)\n",
        "print(weights)"
      ]
    },
    {
      "cell_type": "code",
      "execution_count": 21,
      "metadata": {
        "colab": {
          "base_uri": "https://localhost:8080/"
        },
        "id": "2L4NkzZuKvHB",
        "outputId": "7631c44a-e99b-4fcf-8957-805c09844ccf"
      },
      "outputs": [
        {
          "name": "stdout",
          "output_type": "stream",
          "text": [
            "[INFO] evaluating on testing set...\n",
            "70/70 [==============================] - 11s 146ms/step - loss: 0.6967 - accuracy: 0.5268\n",
            "[INFO] loss=0.6967, accuracy: 52.6786%\n"
          ]
        }
      ],
      "source": [
        "# test results\n",
        "input_shape = (15001, 13)\n",
        "test_model = get_model(input_shape)\n",
        "test_model.compile(optimizer=tf.keras.optimizers.Adam(learning_rate=0.0005), loss=tf.keras.losses.BinaryCrossentropy(label_smoothing=0.1), metrics=['accuracy'])\n",
        "test_model.set_weights(weights)\n",
        "print(\"[INFO] evaluating on testing set...\")\n",
        "(test_loss, test_accuracy) = test_model.evaluate(test_samples, test_labels, batch_size=8, verbose=1)\n",
        "print(\"[INFO] loss={:.4f}, accuracy: {:.4f}%\".format(test_loss, test_accuracy * 100))"
      ]
    },
    {
      "cell_type": "code",
      "execution_count": 22,
      "metadata": {
        "colab": {
          "base_uri": "https://localhost:8080/"
        },
        "id": "tF1ptwc1L8Se",
        "outputId": "c6e44e8d-a0bd-4ae5-a54b-3f711c0639fb"
      },
      "outputs": [
        {
          "name": "stderr",
          "output_type": "stream",
          "text": [
            "100%|██████████| 273/273 [00:21<00:00, 12.68it/s]\n"
          ]
        }
      ],
      "source": [
        "from tqdm import tqdm\n",
        "\n",
        "test_preds = []\n",
        "\n",
        "file_ids = os.listdir(data_dir)\n",
        "test_label_file = pd.read_csv(\"edaicwoz/test_split.csv\")\n",
        "\n",
        "for file_id in tqdm(file_ids):\n",
        "    if int(file_id) in test_label_file[\"Participant_ID\"].values:\n",
        "        all_mfccs = []\n",
        "        for j in range(10):\n",
        "            file_path = \"MFCCs_1030/\" + file_id + \"/\" + file_id + \"_MFCC_\" + str(j) + \".npy\"\n",
        "            all_mfccs.append(np.load(file_path))\n",
        "        all_mfccs = np.array(all_mfccs)\n",
        "        all_mfccs = np.swapaxes(all_mfccs, 1, 2)\n",
        "        prediction = test_model.predict(all_mfccs, verbose=0, batch_size=8)\n",
        "        prediction = prediction.mean(axis=0)\n",
        "        test_preds.append(prediction)"
      ]
    },
    {
      "cell_type": "code",
      "execution_count": 23,
      "metadata": {
        "colab": {
          "base_uri": "https://localhost:8080/",
          "height": 630
        },
        "id": "Cnj3Z4aUL1vo",
        "outputId": "595fe906-1c8a-4469-b01b-bd46cd23f82e"
      },
      "outputs": [
        {
          "data": {
            "image/png": "[encoded data removed]",
            "text/plain": [
              "<Figure size 640x480 with 2 Axes>"
            ]
          },
          "metadata": {},
          "output_type": "display_data"
        },
        {
          "name": "stdout",
          "output_type": "stream",
          "text": [
            "              precision    recall  f1-score   support\n",
            "\n",
            "           0       0.70      0.67      0.68        39\n",
            "           1       0.32      0.35      0.33        17\n",
            "\n",
            "    accuracy                           0.57        56\n",
            "   macro avg       0.51      0.51      0.51        56\n",
            "weighted avg       0.59      0.57      0.58        56\n",
            "\n"
          ]
        }
      ],
      "source": [
        "label_file = test_label_file\n",
        "true = label_file.to_numpy()[:, 2].flatten().tolist()\n",
        "predicted = (np.array(test_preds) > 0.5).astype(np.int32).flatten().tolist()\n",
        "\n",
        "\n",
        "\n",
        "true_labels = true\n",
        "predicted_labels = predicted\n",
        "\n",
        "from sklearn.metrics import confusion_matrix, precision_score, recall_score, f1_score\n",
        "from sklearn.metrics import classification_report\n",
        "import matplotlib.pyplot as plt\n",
        "\n",
        "def create_confusion_matrix(true_labels, predicted_labels):\n",
        "    true_labels = np.array(true_labels)\n",
        "    predicted_labels = np.array(predicted_labels)\n",
        "    cm = confusion_matrix(true_labels, predicted_labels)\n",
        "    return cm\n",
        "\n",
        "def plot_confusion_matrix(conf_matrix, classes):\n",
        "    plt.imshow(conf_matrix, interpolation='nearest', cmap=plt.cm.Blues)\n",
        "    plt.title('Confusion Matrix')\n",
        "    plt.colorbar()\n",
        "    tick_marks = np.arange(len(classes))\n",
        "    plt.xticks(tick_marks, classes, rotation=45)\n",
        "    plt.yticks(tick_marks, classes)\n",
        "\n",
        "    for i in range(len(classes)):\n",
        "        for j in range(len(classes)):\n",
        "            plt.text(j, i, str(conf_matrix[i, j]), ha='center', va='center', color='white' if conf_matrix[i, j] > conf_matrix.max() / 2 else 'black')\n",
        "\n",
        "    plt.xlabel('Predicted Label')\n",
        "    plt.ylabel('True Label')\n",
        "    plt.show()\n",
        "\n",
        "def calculate_metrics(true_labels, predicted_labels):\n",
        "    precision = precision_score(true_labels, predicted_labels)\n",
        "    recall = recall_score(true_labels, predicted_labels)\n",
        "    f1 = f1_score(true_labels, predicted_labels)\n",
        "\n",
        "    return precision, recall, f1\n",
        "\n",
        "conf_matrix = create_confusion_matrix(true_labels, predicted_labels)\n",
        "classes = ['0', '1']\n",
        "\n",
        "# Plot confusion matrix\n",
        "plot_confusion_matrix(conf_matrix, classes)\n",
        "\n",
        "# Calculate precision, recall, and F1-score\n",
        "\n",
        "# Calculate precision, recall, and F1-score for both classes\n",
        "classification_report = classification_report(true_labels, predicted_labels, target_names=classes)\n",
        "\n",
        "print(classification_report)"
      ]
    }
  ],
  "metadata": {
    "accelerator": "GPU",
    "colab": {
      "machine_shape": "hm",
      "provenance": []
    },
    "kernelspec": {
      "display_name": "Python 3.9.0 64-bit",
      "language": "python",
      "name": "python3"
    },
    "language_info": {
      "name": "python",
      "version": "3.9.0"
    },
    "vscode": {
      "interpreter": {
        "hash": "5addf786bcd861d1ce5006f23111f8cbb206731e5b61b0a5632ba9e0252558a8"
      }
    }
  },
  "nbformat": 4,
  "nbformat_minor": 0
}
