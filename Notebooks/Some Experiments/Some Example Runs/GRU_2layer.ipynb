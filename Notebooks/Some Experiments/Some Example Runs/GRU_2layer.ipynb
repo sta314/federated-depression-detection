{
 "cells": [
  {
   "cell_type": "code",
   "execution_count": 1,
   "metadata": {},
   "outputs": [],
   "source": [
    "import os\n",
    "import librosa\n",
    "import numpy as np\n",
    "import tensorflow as tf\n",
    "import pandas as pd"
   ]
  },
  {
   "cell_type": "code",
   "execution_count": 2,
   "metadata": {},
   "outputs": [],
   "source": [
    "train_labels_df = pd.read_csv(\"edaicwoz/train_split.csv\")\n",
    "test_labels_df = pd.read_csv(\"edaicwoz/test_split.csv\")\n",
    "val_labels_df = pd.read_csv(\"edaicwoz/dev_split.csv\")"
   ]
  },
  {
   "cell_type": "code",
   "execution_count": 3,
   "metadata": {},
   "outputs": [],
   "source": [
    "def load_audio_files(data_dir, sr=16000):\n",
    "    file_ids = os.listdir(data_dir)\n",
    "    subject_ids = []\n",
    "    file_paths = []\n",
    "    types = []\n",
    "    labels = []\n",
    "    labels_binary = []\n",
    "\n",
    "    for file_id in file_ids:\n",
    "        file_id = file_id.split(\"_\")[0]\n",
    "        file_path = [data_dir + \"/\" + file_id + \"/\" + file_id + \"_MFCC_\" + str(i) + \".npy\" for i in range(len(next(iter(enumerate(os.walk(data_dir + \"/\" + str(file_id) + \"/\"))))[1][2]))]\n",
    "        if int(file_id) in train_labels_df[\"Participant_ID\"].values:\n",
    "            types.append(0)\n",
    "            labels.append(train_labels_df[train_labels_df[\"Participant_ID\"] == int(file_id)]['PHQ_Score'].values[0])\n",
    "            labels_binary.append(train_labels_df[train_labels_df[\"Participant_ID\"] == int(file_id)]['PHQ_Binary'].values[0])\n",
    "            \n",
    "        elif int(file_id) in test_labels_df[\"Participant_ID\"].values:\n",
    "            types.append(1)\n",
    "            labels.append(test_labels_df[test_labels_df[\"Participant_ID\"] == int(file_id)]['PHQ_Score'].values[0])\n",
    "            labels_binary.append(test_labels_df[test_labels_df[\"Participant_ID\"] == int(file_id)]['PHQ_Binary'].values[0])\n",
    "        else:\n",
    "            types.append(2)\n",
    "            labels.append(val_labels_df[val_labels_df[\"Participant_ID\"] == int(file_id)]['PHQ_Score'].values[0])\n",
    "            labels_binary.append(val_labels_df[val_labels_df[\"Participant_ID\"] == int(file_id)]['PHQ_Binary'].values[0])\n",
    "        subject_ids.append(int(file_id))\n",
    "        file_paths.append(file_path)\n",
    "\n",
    "    return file_ids, subject_ids, file_paths, types, labels, labels_binary\n",
    "\n",
    "data_dir = \"MFCCs_1030\"\n",
    "\n",
    "file_ids, subject_ids, file_paths, types, labels, labels_binary = load_audio_files(data_dir)"
   ]
  },
  {
   "cell_type": "code",
   "execution_count": null,
   "metadata": {},
   "outputs": [],
   "source": []
  },
  {
   "cell_type": "code",
   "execution_count": 4,
   "metadata": {},
   "outputs": [
    {
     "name": "stdout",
     "output_type": "stream",
     "text": [
      "[INFO] preparing data...\n"
     ]
    }
   ],
   "source": [
    "def prepare_audio_set(file_paths):\n",
    "\n",
    "    samples = []\n",
    "    samples_ids = []\n",
    "    samples_types = []\n",
    "    samples_labels = []\n",
    "    samples_labels_binary = []\n",
    "\n",
    "    for i, file_path in enumerate(file_paths):\n",
    "        all_mfccs = []\n",
    "        for j in range(len(file_path)):\n",
    "            all_mfccs.append(np.load(file_path[j]))\n",
    "        all_mfccs = np.array(all_mfccs)\n",
    "        samples.extend(all_mfccs)\n",
    "        samples_ids.extend([subject_ids[i]] * len(all_mfccs))\n",
    "        samples_types.extend([types[i]] * len(all_mfccs))\n",
    "        samples_labels.extend([labels[i]] * len(all_mfccs))\n",
    "        samples_labels_binary.extend([labels_binary[i]] * len(all_mfccs))\n",
    "\n",
    "    samples = np.array(samples)\n",
    "\n",
    "    samples_ids = np.array(samples_ids)\n",
    "    samples_types = np.array(samples_types)\n",
    "    samples_labels = np.array(samples_labels)\n",
    "    samples_labels_binary = np.array(samples_labels_binary)\n",
    "\n",
    "    return samples, samples_ids, samples_types, samples_labels, samples_labels_binary\n",
    "\n",
    "print(\"[INFO] preparing data...\")\n",
    "samples, samples_ids, samples_types, samples_labels, samples_labels_binary = prepare_audio_set(file_paths)\n",
    "samples = np.swapaxes(samples, 1, 2)"
   ]
  },
  {
   "cell_type": "code",
   "execution_count": 5,
   "metadata": {},
   "outputs": [],
   "source": [
    "training_samples = samples[samples_types == 0]\n",
    "training_labels = samples_labels_binary[samples_types == 0]\n",
    "training_subject_ids = samples_ids[samples_types == 0]\n",
    "\n",
    "test_samples = samples[samples_types == 1]\n",
    "test_labels = samples_labels_binary[samples_types == 1]\n",
    "\n",
    "val_samples = samples[samples_types == 2]\n",
    "val_labels_df = samples_labels_binary[samples_types == 2]"
   ]
  },
  {
   "cell_type": "code",
   "execution_count": 6,
   "metadata": {},
   "outputs": [
    {
     "data": {
      "text/plain": [
       "1240"
      ]
     },
     "execution_count": 6,
     "metadata": {},
     "output_type": "execute_result"
    }
   ],
   "source": [
    "(training_labels == 0).sum()"
   ]
  },
  {
   "cell_type": "code",
   "execution_count": 7,
   "metadata": {},
   "outputs": [
    {
     "name": "stdout",
     "output_type": "stream",
     "text": [
      "[INFO] constructing training/testing split...\n"
     ]
    }
   ],
   "source": [
    "import numpy as np\n",
    "\n",
    "class DataGeneratorVanilla(tf.keras.utils.Sequence):\n",
    "    def __init__(self, x_set, y_set, batch_size=256):\n",
    "        self.x, self.y = x_set, y_set\n",
    "        self.batch_size = batch_size\n",
    "        self.indices = np.arange(self.x.shape[0])\n",
    "\n",
    "    def __len__(self):\n",
    "        return int(np.ceil(len(self.x) / float(self.batch_size)))\n",
    "\n",
    "    def __getitem__(self, idx):\n",
    "        inds = self.indices[idx * self.batch_size:(idx + 1) * self.batch_size]\n",
    "        batch_x = self.x[inds]\n",
    "        batch_y = self.y[inds]\n",
    "        return batch_x, batch_y\n",
    "    \n",
    "    def on_epoch_end(self):\n",
    "        np.random.shuffle(self.indices)\n",
    "\n",
    "print(\"[INFO] constructing training/testing split...\")\n",
    "train_gen = DataGeneratorVanilla(training_samples, training_labels, 32)\n",
    "test_gen = DataGeneratorVanilla(test_samples, test_labels, 32)\n",
    "val_gen = DataGeneratorVanilla(val_samples, val_labels_df, 32)"
   ]
  },
  {
   "cell_type": "code",
   "execution_count": 8,
   "metadata": {},
   "outputs": [
    {
     "data": {
      "text/plain": [
       "(2350, 15001, 13)"
      ]
     },
     "execution_count": 8,
     "metadata": {},
     "output_type": "execute_result"
    }
   ],
   "source": [
    "(training_samples.shape[0], training_samples.shape[1], training_samples.shape[2])"
   ]
  },
  {
   "cell_type": "code",
   "execution_count": 18,
   "metadata": {},
   "outputs": [
    {
     "name": "stdout",
     "output_type": "stream",
     "text": [
      "[INFO] compiling model...\n",
      "Model: \"sequential_5\"\n",
      "_________________________________________________________________\n",
      " Layer (type)                Output Shape              Param #   \n",
      "=================================================================\n",
      " gru_6 (GRU)                 (None, 15001, 64)         15168     \n",
      "                                                                 \n",
      " gru_7 (GRU)                 (None, 32)                9408      \n",
      "                                                                 \n",
      " dense_8 (Dense)             (None, 32)                1056      \n",
      "                                                                 \n",
      " dropout_4 (Dropout)         (None, 32)                0         \n",
      "                                                                 \n",
      " dense_9 (Dense)             (None, 1)                 33        \n",
      "                                                                 \n",
      "=================================================================\n",
      "Total params: 25,665\n",
      "Trainable params: 25,665\n",
      "Non-trainable params: 0\n",
      "_________________________________________________________________\n",
      "[INFO] fitting model...\n",
      "Epoch 1/10\n",
      "74/74 [==============================] - 120s 2s/step - loss: 0.6919 - accuracy: 0.5404 - val_loss: 0.6522 - val_accuracy: 0.6786\n",
      "Epoch 2/10\n",
      "74/74 [==============================] - 120s 2s/step - loss: 0.6559 - accuracy: 0.6106 - val_loss: 0.6889 - val_accuracy: 0.5804\n",
      "Epoch 3/10\n",
      "74/74 [==============================] - 117s 2s/step - loss: 0.6221 - accuracy: 0.6732 - val_loss: 0.7203 - val_accuracy: 0.5625\n",
      "Epoch 4/10\n",
      "74/74 [==============================] - 124s 2s/step - loss: 0.5689 - accuracy: 0.7421 - val_loss: 0.6009 - val_accuracy: 0.7304\n",
      "Epoch 5/10\n",
      "74/74 [==============================] - 124s 2s/step - loss: 0.5181 - accuracy: 0.7800 - val_loss: 0.6929 - val_accuracy: 0.6732\n",
      "Epoch 6/10\n",
      "74/74 [==============================] - 122s 2s/step - loss: 0.4396 - accuracy: 0.8477 - val_loss: 0.7134 - val_accuracy: 0.7018\n",
      "Epoch 7/10\n",
      "74/74 [==============================] - 113s 2s/step - loss: 0.3838 - accuracy: 0.8911 - val_loss: 0.8309 - val_accuracy: 0.6839\n",
      "Epoch 8/10\n",
      "74/74 [==============================] - 104s 1s/step - loss: 0.3482 - accuracy: 0.9187 - val_loss: 0.8383 - val_accuracy: 0.6821\n",
      "Epoch 9/10\n",
      "74/74 [==============================] - 111s 2s/step - loss: 0.3089 - accuracy: 0.9421 - val_loss: 0.7898 - val_accuracy: 0.6982\n",
      "Epoch 10/10\n",
      "74/74 [==============================] - 118s 2s/step - loss: 0.3142 - accuracy: 0.9298 - val_loss: 0.7956 - val_accuracy: 0.6893\n"
     ]
    },
    {
     "data": {
      "text/plain": [
       "<keras.callbacks.History at 0x24d9f87a380>"
      ]
     },
     "execution_count": 18,
     "metadata": {},
     "output_type": "execute_result"
    }
   ],
   "source": [
    "def create_cnn_model(input_shape):\n",
    "    model = tf.keras.models.Sequential()\n",
    "    \n",
    "    model.add(tf.keras.layers.GRU(units = 64, input_shape = input_shape, return_sequences=True))\n",
    "    model.add(tf.keras.layers.GRU(units = 32))\n",
    "\n",
    "    model.add(tf.keras.layers.Dense(32, activation='relu'))\n",
    "    model.add(tf.keras.layers.Dropout(0.3))\n",
    "\n",
    "    model.add(tf.keras.layers.Dense(1, activation='sigmoid'))\n",
    "\n",
    "    return model\n",
    "\n",
    "# Create the model\n",
    "model = create_cnn_model((training_samples.shape[1], training_samples.shape[2]))\n",
    "\n",
    "# Compile the model\n",
    "print(\"[INFO] compiling model...\")\n",
    "model.compile(optimizer=tf.keras.optimizers.Adam(learning_rate=0.001), loss=tf.keras.losses.BinaryCrossentropy(label_smoothing=0.1), metrics=['accuracy'])\n",
    "\n",
    "# Display the model summary\n",
    "model.summary()\n",
    "\n",
    "print(\"[INFO] fitting model...\")\n",
    "model.fit(train_gen, epochs=10, validation_data=val_gen) # , class_weight={0: .25, 1:1}"
   ]
  },
  {
   "cell_type": "code",
   "execution_count": 20,
   "metadata": {},
   "outputs": [
    {
     "name": "stderr",
     "output_type": "stream",
     "text": [
      "100%|██████████| 275/275 [01:19<00:00,  3.48it/s]\n"
     ]
    }
   ],
   "source": [
    "from tqdm import tqdm\n",
    "\n",
    "val_preds = []\n",
    "\n",
    "file_ids = os.listdir(\"edaicwoz/merge\")\n",
    "val_label_file = pd.read_csv(\"edaicwoz/dev_split.csv\")\n",
    "\n",
    "for file_id in tqdm(file_ids):\n",
    "    if int(file_id) in val_label_file[\"Participant_ID\"].values:\n",
    "        all_mfccs = []\n",
    "        for j in range(10):\n",
    "            file_path = \"MFCCs_1030/\" + file_id + \"/\" + file_id + \"_MFCC_\" + str(j) + \".npy\"\n",
    "            all_mfccs.append(np.load(file_path))\n",
    "        all_mfccs = np.array(all_mfccs)\n",
    "        all_mfccs = np.swapaxes(all_mfccs, 1, 2)\n",
    "        prediction = model.predict(all_mfccs, verbose=0, batch_size=8)\n",
    "        prediction = prediction.mean(axis=0)\n",
    "        val_preds.append(prediction)"
   ]
  },
  {
   "cell_type": "code",
   "execution_count": 22,
   "metadata": {},
   "outputs": [
    {
     "data": {
      "image/png": "[encoded data removed]",
      "text/plain": [
       "<Figure size 640x480 with 2 Axes>"
      ]
     },
     "metadata": {},
     "output_type": "display_data"
    },
    {
     "name": "stdout",
     "output_type": "stream",
     "text": [
      "Precision: 0.43\n",
      "Recall: 0.50\n",
      "F1-score: 0.46\n",
      "[[36  8]\n",
      " [ 6  6]]\n"
     ]
    },
    {
     "data": {
      "text/plain": [
       "56"
      ]
     },
     "execution_count": 22,
     "metadata": {},
     "output_type": "execute_result"
    }
   ],
   "source": [
    "file_i = 5\n",
    "\n",
    "label_file = val_label_file\n",
    "true = label_file.to_numpy()[:, 2].flatten().tolist()\n",
    "predicted = (np.array(val_preds) > 0.5).astype(np.int32).flatten().tolist()\n",
    "\n",
    "\n",
    "\n",
    "true_labels = true\n",
    "predicted_labels = predicted\n",
    "\n",
    "from sklearn.metrics import confusion_matrix, precision_score, recall_score, f1_score\n",
    "import matplotlib.pyplot as plt\n",
    "\n",
    "def create_confusion_matrix(true_labels, predicted_labels):\n",
    "    true_labels = np.array(true_labels)\n",
    "    predicted_labels = np.array(predicted_labels)\n",
    "    cm = confusion_matrix(true_labels, predicted_labels)\n",
    "    return cm\n",
    "\n",
    "def plot_confusion_matrix(conf_matrix, classes):\n",
    "    plt.imshow(conf_matrix, interpolation='nearest', cmap=plt.cm.Blues)\n",
    "    plt.title('Confusion Matrix')\n",
    "    plt.colorbar()\n",
    "    tick_marks = np.arange(len(classes))\n",
    "    plt.xticks(tick_marks, classes, rotation=45)\n",
    "    plt.yticks(tick_marks, classes)\n",
    "\n",
    "    for i in range(len(classes)):\n",
    "        for j in range(len(classes)):\n",
    "            plt.text(j, i, str(conf_matrix[i, j]), ha='center', va='center', color='white' if conf_matrix[i, j] > conf_matrix.max() / 2 else 'black')\n",
    "\n",
    "    plt.xlabel('Predicted Label')\n",
    "    plt.ylabel('True Label')\n",
    "    plt.show()\n",
    "\n",
    "def calculate_metrics(true_labels, predicted_labels):\n",
    "    precision = precision_score(true_labels, predicted_labels)\n",
    "    recall = recall_score(true_labels, predicted_labels)\n",
    "    f1 = f1_score(true_labels, predicted_labels)\n",
    "\n",
    "    return precision, recall, f1\n",
    "\n",
    "conf_matrix = create_confusion_matrix(true_labels, predicted_labels)\n",
    "classes = ['0', '1']\n",
    "\n",
    "# Plot confusion matrix\n",
    "plot_confusion_matrix(conf_matrix, classes)\n",
    "\n",
    "# Calculate precision, recall, and F1-score\n",
    "precision, recall, f1 = calculate_metrics(true_labels, predicted_labels)\n",
    "\n",
    "print(f'Precision: {precision:.2f}')\n",
    "print(f'Recall: {recall:.2f}')\n",
    "print(f'F1-score: {f1:.2f}')\n",
    "true_labels = np.array(true_labels)\n",
    "predicted_labels = np.array(predicted_labels)\n",
    "cm = confusion_matrix(true_labels, predicted_labels)\n",
    "print(cm)\n",
    "len(predicted_labels)"
   ]
  }
 ],
 "metadata": {
  "kernelspec": {
   "display_name": "Python 3",
   "language": "python",
   "name": "python3"
  },
  "language_info": {
   "codemirror_mode": {
    "name": "ipython",
    "version": 3
   },
   "file_extension": ".py",
   "mimetype": "text/x-python",
   "name": "python",
   "nbconvert_exporter": "python",
   "pygments_lexer": "ipython3",
   "version": "3.10.0"
  }
 },
 "nbformat": 4,
 "nbformat_minor": 2
}
