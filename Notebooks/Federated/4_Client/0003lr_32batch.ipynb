{
  "cells": [
    {
      "cell_type": "code",
      "execution_count": 1,
      "metadata": {
        "colab": {
          "base_uri": "https://localhost:8080/"
        },
        "id": "r744gux56lPI",
        "outputId": "d40bb1f2-b296-4ba8-b60b-e1db9fb7a2ba"
      },
      "outputs": [
        {
          "name": "stdout",
          "output_type": "stream",
          "text": [
            "\u001b[2K     \u001b[90m━━━━━━━━━━━━━━━━━━━━━━━━━━━━━━━━━━━━━━━━\u001b[0m \u001b[32m219.2/219.2 kB\u001b[0m \u001b[31m4.2 MB/s\u001b[0m eta \u001b[36m0:00:00\u001b[0m\n",
            "\u001b[2K     \u001b[90m━━━━━━━━━━━━━━━━━━━━━━━━━━━━━━━━━━━━━━━━\u001b[0m \u001b[32m2.1/2.1 MB\u001b[0m \u001b[31m12.7 MB/s\u001b[0m eta \u001b[36m0:00:00\u001b[0m\n",
            "\u001b[2K     \u001b[90m━━━━━━━━━━━━━━━━━━━━━━━━━━━━━━━━━━━━━━━━\u001b[0m \u001b[32m56.9/56.9 MB\u001b[0m \u001b[31m25.5 MB/s\u001b[0m eta \u001b[36m0:00:00\u001b[0m\n",
            "\u001b[?25h"
          ]
        }
      ],
      "source": [
        "!pip install -q flwr[simulation]"
      ]
    },
    {
      "cell_type": "code",
      "execution_count": 2,
      "metadata": {
        "id": "QhYdGQVU6py4"
      },
      "outputs": [],
      "source": [
        "import flwr as fl\n",
        "from flwr.common import Metrics\n",
        "from flwr.common.typing import NDArrays, Scalar\n",
        "from collections import OrderedDict\n",
        "from typing import List, Tuple, Dict, Optional\n",
        "\n",
        "import matplotlib.pyplot as plt\n",
        "import numpy as np\n",
        "import pandas as pd\n",
        "import tensorflow as tf\n",
        "\n",
        "import os\n",
        "import librosa"
      ]
    },
    {
      "cell_type": "code",
      "execution_count": 3,
      "metadata": {
        "colab": {
          "base_uri": "https://localhost:8080/"
        },
        "id": "pUTPz2ww8yDy",
        "outputId": "c9d18122-ee81-4468-941d-d174262111bf"
      },
      "outputs": [
        {
          "name": "stdout",
          "output_type": "stream",
          "text": [
            "Mounted at /content/gdrive\n"
          ]
        }
      ],
      "source": [
        "from google.colab import drive\n",
        "drive.mount('/content/gdrive')#, force_remount=True)"
      ]
    },
    {
      "cell_type": "code",
      "execution_count": 4,
      "metadata": {
        "colab": {
          "base_uri": "https://localhost:8080/"
        },
        "id": "if3RTu9E8zUl",
        "outputId": "328cbc9b-b6ac-41ef-e653-45acd40c50fb"
      },
      "outputs": [
        {
          "name": "stdout",
          "output_type": "stream",
          "text": [
            "/content/gdrive/MyDrive/daic/ProjectPrototype\n"
          ]
        }
      ],
      "source": [
        "%cd /content/gdrive/MyDrive/daic/ProjectPrototype"
      ]
    },
    {
      "cell_type": "code",
      "execution_count": 5,
      "metadata": {
        "colab": {
          "base_uri": "https://localhost:8080/"
        },
        "id": "BJsOdA0d80eO",
        "outputId": "dc27e5b6-b864-4546-d7c9-6bc61bbf0d29"
      },
      "outputs": [
        {
          "name": "stdout",
          "output_type": "stream",
          "text": [
            "'212148conf copy 3.ipynb'   edaicwoz   MFCCs_1030   MFCCs_1030.zip   preprocess_data.ipynb\n"
          ]
        }
      ],
      "source": [
        "!ls"
      ]
    },
    {
      "cell_type": "code",
      "execution_count": 6,
      "metadata": {
        "id": "NOdo724P811N"
      },
      "outputs": [],
      "source": [
        "train_labels_df = pd.read_csv(\"edaicwoz/train_split.csv\")\n",
        "test_labels_df = pd.read_csv(\"edaicwoz/test_split.csv\")\n",
        "val_labels_df = pd.read_csv(\"edaicwoz/dev_split.csv\")"
      ]
    },
    {
      "cell_type": "code",
      "execution_count": 7,
      "metadata": {
        "id": "4TEHAQf083qj"
      },
      "outputs": [],
      "source": [
        "def load_audio_files(data_dir, sr=16000):\n",
        "    file_ids = os.listdir(data_dir)\n",
        "    subject_ids = []\n",
        "    file_paths = []\n",
        "    types = []\n",
        "    labels = []\n",
        "    labels_binary = []\n",
        "\n",
        "    for file_id in file_ids:\n",
        "        file_id = file_id.split(\"_\")[0]\n",
        "        file_path = [data_dir + \"/\" + file_id + \"/\" + file_id + \"_MFCC_\" + str(i) + \".npy\" for i in range(len(next(iter(enumerate(os.walk(data_dir + \"/\" + str(file_id) + \"/\"))))[1][2]))]\n",
        "        if int(file_id) in train_labels_df[\"Participant_ID\"].values:\n",
        "            types.append(0)\n",
        "            labels.append(train_labels_df[train_labels_df[\"Participant_ID\"] == int(file_id)]['PHQ_Score'].values[0])\n",
        "            labels_binary.append(train_labels_df[train_labels_df[\"Participant_ID\"] == int(file_id)]['PHQ_Binary'].values[0])\n",
        "\n",
        "        elif int(file_id) in test_labels_df[\"Participant_ID\"].values:\n",
        "            types.append(1)\n",
        "            labels.append(test_labels_df[test_labels_df[\"Participant_ID\"] == int(file_id)]['PHQ_Score'].values[0])\n",
        "            labels_binary.append(test_labels_df[test_labels_df[\"Participant_ID\"] == int(file_id)]['PHQ_Binary'].values[0])\n",
        "        else:\n",
        "            types.append(2)\n",
        "            labels.append(val_labels_df[val_labels_df[\"Participant_ID\"] == int(file_id)]['PHQ_Score'].values[0])\n",
        "            labels_binary.append(val_labels_df[val_labels_df[\"Participant_ID\"] == int(file_id)]['PHQ_Binary'].values[0])\n",
        "        subject_ids.append(int(file_id))\n",
        "        file_paths.append(file_path)\n",
        "\n",
        "    return file_ids, subject_ids, file_paths, types, labels, labels_binary\n",
        "\n",
        "data_dir = \"MFCCs_1030\"\n",
        "\n",
        "file_ids, subject_ids, file_paths, types, labels, labels_binary = load_audio_files(data_dir)"
      ]
    },
    {
      "cell_type": "code",
      "execution_count": 8,
      "metadata": {
        "colab": {
          "base_uri": "https://localhost:8080/"
        },
        "id": "f54IRuEk889P",
        "outputId": "89cdfaca-8134-4dfb-81ea-2bb36ec80d1e"
      },
      "outputs": [
        {
          "name": "stdout",
          "output_type": "stream",
          "text": [
            "[INFO] preparing data...\n"
          ]
        }
      ],
      "source": [
        "def prepare_audio_set(file_paths):\n",
        "\n",
        "    samples = []\n",
        "    samples_ids = []\n",
        "    samples_types = []\n",
        "    samples_labels = []\n",
        "    samples_labels_binary = []\n",
        "\n",
        "    for i, file_path in enumerate(file_paths):\n",
        "        all_mfccs = []\n",
        "        for j in range(len(file_path)):\n",
        "            all_mfccs.append(np.load(file_path[j]))\n",
        "        all_mfccs = np.array(all_mfccs)\n",
        "        samples.extend(all_mfccs)\n",
        "        samples_ids.extend([subject_ids[i]] * len(all_mfccs))\n",
        "        samples_types.extend([types[i]] * len(all_mfccs))\n",
        "        samples_labels.extend([labels[i]] * len(all_mfccs))\n",
        "        samples_labels_binary.extend([labels_binary[i]] * len(all_mfccs))\n",
        "\n",
        "    samples = np.array(samples)\n",
        "\n",
        "    samples_ids = np.array(samples_ids)\n",
        "    samples_types = np.array(samples_types)\n",
        "    samples_labels = np.array(samples_labels)\n",
        "    samples_labels_binary = np.array(samples_labels_binary)\n",
        "\n",
        "    return samples, samples_ids, samples_types, samples_labels, samples_labels_binary\n",
        "\n",
        "print(\"[INFO] preparing data...\")\n",
        "samples, samples_ids, samples_types, samples_labels, samples_labels_binary = prepare_audio_set(file_paths)\n",
        "samples = np.swapaxes(samples, 1, 2)"
      ]
    },
    {
      "cell_type": "code",
      "execution_count": 9,
      "metadata": {
        "id": "uMLrvS1L9F8v"
      },
      "outputs": [],
      "source": [
        "training_samples = samples[samples_types == 0]\n",
        "training_labels = samples_labels_binary[samples_types == 0]\n",
        "training_subject_ids = samples_ids[samples_types == 0]\n",
        "\n",
        "test_samples = samples[samples_types == 1]\n",
        "test_labels = samples_labels_binary[samples_types == 1]\n",
        "\n",
        "val_samples = samples[samples_types == 2]\n",
        "val_labels_df = samples_labels_binary[samples_types == 2]"
      ]
    },
    {
      "cell_type": "code",
      "execution_count": 10,
      "metadata": {
        "id": "bpe1dRB-8WdZ"
      },
      "outputs": [],
      "source": [
        "del samples, samples_ids, samples_types, samples_labels, samples_labels_binary\n",
        "del file_ids, subject_ids, file_paths, types, labels, labels_binary"
      ]
    },
    {
      "cell_type": "code",
      "execution_count": 11,
      "metadata": {
        "id": "PDSzvY3L6woq"
      },
      "outputs": [],
      "source": [
        "SEED = 42\n",
        "NUM_CLIENTS = 4\n",
        "BATCH_SIZE = 8\n",
        "NUM_ROUNDS = 15\n",
        "DEPRESSIVE_MULTIPLIER = 30\n",
        "NON_DEPRESSIVE_MULTIPLIER = 10"
      ]
    },
    {
      "cell_type": "code",
      "execution_count": 12,
      "metadata": {
        "colab": {
          "base_uri": "https://localhost:8080/"
        },
        "id": "uoLCYLk-60oa",
        "outputId": "4806d09e-b9da-4eac-f4b5-5f996067c6d1"
      },
      "outputs": [
        {
          "name": "stderr",
          "output_type": "stream",
          "text": [
            "<ipython-input-12-45e26c792d34>:9: VisibleDeprecationWarning: Creating an ndarray from ragged nested sequences (which is a list-or-tuple of lists-or-tuples-or ndarrays with different lengths or shapes) is deprecated. If you meant to do this, you must specify 'dtype=object' when creating the ndarray.\n",
            "  training_samples_grouped = np.array(training_samples_grouped)\n"
          ]
        }
      ],
      "source": [
        "def partition_data(X: np.ndarray, X_ids: np.ndarray, n_clients: int, d_mult: int, n_d_mult: int) -> Tuple[List[np.ndarray], List[np.ndarray]]:\n",
        "\n",
        "    unique_subject_ids, counts = np.unique(X_ids, return_counts=True)\n",
        "\n",
        "    # grouping the training samples by patient\n",
        "    training_samples_grouped = []\n",
        "    for i in unique_subject_ids:\n",
        "        training_samples_grouped.append(X[X_ids == i])\n",
        "    training_samples_grouped = np.array(training_samples_grouped)\n",
        "\n",
        "    mask_30_segments = np.array([sample.shape[0] == DEPRESSIVE_MULTIPLIER for sample in training_samples_grouped])\n",
        "\n",
        "    # creating masks to get deppressives and non deppressives\n",
        "    mask_10_segments = np.array([sample.shape[0] == NON_DEPRESSIVE_MULTIPLIER for sample in training_samples_grouped])\n",
        "\n",
        "    data_array_30_segments = training_samples_grouped[mask_30_segments]\n",
        "\n",
        "    data_array_10_segments = training_samples_grouped[mask_10_segments]\n",
        "\n",
        "    # recreating labels\n",
        "    X_train_zeros = np.array_split(data_array_10_segments, NUM_CLIENTS)\n",
        "    X_train_ones = np.array_split(data_array_30_segments, NUM_CLIENTS)\n",
        "\n",
        "    # concatenating splitted ones and zeros with labels\n",
        "    X_train_splitted = [] # (NUM_CLIENTS, data)\n",
        "    y_train_splitted = [] # (NUM_CLIENTS, labels)\n",
        "    for i in range(NUM_CLIENTS):\n",
        "\n",
        "        # stack the segments from groups then concatenate\n",
        "        client_data = np.concatenate((np.vstack(X_train_zeros[i]), np.vstack(X_train_ones[i])), axis=0)\n",
        "        client_labels = np.concatenate((np.zeros((X_train_zeros[i].shape[0] * NON_DEPRESSIVE_MULTIPLIER), dtype=int), np.ones((X_train_ones[i].shape[0] * DEPRESSIVE_MULTIPLIER), dtype=int)), axis=0)\n",
        "\n",
        "        X_train_splitted.append(client_data)\n",
        "        y_train_splitted.append(client_labels)\n",
        "\n",
        "    return X_train_splitted, y_train_splitted\n",
        "\n",
        "X_trains, y_trains = partition_data(training_samples, training_subject_ids, NUM_CLIENTS, DEPRESSIVE_MULTIPLIER, NON_DEPRESSIVE_MULTIPLIER)"
      ]
    },
    {
      "cell_type": "code",
      "execution_count": null,
      "metadata": {
        "colab": {
          "base_uri": "https://localhost:8080/"
        },
        "id": "MOakTnvyGeG9",
        "outputId": "0536affa-2519-405d-c4ee-e825b90ea146"
      },
      "outputs": [
        {
          "data": {
            "text/plain": [
              "(610, 15001, 13)"
            ]
          },
          "execution_count": 13,
          "metadata": {},
          "output_type": "execute_result"
        }
      ],
      "source": [
        "X_trains[0].shape"
      ]
    },
    {
      "cell_type": "code",
      "execution_count": 13,
      "metadata": {
        "id": "6TLISBYkEXxm"
      },
      "outputs": [],
      "source": [
        "def get_model(input_shape):\n",
        "    model = tf.keras.models.Sequential()\n",
        "\n",
        "    model.add(tf.keras.layers.GRU(units = 64, input_shape = input_shape)) \n",
        "\n",
        "\n",
        "    model.add(tf.keras.layers.Dense(32, activation='relu'))\n",
        "    model.add(tf.keras.layers.Dropout(0.3))\n",
        "\n",
        "    model.add(tf.keras.layers.Dense(1, activation='sigmoid'))\n",
        "\n",
        "    return model"
      ]
    },
    {
      "cell_type": "code",
      "execution_count": 14,
      "metadata": {
        "id": "NqrDDSKP7HtP"
      },
      "outputs": [],
      "source": [
        "from flwr.common.typing import NDArrays\n",
        "class FlowerClient(fl.client.NumPyClient):\n",
        "\n",
        "    def __init__(self, model: tf.keras.models.Sequential, X_train: np.ndarray, y_train: np.ndarray):\n",
        "        self.model = model\n",
        "        self.X_train = X_train\n",
        "        self.y_train = y_train\n",
        "\n",
        "    def get_parameters(self, config):\n",
        "        return self.model.get_weights()\n",
        "\n",
        "\n",
        "    def fit(self, parameters: NDArrays, config: Dict[str, Scalar]) -> NDArrays:\n",
        "\n",
        "        self.model.compile(optimizer=tf.keras.optimizers.Adam(learning_rate=0.0003), loss=tf.keras.losses.BinaryCrossentropy(label_smoothing=0.1), metrics=['accuracy'])\n",
        "\n",
        "        self.model.set_weights(parameters)\n",
        "\n",
        "        history = self.model.fit(self.X_train, self.y_train ,batch_size=BATCH_SIZE, epochs=1, verbose=0)\n",
        "        results = {\n",
        "            \"loss\": history.history[\"loss\"][0],\n",
        "            \"accuracy\": history.history[\"accuracy\"][0],\n",
        "        }\n",
        "        return self.model.get_weights(), len(self.X_train), results\n",
        "\n",
        "    def evaluate(self, parameters: NDArrays, config: Dict[str, Scalar])-> Tuple[float, int, Dict[str, Scalar]]:\n",
        "        self.model.compile(optimizer=tf.keras.optimizers.Adam(learning_rate=0.0003), loss=tf.keras.losses.BinaryCrossentropy(label_smoothing=0.1), metrics=['accuracy'])\n",
        "        self.model.set_weights(parameters)\n",
        "\n",
        "        loss, acc = self.model.evaluate(self.X_train, self.y_train, verbose=0)\n",
        "        return loss, len(self.X_train), {\"accuracy\": acc}"
      ]
    },
    {
      "cell_type": "code",
      "execution_count": 15,
      "metadata": {
        "id": "qgf9oz_57I9I"
      },
      "outputs": [],
      "source": [
        "# client creator by client id\n",
        "def create_client_fn(cid: str) -> FlowerClient:\n",
        "\n",
        "    input_shape = (15001, 13)\n",
        "    model = get_model(input_shape)\n",
        "    cid_int = int(cid)\n",
        "    return FlowerClient(model, X_trains[cid_int], y_trains[cid_int])"
      ]
    },
    {
      "cell_type": "code",
      "execution_count": 16,
      "metadata": {
        "id": "-BT6BuAA7J3j"
      },
      "outputs": [],
      "source": [
        "def weighted_average(metrics: List[Tuple[int, Metrics]]) -> Metrics:\n",
        "    accuracies = [num_examples * m[\"accuracy\"] for num_examples, m in metrics]\n",
        "    examples = [num_examples for num_examples, _ in metrics]\n",
        "\n",
        "    # Aggregate and return custom metric (weighted average)\n",
        "    return {\"accuracy\": sum(accuracies) / sum(examples)}\n"
      ]
    },
    {
      "cell_type": "code",
      "execution_count": 17,
      "metadata": {
        "colab": {
          "base_uri": "https://localhost:8080/"
        },
        "id": "6l4S_aJJ7Laq",
        "outputId": "2971df7d-72a4-41fc-a8d4-e0191abc2ad3"
      },
      "outputs": [
        {
          "name": "stderr",
          "output_type": "stream",
          "text": [
            "INFO flwr 2023-12-14 12:43:13,694 | app.py:178 | Starting Flower simulation, config: ServerConfig(num_rounds=15, round_timeout=None)\n",
            "INFO:flwr:Starting Flower simulation, config: ServerConfig(num_rounds=15, round_timeout=None)\n",
            "2023-12-14 12:43:15,970\tINFO worker.py:1621 -- Started a local Ray instance.\n",
            "INFO flwr 2023-12-14 12:43:17,412 | app.py:213 | Flower VCE: Ray initialized with resources: {'memory': 32532467712.0, 'node:172.28.0.12': 1.0, 'GPU': 1.0, 'CPU': 8.0, 'node:__internal_head__': 1.0, 'object_store_memory': 16266233856.0}\n",
            "INFO:flwr:Flower VCE: Ray initialized with resources: {'memory': 32532467712.0, 'node:172.28.0.12': 1.0, 'GPU': 1.0, 'CPU': 8.0, 'node:__internal_head__': 1.0, 'object_store_memory': 16266233856.0}\n",
            "INFO flwr 2023-12-14 12:43:17,414 | app.py:219 | Optimize your simulation with Flower VCE: https://flower.dev/docs/framework/how-to-run-simulations.html\n",
            "INFO:flwr:Optimize your simulation with Flower VCE: https://flower.dev/docs/framework/how-to-run-simulations.html\n",
            "INFO flwr 2023-12-14 12:43:17,416 | app.py:242 | Flower VCE: Resources for each Virtual Client: {'num_cpus': 2, 'num_gpus': 1}\n",
            "INFO:flwr:Flower VCE: Resources for each Virtual Client: {'num_cpus': 2, 'num_gpus': 1}\n",
            "INFO flwr 2023-12-14 12:43:17,431 | app.py:288 | Flower VCE: Creating VirtualClientEngineActorPool with 1 actors\n",
            "INFO:flwr:Flower VCE: Creating VirtualClientEngineActorPool with 1 actors\n",
            "INFO flwr 2023-12-14 12:43:17,432 | server.py:89 | Initializing global parameters\n",
            "INFO:flwr:Initializing global parameters\n",
            "INFO flwr 2023-12-14 12:43:17,434 | server.py:276 | Requesting initial parameters from one random client\n",
            "INFO:flwr:Requesting initial parameters from one random client\n",
            "\u001b[2m\u001b[36m(pid=19277)\u001b[0m 2023-12-14 12:43:18.495526: E tensorflow/compiler/xla/stream_executor/cuda/cuda_dnn.cc:9342] Unable to register cuDNN factory: Attempting to register factory for plugin cuDNN when one has already been registered\n",
            "\u001b[2m\u001b[36m(pid=19277)\u001b[0m 2023-12-14 12:43:18.495586: E tensorflow/compiler/xla/stream_executor/cuda/cuda_fft.cc:609] Unable to register cuFFT factory: Attempting to register factory for plugin cuFFT when one has already been registered\n",
            "\u001b[2m\u001b[36m(pid=19277)\u001b[0m 2023-12-14 12:43:18.495619: E tensorflow/compiler/xla/stream_executor/cuda/cuda_blas.cc:1518] Unable to register cuBLAS factory: Attempting to register factory for plugin cuBLAS when one has already been registered\n",
            "\u001b[2m\u001b[36m(pid=19277)\u001b[0m 2023-12-14 12:43:19.619827: W tensorflow/compiler/tf2tensorrt/utils/py_utils.cc:38] TF-TRT Warning: Could not find TensorRT\n",
            "\u001b[2m\u001b[36m(DefaultActor pid=19277)\u001b[0m 2023-12-14 12:43:28.607699: W tensorflow/core/common_runtime/gpu/gpu_bfc_allocator.cc:47] Overriding orig_value setting because the TF_FORCE_GPU_ALLOW_GROWTH environment variable is set. Original config value was 0.\n",
            "INFO flwr 2023-12-14 12:43:29,412 | server.py:280 | Received initial parameters from one random client\n",
            "INFO:flwr:Received initial parameters from one random client\n",
            "INFO flwr 2023-12-14 12:43:29,415 | server.py:91 | Evaluating initial parameters\n",
            "INFO:flwr:Evaluating initial parameters\n",
            "INFO flwr 2023-12-14 12:43:44,275 | server.py:94 | initial parameters (loss, other metrics): 1.418653964996338, {'accuracy': 0.44999998807907104}\n",
            "INFO:flwr:initial parameters (loss, other metrics): 1.418653964996338, {'accuracy': 0.44999998807907104}\n",
            "INFO flwr 2023-12-14 12:43:44,277 | server.py:104 | FL starting\n",
            "INFO:flwr:FL starting\n",
            "DEBUG flwr 2023-12-14 12:43:44,279 | server.py:222 | fit_round 1: strategy sampled 4 clients (out of 4)\n",
            "DEBUG:flwr:fit_round 1: strategy sampled 4 clients (out of 4)\n"
          ]
        },
        {
          "name": "stdout",
          "output_type": "stream",
          "text": [
            "LOSS: 1.418653964996338\n",
            "BEST_LOSS: 999\n",
            "ACCURACY: 0.44999998807907104\n",
            "BEST_ACCURACY: 0.0\n"
          ]
        },
        {
          "name": "stderr",
          "output_type": "stream",
          "text": [
            "DEBUG flwr 2023-12-14 12:45:56,994 | server.py:236 | fit_round 1 received 4 results and 0 failures\n",
            "DEBUG:flwr:fit_round 1 received 4 results and 0 failures\n",
            "WARNING flwr 2023-12-14 12:45:57,002 | fedavg.py:242 | No fit_metrics_aggregation_fn provided\n",
            "WARNING:flwr:No fit_metrics_aggregation_fn provided\n",
            "INFO flwr 2023-12-14 12:46:06,190 | server.py:125 | fit progress: (1, 0.6867510080337524, {'accuracy': 0.5274999737739563}, 141.9110378260002)\n",
            "INFO:flwr:fit progress: (1, 0.6867510080337524, {'accuracy': 0.5274999737739563}, 141.9110378260002)\n",
            "DEBUG flwr 2023-12-14 12:46:06,195 | server.py:173 | evaluate_round 1: strategy sampled 4 clients (out of 4)\n",
            "DEBUG:flwr:evaluate_round 1: strategy sampled 4 clients (out of 4)\n"
          ]
        },
        {
          "name": "stdout",
          "output_type": "stream",
          "text": [
            "LOSS: 0.6867510080337524\n",
            "BEST_LOSS: 1.418653964996338\n",
            "ACCURACY: 0.5274999737739563\n",
            "BEST_ACCURACY: 0.44999998807907104\n"
          ]
        },
        {
          "name": "stderr",
          "output_type": "stream",
          "text": [
            "DEBUG flwr 2023-12-14 12:46:57,489 | server.py:187 | evaluate_round 1 received 4 results and 0 failures\n",
            "DEBUG:flwr:evaluate_round 1 received 4 results and 0 failures\n",
            "DEBUG flwr 2023-12-14 12:46:57,491 | server.py:222 | fit_round 2: strategy sampled 4 clients (out of 4)\n",
            "DEBUG:flwr:fit_round 2: strategy sampled 4 clients (out of 4)\n",
            "DEBUG flwr 2023-12-14 12:49:05,172 | server.py:236 | fit_round 2 received 4 results and 0 failures\n",
            "DEBUG:flwr:fit_round 2 received 4 results and 0 failures\n",
            "INFO flwr 2023-12-14 12:49:14,175 | server.py:125 | fit progress: (2, 0.6810376048088074, {'accuracy': 0.5625}, 329.8965609229999)\n",
            "INFO:flwr:fit progress: (2, 0.6810376048088074, {'accuracy': 0.5625}, 329.8965609229999)\n",
            "DEBUG flwr 2023-12-14 12:49:14,177 | server.py:173 | evaluate_round 2: strategy sampled 4 clients (out of 4)\n",
            "DEBUG:flwr:evaluate_round 2: strategy sampled 4 clients (out of 4)\n"
          ]
        },
        {
          "name": "stdout",
          "output_type": "stream",
          "text": [
            "LOSS: 0.6810376048088074\n",
            "BEST_LOSS: 0.6867510080337524\n",
            "ACCURACY: 0.5625\n",
            "BEST_ACCURACY: 0.5274999737739563\n"
          ]
        },
        {
          "name": "stderr",
          "output_type": "stream",
          "text": [
            "DEBUG flwr 2023-12-14 12:50:03,293 | server.py:187 | evaluate_round 2 received 4 results and 0 failures\n",
            "DEBUG:flwr:evaluate_round 2 received 4 results and 0 failures\n",
            "DEBUG flwr 2023-12-14 12:50:03,295 | server.py:222 | fit_round 3: strategy sampled 4 clients (out of 4)\n",
            "DEBUG:flwr:fit_round 3: strategy sampled 4 clients (out of 4)\n",
            "DEBUG flwr 2023-12-14 12:52:06,983 | server.py:236 | fit_round 3 received 4 results and 0 failures\n",
            "DEBUG:flwr:fit_round 3 received 4 results and 0 failures\n",
            "INFO flwr 2023-12-14 12:52:15,894 | server.py:125 | fit progress: (3, 0.6814741492271423, {'accuracy': 0.5475000143051147}, 511.61519014700025)\n",
            "INFO:flwr:fit progress: (3, 0.6814741492271423, {'accuracy': 0.5475000143051147}, 511.61519014700025)\n",
            "DEBUG flwr 2023-12-14 12:52:15,896 | server.py:173 | evaluate_round 3: strategy sampled 4 clients (out of 4)\n",
            "DEBUG:flwr:evaluate_round 3: strategy sampled 4 clients (out of 4)\n"
          ]
        },
        {
          "name": "stdout",
          "output_type": "stream",
          "text": [
            "LOSS: 0.6814741492271423\n",
            "BEST_LOSS: 0.6810376048088074\n",
            "ACCURACY: 0.5475000143051147\n",
            "BEST_ACCURACY: 0.5625\n"
          ]
        },
        {
          "name": "stderr",
          "output_type": "stream",
          "text": [
            "DEBUG flwr 2023-12-14 12:53:05,594 | server.py:187 | evaluate_round 3 received 4 results and 0 failures\n",
            "DEBUG:flwr:evaluate_round 3 received 4 results and 0 failures\n",
            "DEBUG flwr 2023-12-14 12:53:05,597 | server.py:222 | fit_round 4: strategy sampled 4 clients (out of 4)\n",
            "DEBUG:flwr:fit_round 4: strategy sampled 4 clients (out of 4)\n",
            "DEBUG flwr 2023-12-14 12:55:12,829 | server.py:236 | fit_round 4 received 4 results and 0 failures\n",
            "DEBUG:flwr:fit_round 4 received 4 results and 0 failures\n",
            "INFO flwr 2023-12-14 12:55:21,971 | server.py:125 | fit progress: (4, 0.6815571784973145, {'accuracy': 0.5849999785423279}, 697.6924085840001)\n",
            "INFO:flwr:fit progress: (4, 0.6815571784973145, {'accuracy': 0.5849999785423279}, 697.6924085840001)\n",
            "DEBUG flwr 2023-12-14 12:55:21,974 | server.py:173 | evaluate_round 4: strategy sampled 4 clients (out of 4)\n",
            "DEBUG:flwr:evaluate_round 4: strategy sampled 4 clients (out of 4)\n"
          ]
        },
        {
          "name": "stdout",
          "output_type": "stream",
          "text": [
            "LOSS: 0.6815571784973145\n",
            "BEST_LOSS: 0.6810376048088074\n",
            "ACCURACY: 0.5849999785423279\n",
            "BEST_ACCURACY: 0.5625\n"
          ]
        },
        {
          "name": "stderr",
          "output_type": "stream",
          "text": [
            "DEBUG flwr 2023-12-14 12:56:11,368 | server.py:187 | evaluate_round 4 received 4 results and 0 failures\n",
            "DEBUG:flwr:evaluate_round 4 received 4 results and 0 failures\n",
            "DEBUG flwr 2023-12-14 12:56:11,370 | server.py:222 | fit_round 5: strategy sampled 4 clients (out of 4)\n",
            "DEBUG:flwr:fit_round 5: strategy sampled 4 clients (out of 4)\n",
            "DEBUG flwr 2023-12-14 12:58:18,633 | server.py:236 | fit_round 5 received 4 results and 0 failures\n",
            "DEBUG:flwr:fit_round 5 received 4 results and 0 failures\n",
            "INFO flwr 2023-12-14 12:58:27,842 | server.py:125 | fit progress: (5, 0.6824567317962646, {'accuracy': 0.5687500238418579}, 883.5632203390005)\n",
            "INFO:flwr:fit progress: (5, 0.6824567317962646, {'accuracy': 0.5687500238418579}, 883.5632203390005)\n",
            "DEBUG flwr 2023-12-14 12:58:27,844 | server.py:173 | evaluate_round 5: strategy sampled 4 clients (out of 4)\n",
            "DEBUG:flwr:evaluate_round 5: strategy sampled 4 clients (out of 4)\n"
          ]
        },
        {
          "name": "stdout",
          "output_type": "stream",
          "text": [
            "LOSS: 0.6824567317962646\n",
            "BEST_LOSS: 0.6810376048088074\n",
            "ACCURACY: 0.5687500238418579\n",
            "BEST_ACCURACY: 0.5625\n"
          ]
        },
        {
          "name": "stderr",
          "output_type": "stream",
          "text": [
            "DEBUG flwr 2023-12-14 12:59:15,764 | server.py:187 | evaluate_round 5 received 4 results and 0 failures\n",
            "DEBUG:flwr:evaluate_round 5 received 4 results and 0 failures\n",
            "DEBUG flwr 2023-12-14 12:59:15,767 | server.py:222 | fit_round 6: strategy sampled 4 clients (out of 4)\n",
            "DEBUG:flwr:fit_round 6: strategy sampled 4 clients (out of 4)\n",
            "DEBUG flwr 2023-12-14 13:01:22,365 | server.py:236 | fit_round 6 received 4 results and 0 failures\n",
            "DEBUG:flwr:fit_round 6 received 4 results and 0 failures\n",
            "INFO flwr 2023-12-14 13:01:31,300 | server.py:125 | fit progress: (6, 0.6801790595054626, {'accuracy': 0.5774999856948853}, 1067.0217734429998)\n",
            "INFO:flwr:fit progress: (6, 0.6801790595054626, {'accuracy': 0.5774999856948853}, 1067.0217734429998)\n",
            "DEBUG flwr 2023-12-14 13:01:31,304 | server.py:173 | evaluate_round 6: strategy sampled 4 clients (out of 4)\n",
            "DEBUG:flwr:evaluate_round 6: strategy sampled 4 clients (out of 4)\n"
          ]
        },
        {
          "name": "stdout",
          "output_type": "stream",
          "text": [
            "LOSS: 0.6801790595054626\n",
            "BEST_LOSS: 0.6810376048088074\n",
            "ACCURACY: 0.5774999856948853\n",
            "BEST_ACCURACY: 0.5625\n"
          ]
        },
        {
          "name": "stderr",
          "output_type": "stream",
          "text": [
            "DEBUG flwr 2023-12-14 13:02:20,330 | server.py:187 | evaluate_round 6 received 4 results and 0 failures\n",
            "DEBUG:flwr:evaluate_round 6 received 4 results and 0 failures\n",
            "DEBUG flwr 2023-12-14 13:02:20,333 | server.py:222 | fit_round 7: strategy sampled 4 clients (out of 4)\n",
            "DEBUG:flwr:fit_round 7: strategy sampled 4 clients (out of 4)\n",
            "DEBUG flwr 2023-12-14 13:04:25,301 | server.py:236 | fit_round 7 received 4 results and 0 failures\n",
            "DEBUG:flwr:fit_round 7 received 4 results and 0 failures\n",
            "INFO flwr 2023-12-14 13:04:34,317 | server.py:125 | fit progress: (7, 0.6812838912010193, {'accuracy': 0.5787500143051147}, 1250.0383710320002)\n",
            "INFO:flwr:fit progress: (7, 0.6812838912010193, {'accuracy': 0.5787500143051147}, 1250.0383710320002)\n",
            "DEBUG flwr 2023-12-14 13:04:34,319 | server.py:173 | evaluate_round 7: strategy sampled 4 clients (out of 4)\n",
            "DEBUG:flwr:evaluate_round 7: strategy sampled 4 clients (out of 4)\n"
          ]
        },
        {
          "name": "stdout",
          "output_type": "stream",
          "text": [
            "LOSS: 0.6812838912010193\n",
            "BEST_LOSS: 0.6801790595054626\n",
            "ACCURACY: 0.5787500143051147\n",
            "BEST_ACCURACY: 0.5774999856948853\n"
          ]
        },
        {
          "name": "stderr",
          "output_type": "stream",
          "text": [
            "DEBUG flwr 2023-12-14 13:05:24,254 | server.py:187 | evaluate_round 7 received 4 results and 0 failures\n",
            "DEBUG:flwr:evaluate_round 7 received 4 results and 0 failures\n",
            "DEBUG flwr 2023-12-14 13:05:24,258 | server.py:222 | fit_round 8: strategy sampled 4 clients (out of 4)\n",
            "DEBUG:flwr:fit_round 8: strategy sampled 4 clients (out of 4)\n",
            "DEBUG flwr 2023-12-14 13:07:29,333 | server.py:236 | fit_round 8 received 4 results and 0 failures\n",
            "DEBUG:flwr:fit_round 8 received 4 results and 0 failures\n",
            "INFO flwr 2023-12-14 13:07:38,581 | server.py:125 | fit progress: (8, 0.6851648092269897, {'accuracy': 0.5712500214576721}, 1434.3027933720005)\n",
            "INFO:flwr:fit progress: (8, 0.6851648092269897, {'accuracy': 0.5712500214576721}, 1434.3027933720005)\n",
            "DEBUG flwr 2023-12-14 13:07:38,585 | server.py:173 | evaluate_round 8: strategy sampled 4 clients (out of 4)\n",
            "DEBUG:flwr:evaluate_round 8: strategy sampled 4 clients (out of 4)\n"
          ]
        },
        {
          "name": "stdout",
          "output_type": "stream",
          "text": [
            "LOSS: 0.6851648092269897\n",
            "BEST_LOSS: 0.6801790595054626\n",
            "ACCURACY: 0.5712500214576721\n",
            "BEST_ACCURACY: 0.5774999856948853\n"
          ]
        },
        {
          "name": "stderr",
          "output_type": "stream",
          "text": [
            "DEBUG flwr 2023-12-14 13:08:30,019 | server.py:187 | evaluate_round 8 received 4 results and 0 failures\n",
            "DEBUG:flwr:evaluate_round 8 received 4 results and 0 failures\n",
            "DEBUG flwr 2023-12-14 13:08:30,021 | server.py:222 | fit_round 9: strategy sampled 4 clients (out of 4)\n",
            "DEBUG:flwr:fit_round 9: strategy sampled 4 clients (out of 4)\n",
            "DEBUG flwr 2023-12-14 13:10:35,939 | server.py:236 | fit_round 9 received 4 results and 0 failures\n",
            "DEBUG:flwr:fit_round 9 received 4 results and 0 failures\n",
            "INFO flwr 2023-12-14 13:10:44,958 | server.py:125 | fit progress: (9, 0.6885053515434265, {'accuracy': 0.5550000071525574}, 1620.6797257420003)\n",
            "INFO:flwr:fit progress: (9, 0.6885053515434265, {'accuracy': 0.5550000071525574}, 1620.6797257420003)\n",
            "DEBUG flwr 2023-12-14 13:10:44,960 | server.py:173 | evaluate_round 9: strategy sampled 4 clients (out of 4)\n",
            "DEBUG:flwr:evaluate_round 9: strategy sampled 4 clients (out of 4)\n"
          ]
        },
        {
          "name": "stdout",
          "output_type": "stream",
          "text": [
            "LOSS: 0.6885053515434265\n",
            "BEST_LOSS: 0.6801790595054626\n",
            "ACCURACY: 0.5550000071525574\n",
            "BEST_ACCURACY: 0.5774999856948853\n"
          ]
        },
        {
          "name": "stderr",
          "output_type": "stream",
          "text": [
            "DEBUG flwr 2023-12-14 13:11:34,830 | server.py:187 | evaluate_round 9 received 4 results and 0 failures\n",
            "DEBUG:flwr:evaluate_round 9 received 4 results and 0 failures\n",
            "DEBUG flwr 2023-12-14 13:11:34,833 | server.py:222 | fit_round 10: strategy sampled 4 clients (out of 4)\n",
            "DEBUG:flwr:fit_round 10: strategy sampled 4 clients (out of 4)\n",
            "DEBUG flwr 2023-12-14 13:13:41,545 | server.py:236 | fit_round 10 received 4 results and 0 failures\n",
            "DEBUG:flwr:fit_round 10 received 4 results and 0 failures\n",
            "INFO flwr 2023-12-14 13:13:50,408 | server.py:125 | fit progress: (10, 0.6926031708717346, {'accuracy': 0.5412499904632568}, 1806.129531783)\n",
            "INFO:flwr:fit progress: (10, 0.6926031708717346, {'accuracy': 0.5412499904632568}, 1806.129531783)\n",
            "DEBUG flwr 2023-12-14 13:13:50,410 | server.py:173 | evaluate_round 10: strategy sampled 4 clients (out of 4)\n",
            "DEBUG:flwr:evaluate_round 10: strategy sampled 4 clients (out of 4)\n"
          ]
        },
        {
          "name": "stdout",
          "output_type": "stream",
          "text": [
            "LOSS: 0.6926031708717346\n",
            "BEST_LOSS: 0.6801790595054626\n",
            "ACCURACY: 0.5412499904632568\n",
            "BEST_ACCURACY: 0.5774999856948853\n"
          ]
        },
        {
          "name": "stderr",
          "output_type": "stream",
          "text": [
            "DEBUG flwr 2023-12-14 13:14:38,205 | server.py:187 | evaluate_round 10 received 4 results and 0 failures\n",
            "DEBUG:flwr:evaluate_round 10 received 4 results and 0 failures\n",
            "DEBUG flwr 2023-12-14 13:14:38,207 | server.py:222 | fit_round 11: strategy sampled 4 clients (out of 4)\n",
            "DEBUG:flwr:fit_round 11: strategy sampled 4 clients (out of 4)\n",
            "DEBUG flwr 2023-12-14 13:16:45,914 | server.py:236 | fit_round 11 received 4 results and 0 failures\n",
            "DEBUG:flwr:fit_round 11 received 4 results and 0 failures\n",
            "INFO flwr 2023-12-14 13:16:54,892 | server.py:125 | fit progress: (11, 0.6906629204750061, {'accuracy': 0.5674999952316284}, 1990.613365925)\n",
            "INFO:flwr:fit progress: (11, 0.6906629204750061, {'accuracy': 0.5674999952316284}, 1990.613365925)\n",
            "DEBUG flwr 2023-12-14 13:16:54,894 | server.py:173 | evaluate_round 11: strategy sampled 4 clients (out of 4)\n",
            "DEBUG:flwr:evaluate_round 11: strategy sampled 4 clients (out of 4)\n"
          ]
        },
        {
          "name": "stdout",
          "output_type": "stream",
          "text": [
            "LOSS: 0.6906629204750061\n",
            "BEST_LOSS: 0.6801790595054626\n",
            "ACCURACY: 0.5674999952316284\n",
            "BEST_ACCURACY: 0.5774999856948853\n"
          ]
        },
        {
          "name": "stderr",
          "output_type": "stream",
          "text": [
            "DEBUG flwr 2023-12-14 13:17:44,675 | server.py:187 | evaluate_round 11 received 4 results and 0 failures\n",
            "DEBUG:flwr:evaluate_round 11 received 4 results and 0 failures\n",
            "DEBUG flwr 2023-12-14 13:17:44,682 | server.py:222 | fit_round 12: strategy sampled 4 clients (out of 4)\n",
            "DEBUG:flwr:fit_round 12: strategy sampled 4 clients (out of 4)\n",
            "DEBUG flwr 2023-12-14 13:19:53,541 | server.py:236 | fit_round 12 received 4 results and 0 failures\n",
            "DEBUG:flwr:fit_round 12 received 4 results and 0 failures\n",
            "INFO flwr 2023-12-14 13:20:02,524 | server.py:125 | fit progress: (12, 0.694620668888092, {'accuracy': 0.5562499761581421}, 2178.245711353)\n",
            "INFO:flwr:fit progress: (12, 0.694620668888092, {'accuracy': 0.5562499761581421}, 2178.245711353)\n",
            "DEBUG flwr 2023-12-14 13:20:02,526 | server.py:173 | evaluate_round 12: strategy sampled 4 clients (out of 4)\n",
            "DEBUG:flwr:evaluate_round 12: strategy sampled 4 clients (out of 4)\n"
          ]
        },
        {
          "name": "stdout",
          "output_type": "stream",
          "text": [
            "LOSS: 0.694620668888092\n",
            "BEST_LOSS: 0.6801790595054626\n",
            "ACCURACY: 0.5562499761581421\n",
            "BEST_ACCURACY: 0.5774999856948853\n"
          ]
        },
        {
          "name": "stderr",
          "output_type": "stream",
          "text": [
            "DEBUG flwr 2023-12-14 13:20:52,895 | server.py:187 | evaluate_round 12 received 4 results and 0 failures\n",
            "DEBUG:flwr:evaluate_round 12 received 4 results and 0 failures\n",
            "DEBUG flwr 2023-12-14 13:20:52,899 | server.py:222 | fit_round 13: strategy sampled 4 clients (out of 4)\n",
            "DEBUG:flwr:fit_round 13: strategy sampled 4 clients (out of 4)\n",
            "DEBUG flwr 2023-12-14 13:22:58,922 | server.py:236 | fit_round 13 received 4 results and 0 failures\n",
            "DEBUG:flwr:fit_round 13 received 4 results and 0 failures\n",
            "INFO flwr 2023-12-14 13:23:07,927 | server.py:125 | fit progress: (13, 0.6908324956893921, {'accuracy': 0.5550000071525574}, 2363.648110143)\n",
            "INFO:flwr:fit progress: (13, 0.6908324956893921, {'accuracy': 0.5550000071525574}, 2363.648110143)\n",
            "DEBUG flwr 2023-12-14 13:23:07,929 | server.py:173 | evaluate_round 13: strategy sampled 4 clients (out of 4)\n",
            "DEBUG:flwr:evaluate_round 13: strategy sampled 4 clients (out of 4)\n"
          ]
        },
        {
          "name": "stdout",
          "output_type": "stream",
          "text": [
            "LOSS: 0.6908324956893921\n",
            "BEST_LOSS: 0.6801790595054626\n",
            "ACCURACY: 0.5550000071525574\n",
            "BEST_ACCURACY: 0.5774999856948853\n"
          ]
        },
        {
          "name": "stderr",
          "output_type": "stream",
          "text": [
            "DEBUG flwr 2023-12-14 13:23:58,397 | server.py:187 | evaluate_round 13 received 4 results and 0 failures\n",
            "DEBUG:flwr:evaluate_round 13 received 4 results and 0 failures\n",
            "DEBUG flwr 2023-12-14 13:23:58,403 | server.py:222 | fit_round 14: strategy sampled 4 clients (out of 4)\n",
            "DEBUG:flwr:fit_round 14: strategy sampled 4 clients (out of 4)\n",
            "DEBUG flwr 2023-12-14 13:26:04,255 | server.py:236 | fit_round 14 received 4 results and 0 failures\n",
            "DEBUG:flwr:fit_round 14 received 4 results and 0 failures\n",
            "INFO flwr 2023-12-14 13:26:13,300 | server.py:125 | fit progress: (14, 0.697481095790863, {'accuracy': 0.5575000047683716}, 2549.021635833)\n",
            "INFO:flwr:fit progress: (14, 0.697481095790863, {'accuracy': 0.5575000047683716}, 2549.021635833)\n",
            "DEBUG flwr 2023-12-14 13:26:13,303 | server.py:173 | evaluate_round 14: strategy sampled 4 clients (out of 4)\n",
            "DEBUG:flwr:evaluate_round 14: strategy sampled 4 clients (out of 4)\n"
          ]
        },
        {
          "name": "stdout",
          "output_type": "stream",
          "text": [
            "LOSS: 0.697481095790863\n",
            "BEST_LOSS: 0.6801790595054626\n",
            "ACCURACY: 0.5575000047683716\n",
            "BEST_ACCURACY: 0.5774999856948853\n"
          ]
        },
        {
          "name": "stderr",
          "output_type": "stream",
          "text": [
            "DEBUG flwr 2023-12-14 13:27:03,979 | server.py:187 | evaluate_round 14 received 4 results and 0 failures\n",
            "DEBUG:flwr:evaluate_round 14 received 4 results and 0 failures\n",
            "DEBUG flwr 2023-12-14 13:27:03,986 | server.py:222 | fit_round 15: strategy sampled 4 clients (out of 4)\n",
            "DEBUG:flwr:fit_round 15: strategy sampled 4 clients (out of 4)\n",
            "DEBUG flwr 2023-12-14 13:29:12,054 | server.py:236 | fit_round 15 received 4 results and 0 failures\n",
            "DEBUG:flwr:fit_round 15 received 4 results and 0 failures\n",
            "INFO flwr 2023-12-14 13:29:20,981 | server.py:125 | fit progress: (15, 0.6950597167015076, {'accuracy': 0.5637500286102295}, 2736.702185647)\n",
            "INFO:flwr:fit progress: (15, 0.6950597167015076, {'accuracy': 0.5637500286102295}, 2736.702185647)\n",
            "DEBUG flwr 2023-12-14 13:29:20,983 | server.py:173 | evaluate_round 15: strategy sampled 4 clients (out of 4)\n",
            "DEBUG:flwr:evaluate_round 15: strategy sampled 4 clients (out of 4)\n"
          ]
        },
        {
          "name": "stdout",
          "output_type": "stream",
          "text": [
            "LOSS: 0.6950597167015076\n",
            "BEST_LOSS: 0.6801790595054626\n",
            "ACCURACY: 0.5637500286102295\n",
            "BEST_ACCURACY: 0.5774999856948853\n"
          ]
        },
        {
          "name": "stderr",
          "output_type": "stream",
          "text": [
            "DEBUG flwr 2023-12-14 13:30:08,701 | server.py:187 | evaluate_round 15 received 4 results and 0 failures\n",
            "DEBUG:flwr:evaluate_round 15 received 4 results and 0 failures\n",
            "INFO flwr 2023-12-14 13:30:08,703 | server.py:153 | FL finished in 2784.4247042380002\n",
            "INFO:flwr:FL finished in 2784.4247042380002\n",
            "INFO flwr 2023-12-14 13:30:08,705 | app.py:226 | app_fit: losses_distributed [(1, 0.6970945157903305), (2, 0.6792198774662423), (3, 0.6690468405155425), (4, 0.6599984275533798), (5, 0.6505712392482351), (6, 0.6442995664921213), (7, 0.6375612756039234), (8, 0.6280534678317131), (9, 0.621633334870034), (10, 0.6150039769233542), (11, 0.6059373264617108), (12, 0.6010795676961859), (13, 0.5869532450716546), (14, 0.5795948964484194), (15, 0.5717023897678294)]\n",
            "INFO:flwr:app_fit: losses_distributed [(1, 0.6970945157903305), (2, 0.6792198774662423), (3, 0.6690468405155425), (4, 0.6599984275533798), (5, 0.6505712392482351), (6, 0.6442995664921213), (7, 0.6375612756039234), (8, 0.6280534678317131), (9, 0.621633334870034), (10, 0.6150039769233542), (11, 0.6059373264617108), (12, 0.6010795676961859), (13, 0.5869532450716546), (14, 0.5795948964484194), (15, 0.5717023897678294)]\n",
            "INFO flwr 2023-12-14 13:30:08,710 | app.py:227 | app_fit: metrics_distributed_fit {}\n",
            "INFO:flwr:app_fit: metrics_distributed_fit {}\n",
            "INFO flwr 2023-12-14 13:30:08,712 | app.py:228 | app_fit: metrics_distributed {'accuracy': [(1, 0.5348936245796528), (2, 0.5680851058757052), (3, 0.5719148914864722), (4, 0.600851054140862), (5, 0.6357446777059677), (6, 0.6365957584786922), (7, 0.6497872347527361), (8, 0.6629787264986241), (9, 0.6514893514044742), (10, 0.6685106462620675), (11, 0.6719149034074012), (12, 0.6753191422908864), (13, 0.6953191546683616), (14, 0.7093617117151301), (15, 0.711914894428659)]}\n",
            "INFO:flwr:app_fit: metrics_distributed {'accuracy': [(1, 0.5348936245796528), (2, 0.5680851058757052), (3, 0.5719148914864722), (4, 0.600851054140862), (5, 0.6357446777059677), (6, 0.6365957584786922), (7, 0.6497872347527361), (8, 0.6629787264986241), (9, 0.6514893514044742), (10, 0.6685106462620675), (11, 0.6719149034074012), (12, 0.6753191422908864), (13, 0.6953191546683616), (14, 0.7093617117151301), (15, 0.711914894428659)]}\n",
            "INFO flwr 2023-12-14 13:30:08,715 | app.py:229 | app_fit: losses_centralized [(0, 1.418653964996338), (1, 0.6867510080337524), (2, 0.6810376048088074), (3, 0.6814741492271423), (4, 0.6815571784973145), (5, 0.6824567317962646), (6, 0.6801790595054626), (7, 0.6812838912010193), (8, 0.6851648092269897), (9, 0.6885053515434265), (10, 0.6926031708717346), (11, 0.6906629204750061), (12, 0.694620668888092), (13, 0.6908324956893921), (14, 0.697481095790863), (15, 0.6950597167015076)]\n",
            "INFO:flwr:app_fit: losses_centralized [(0, 1.418653964996338), (1, 0.6867510080337524), (2, 0.6810376048088074), (3, 0.6814741492271423), (4, 0.6815571784973145), (5, 0.6824567317962646), (6, 0.6801790595054626), (7, 0.6812838912010193), (8, 0.6851648092269897), (9, 0.6885053515434265), (10, 0.6926031708717346), (11, 0.6906629204750061), (12, 0.694620668888092), (13, 0.6908324956893921), (14, 0.697481095790863), (15, 0.6950597167015076)]\n",
            "INFO flwr 2023-12-14 13:30:08,717 | app.py:230 | app_fit: metrics_centralized {'accuracy': [(0, 0.44999998807907104), (1, 0.5274999737739563), (2, 0.5625), (3, 0.5475000143051147), (4, 0.5849999785423279), (5, 0.5687500238418579), (6, 0.5774999856948853), (7, 0.5787500143051147), (8, 0.5712500214576721), (9, 0.5550000071525574), (10, 0.5412499904632568), (11, 0.5674999952316284), (12, 0.5562499761581421), (13, 0.5550000071525574), (14, 0.5575000047683716), (15, 0.5637500286102295)]}\n",
            "INFO:flwr:app_fit: metrics_centralized {'accuracy': [(0, 0.44999998807907104), (1, 0.5274999737739563), (2, 0.5625), (3, 0.5475000143051147), (4, 0.5849999785423279), (5, 0.5687500238418579), (6, 0.5774999856948853), (7, 0.5787500143051147), (8, 0.5712500214576721), (9, 0.5550000071525574), (10, 0.5412499904632568), (11, 0.5674999952316284), (12, 0.5562499761581421), (13, 0.5550000071525574), (14, 0.5575000047683716), (15, 0.5637500286102295)]}\n"
          ]
        }
      ],
      "source": [
        "patience = 5\n",
        "best_accuracy = 0.0\n",
        "best_loss = 999\n",
        "weights = np.array([])\n",
        "\n",
        "def evaluate(\n",
        "    server_round: int,\n",
        "    parameters: fl.common.NDArrays,\n",
        "    config: Dict[str, fl.common.Scalar],\n",
        "    ) -> Optional[Tuple[float, Dict[str, fl.common.Scalar]]]:\n",
        "    \"\"\"Centralized evaluation function\"\"\"\n",
        "\n",
        "    input_shape = (15001, 13)\n",
        "    model = get_model(input_shape)\n",
        "    model.compile(optimizer=tf.keras.optimizers.Adam(learning_rate=0.0003), loss=tf.keras.losses.BinaryCrossentropy(label_smoothing=0.1), metrics=['accuracy'])\n",
        "    model.set_weights(parameters)\n",
        "\n",
        "    loss, accuracy = model.evaluate(val_samples, val_labels_df, batch_size=16, verbose=0)\n",
        "\n",
        "    global best_accuracy\n",
        "    global best_loss\n",
        "    global weights\n",
        "\n",
        "    print(f\"LOSS: {loss}\")\n",
        "    print(f\"BEST_LOSS: {best_loss}\")\n",
        "    print(f\"ACCURACY: {accuracy}\")\n",
        "    print(f\"BEST_ACCURACY: {best_accuracy}\")\n",
        "\n",
        "    if loss < best_loss:\n",
        "        best_accuracy = accuracy\n",
        "        weights = parameters\n",
        "        best_loss = loss\n",
        "\n",
        "    return loss, {\"accuracy\": accuracy}\n",
        "\n",
        "\n",
        "\n",
        "client_resources = {\"num_cpus\": 2}\n",
        "if tf.config.get_visible_devices(\"GPU\"):\n",
        "    client_resources[\"num_gpus\"] = 1\n",
        "\n",
        "# Specify the Strategy\n",
        "strategy = fl.server.strategy.FedAvg(\n",
        "    fraction_fit=1.0,  # Sample 100% of available clients for training\n",
        "    fraction_evaluate=1.0,  \n",
        "    min_fit_clients=NUM_CLIENTS,  \n",
        "    min_evaluate_clients=NUM_CLIENTS,  \n",
        "    min_available_clients=NUM_CLIENTS,  # Wait until all 4 clients are available\n",
        "    evaluate_metrics_aggregation_fn=weighted_average,\n",
        "    evaluate_fn=evaluate\n",
        ")\n",
        "\n",
        "# Start simulation\n",
        "history = fl.simulation.start_simulation(\n",
        "    client_fn=create_client_fn,\n",
        "    num_clients=NUM_CLIENTS,\n",
        "    config=fl.server.ServerConfig(num_rounds=NUM_ROUNDS),\n",
        "    strategy=strategy,\n",
        "    client_resources=client_resources,\n",
        ")"
      ]
    },
    {
      "cell_type": "code",
      "execution_count": 18,
      "metadata": {
        "colab": {
          "base_uri": "https://localhost:8080/"
        },
        "id": "MO-YYWSD7NcS",
        "outputId": "bce3a68b-8aa9-4ffc-bf80-d51a6270d2de"
      },
      "outputs": [
        {
          "data": {
            "text/plain": [
              "History (loss, distributed):\n",
              "\tround 1: 0.6970945157903305\n",
              "\tround 2: 0.6792198774662423\n",
              "\tround 3: 0.6690468405155425\n",
              "\tround 4: 0.6599984275533798\n",
              "\tround 5: 0.6505712392482351\n",
              "\tround 6: 0.6442995664921213\n",
              "\tround 7: 0.6375612756039234\n",
              "\tround 8: 0.6280534678317131\n",
              "\tround 9: 0.621633334870034\n",
              "\tround 10: 0.6150039769233542\n",
              "\tround 11: 0.6059373264617108\n",
              "\tround 12: 0.6010795676961859\n",
              "\tround 13: 0.5869532450716546\n",
              "\tround 14: 0.5795948964484194\n",
              "\tround 15: 0.5717023897678294\n",
              "History (loss, centralized):\n",
              "\tround 0: 1.418653964996338\n",
              "\tround 1: 0.6867510080337524\n",
              "\tround 2: 0.6810376048088074\n",
              "\tround 3: 0.6814741492271423\n",
              "\tround 4: 0.6815571784973145\n",
              "\tround 5: 0.6824567317962646\n",
              "\tround 6: 0.6801790595054626\n",
              "\tround 7: 0.6812838912010193\n",
              "\tround 8: 0.6851648092269897\n",
              "\tround 9: 0.6885053515434265\n",
              "\tround 10: 0.6926031708717346\n",
              "\tround 11: 0.6906629204750061\n",
              "\tround 12: 0.694620668888092\n",
              "\tround 13: 0.6908324956893921\n",
              "\tround 14: 0.697481095790863\n",
              "\tround 15: 0.6950597167015076\n",
              "History (metrics, distributed, evaluate):\n",
              "{'accuracy': [(1, 0.5348936245796528), (2, 0.5680851058757052), (3, 0.5719148914864722), (4, 0.600851054140862), (5, 0.6357446777059677), (6, 0.6365957584786922), (7, 0.6497872347527361), (8, 0.6629787264986241), (9, 0.6514893514044742), (10, 0.6685106462620675), (11, 0.6719149034074012), (12, 0.6753191422908864), (13, 0.6953191546683616), (14, 0.7093617117151301), (15, 0.711914894428659)]}History (metrics, centralized):\n",
              "{'accuracy': [(0, 0.44999998807907104), (1, 0.5274999737739563), (2, 0.5625), (3, 0.5475000143051147), (4, 0.5849999785423279), (5, 0.5687500238418579), (6, 0.5774999856948853), (7, 0.5787500143051147), (8, 0.5712500214576721), (9, 0.5550000071525574), (10, 0.5412499904632568), (11, 0.5674999952316284), (12, 0.5562499761581421), (13, 0.5550000071525574), (14, 0.5575000047683716), (15, 0.5637500286102295)]}"
            ]
          },
          "execution_count": 18,
          "metadata": {},
          "output_type": "execute_result"
        }
      ],
      "source": [
        "history"
      ]
    },
    {
      "cell_type": "code",
      "execution_count": 19,
      "metadata": {
        "colab": {
          "base_uri": "https://localhost:8080/"
        },
        "id": "D-29DaJU7PWE",
        "outputId": "b5d01d1f-106b-4edc-d456-f42190ccc07c"
      },
      "outputs": [
        {
          "name": "stdout",
          "output_type": "stream",
          "text": [
            "0.5774999856948853\n",
            "0.6801790595054626\n",
            "5\n",
            "[array([[ 0.08233454,  0.1274988 , -0.00847076, ..., -0.16272862,\n",
            "         0.10172983, -0.02925962],\n",
            "       [ 0.09945555, -0.13446443,  0.0205587 , ...,  0.07920102,\n",
            "        -0.13699585, -0.03083093],\n",
            "       [ 0.01768176,  0.12369247,  0.13807541, ...,  0.02176354,\n",
            "         0.13673829,  0.04402371],\n",
            "       ...,\n",
            "       [ 0.04153434, -0.13687532, -0.09707322, ...,  0.16794015,\n",
            "         0.09342177, -0.08677179],\n",
            "       [-0.13060904, -0.12109911, -0.04314165, ..., -0.05570713,\n",
            "        -0.03068337,  0.14090261],\n",
            "       [-0.00243561,  0.03939537,  0.1262586 , ..., -0.06596623,\n",
            "         0.04424986, -0.12256265]], dtype=float32), array([[-4.4740029e-02,  1.3858457e-02,  1.3055132e-01, ...,\n",
            "        -7.9146080e-02,  1.3502184e-01, -1.1146998e-01],\n",
            "       [-2.7078745e-04,  5.9276089e-02, -2.9494677e-02, ...,\n",
            "         1.2541558e-01,  4.3675546e-02, -1.6591310e-03],\n",
            "       [ 2.7796974e-02,  1.0665272e-01,  7.7962376e-02, ...,\n",
            "         4.7348671e-02,  8.0170501e-03,  1.8412327e-02],\n",
            "       ...,\n",
            "       [ 1.0449130e-01, -3.9473359e-02, -1.5149455e-02, ...,\n",
            "        -8.0731027e-02, -6.7450956e-02, -2.7697779e-02],\n",
            "       [ 4.1419789e-02, -1.3785018e-01,  3.6700349e-02, ...,\n",
            "        -1.1497492e-01, -1.1521879e-01,  2.0341329e-02],\n",
            "       [-9.5424891e-02,  4.9497830e-03, -3.3731487e-02, ...,\n",
            "        -8.4958375e-03, -7.2914831e-02, -1.4924305e-05]], dtype=float32), array([[ 2.66795256e-03, -5.30939069e-05, -2.41700141e-03,\n",
            "         1.30936550e-02,  8.71684519e-04,  8.89697869e-04,\n",
            "         5.04630269e-04,  5.05068479e-03, -3.79639823e-04,\n",
            "         1.90640427e-03, -3.02007888e-03, -3.09271202e-03,\n",
            "         1.68746628e-03, -1.20472424e-02, -2.19267420e-03,\n",
            "        -3.40142706e-03, -2.39926437e-03, -1.24154228e-03,\n",
            "         8.13430757e-04,  2.02416675e-03, -5.22766321e-04,\n",
            "         2.42381427e-03, -4.09654109e-03,  3.20587424e-04,\n",
            "         1.24005356e-03,  1.02957652e-03,  7.66026182e-03,\n",
            "        -1.82774302e-03, -1.66816101e-03, -6.93078805e-03,\n",
            "        -3.83125385e-03,  3.33571667e-03, -4.48189909e-03,\n",
            "        -1.13348346e-02, -2.98460340e-03, -1.35149425e-02,\n",
            "        -1.29537684e-05, -6.65881380e-04, -5.53477695e-03,\n",
            "        -1.61494198e-03, -2.04754085e-03,  3.19991149e-02,\n",
            "        -1.04227001e-02, -2.67210929e-03, -1.16663137e-02,\n",
            "         7.57036905e-04,  4.17618640e-03, -6.01872918e-04,\n",
            "         3.04657442e-04,  1.33784115e-03,  2.93614087e-03,\n",
            "         4.41663759e-03,  2.76971702e-03,  9.40285902e-03,\n",
            "         1.36453910e-02, -1.80000756e-02,  1.03739987e-03,\n",
            "        -6.10748539e-03,  6.86125644e-03, -1.25393588e-02,\n",
            "         2.96162791e-03,  5.76521816e-05, -6.74929179e-04,\n",
            "        -6.22114725e-03,  4.57283692e-04, -5.35022561e-03,\n",
            "        -2.36954409e-04, -7.95324915e-04, -1.91020386e-04,\n",
            "         6.54692471e-04,  6.06818765e-04, -1.16216531e-03,\n",
            "        -6.62726889e-05,  1.97969200e-07,  1.99803922e-04,\n",
            "         4.39662923e-04,  4.69565054e-10,  9.29960443e-05,\n",
            "        -5.72090037e-04, -5.33178216e-03,  1.46233365e-02,\n",
            "         3.02926684e-03,  1.06135224e-06, -4.02258383e-03,\n",
            "        -4.67281323e-03,  1.81266163e-02,  1.81685388e-03,\n",
            "        -5.12093073e-03,  7.52573367e-03,  3.38077592e-03,\n",
            "        -4.52315481e-03, -5.50358696e-03,  1.89178099e-04,\n",
            "         1.43099134e-03,  3.02634318e-03, -1.44110108e-03,\n",
            "         5.55150490e-03,  1.17770210e-03, -6.70395279e-03,\n",
            "         1.44187303e-03, -1.58436262e-04, -2.90127442e-04,\n",
            "        -3.83186573e-03, -4.40475389e-07,  1.07473799e-03,\n",
            "        -2.65927403e-04, -8.67806230e-05,  1.23589807e-05,\n",
            "         2.99643398e-05, -2.24036397e-03,  3.47436895e-03,\n",
            "         2.09170074e-04,  1.39654541e-04,  9.26486100e-04,\n",
            "         4.63568767e-06, -4.53379005e-04,  6.28046155e-06,\n",
            "         4.66933707e-03,  3.21505225e-15, -5.38962341e-09,\n",
            "         3.61090852e-03,  1.72789260e-05,  2.85791786e-04,\n",
            "        -6.50788657e-03,  9.97618027e-03,  3.36253825e-09,\n",
            "         4.14250855e-04,  2.98150396e-03,  1.05759641e-03,\n",
            "         1.94904977e-03,  4.05658456e-03, -1.17337098e-04,\n",
            "        -6.89300057e-03,  1.89224462e-04,  7.73012056e-04,\n",
            "        -5.32757817e-03, -1.29640475e-02,  1.64118153e-03,\n",
            "         1.84826017e-03, -3.79446242e-03, -2.89786956e-03,\n",
            "         7.03903288e-03, -4.49860096e-03, -1.15256943e-02,\n",
            "        -4.04566480e-03,  1.25139253e-03, -5.03119896e-04,\n",
            "         6.41650753e-03,  1.17147621e-02, -3.91237251e-03,\n",
            "        -6.22233516e-03,  1.55314931e-03, -1.03968731e-03,\n",
            "         6.37965649e-03, -9.10511333e-03,  1.81133347e-03,\n",
            "        -2.07004044e-03,  5.85072953e-03, -4.38081706e-03,\n",
            "        -8.84755224e-04,  3.85404704e-03,  1.30727945e-03,\n",
            "         9.42034554e-03,  1.57557183e-03,  2.03125551e-02,\n",
            "         1.06133381e-02, -3.02939513e-03,  8.22636008e-04,\n",
            "        -1.24252820e-02, -5.69123914e-03,  1.01012760e-03,\n",
            "        -6.28642133e-03, -1.08971018e-02,  9.21586528e-03,\n",
            "        -1.75696495e-03, -2.32724426e-03,  9.51880123e-03,\n",
            "        -1.59941963e-04, -3.57894623e-03, -3.01388884e-03,\n",
            "         1.78103903e-04, -1.10391807e-03,  1.64847378e-07,\n",
            "         9.84398834e-03,  7.22868310e-04,  2.62276456e-03,\n",
            "        -4.27007489e-03,  9.98170022e-03, -2.67805997e-02,\n",
            "         1.88595805e-05, -2.85477424e-03,  9.89055075e-03],\n",
            "       [ 2.66795256e-03, -5.30939069e-05, -2.41700141e-03,\n",
            "         1.30936550e-02,  8.71684519e-04,  8.89697869e-04,\n",
            "         5.04630269e-04,  5.05068479e-03, -3.79639823e-04,\n",
            "         1.90640427e-03, -3.02007888e-03, -3.09271202e-03,\n",
            "         1.68746628e-03, -1.20472424e-02, -2.19267420e-03,\n",
            "        -3.40142706e-03, -2.39926437e-03, -1.24154228e-03,\n",
            "         8.13430757e-04,  2.02416675e-03, -5.22766321e-04,\n",
            "         2.42381427e-03, -4.09654109e-03,  3.20587424e-04,\n",
            "         1.24005356e-03,  1.02957652e-03,  7.66026182e-03,\n",
            "        -1.82774302e-03, -1.66816101e-03, -6.93078805e-03,\n",
            "        -3.83125385e-03,  3.33571667e-03, -4.48189909e-03,\n",
            "        -1.13348346e-02, -2.98460340e-03, -1.35149425e-02,\n",
            "        -1.29537684e-05, -6.65881380e-04, -5.53477695e-03,\n",
            "        -1.61494198e-03, -2.04754085e-03,  3.19991149e-02,\n",
            "        -1.04227001e-02, -2.67210929e-03, -1.16663137e-02,\n",
            "         7.57036905e-04,  4.17618640e-03, -6.01872918e-04,\n",
            "         3.04657442e-04,  1.33784115e-03,  2.93614087e-03,\n",
            "         4.41663759e-03,  2.76971702e-03,  9.40285902e-03,\n",
            "         1.36453910e-02, -1.80000756e-02,  1.03739987e-03,\n",
            "        -6.10748539e-03,  6.86125644e-03, -1.25393588e-02,\n",
            "         2.96162791e-03,  5.76521816e-05, -6.74929179e-04,\n",
            "        -6.22114725e-03,  4.57283692e-04, -5.35022561e-03,\n",
            "        -2.36954409e-04, -7.95324915e-04, -1.91020386e-04,\n",
            "         6.54692471e-04,  6.06818765e-04, -1.16216531e-03,\n",
            "        -6.62726889e-05,  1.97969200e-07,  1.99803922e-04,\n",
            "         4.39662923e-04,  4.69565054e-10,  9.29960443e-05,\n",
            "        -5.72090037e-04, -5.33178216e-03,  1.46233365e-02,\n",
            "         3.02926684e-03,  1.06135224e-06, -4.02258383e-03,\n",
            "        -4.67281323e-03,  1.81266163e-02,  1.81685388e-03,\n",
            "        -5.12093073e-03,  7.52573367e-03,  3.38077592e-03,\n",
            "        -4.52315481e-03, -5.50358696e-03,  1.89178099e-04,\n",
            "         1.43099134e-03,  3.02634318e-03, -1.44110108e-03,\n",
            "         5.55150490e-03,  1.17770210e-03, -6.70395279e-03,\n",
            "         1.44187303e-03, -1.58436262e-04, -2.90127442e-04,\n",
            "        -3.83186573e-03, -4.40475389e-07,  1.07473799e-03,\n",
            "        -2.65927403e-04, -8.67806230e-05,  1.23589807e-05,\n",
            "         2.99643398e-05, -2.24036397e-03,  3.47436895e-03,\n",
            "         2.09170074e-04,  1.39654541e-04,  9.26486100e-04,\n",
            "         4.63568767e-06, -4.53379005e-04,  6.28046155e-06,\n",
            "         4.66933707e-03,  3.21505225e-15, -5.38962341e-09,\n",
            "         3.61090852e-03,  1.72789260e-05,  2.85791786e-04,\n",
            "        -6.50788657e-03,  9.97618027e-03,  3.36253825e-09,\n",
            "         4.14250855e-04,  2.98150396e-03,  2.15768628e-03,\n",
            "         5.81922429e-03,  4.06994857e-03,  9.36384033e-03,\n",
            "        -6.89720456e-03,  7.23233738e-04,  5.79860481e-03,\n",
            "        -6.21463312e-03, -1.29645374e-02,  1.64117082e-03,\n",
            "         1.62450341e-03, -2.63907458e-03, -2.73595919e-08,\n",
            "         7.03886058e-03, -3.22976452e-03, -3.23557598e-03,\n",
            "         8.77068657e-03,  7.01487856e-03, -3.31125484e-04,\n",
            "         5.96782146e-03,  3.95347411e-03,  2.64045484e-02,\n",
            "        -5.90597396e-04,  1.22732641e-02, -7.96405002e-05,\n",
            "         1.14055993e-02, -7.14519294e-04,  1.76288642e-03,\n",
            "        -3.24690901e-03,  6.71687163e-03, -4.32592072e-03,\n",
            "        -2.84873275e-03, -8.62118509e-03,  2.25559855e-03,\n",
            "         7.90914427e-03,  8.31182755e-04,  2.03384440e-02,\n",
            "         1.05257696e-02,  4.06080304e-04, -2.61605437e-05,\n",
            "         7.62633374e-03, -5.69055788e-03,  1.73230132e-03,\n",
            "        -6.28683344e-03, -1.08963624e-02,  7.92354718e-03,\n",
            "        -5.50850411e-04, -6.64338877e-04, -4.70314735e-05,\n",
            "         3.44544329e-04, -3.65504366e-03, -3.00497026e-03,\n",
            "         1.83340162e-04,  2.07049376e-03,  8.77429795e-10,\n",
            "         1.70005379e-08,  9.01237782e-03,  2.61669839e-03,\n",
            "        -8.65111535e-04,  6.58441009e-03, -2.63761245e-02,\n",
            "         1.88633221e-05, -4.06898791e-03,  1.56088788e-02]], dtype=float32), array([[-0.10022925, -0.0942267 , -0.17373839, ...,  0.02517254,\n",
            "        -0.14620808, -0.24681774],\n",
            "       [-0.08282155, -0.12181058,  0.14223959, ..., -0.16771561,\n",
            "        -0.20083341, -0.21573326],\n",
            "       [-0.02447412, -0.20688424,  0.19459014, ...,  0.07300769,\n",
            "        -0.19427405, -0.11354432],\n",
            "       ...,\n",
            "       [ 0.18521926, -0.14223313, -0.11967742, ..., -0.0680796 ,\n",
            "        -0.0885664 ,  0.21021542],\n",
            "       [ 0.14124177,  0.19750288,  0.0786979 , ..., -0.13779831,\n",
            "         0.00304002, -0.16192092],\n",
            "       [-0.11322092, -0.04084696, -0.13402241, ..., -0.20138793,\n",
            "         0.08043521,  0.13476193]], dtype=float32), array([-0.01428058,  0.00222742,  0.01317999,  0.00651463,  0.00843771,\n",
            "       -0.00315618, -0.01190901, -0.00029884, -0.00812395, -0.01549723,\n",
            "       -0.01497481,  0.0081656 ,  0.        , -0.02212984, -0.00435974,\n",
            "       -0.00591474,  0.01319367,  0.00549809,  0.00863011, -0.00701678,\n",
            "       -0.00754654, -0.00385251,  0.        , -0.00981483, -0.01923332,\n",
            "       -0.01531283,  0.01090137,  0.        ,  0.00228022, -0.01034815,\n",
            "       -0.01677764,  0.00466478], dtype=float32), array([[ 0.41292816],\n",
            "       [-0.14116755],\n",
            "       [-0.11535639],\n",
            "       [-0.14657837],\n",
            "       [-0.07453357],\n",
            "       [ 0.37952372],\n",
            "       [ 0.36939934],\n",
            "       [ 0.2788672 ],\n",
            "       [ 0.20216523],\n",
            "       [ 0.1148537 ],\n",
            "       [ 0.23322883],\n",
            "       [-0.34179366],\n",
            "       [ 0.23135786],\n",
            "       [ 0.17610851],\n",
            "       [ 0.04968806],\n",
            "       [-0.2691881 ],\n",
            "       [-0.1979881 ],\n",
            "       [-0.42793214],\n",
            "       [-0.15719925],\n",
            "       [ 0.1666417 ],\n",
            "       [ 0.18429135],\n",
            "       [ 0.12521139],\n",
            "       [-0.22579104],\n",
            "       [ 0.32569912],\n",
            "       [ 0.3655754 ],\n",
            "       [ 0.31663817],\n",
            "       [-0.21634786],\n",
            "       [ 0.03287464],\n",
            "       [-0.07365906],\n",
            "       [ 0.3221562 ],\n",
            "       [ 0.36254698],\n",
            "       [-0.29385075]], dtype=float32), array([-0.01384078], dtype=float32)]\n"
          ]
        }
      ],
      "source": [
        "# printing the validation results\n",
        "print(best_accuracy)\n",
        "print(best_loss)\n",
        "print(patience)\n",
        "print(weights)"
      ]
    }
  ],
  "metadata": {
    "accelerator": "GPU",
    "colab": {
      "machine_shape": "hm",
      "provenance": []
    },
    "kernelspec": {
      "display_name": "Python 3",
      "name": "python3"
    },
    "language_info": {
      "name": "python"
    }
  },
  "nbformat": 4,
  "nbformat_minor": 0
}
