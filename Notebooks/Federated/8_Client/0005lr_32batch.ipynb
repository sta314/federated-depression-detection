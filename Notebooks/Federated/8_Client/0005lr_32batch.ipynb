{
  "cells": [
    {
      "cell_type": "code",
      "execution_count": 1,
      "metadata": {
        "colab": {
          "base_uri": "https://localhost:8080/"
        },
        "id": "r744gux56lPI",
        "outputId": "7dd34e5e-64a2-4589-f3ec-744415e8e3c7"
      },
      "outputs": [
        {
          "name": "stdout",
          "output_type": "stream",
          "text": [
            "\u001b[2K     \u001b[90m━━━━━━━━━━━━━━━━━━━━━━━━━━━━━━━━━━━━━━━━\u001b[0m \u001b[32m219.2/219.2 kB\u001b[0m \u001b[31m5.0 MB/s\u001b[0m eta \u001b[36m0:00:00\u001b[0m\n",
            "\u001b[2K     \u001b[90m━━━━━━━━━━━━━━━━━━━━━━━━━━━━━━━━━━━━━━━━\u001b[0m \u001b[32m2.1/2.1 MB\u001b[0m \u001b[31m19.2 MB/s\u001b[0m eta \u001b[36m0:00:00\u001b[0m\n",
            "\u001b[2K     \u001b[90m━━━━━━━━━━━━━━━━━━━━━━━━━━━━━━━━━━━━━━━━\u001b[0m \u001b[32m56.9/56.9 MB\u001b[0m \u001b[31m33.0 MB/s\u001b[0m eta \u001b[36m0:00:00\u001b[0m\n",
            "\u001b[?25h"
          ]
        }
      ],
      "source": [
        "!pip install -q flwr[simulation]"
      ]
    },
    {
      "cell_type": "code",
      "execution_count": 1,
      "metadata": {
        "id": "QhYdGQVU6py4"
      },
      "outputs": [],
      "source": [
        "import flwr as fl\n",
        "from flwr.common import Metrics\n",
        "from flwr.common.typing import NDArrays, Scalar\n",
        "from collections import OrderedDict\n",
        "from typing import List, Tuple, Dict, Optional\n",
        "\n",
        "import matplotlib.pyplot as plt\n",
        "import numpy as np\n",
        "import pandas as pd\n",
        "import tensorflow as tf\n",
        "\n",
        "import os\n",
        "import librosa"
      ]
    },
    {
      "cell_type": "code",
      "execution_count": 2,
      "metadata": {
        "colab": {
          "base_uri": "https://localhost:8080/"
        },
        "id": "pUTPz2ww8yDy",
        "outputId": "71477545-9fce-438b-e7fc-f1d435a8076e"
      },
      "outputs": [
        {
          "name": "stdout",
          "output_type": "stream",
          "text": [
            "Drive already mounted at /content/gdrive; to attempt to forcibly remount, call drive.mount(\"/content/gdrive\", force_remount=True).\n"
          ]
        }
      ],
      "source": [
        "from google.colab import drive\n",
        "drive.mount('/content/gdrive')#, force_remount=True)"
      ]
    },
    {
      "cell_type": "code",
      "execution_count": 3,
      "metadata": {
        "colab": {
          "base_uri": "https://localhost:8080/"
        },
        "id": "if3RTu9E8zUl",
        "outputId": "8585d785-fe62-437c-b257-b448f1753e08"
      },
      "outputs": [
        {
          "name": "stdout",
          "output_type": "stream",
          "text": [
            "/content/gdrive/MyDrive/daic/ProjectPrototype\n"
          ]
        }
      ],
      "source": [
        "%cd /content/gdrive/MyDrive/daic/ProjectPrototype"
      ]
    },
    {
      "cell_type": "code",
      "execution_count": 4,
      "metadata": {
        "colab": {
          "base_uri": "https://localhost:8080/"
        },
        "id": "BJsOdA0d80eO",
        "outputId": "8f630282-2211-476d-91dd-68f472323e5f"
      },
      "outputs": [
        {
          "name": "stdout",
          "output_type": "stream",
          "text": [
            "'212148conf copy 3.ipynb'   edaicwoz   MFCCs_1030   MFCCs_1030.zip   preprocess_data.ipynb\n"
          ]
        }
      ],
      "source": [
        "!ls"
      ]
    },
    {
      "cell_type": "code",
      "execution_count": 5,
      "metadata": {
        "id": "NOdo724P811N"
      },
      "outputs": [],
      "source": [
        "train_labels_df = pd.read_csv(\"edaicwoz/train_split.csv\")\n",
        "test_labels_df = pd.read_csv(\"edaicwoz/test_split.csv\")\n",
        "val_labels_df = pd.read_csv(\"edaicwoz/dev_split.csv\")"
      ]
    },
    {
      "cell_type": "code",
      "execution_count": 6,
      "metadata": {
        "id": "4TEHAQf083qj"
      },
      "outputs": [],
      "source": [
        "def load_audio_files(data_dir, sr=16000):\n",
        "    file_ids = os.listdir(data_dir)\n",
        "    subject_ids = []\n",
        "    file_paths = []\n",
        "    types = []\n",
        "    labels = []\n",
        "    labels_binary = []\n",
        "\n",
        "    for file_id in file_ids:\n",
        "        file_id = file_id.split(\"_\")[0]\n",
        "        file_path = [data_dir + \"/\" + file_id + \"/\" + file_id + \"_MFCC_\" + str(i) + \".npy\" for i in range(len(next(iter(enumerate(os.walk(data_dir + \"/\" + str(file_id) + \"/\"))))[1][2]))]\n",
        "        if int(file_id) in train_labels_df[\"Participant_ID\"].values:\n",
        "            types.append(0)\n",
        "            labels.append(train_labels_df[train_labels_df[\"Participant_ID\"] == int(file_id)]['PHQ_Score'].values[0])\n",
        "            labels_binary.append(train_labels_df[train_labels_df[\"Participant_ID\"] == int(file_id)]['PHQ_Binary'].values[0])\n",
        "\n",
        "        elif int(file_id) in test_labels_df[\"Participant_ID\"].values:\n",
        "            types.append(1)\n",
        "            labels.append(test_labels_df[test_labels_df[\"Participant_ID\"] == int(file_id)]['PHQ_Score'].values[0])\n",
        "            labels_binary.append(test_labels_df[test_labels_df[\"Participant_ID\"] == int(file_id)]['PHQ_Binary'].values[0])\n",
        "        else:\n",
        "            types.append(2)\n",
        "            labels.append(val_labels_df[val_labels_df[\"Participant_ID\"] == int(file_id)]['PHQ_Score'].values[0])\n",
        "            labels_binary.append(val_labels_df[val_labels_df[\"Participant_ID\"] == int(file_id)]['PHQ_Binary'].values[0])\n",
        "        subject_ids.append(int(file_id))\n",
        "        file_paths.append(file_path)\n",
        "\n",
        "    return file_ids, subject_ids, file_paths, types, labels, labels_binary\n",
        "\n",
        "data_dir = \"MFCCs_1030\"\n",
        "\n",
        "file_ids, subject_ids, file_paths, types, labels, labels_binary = load_audio_files(data_dir)"
      ]
    },
    {
      "cell_type": "code",
      "execution_count": 7,
      "metadata": {
        "colab": {
          "base_uri": "https://localhost:8080/"
        },
        "id": "f54IRuEk889P",
        "outputId": "c4bfbe1b-714c-4403-f8d6-29ff91b39e7e"
      },
      "outputs": [
        {
          "name": "stdout",
          "output_type": "stream",
          "text": [
            "[INFO] preparing data...\n"
          ]
        }
      ],
      "source": [
        "def prepare_audio_set(file_paths):\n",
        "\n",
        "    samples = []\n",
        "    samples_ids = []\n",
        "    samples_types = []\n",
        "    samples_labels = []\n",
        "    samples_labels_binary = []\n",
        "\n",
        "    for i, file_path in enumerate(file_paths):\n",
        "        all_mfccs = []\n",
        "        for j in range(len(file_path)):\n",
        "            all_mfccs.append(np.load(file_path[j]))\n",
        "        all_mfccs = np.array(all_mfccs)\n",
        "        samples.extend(all_mfccs)\n",
        "        samples_ids.extend([subject_ids[i]] * len(all_mfccs))\n",
        "        samples_types.extend([types[i]] * len(all_mfccs))\n",
        "        samples_labels.extend([labels[i]] * len(all_mfccs))\n",
        "        samples_labels_binary.extend([labels_binary[i]] * len(all_mfccs))\n",
        "\n",
        "    samples = np.array(samples)\n",
        "\n",
        "    samples_ids = np.array(samples_ids)\n",
        "    samples_types = np.array(samples_types)\n",
        "    samples_labels = np.array(samples_labels)\n",
        "    samples_labels_binary = np.array(samples_labels_binary)\n",
        "\n",
        "    return samples, samples_ids, samples_types, samples_labels, samples_labels_binary\n",
        "\n",
        "print(\"[INFO] preparing data...\")\n",
        "samples, samples_ids, samples_types, samples_labels, samples_labels_binary = prepare_audio_set(file_paths)\n",
        "samples = np.swapaxes(samples, 1, 2)"
      ]
    },
    {
      "cell_type": "code",
      "execution_count": 8,
      "metadata": {
        "id": "uMLrvS1L9F8v"
      },
      "outputs": [],
      "source": [
        "training_samples = samples[samples_types == 0]\n",
        "training_labels = samples_labels_binary[samples_types == 0]\n",
        "training_subject_ids = samples_ids[samples_types == 0]\n",
        "\n",
        "test_samples = samples[samples_types == 1]\n",
        "test_labels = samples_labels_binary[samples_types == 1]\n",
        "\n",
        "val_samples = samples[samples_types == 2]\n",
        "val_labels_df = samples_labels_binary[samples_types == 2]"
      ]
    },
    {
      "cell_type": "code",
      "execution_count": 9,
      "metadata": {
        "id": "bpe1dRB-8WdZ"
      },
      "outputs": [],
      "source": [
        "del samples, samples_ids, samples_types, samples_labels, samples_labels_binary\n",
        "del file_ids, subject_ids, file_paths, types, labels, labels_binary"
      ]
    },
    {
      "cell_type": "code",
      "execution_count": 10,
      "metadata": {
        "id": "PDSzvY3L6woq"
      },
      "outputs": [],
      "source": [
        "SEED = 42\n",
        "NUM_CLIENTS = 8\n",
        "BATCH_SIZE = 32\n",
        "NUM_ROUNDS = 5\n",
        "DEPRESSIVE_MULTIPLIER = 30\n",
        "NON_DEPRESSIVE_MULTIPLIER = 10"
      ]
    },
    {
      "cell_type": "code",
      "execution_count": 11,
      "metadata": {
        "colab": {
          "base_uri": "https://localhost:8080/"
        },
        "id": "uoLCYLk-60oa",
        "outputId": "e1123bf8-ac47-47d1-8250-b8d2ec52764f"
      },
      "outputs": [
        {
          "name": "stderr",
          "output_type": "stream",
          "text": [
            "<ipython-input-11-45e26c792d34>:9: VisibleDeprecationWarning: Creating an ndarray from ragged nested sequences (which is a list-or-tuple of lists-or-tuples-or ndarrays with different lengths or shapes) is deprecated. If you meant to do this, you must specify 'dtype=object' when creating the ndarray.\n",
            "  training_samples_grouped = np.array(training_samples_grouped)\n"
          ]
        }
      ],
      "source": [
        "def partition_data(X: np.ndarray, X_ids: np.ndarray, n_clients: int, d_mult: int, n_d_mult: int) -> Tuple[List[np.ndarray], List[np.ndarray]]:\n",
        "\n",
        "    unique_subject_ids, counts = np.unique(X_ids, return_counts=True)\n",
        "\n",
        "    # grouping the training samples by patient\n",
        "    training_samples_grouped = []\n",
        "    for i in unique_subject_ids:\n",
        "        training_samples_grouped.append(X[X_ids == i])\n",
        "    training_samples_grouped = np.array(training_samples_grouped)\n",
        "\n",
        "    mask_30_segments = np.array([sample.shape[0] == DEPRESSIVE_MULTIPLIER for sample in training_samples_grouped])\n",
        "\n",
        "    # creating masks to get deppressives and non deppressives\n",
        "    mask_10_segments = np.array([sample.shape[0] == NON_DEPRESSIVE_MULTIPLIER for sample in training_samples_grouped])\n",
        "\n",
        "    data_array_30_segments = training_samples_grouped[mask_30_segments]\n",
        "\n",
        "    data_array_10_segments = training_samples_grouped[mask_10_segments]\n",
        "\n",
        "    # recreating labels\n",
        "    X_train_zeros = np.array_split(data_array_10_segments, NUM_CLIENTS)\n",
        "    X_train_ones = np.array_split(data_array_30_segments, NUM_CLIENTS)\n",
        "\n",
        "    # concatenating splitted ones and zeros with labels\n",
        "    X_train_splitted = [] # (NUM_CLIENTS, data)\n",
        "    y_train_splitted = [] # (NUM_CLIENTS, labels)\n",
        "    for i in range(NUM_CLIENTS):\n",
        "\n",
        "        # stack the segments from groups then concatenate\n",
        "        client_data = np.concatenate((np.vstack(X_train_zeros[i]), np.vstack(X_train_ones[i])), axis=0)\n",
        "        client_labels = np.concatenate((np.zeros((X_train_zeros[i].shape[0] * NON_DEPRESSIVE_MULTIPLIER), dtype=int), np.ones((X_train_ones[i].shape[0] * DEPRESSIVE_MULTIPLIER), dtype=int)), axis=0)\n",
        "\n",
        "        X_train_splitted.append(client_data)\n",
        "        y_train_splitted.append(client_labels)\n",
        "\n",
        "    return X_train_splitted, y_train_splitted\n",
        "\n",
        "X_trains, y_trains = partition_data(training_samples, training_subject_ids, NUM_CLIENTS, DEPRESSIVE_MULTIPLIER, NON_DEPRESSIVE_MULTIPLIER)"
      ]
    },
    {
      "cell_type": "code",
      "execution_count": 12,
      "metadata": {
        "id": "0CIVmuPtAV9R"
      },
      "outputs": [],
      "source": [
        "del training_samples, training_labels, training_subject_ids"
      ]
    },
    {
      "cell_type": "code",
      "execution_count": null,
      "metadata": {
        "colab": {
          "base_uri": "https://localhost:8080/"
        },
        "id": "MOakTnvyGeG9",
        "outputId": "0536affa-2519-405d-c4ee-e825b90ea146"
      },
      "outputs": [
        {
          "data": {
            "text/plain": [
              "(610, 15001, 13)"
            ]
          },
          "execution_count": 13,
          "metadata": {},
          "output_type": "execute_result"
        }
      ],
      "source": [
        "X_trains[0].shape"
      ]
    },
    {
      "cell_type": "code",
      "execution_count": 13,
      "metadata": {
        "id": "6TLISBYkEXxm"
      },
      "outputs": [],
      "source": [
        "def get_model(input_shape):\n",
        "    model = tf.keras.models.Sequential()\n",
        "\n",
        "    model.add(tf.keras.layers.GRU(units = 64, input_shape = input_shape))\n",
        "\n",
        "    model.add(tf.keras.layers.Dense(32, activation='relu'))\n",
        "    model.add(tf.keras.layers.Dropout(0.3))\n",
        "\n",
        "    model.add(tf.keras.layers.Dense(1, activation='sigmoid'))\n",
        "\n",
        "    return model"
      ]
    },
    {
      "cell_type": "code",
      "execution_count": 14,
      "metadata": {
        "id": "NqrDDSKP7HtP"
      },
      "outputs": [],
      "source": [
        "from flwr.common.typing import NDArrays\n",
        "class FlowerClient(fl.client.NumPyClient):\n",
        "\n",
        "    def __init__(self, model: tf.keras.models.Sequential, X_train: np.ndarray, y_train: np.ndarray):\n",
        "        self.model = model\n",
        "\n",
        "        self.X_train = X_train\n",
        "        self.y_train = y_train\n",
        "\n",
        "    def get_parameters(self, config):\n",
        "        return self.model.get_weights()\n",
        "\n",
        "\n",
        "    def fit(self, parameters: NDArrays, config: Dict[str, Scalar]) -> NDArrays:\n",
        "\n",
        "        self.model.compile(optimizer=tf.keras.optimizers.Adam(learning_rate=0.0005), loss=tf.keras.losses.BinaryCrossentropy(label_smoothing=0.1), metrics=['accuracy'])\n",
        "\n",
        "        self.model.set_weights(parameters)\n",
        "\n",
        "        history = self.model.fit(self.X_train, self.y_train ,batch_size=BATCH_SIZE, epochs=1, verbose=0)\n",
        "        results = {\n",
        "            \"loss\": history.history[\"loss\"][0],\n",
        "            \"accuracy\": history.history[\"accuracy\"][0],\n",
        "        }\n",
        "        return self.model.get_weights(), len(self.X_train), results\n",
        "\n",
        "    def evaluate(self, parameters: NDArrays, config: Dict[str, Scalar])-> Tuple[float, int, Dict[str, Scalar]]:\n",
        "        self.model.compile(optimizer=tf.keras.optimizers.Adam(learning_rate=0.0005), loss=tf.keras.losses.BinaryCrossentropy(label_smoothing=0.1), metrics=['accuracy'])\n",
        "        self.model.set_weights(parameters)\n",
        "\n",
        "        loss, acc = self.model.evaluate(self.X_train, self.y_train, verbose=0)\n",
        "        return loss, len(self.X_train), {\"accuracy\": acc}"
      ]
    },
    {
      "cell_type": "code",
      "execution_count": 15,
      "metadata": {
        "id": "qgf9oz_57I9I"
      },
      "outputs": [],
      "source": [
        "# client creator by client id\n",
        "def create_client_fn(cid: str) -> FlowerClient:\n",
        "\n",
        "    input_shape = (15001, 13)\n",
        "    model = get_model(input_shape)\n",
        "    cid_int = int(cid)\n",
        "    return FlowerClient(model, X_trains[cid_int], y_trains[cid_int])"
      ]
    },
    {
      "cell_type": "code",
      "execution_count": 16,
      "metadata": {
        "id": "-BT6BuAA7J3j"
      },
      "outputs": [],
      "source": [
        "def weighted_average(metrics: List[Tuple[int, Metrics]]) -> Metrics:\n",
        "    accuracies = [num_examples * m[\"accuracy\"] for num_examples, m in metrics]\n",
        "    examples = [num_examples for num_examples, _ in metrics]\n",
        "\n",
        "    # Aggregate and return custom metric (weighted average)\n",
        "    return {\"accuracy\": sum(accuracies) / sum(examples)}"
      ]
    },
    {
      "cell_type": "code",
      "execution_count": 17,
      "metadata": {
        "colab": {
          "base_uri": "https://localhost:8080/"
        },
        "id": "6l4S_aJJ7Laq",
        "outputId": "a2766aa2-08a5-485f-b2d3-b286011de83c"
      },
      "outputs": [
        {
          "name": "stderr",
          "output_type": "stream",
          "text": [
            "INFO flwr 2023-12-12 15:18:10,718 | app.py:178 | Starting Flower simulation, config: ServerConfig(num_rounds=15, round_timeout=None)\n",
            "INFO:flwr:Starting Flower simulation, config: ServerConfig(num_rounds=15, round_timeout=None)\n",
            "2023-12-12 15:18:12,876\tINFO worker.py:1621 -- Started a local Ray instance.\n",
            "INFO flwr 2023-12-12 15:18:14,171 | app.py:213 | Flower VCE: Ray initialized with resources: {'memory': 32540457371.0, 'node:__internal_head__': 1.0, 'CPU': 8.0, 'object_store_memory': 16270228684.0, 'accelerator_type:V100': 1.0, 'GPU': 1.0, 'node:172.28.0.12': 1.0}\n",
            "INFO:flwr:Flower VCE: Ray initialized with resources: {'memory': 32540457371.0, 'node:__internal_head__': 1.0, 'CPU': 8.0, 'object_store_memory': 16270228684.0, 'accelerator_type:V100': 1.0, 'GPU': 1.0, 'node:172.28.0.12': 1.0}\n",
            "INFO flwr 2023-12-12 15:18:14,173 | app.py:219 | Optimize your simulation with Flower VCE: https://flower.dev/docs/framework/how-to-run-simulations.html\n",
            "INFO:flwr:Optimize your simulation with Flower VCE: https://flower.dev/docs/framework/how-to-run-simulations.html\n",
            "INFO flwr 2023-12-12 15:18:14,176 | app.py:242 | Flower VCE: Resources for each Virtual Client: {'num_cpus': 2, 'num_gpus': 1}\n",
            "INFO:flwr:Flower VCE: Resources for each Virtual Client: {'num_cpus': 2, 'num_gpus': 1}\n",
            "INFO flwr 2023-12-12 15:18:14,189 | app.py:288 | Flower VCE: Creating VirtualClientEngineActorPool with 1 actors\n",
            "INFO:flwr:Flower VCE: Creating VirtualClientEngineActorPool with 1 actors\n",
            "INFO flwr 2023-12-12 15:18:14,192 | server.py:89 | Initializing global parameters\n",
            "INFO:flwr:Initializing global parameters\n",
            "INFO flwr 2023-12-12 15:18:14,193 | server.py:276 | Requesting initial parameters from one random client\n",
            "INFO:flwr:Requesting initial parameters from one random client\n",
            "\u001b[2m\u001b[36m(pid=12128)\u001b[0m 2023-12-12 15:18:15.178483: E tensorflow/compiler/xla/stream_executor/cuda/cuda_dnn.cc:9342] Unable to register cuDNN factory: Attempting to register factory for plugin cuDNN when one has already been registered\n",
            "\u001b[2m\u001b[36m(pid=12128)\u001b[0m 2023-12-12 15:18:15.178536: E tensorflow/compiler/xla/stream_executor/cuda/cuda_fft.cc:609] Unable to register cuFFT factory: Attempting to register factory for plugin cuFFT when one has already been registered\n",
            "\u001b[2m\u001b[36m(pid=12128)\u001b[0m 2023-12-12 15:18:15.178565: E tensorflow/compiler/xla/stream_executor/cuda/cuda_blas.cc:1518] Unable to register cuBLAS factory: Attempting to register factory for plugin cuBLAS when one has already been registered\n",
            "\u001b[2m\u001b[36m(pid=12128)\u001b[0m 2023-12-12 15:18:16.232543: W tensorflow/compiler/tf2tensorrt/utils/py_utils.cc:38] TF-TRT Warning: Could not find TensorRT\n",
            "\u001b[2m\u001b[36m(DefaultActor pid=12128)\u001b[0m 2023-12-12 15:18:24.168710: W tensorflow/core/common_runtime/gpu/gpu_bfc_allocator.cc:47] Overriding orig_value setting because the TF_FORCE_GPU_ALLOW_GROWTH environment variable is set. Original config value was 0.\n",
            "INFO flwr 2023-12-12 15:18:24,964 | server.py:280 | Received initial parameters from one random client\n",
            "INFO:flwr:Received initial parameters from one random client\n",
            "INFO flwr 2023-12-12 15:18:24,966 | server.py:91 | Evaluating initial parameters\n",
            "INFO:flwr:Evaluating initial parameters\n",
            "INFO flwr 2023-12-12 15:18:38,770 | server.py:94 | initial parameters (loss, other metrics): 0.717132031917572, {'accuracy': 0.4675000011920929}\n",
            "INFO:flwr:initial parameters (loss, other metrics): 0.717132031917572, {'accuracy': 0.4675000011920929}\n",
            "INFO flwr 2023-12-12 15:18:38,773 | server.py:104 | FL starting\n",
            "INFO:flwr:FL starting\n",
            "DEBUG flwr 2023-12-12 15:18:38,776 | server.py:222 | fit_round 1: strategy sampled 8 clients (out of 8)\n",
            "DEBUG:flwr:fit_round 1: strategy sampled 8 clients (out of 8)\n"
          ]
        },
        {
          "name": "stdout",
          "output_type": "stream",
          "text": [
            "LOSS: 0.717132031917572\n",
            "BEST_LOSS: 999\n",
            "ACCURACY: 0.4675000011920929\n",
            "BEST_ACCURACY: 0.0\n"
          ]
        },
        {
          "name": "stderr",
          "output_type": "stream",
          "text": [
            "DEBUG flwr 2023-12-12 15:20:27,887 | server.py:236 | fit_round 1 received 8 results and 0 failures\n",
            "DEBUG:flwr:fit_round 1 received 8 results and 0 failures\n",
            "WARNING flwr 2023-12-12 15:20:27,900 | fedavg.py:242 | No fit_metrics_aggregation_fn provided\n",
            "WARNING:flwr:No fit_metrics_aggregation_fn provided\n",
            "INFO flwr 2023-12-12 15:20:36,491 | server.py:125 | fit progress: (1, 0.6831395030021667, {'accuracy': 0.5487499833106995}, 117.71515408899995)\n",
            "INFO:flwr:fit progress: (1, 0.6831395030021667, {'accuracy': 0.5487499833106995}, 117.71515408899995)\n",
            "DEBUG flwr 2023-12-12 15:20:36,495 | server.py:173 | evaluate_round 1: strategy sampled 8 clients (out of 8)\n",
            "DEBUG:flwr:evaluate_round 1: strategy sampled 8 clients (out of 8)\n"
          ]
        },
        {
          "name": "stdout",
          "output_type": "stream",
          "text": [
            "LOSS: 0.6831395030021667\n",
            "BEST_LOSS: 0.717132031917572\n",
            "ACCURACY: 0.5487499833106995\n",
            "BEST_ACCURACY: 0.4675000011920929\n"
          ]
        },
        {
          "name": "stderr",
          "output_type": "stream",
          "text": [
            "DEBUG flwr 2023-12-12 15:21:56,295 | server.py:187 | evaluate_round 1 received 8 results and 0 failures\n",
            "DEBUG:flwr:evaluate_round 1 received 8 results and 0 failures\n",
            "DEBUG flwr 2023-12-12 15:21:56,298 | server.py:222 | fit_round 2: strategy sampled 8 clients (out of 8)\n",
            "DEBUG:flwr:fit_round 2: strategy sampled 8 clients (out of 8)\n",
            "DEBUG flwr 2023-12-12 15:23:39,669 | server.py:236 | fit_round 2 received 8 results and 0 failures\n",
            "DEBUG:flwr:fit_round 2 received 8 results and 0 failures\n",
            "INFO flwr 2023-12-12 15:23:47,954 | server.py:125 | fit progress: (2, 0.6764363646507263, {'accuracy': 0.5724999904632568}, 309.17868630799967)\n",
            "INFO:flwr:fit progress: (2, 0.6764363646507263, {'accuracy': 0.5724999904632568}, 309.17868630799967)\n",
            "DEBUG flwr 2023-12-12 15:23:47,956 | server.py:173 | evaluate_round 2: strategy sampled 8 clients (out of 8)\n",
            "DEBUG:flwr:evaluate_round 2: strategy sampled 8 clients (out of 8)\n"
          ]
        },
        {
          "name": "stdout",
          "output_type": "stream",
          "text": [
            "LOSS: 0.6764363646507263\n",
            "BEST_LOSS: 0.6831395030021667\n",
            "ACCURACY: 0.5724999904632568\n",
            "BEST_ACCURACY: 0.5487499833106995\n"
          ]
        },
        {
          "name": "stderr",
          "output_type": "stream",
          "text": [
            "DEBUG flwr 2023-12-12 15:25:05,504 | server.py:187 | evaluate_round 2 received 8 results and 0 failures\n",
            "DEBUG:flwr:evaluate_round 2 received 8 results and 0 failures\n",
            "DEBUG flwr 2023-12-12 15:25:05,507 | server.py:222 | fit_round 3: strategy sampled 8 clients (out of 8)\n",
            "DEBUG:flwr:fit_round 3: strategy sampled 8 clients (out of 8)\n",
            "DEBUG flwr 2023-12-12 15:26:49,143 | server.py:236 | fit_round 3 received 8 results and 0 failures\n",
            "DEBUG:flwr:fit_round 3 received 8 results and 0 failures\n",
            "INFO flwr 2023-12-12 15:26:57,590 | server.py:125 | fit progress: (3, 0.6748592853546143, {'accuracy': 0.581250011920929}, 498.81475340099996)\n",
            "INFO:flwr:fit progress: (3, 0.6748592853546143, {'accuracy': 0.581250011920929}, 498.81475340099996)\n",
            "DEBUG flwr 2023-12-12 15:26:57,592 | server.py:173 | evaluate_round 3: strategy sampled 8 clients (out of 8)\n",
            "DEBUG:flwr:evaluate_round 3: strategy sampled 8 clients (out of 8)\n"
          ]
        },
        {
          "name": "stdout",
          "output_type": "stream",
          "text": [
            "LOSS: 0.6748592853546143\n",
            "BEST_LOSS: 0.6764363646507263\n",
            "ACCURACY: 0.581250011920929\n",
            "BEST_ACCURACY: 0.5724999904632568\n"
          ]
        },
        {
          "name": "stderr",
          "output_type": "stream",
          "text": [
            "DEBUG flwr 2023-12-12 15:28:16,412 | server.py:187 | evaluate_round 3 received 8 results and 0 failures\n",
            "DEBUG:flwr:evaluate_round 3 received 8 results and 0 failures\n",
            "DEBUG flwr 2023-12-12 15:28:16,415 | server.py:222 | fit_round 4: strategy sampled 8 clients (out of 8)\n",
            "DEBUG:flwr:fit_round 4: strategy sampled 8 clients (out of 8)\n",
            "DEBUG flwr 2023-12-12 15:29:59,587 | server.py:236 | fit_round 4 received 8 results and 0 failures\n",
            "DEBUG:flwr:fit_round 4 received 8 results and 0 failures\n",
            "INFO flwr 2023-12-12 15:30:07,971 | server.py:125 | fit progress: (4, 0.6728706359863281, {'accuracy': 0.5799999833106995}, 689.1955178619996)\n",
            "INFO:flwr:fit progress: (4, 0.6728706359863281, {'accuracy': 0.5799999833106995}, 689.1955178619996)\n",
            "DEBUG flwr 2023-12-12 15:30:07,974 | server.py:173 | evaluate_round 4: strategy sampled 8 clients (out of 8)\n",
            "DEBUG:flwr:evaluate_round 4: strategy sampled 8 clients (out of 8)\n"
          ]
        },
        {
          "name": "stdout",
          "output_type": "stream",
          "text": [
            "LOSS: 0.6728706359863281\n",
            "BEST_LOSS: 0.6748592853546143\n",
            "ACCURACY: 0.5799999833106995\n",
            "BEST_ACCURACY: 0.581250011920929\n"
          ]
        },
        {
          "name": "stderr",
          "output_type": "stream",
          "text": [
            "DEBUG flwr 2023-12-12 15:31:26,153 | server.py:187 | evaluate_round 4 received 8 results and 0 failures\n",
            "DEBUG:flwr:evaluate_round 4 received 8 results and 0 failures\n",
            "DEBUG flwr 2023-12-12 15:31:26,157 | server.py:222 | fit_round 5: strategy sampled 8 clients (out of 8)\n",
            "DEBUG:flwr:fit_round 5: strategy sampled 8 clients (out of 8)\n",
            "DEBUG flwr 2023-12-12 15:33:10,231 | server.py:236 | fit_round 5 received 8 results and 0 failures\n",
            "DEBUG:flwr:fit_round 5 received 8 results and 0 failures\n",
            "INFO flwr 2023-12-12 15:33:18,615 | server.py:125 | fit progress: (5, 0.6714292764663696, {'accuracy': 0.5924999713897705}, 879.8397964729998)\n",
            "INFO:flwr:fit progress: (5, 0.6714292764663696, {'accuracy': 0.5924999713897705}, 879.8397964729998)\n",
            "DEBUG flwr 2023-12-12 15:33:18,617 | server.py:173 | evaluate_round 5: strategy sampled 8 clients (out of 8)\n",
            "DEBUG:flwr:evaluate_round 5: strategy sampled 8 clients (out of 8)\n"
          ]
        },
        {
          "name": "stdout",
          "output_type": "stream",
          "text": [
            "LOSS: 0.6714292764663696\n",
            "BEST_LOSS: 0.6728706359863281\n",
            "ACCURACY: 0.5924999713897705\n",
            "BEST_ACCURACY: 0.5799999833106995\n"
          ]
        },
        {
          "name": "stderr",
          "output_type": "stream",
          "text": [
            "DEBUG flwr 2023-12-12 15:34:36,699 | server.py:187 | evaluate_round 5 received 8 results and 0 failures\n",
            "DEBUG:flwr:evaluate_round 5 received 8 results and 0 failures\n",
            "DEBUG flwr 2023-12-12 15:34:36,701 | server.py:222 | fit_round 6: strategy sampled 8 clients (out of 8)\n",
            "DEBUG:flwr:fit_round 6: strategy sampled 8 clients (out of 8)\n",
            "DEBUG flwr 2023-12-12 15:36:20,907 | server.py:236 | fit_round 6 received 8 results and 0 failures\n",
            "DEBUG:flwr:fit_round 6 received 8 results and 0 failures\n",
            "INFO flwr 2023-12-12 15:36:29,304 | server.py:125 | fit progress: (6, 0.6725345849990845, {'accuracy': 0.5862500071525574}, 1070.5280245629997)\n",
            "INFO:flwr:fit progress: (6, 0.6725345849990845, {'accuracy': 0.5862500071525574}, 1070.5280245629997)\n",
            "DEBUG flwr 2023-12-12 15:36:29,305 | server.py:173 | evaluate_round 6: strategy sampled 8 clients (out of 8)\n",
            "DEBUG:flwr:evaluate_round 6: strategy sampled 8 clients (out of 8)\n"
          ]
        },
        {
          "name": "stdout",
          "output_type": "stream",
          "text": [
            "LOSS: 0.6725345849990845\n",
            "BEST_LOSS: 0.6714292764663696\n",
            "ACCURACY: 0.5862500071525574\n",
            "BEST_ACCURACY: 0.5924999713897705\n"
          ]
        },
        {
          "name": "stderr",
          "output_type": "stream",
          "text": [
            "DEBUG flwr 2023-12-12 15:37:48,447 | server.py:187 | evaluate_round 6 received 8 results and 0 failures\n",
            "DEBUG:flwr:evaluate_round 6 received 8 results and 0 failures\n",
            "DEBUG flwr 2023-12-12 15:37:48,450 | server.py:222 | fit_round 7: strategy sampled 8 clients (out of 8)\n",
            "DEBUG:flwr:fit_round 7: strategy sampled 8 clients (out of 8)\n",
            "DEBUG flwr 2023-12-12 15:39:33,863 | server.py:236 | fit_round 7 received 8 results and 0 failures\n",
            "DEBUG:flwr:fit_round 7 received 8 results and 0 failures\n",
            "INFO flwr 2023-12-12 15:39:42,616 | server.py:125 | fit progress: (7, 0.6725710034370422, {'accuracy': 0.5950000286102295}, 1263.840595194)\n",
            "INFO:flwr:fit progress: (7, 0.6725710034370422, {'accuracy': 0.5950000286102295}, 1263.840595194)\n",
            "DEBUG flwr 2023-12-12 15:39:42,620 | server.py:173 | evaluate_round 7: strategy sampled 8 clients (out of 8)\n",
            "DEBUG:flwr:evaluate_round 7: strategy sampled 8 clients (out of 8)\n"
          ]
        },
        {
          "name": "stdout",
          "output_type": "stream",
          "text": [
            "LOSS: 0.6725710034370422\n",
            "BEST_LOSS: 0.6714292764663696\n",
            "ACCURACY: 0.5950000286102295\n",
            "BEST_ACCURACY: 0.5924999713897705\n"
          ]
        },
        {
          "name": "stderr",
          "output_type": "stream",
          "text": [
            "DEBUG flwr 2023-12-12 15:41:01,167 | server.py:187 | evaluate_round 7 received 8 results and 0 failures\n",
            "DEBUG:flwr:evaluate_round 7 received 8 results and 0 failures\n",
            "DEBUG flwr 2023-12-12 15:41:01,172 | server.py:222 | fit_round 8: strategy sampled 8 clients (out of 8)\n",
            "DEBUG:flwr:fit_round 8: strategy sampled 8 clients (out of 8)\n",
            "DEBUG flwr 2023-12-12 15:42:45,333 | server.py:236 | fit_round 8 received 8 results and 0 failures\n",
            "DEBUG:flwr:fit_round 8 received 8 results and 0 failures\n",
            "INFO flwr 2023-12-12 15:42:53,752 | server.py:125 | fit progress: (8, 0.6716809272766113, {'accuracy': 0.6000000238418579}, 1454.9760732969999)\n",
            "INFO:flwr:fit progress: (8, 0.6716809272766113, {'accuracy': 0.6000000238418579}, 1454.9760732969999)\n",
            "DEBUG flwr 2023-12-12 15:42:53,753 | server.py:173 | evaluate_round 8: strategy sampled 8 clients (out of 8)\n",
            "DEBUG:flwr:evaluate_round 8: strategy sampled 8 clients (out of 8)\n"
          ]
        },
        {
          "name": "stdout",
          "output_type": "stream",
          "text": [
            "LOSS: 0.6716809272766113\n",
            "BEST_LOSS: 0.6714292764663696\n",
            "ACCURACY: 0.6000000238418579\n",
            "BEST_ACCURACY: 0.5924999713897705\n"
          ]
        },
        {
          "name": "stderr",
          "output_type": "stream",
          "text": [
            "DEBUG flwr 2023-12-12 15:44:12,484 | server.py:187 | evaluate_round 8 received 8 results and 0 failures\n",
            "DEBUG:flwr:evaluate_round 8 received 8 results and 0 failures\n",
            "DEBUG flwr 2023-12-12 15:44:12,485 | server.py:222 | fit_round 9: strategy sampled 8 clients (out of 8)\n",
            "DEBUG:flwr:fit_round 9: strategy sampled 8 clients (out of 8)\n",
            "DEBUG flwr 2023-12-12 15:45:56,604 | server.py:236 | fit_round 9 received 8 results and 0 failures\n",
            "DEBUG:flwr:fit_round 9 received 8 results and 0 failures\n",
            "INFO flwr 2023-12-12 15:46:04,958 | server.py:125 | fit progress: (9, 0.6707581877708435, {'accuracy': 0.5975000262260437}, 1646.182809256)\n",
            "INFO:flwr:fit progress: (9, 0.6707581877708435, {'accuracy': 0.5975000262260437}, 1646.182809256)\n",
            "DEBUG flwr 2023-12-12 15:46:04,961 | server.py:173 | evaluate_round 9: strategy sampled 8 clients (out of 8)\n",
            "DEBUG:flwr:evaluate_round 9: strategy sampled 8 clients (out of 8)\n"
          ]
        },
        {
          "name": "stdout",
          "output_type": "stream",
          "text": [
            "LOSS: 0.6707581877708435\n",
            "BEST_LOSS: 0.6714292764663696\n",
            "ACCURACY: 0.5975000262260437\n",
            "BEST_ACCURACY: 0.5924999713897705\n"
          ]
        },
        {
          "name": "stderr",
          "output_type": "stream",
          "text": [
            "DEBUG flwr 2023-12-12 15:47:24,287 | server.py:187 | evaluate_round 9 received 8 results and 0 failures\n",
            "DEBUG:flwr:evaluate_round 9 received 8 results and 0 failures\n",
            "DEBUG flwr 2023-12-12 15:47:24,294 | server.py:222 | fit_round 10: strategy sampled 8 clients (out of 8)\n",
            "DEBUG:flwr:fit_round 10: strategy sampled 8 clients (out of 8)\n",
            "DEBUG flwr 2023-12-12 15:49:08,975 | server.py:236 | fit_round 10 received 8 results and 0 failures\n",
            "DEBUG:flwr:fit_round 10 received 8 results and 0 failures\n",
            "INFO flwr 2023-12-12 15:49:17,273 | server.py:125 | fit progress: (10, 0.6713998913764954, {'accuracy': 0.5962499976158142}, 1838.497823228)\n",
            "INFO:flwr:fit progress: (10, 0.6713998913764954, {'accuracy': 0.5962499976158142}, 1838.497823228)\n",
            "DEBUG flwr 2023-12-12 15:49:17,275 | server.py:173 | evaluate_round 10: strategy sampled 8 clients (out of 8)\n",
            "DEBUG:flwr:evaluate_round 10: strategy sampled 8 clients (out of 8)\n"
          ]
        },
        {
          "name": "stdout",
          "output_type": "stream",
          "text": [
            "LOSS: 0.6713998913764954\n",
            "BEST_LOSS: 0.6707581877708435\n",
            "ACCURACY: 0.5962499976158142\n",
            "BEST_ACCURACY: 0.5975000262260437\n"
          ]
        },
        {
          "name": "stderr",
          "output_type": "stream",
          "text": [
            "DEBUG flwr 2023-12-12 15:50:38,040 | server.py:187 | evaluate_round 10 received 8 results and 0 failures\n",
            "DEBUG:flwr:evaluate_round 10 received 8 results and 0 failures\n",
            "DEBUG flwr 2023-12-12 15:50:38,042 | server.py:222 | fit_round 11: strategy sampled 8 clients (out of 8)\n",
            "DEBUG:flwr:fit_round 11: strategy sampled 8 clients (out of 8)\n",
            "DEBUG flwr 2023-12-12 15:52:22,527 | server.py:236 | fit_round 11 received 8 results and 0 failures\n",
            "DEBUG:flwr:fit_round 11 received 8 results and 0 failures\n",
            "INFO flwr 2023-12-12 15:52:30,989 | server.py:125 | fit progress: (11, 0.670581042766571, {'accuracy': 0.6012499928474426}, 2032.2134294999996)\n",
            "INFO:flwr:fit progress: (11, 0.670581042766571, {'accuracy': 0.6012499928474426}, 2032.2134294999996)\n",
            "DEBUG flwr 2023-12-12 15:52:30,993 | server.py:173 | evaluate_round 11: strategy sampled 8 clients (out of 8)\n",
            "DEBUG:flwr:evaluate_round 11: strategy sampled 8 clients (out of 8)\n"
          ]
        },
        {
          "name": "stdout",
          "output_type": "stream",
          "text": [
            "LOSS: 0.670581042766571\n",
            "BEST_LOSS: 0.6707581877708435\n",
            "ACCURACY: 0.6012499928474426\n",
            "BEST_ACCURACY: 0.5975000262260437\n"
          ]
        },
        {
          "name": "stderr",
          "output_type": "stream",
          "text": [
            "DEBUG flwr 2023-12-12 15:53:49,501 | server.py:187 | evaluate_round 11 received 8 results and 0 failures\n",
            "DEBUG:flwr:evaluate_round 11 received 8 results and 0 failures\n",
            "DEBUG flwr 2023-12-12 15:53:49,503 | server.py:222 | fit_round 12: strategy sampled 8 clients (out of 8)\n",
            "DEBUG:flwr:fit_round 12: strategy sampled 8 clients (out of 8)\n",
            "DEBUG flwr 2023-12-12 15:55:34,303 | server.py:236 | fit_round 12 received 8 results and 0 failures\n",
            "DEBUG:flwr:fit_round 12 received 8 results and 0 failures\n",
            "INFO flwr 2023-12-12 15:55:42,618 | server.py:125 | fit progress: (12, 0.670042097568512, {'accuracy': 0.6050000190734863}, 2223.8422975450003)\n",
            "INFO:flwr:fit progress: (12, 0.670042097568512, {'accuracy': 0.6050000190734863}, 2223.8422975450003)\n",
            "DEBUG flwr 2023-12-12 15:55:42,620 | server.py:173 | evaluate_round 12: strategy sampled 8 clients (out of 8)\n",
            "DEBUG:flwr:evaluate_round 12: strategy sampled 8 clients (out of 8)\n"
          ]
        },
        {
          "name": "stdout",
          "output_type": "stream",
          "text": [
            "LOSS: 0.670042097568512\n",
            "BEST_LOSS: 0.670581042766571\n",
            "ACCURACY: 0.6050000190734863\n",
            "BEST_ACCURACY: 0.6012499928474426\n"
          ]
        },
        {
          "name": "stderr",
          "output_type": "stream",
          "text": [
            "DEBUG flwr 2023-12-12 15:57:01,478 | server.py:187 | evaluate_round 12 received 8 results and 0 failures\n",
            "DEBUG:flwr:evaluate_round 12 received 8 results and 0 failures\n",
            "DEBUG flwr 2023-12-12 15:57:01,486 | server.py:222 | fit_round 13: strategy sampled 8 clients (out of 8)\n",
            "DEBUG:flwr:fit_round 13: strategy sampled 8 clients (out of 8)\n",
            "DEBUG flwr 2023-12-12 15:58:46,463 | server.py:236 | fit_round 13 received 8 results and 0 failures\n",
            "DEBUG:flwr:fit_round 13 received 8 results and 0 failures\n",
            "INFO flwr 2023-12-12 15:58:54,911 | server.py:125 | fit progress: (13, 0.6702312231063843, {'accuracy': 0.6012499928474426}, 2416.1353552439996)\n",
            "INFO:flwr:fit progress: (13, 0.6702312231063843, {'accuracy': 0.6012499928474426}, 2416.1353552439996)\n",
            "DEBUG flwr 2023-12-12 15:58:54,913 | server.py:173 | evaluate_round 13: strategy sampled 8 clients (out of 8)\n",
            "DEBUG:flwr:evaluate_round 13: strategy sampled 8 clients (out of 8)\n"
          ]
        },
        {
          "name": "stdout",
          "output_type": "stream",
          "text": [
            "LOSS: 0.6702312231063843\n",
            "BEST_LOSS: 0.670042097568512\n",
            "ACCURACY: 0.6012499928474426\n",
            "BEST_ACCURACY: 0.6050000190734863\n"
          ]
        },
        {
          "name": "stderr",
          "output_type": "stream",
          "text": [
            "DEBUG flwr 2023-12-12 16:00:14,174 | server.py:187 | evaluate_round 13 received 8 results and 0 failures\n",
            "DEBUG:flwr:evaluate_round 13 received 8 results and 0 failures\n",
            "DEBUG flwr 2023-12-12 16:00:14,178 | server.py:222 | fit_round 14: strategy sampled 8 clients (out of 8)\n",
            "DEBUG:flwr:fit_round 14: strategy sampled 8 clients (out of 8)\n",
            "DEBUG flwr 2023-12-12 16:02:01,354 | server.py:236 | fit_round 14 received 8 results and 0 failures\n",
            "DEBUG:flwr:fit_round 14 received 8 results and 0 failures\n",
            "INFO flwr 2023-12-12 16:02:09,917 | server.py:125 | fit progress: (14, 0.671558678150177, {'accuracy': 0.5887500047683716}, 2611.1417991399994)\n",
            "INFO:flwr:fit progress: (14, 0.671558678150177, {'accuracy': 0.5887500047683716}, 2611.1417991399994)\n",
            "DEBUG flwr 2023-12-12 16:02:09,920 | server.py:173 | evaluate_round 14: strategy sampled 8 clients (out of 8)\n",
            "DEBUG:flwr:evaluate_round 14: strategy sampled 8 clients (out of 8)\n"
          ]
        },
        {
          "name": "stdout",
          "output_type": "stream",
          "text": [
            "LOSS: 0.671558678150177\n",
            "BEST_LOSS: 0.670042097568512\n",
            "ACCURACY: 0.5887500047683716\n",
            "BEST_ACCURACY: 0.6050000190734863\n"
          ]
        },
        {
          "name": "stderr",
          "output_type": "stream",
          "text": [
            "DEBUG flwr 2023-12-12 16:03:30,033 | server.py:187 | evaluate_round 14 received 8 results and 0 failures\n",
            "DEBUG:flwr:evaluate_round 14 received 8 results and 0 failures\n",
            "DEBUG flwr 2023-12-12 16:03:30,035 | server.py:222 | fit_round 15: strategy sampled 8 clients (out of 8)\n",
            "DEBUG:flwr:fit_round 15: strategy sampled 8 clients (out of 8)\n",
            "DEBUG flwr 2023-12-12 16:05:15,388 | server.py:236 | fit_round 15 received 8 results and 0 failures\n",
            "DEBUG:flwr:fit_round 15 received 8 results and 0 failures\n",
            "INFO flwr 2023-12-12 16:05:23,817 | server.py:125 | fit progress: (15, 0.6711401343345642, {'accuracy': 0.5962499976158142}, 2805.041807269)\n",
            "INFO:flwr:fit progress: (15, 0.6711401343345642, {'accuracy': 0.5962499976158142}, 2805.041807269)\n",
            "DEBUG flwr 2023-12-12 16:05:23,820 | server.py:173 | evaluate_round 15: strategy sampled 8 clients (out of 8)\n",
            "DEBUG:flwr:evaluate_round 15: strategy sampled 8 clients (out of 8)\n"
          ]
        },
        {
          "name": "stdout",
          "output_type": "stream",
          "text": [
            "LOSS: 0.6711401343345642\n",
            "BEST_LOSS: 0.670042097568512\n",
            "ACCURACY: 0.5962499976158142\n",
            "BEST_ACCURACY: 0.6050000190734863\n"
          ]
        },
        {
          "name": "stderr",
          "output_type": "stream",
          "text": [
            "DEBUG flwr 2023-12-12 16:06:43,651 | server.py:187 | evaluate_round 15 received 8 results and 0 failures\n",
            "DEBUG:flwr:evaluate_round 15 received 8 results and 0 failures\n",
            "INFO flwr 2023-12-12 16:06:43,653 | server.py:153 | FL finished in 2884.8771971939996\n",
            "INFO:flwr:FL finished in 2884.8771971939996\n",
            "INFO flwr 2023-12-12 16:06:43,660 | app.py:226 | app_fit: losses_distributed [(1, 0.6851071611363837), (2, 0.6804177451641001), (3, 0.6760555805043972), (4, 0.673114810091384), (5, 0.6705778114339138), (6, 0.6675135741842554), (7, 0.6652790604753697), (8, 0.6628408269679292), (9, 0.6610716545835454), (10, 0.6587436549206998), (11, 0.6563230364880663), (12, 0.6541205147479443), (13, 0.6512731384723744), (14, 0.6487849301480232), (15, 0.6466497852447185)]\n",
            "INFO:flwr:app_fit: losses_distributed [(1, 0.6851071611363837), (2, 0.6804177451641001), (3, 0.6760555805043972), (4, 0.673114810091384), (5, 0.6705778114339138), (6, 0.6675135741842554), (7, 0.6652790604753697), (8, 0.6628408269679292), (9, 0.6610716545835454), (10, 0.6587436549206998), (11, 0.6563230364880663), (12, 0.6541205147479443), (13, 0.6512731384723744), (14, 0.6487849301480232), (15, 0.6466497852447185)]\n",
            "INFO flwr 2023-12-12 16:06:43,662 | app.py:227 | app_fit: metrics_distributed_fit {}\n",
            "INFO:flwr:app_fit: metrics_distributed_fit {}\n",
            "INFO flwr 2023-12-12 16:06:43,664 | app.py:228 | app_fit: metrics_distributed {'accuracy': [(1, 0.5685106345947752), (2, 0.5787234001971305), (3, 0.5931915009275396), (4, 0.597446805619179), (5, 0.6123404241622763), (6, 0.6272340472708358), (7, 0.6357446827787034), (8, 0.6391489348513015), (9, 0.6455319158574369), (10, 0.6425531846411685), (11, 0.6476595673155278), (12, 0.6527659545553491), (13, 0.6570212726897382), (14, 0.658297873557882), (15, 0.659148928966928)]}\n",
            "INFO:flwr:app_fit: metrics_distributed {'accuracy': [(1, 0.5685106345947752), (2, 0.5787234001971305), (3, 0.5931915009275396), (4, 0.597446805619179), (5, 0.6123404241622763), (6, 0.6272340472708358), (7, 0.6357446827787034), (8, 0.6391489348513015), (9, 0.6455319158574369), (10, 0.6425531846411685), (11, 0.6476595673155278), (12, 0.6527659545553491), (13, 0.6570212726897382), (14, 0.658297873557882), (15, 0.659148928966928)]}\n",
            "INFO flwr 2023-12-12 16:06:43,665 | app.py:229 | app_fit: losses_centralized [(0, 0.717132031917572), (1, 0.6831395030021667), (2, 0.6764363646507263), (3, 0.6748592853546143), (4, 0.6728706359863281), (5, 0.6714292764663696), (6, 0.6725345849990845), (7, 0.6725710034370422), (8, 0.6716809272766113), (9, 0.6707581877708435), (10, 0.6713998913764954), (11, 0.670581042766571), (12, 0.670042097568512), (13, 0.6702312231063843), (14, 0.671558678150177), (15, 0.6711401343345642)]\n",
            "INFO:flwr:app_fit: losses_centralized [(0, 0.717132031917572), (1, 0.6831395030021667), (2, 0.6764363646507263), (3, 0.6748592853546143), (4, 0.6728706359863281), (5, 0.6714292764663696), (6, 0.6725345849990845), (7, 0.6725710034370422), (8, 0.6716809272766113), (9, 0.6707581877708435), (10, 0.6713998913764954), (11, 0.670581042766571), (12, 0.670042097568512), (13, 0.6702312231063843), (14, 0.671558678150177), (15, 0.6711401343345642)]\n",
            "INFO flwr 2023-12-12 16:06:43,670 | app.py:230 | app_fit: metrics_centralized {'accuracy': [(0, 0.4675000011920929), (1, 0.5487499833106995), (2, 0.5724999904632568), (3, 0.581250011920929), (4, 0.5799999833106995), (5, 0.5924999713897705), (6, 0.5862500071525574), (7, 0.5950000286102295), (8, 0.6000000238418579), (9, 0.5975000262260437), (10, 0.5962499976158142), (11, 0.6012499928474426), (12, 0.6050000190734863), (13, 0.6012499928474426), (14, 0.5887500047683716), (15, 0.5962499976158142)]}\n",
            "INFO:flwr:app_fit: metrics_centralized {'accuracy': [(0, 0.4675000011920929), (1, 0.5487499833106995), (2, 0.5724999904632568), (3, 0.581250011920929), (4, 0.5799999833106995), (5, 0.5924999713897705), (6, 0.5862500071525574), (7, 0.5950000286102295), (8, 0.6000000238418579), (9, 0.5975000262260437), (10, 0.5962499976158142), (11, 0.6012499928474426), (12, 0.6050000190734863), (13, 0.6012499928474426), (14, 0.5887500047683716), (15, 0.5962499976158142)]}\n"
          ]
        }
      ],
      "source": [
        "patience = 5\n",
        "best_accuracy = 0.0\n",
        "best_loss = 999\n",
        "weights = np.array([])\n",
        "\n",
        "def evaluate(\n",
        "    server_round: int,\n",
        "    parameters: fl.common.NDArrays,\n",
        "    config: Dict[str, fl.common.Scalar],\n",
        "    ) -> Optional[Tuple[float, Dict[str, fl.common.Scalar]]]:\n",
        "    \"\"\"Centralized evaluation function\"\"\"\n",
        "\n",
        "    input_shape = (15001, 13)\n",
        "    model = get_model(input_shape)\n",
        "    model.compile(optimizer=tf.keras.optimizers.Adam(learning_rate=0.0005), loss=tf.keras.losses.BinaryCrossentropy(label_smoothing=0.1), metrics=['accuracy'])\n",
        "\n",
        "    model.set_weights(parameters)\n",
        "\n",
        "    loss, accuracy = model.evaluate(val_samples, val_labels_df, batch_size=16, verbose=0)\n",
        "\n",
        "    global best_accuracy\n",
        "    global best_loss\n",
        "    global weights\n",
        "\n",
        "    print(f\"LOSS: {loss}\")\n",
        "    print(f\"BEST_LOSS: {best_loss}\")\n",
        "    print(f\"ACCURACY: {accuracy}\")\n",
        "    print(f\"BEST_ACCURACY: {best_accuracy}\")\n",
        "\n",
        "    if loss < best_loss:\n",
        "        best_accuracy = accuracy\n",
        "        weights = parameters\n",
        "        best_loss = loss\n",
        "\n",
        "    return loss, {\"accuracy\": accuracy}\n",
        "\n",
        "\n",
        "client_resources = {\"num_cpus\": 2}\n",
        "if tf.config.get_visible_devices(\"GPU\"):\n",
        "    client_resources[\"num_gpus\"] = 1\n",
        "\n",
        "# Specify the Strategy\n",
        "strategy = fl.server.strategy.FedAvg(\n",
        "    fraction_fit=1.0,  # Sample 100% of available clients for training\n",
        "    fraction_evaluate=1.0,  \n",
        "    min_fit_clients=NUM_CLIENTS,  \n",
        "    min_evaluate_clients=NUM_CLIENTS,  \n",
        "    min_available_clients=NUM_CLIENTS,  # Wait until all 8 clients are available\n",
        "    evaluate_metrics_aggregation_fn=weighted_average,\n",
        "    evaluate_fn=evaluate\n",
        ")\n",
        "\n",
        "# Start simulation\n",
        "history = fl.simulation.start_simulation(\n",
        "    client_fn=create_client_fn,\n",
        "    num_clients=NUM_CLIENTS,\n",
        "    config=fl.server.ServerConfig(num_rounds=15),\n",
        "    strategy=strategy,\n",
        "    client_resources=client_resources,\n",
        ")"
      ]
    },
    {
      "cell_type": "code",
      "execution_count": 18,
      "metadata": {
        "colab": {
          "base_uri": "https://localhost:8080/"
        },
        "id": "MO-YYWSD7NcS",
        "outputId": "d82e08c0-0443-45a1-8a62-d299a07c22ba"
      },
      "outputs": [
        {
          "data": {
            "text/plain": [
              "History (loss, distributed):\n",
              "\tround 1: 0.6851071611363837\n",
              "\tround 2: 0.6804177451641001\n",
              "\tround 3: 0.6760555805043972\n",
              "\tround 4: 0.673114810091384\n",
              "\tround 5: 0.6705778114339138\n",
              "\tround 6: 0.6675135741842554\n",
              "\tround 7: 0.6652790604753697\n",
              "\tround 8: 0.6628408269679292\n",
              "\tround 9: 0.6610716545835454\n",
              "\tround 10: 0.6587436549206998\n",
              "\tround 11: 0.6563230364880663\n",
              "\tround 12: 0.6541205147479443\n",
              "\tround 13: 0.6512731384723744\n",
              "\tround 14: 0.6487849301480232\n",
              "\tround 15: 0.6466497852447185\n",
              "History (loss, centralized):\n",
              "\tround 0: 0.717132031917572\n",
              "\tround 1: 0.6831395030021667\n",
              "\tround 2: 0.6764363646507263\n",
              "\tround 3: 0.6748592853546143\n",
              "\tround 4: 0.6728706359863281\n",
              "\tround 5: 0.6714292764663696\n",
              "\tround 6: 0.6725345849990845\n",
              "\tround 7: 0.6725710034370422\n",
              "\tround 8: 0.6716809272766113\n",
              "\tround 9: 0.6707581877708435\n",
              "\tround 10: 0.6713998913764954\n",
              "\tround 11: 0.670581042766571\n",
              "\tround 12: 0.670042097568512\n",
              "\tround 13: 0.6702312231063843\n",
              "\tround 14: 0.671558678150177\n",
              "\tround 15: 0.6711401343345642\n",
              "History (metrics, distributed, evaluate):\n",
              "{'accuracy': [(1, 0.5685106345947752), (2, 0.5787234001971305), (3, 0.5931915009275396), (4, 0.597446805619179), (5, 0.6123404241622763), (6, 0.6272340472708358), (7, 0.6357446827787034), (8, 0.6391489348513015), (9, 0.6455319158574369), (10, 0.6425531846411685), (11, 0.6476595673155278), (12, 0.6527659545553491), (13, 0.6570212726897382), (14, 0.658297873557882), (15, 0.659148928966928)]}History (metrics, centralized):\n",
              "{'accuracy': [(0, 0.4675000011920929), (1, 0.5487499833106995), (2, 0.5724999904632568), (3, 0.581250011920929), (4, 0.5799999833106995), (5, 0.5924999713897705), (6, 0.5862500071525574), (7, 0.5950000286102295), (8, 0.6000000238418579), (9, 0.5975000262260437), (10, 0.5962499976158142), (11, 0.6012499928474426), (12, 0.6050000190734863), (13, 0.6012499928474426), (14, 0.5887500047683716), (15, 0.5962499976158142)]}"
            ]
          },
          "execution_count": 18,
          "metadata": {},
          "output_type": "execute_result"
        }
      ],
      "source": [
        "history"
      ]
    },
    {
      "cell_type": "code",
      "execution_count": 19,
      "metadata": {
        "colab": {
          "base_uri": "https://localhost:8080/"
        },
        "id": "D-29DaJU7PWE",
        "outputId": "922281ea-9fc9-4139-a8d8-d75a94926ec6"
      },
      "outputs": [
        {
          "name": "stdout",
          "output_type": "stream",
          "text": [
            "0.6050000190734863\n",
            "0.670042097568512\n",
            "5\n",
            "[array([[-0.11188927,  0.04626382, -0.10107277, ...,  0.02708078,\n",
            "        -0.12880059,  0.12052274],\n",
            "       [ 0.10582084,  0.14268203, -0.11345811, ..., -0.11299951,\n",
            "        -0.01334307,  0.05342008],\n",
            "       [-0.12120803, -0.05436783, -0.14651234, ...,  0.0409455 ,\n",
            "        -0.08060317, -0.14220315],\n",
            "       ...,\n",
            "       [ 0.04401699, -0.1459625 , -0.15326001, ...,  0.11114775,\n",
            "         0.06289359,  0.05430939],\n",
            "       [-0.11394229,  0.0289547 , -0.142676  , ..., -0.04175366,\n",
            "         0.124612  , -0.16681795],\n",
            "       [-0.1231417 , -0.13935745, -0.10235354, ...,  0.0997204 ,\n",
            "        -0.04045389, -0.09139772]], dtype=float32), array([[ 0.13017482, -0.07719965, -0.09669306, ..., -0.01106421,\n",
            "        -0.10978445,  0.07405293],\n",
            "       [-0.08135707, -0.06577331, -0.02556281, ..., -0.02791366,\n",
            "        -0.05424706,  0.11066396],\n",
            "       [ 0.01802721,  0.01223328,  0.12031075, ..., -0.00230684,\n",
            "        -0.05532712,  0.10695595],\n",
            "       ...,\n",
            "       [-0.02828089,  0.00392185, -0.02818172, ..., -0.01107599,\n",
            "        -0.05592538,  0.05486472],\n",
            "       [-0.09138964, -0.06480218,  0.02097806, ...,  0.01794187,\n",
            "        -0.08050963,  0.01367408],\n",
            "       [ 0.00141601, -0.08012152, -0.20158502, ..., -0.08833551,\n",
            "         0.01033192,  0.06551713]], dtype=float32), array([[-2.18475563e-03,  2.12509884e-03,  2.52478935e-06,\n",
            "         2.79327761e-03, -4.39982209e-03, -1.49931237e-02,\n",
            "        -1.83601805e-03,  9.60202236e-03,  1.23688322e-03,\n",
            "        -2.32796045e-03,  4.81755147e-03,  2.56512570e-03,\n",
            "         7.39411218e-03,  1.45613600e-03, -3.46090808e-03,\n",
            "        -1.14147074e-03, -4.20235767e-04,  7.40454160e-03,\n",
            "         3.08302813e-04, -4.54145251e-03,  4.82762791e-03,\n",
            "        -4.04771185e-03, -1.41309830e-03, -8.20580870e-04,\n",
            "         2.40992778e-03, -3.45945754e-03,  3.58848134e-03,\n",
            "         1.01950150e-02, -1.00614196e-02, -5.42419823e-03,\n",
            "         3.76776280e-03, -6.12490531e-03, -2.69162119e-03,\n",
            "        -3.84088233e-03, -9.43078380e-03,  1.21037336e-03,\n",
            "        -1.41921482e-04, -1.05507597e-02,  6.24253275e-03,\n",
            "         7.20435288e-03,  5.05895633e-03,  4.04187851e-03,\n",
            "         6.16368779e-04, -2.80952081e-03,  6.28419919e-03,\n",
            "         8.33302693e-06,  1.29009981e-03, -4.02725115e-03,\n",
            "        -4.10536118e-03,  1.79413578e-03,  7.47079076e-03,\n",
            "         1.11213082e-03, -1.29274162e-03,  5.81577304e-04,\n",
            "        -2.56635062e-03,  1.04646897e-02, -4.87116165e-03,\n",
            "         9.51320049e-04, -1.99688878e-03, -3.14908149e-03,\n",
            "         5.21863718e-03, -9.38328728e-03,  5.73911762e-04,\n",
            "        -1.47283415e-03, -4.82629956e-04, -5.06160490e-04,\n",
            "         4.95471932e-06,  3.42223706e-04,  5.31979240e-05,\n",
            "        -9.59819954e-05, -6.31003466e-04, -8.93529159e-06,\n",
            "         3.93778132e-03, -8.96226560e-09, -1.99659471e-03,\n",
            "        -2.08761077e-03,  6.62250886e-06,  2.67776824e-03,\n",
            "         2.62795395e-04, -3.06821971e-06, -4.83750924e-08,\n",
            "         5.33534447e-03,  3.40131673e-10,  9.87270498e-04,\n",
            "         1.88722464e-04,  1.08705554e-03, -4.87270858e-03,\n",
            "        -2.58515915e-03,  9.30464361e-03,  1.29118474e-04,\n",
            "        -9.40783357e-04,  1.19068532e-03,  6.24591339e-05,\n",
            "         2.19162248e-05,  4.01084390e-06, -3.52556061e-04,\n",
            "        -1.07081851e-03,  4.09784479e-06, -3.02412605e-04,\n",
            "        -1.18837785e-03,  3.28371516e-06,  8.69737123e-05,\n",
            "        -2.33706651e-05, -1.71005382e-07,  3.60562146e-04,\n",
            "         2.74522020e-03, -5.82531618e-04, -6.53346593e-04,\n",
            "         6.38391939e-04,  4.78663947e-04,  1.15812247e-04,\n",
            "        -1.85494137e-03, -3.93479335e-04, -2.27641067e-04,\n",
            "         0.00000000e+00,  5.42185153e-05,  3.79900769e-07,\n",
            "         1.19141431e-03, -1.95571538e-05, -2.55707582e-05,\n",
            "        -3.22679873e-04, -1.75052008e-03,  2.68923504e-05,\n",
            "         3.00314953e-03,  2.63506372e-04,  1.77793087e-08,\n",
            "        -8.45912946e-05, -4.25064092e-04, -7.56116258e-03,\n",
            "         6.77543320e-03,  1.44123482e-02, -1.81200251e-03,\n",
            "        -1.97464065e-03, -3.06602800e-03,  3.84139246e-03,\n",
            "         5.60759916e-04,  2.67501106e-03, -8.74654802e-08,\n",
            "         6.90500857e-03, -1.35863405e-02, -7.52678560e-03,\n",
            "         5.72904525e-03, -1.99288316e-03,  1.71962986e-03,\n",
            "         1.01012929e-05,  9.47335921e-03,  1.58457532e-08,\n",
            "        -5.49110398e-03,  6.44724630e-03, -3.41503555e-03,\n",
            "         1.71242026e-03, -2.80781370e-03, -5.94814168e-03,\n",
            "        -1.08447229e-03,  1.40728836e-03, -9.16435383e-04,\n",
            "         1.90990290e-03,  5.45276678e-04, -2.97474395e-03,\n",
            "         2.57141213e-03, -1.90831593e-03,  1.04653882e-03,\n",
            "         2.72127637e-03, -4.71206475e-03,  2.41785101e-03,\n",
            "        -2.00657616e-03,  3.64795187e-03, -5.06779470e-05,\n",
            "        -1.52918231e-03,  1.01493730e-03, -9.87008400e-03,\n",
            "         8.59919819e-04,  1.97080197e-03, -2.23460884e-04,\n",
            "         8.74710362e-03, -4.74398816e-03,  5.21395635e-03,\n",
            "         1.87671336e-03,  0.00000000e+00,  4.90909733e-04,\n",
            "        -2.86557130e-04,  6.50688307e-04,  7.45813362e-04,\n",
            "         1.28022616e-03, -2.15323153e-03, -7.89294063e-05,\n",
            "        -2.04368960e-03,  1.17928931e-03,  3.06266738e-04,\n",
            "         8.15203122e-04, -6.23337284e-04, -3.16347810e-03],\n",
            "       [-2.18475563e-03,  2.12509884e-03,  2.52478935e-06,\n",
            "         2.79327761e-03, -4.39982209e-03, -1.49931237e-02,\n",
            "        -1.83601805e-03,  9.60202236e-03,  1.23688322e-03,\n",
            "        -2.32796045e-03,  4.81755147e-03,  2.56512570e-03,\n",
            "         7.39411218e-03,  1.45613600e-03, -3.46090808e-03,\n",
            "        -1.14147074e-03, -4.20235767e-04,  7.40454160e-03,\n",
            "         3.08302813e-04, -4.54145251e-03,  4.82762791e-03,\n",
            "        -4.04771185e-03, -1.41309830e-03, -8.20580870e-04,\n",
            "         2.40992778e-03, -3.45945754e-03,  3.58848134e-03,\n",
            "         1.01950150e-02, -1.00614196e-02, -5.42419823e-03,\n",
            "         3.76776280e-03, -6.12490531e-03, -2.69162119e-03,\n",
            "        -3.84088233e-03, -9.43078380e-03,  1.21037336e-03,\n",
            "        -1.41921482e-04, -1.05507597e-02,  6.24253275e-03,\n",
            "         7.20435288e-03,  5.05895633e-03,  4.04187851e-03,\n",
            "         6.16368779e-04, -2.80952081e-03,  6.28419919e-03,\n",
            "         8.33302693e-06,  1.29009981e-03, -4.02725115e-03,\n",
            "        -4.10536118e-03,  1.79413578e-03,  7.47079076e-03,\n",
            "         1.11213082e-03, -1.29274162e-03,  5.81577304e-04,\n",
            "        -2.56635062e-03,  1.04646897e-02, -4.87116165e-03,\n",
            "         9.51320049e-04, -1.99688878e-03, -3.14908149e-03,\n",
            "         5.21863718e-03, -9.38328728e-03,  5.73911762e-04,\n",
            "        -1.47283415e-03, -4.82629956e-04, -5.06160490e-04,\n",
            "         4.95471932e-06,  3.42223706e-04,  5.31979240e-05,\n",
            "        -9.59819954e-05, -6.31003466e-04, -8.93529159e-06,\n",
            "         3.93778132e-03, -8.96226560e-09, -1.99659471e-03,\n",
            "        -2.08761077e-03,  6.62250886e-06,  2.67776824e-03,\n",
            "         2.62795395e-04, -3.06821971e-06, -4.83750924e-08,\n",
            "         5.33534447e-03,  3.40131673e-10,  9.87270498e-04,\n",
            "         1.88722464e-04,  1.08705554e-03, -4.87270858e-03,\n",
            "        -2.58515915e-03,  9.30464361e-03,  1.29118474e-04,\n",
            "        -9.40783357e-04,  1.19068532e-03,  6.24591339e-05,\n",
            "         2.19162248e-05,  4.01084390e-06, -3.52556061e-04,\n",
            "        -1.07081851e-03,  4.09784479e-06, -3.02412605e-04,\n",
            "        -1.18837785e-03,  3.28371516e-06,  8.69737123e-05,\n",
            "        -2.33706651e-05, -1.71005382e-07,  3.60562146e-04,\n",
            "         2.74522020e-03, -5.82531618e-04, -6.53346593e-04,\n",
            "         6.38391939e-04,  4.78663947e-04,  1.15812247e-04,\n",
            "        -1.85494137e-03, -3.93479335e-04, -2.27641067e-04,\n",
            "         0.00000000e+00,  5.42185153e-05,  3.79900769e-07,\n",
            "         1.19141431e-03, -1.95571538e-05, -2.55707582e-05,\n",
            "        -3.22679873e-04, -1.75052008e-03,  2.68923504e-05,\n",
            "         3.00314953e-03,  2.63506372e-04,  1.77793087e-08,\n",
            "        -8.45912946e-05, -4.25064092e-04, -7.41436891e-03,\n",
            "        -6.31568895e-04,  1.44129768e-02, -2.86611961e-03,\n",
            "        -1.39860625e-04, -2.68230191e-03,  3.11231753e-03,\n",
            "         3.06121910e-05,  1.29395491e-03, -6.41805116e-08,\n",
            "         5.17678354e-03, -1.09346947e-02, -1.07367779e-03,\n",
            "        -3.86127061e-03, -3.49123613e-04,  2.98178802e-05,\n",
            "         1.03570756e-05,  5.98373637e-03,  1.57953401e-08,\n",
            "        -3.64610949e-03,  6.44905819e-03, -2.18403689e-03,\n",
            "        -4.41117918e-05, -2.91005196e-03,  3.23226978e-03,\n",
            "        -2.24746123e-06,  1.40953576e-03, -9.15001787e-04,\n",
            "         1.89665717e-03,  6.03291264e-04, -8.33136164e-06,\n",
            "        -2.55153840e-03, -3.55812884e-03,  1.13481202e-03,\n",
            "         1.22702005e-03, -5.04294783e-03, -9.07182402e-06,\n",
            "        -4.69376420e-04, -9.43167252e-05, -4.70573127e-07,\n",
            "        -1.26593560e-03, -6.65393239e-03, -4.71419049e-03,\n",
            "        -5.31006895e-04, -1.05444947e-03, -2.69823871e-03,\n",
            "        -9.46604647e-04, -6.09395141e-03,  3.05936090e-03,\n",
            "         2.28735874e-03,  0.00000000e+00,  4.90948849e-04,\n",
            "        -3.39930762e-06, -5.72866620e-03,  7.52817490e-04,\n",
            "         1.19356526e-04, -2.80932436e-04, -1.99421379e-03,\n",
            "         1.36506118e-04,  7.10797962e-03,  1.54782538e-04,\n",
            "         3.99264945e-06, -9.04150438e-05, -6.90374756e-04]], dtype=float32), array([[-0.25039575,  0.03780859, -0.1536351 , ..., -0.08751302,\n",
            "         0.08861277,  0.14023453],\n",
            "       [ 0.16138616, -0.10709321,  0.11216551, ...,  0.23538753,\n",
            "        -0.2432719 , -0.05785742],\n",
            "       [ 0.18525147, -0.06804672,  0.1083039 , ..., -0.10405592,\n",
            "        -0.13856894,  0.19013192],\n",
            "       ...,\n",
            "       [-0.13645662, -0.13021155,  0.0996725 , ...,  0.02583547,\n",
            "        -0.08986636, -0.13711354],\n",
            "       [ 0.22388723, -0.01967403, -0.21418151, ..., -0.21569203,\n",
            "        -0.07166681,  0.15660727],\n",
            "       [-0.18239667, -0.22808932,  0.0735015 , ..., -0.01611589,\n",
            "         0.25457016,  0.14735791]], dtype=float32), array([-0.01498752, -0.00417396,  0.00413113,  0.00268511, -0.00484098,\n",
            "       -0.01504088,  0.00632635, -0.00555441, -0.00198288,  0.00319876,\n",
            "        0.00887361, -0.00484106,  0.00530979, -0.00061896, -0.00616992,\n",
            "       -0.00360812, -0.00654046, -0.00749135, -0.00064977, -0.00550125,\n",
            "       -0.00320706,  0.00495464,  0.00569021,  0.01030175,  0.00174139,\n",
            "       -0.0045648 ,  0.00382654, -0.01161389,  0.00771969, -0.00398793,\n",
            "       -0.00415854, -0.00420972], dtype=float32), array([[ 0.28859147],\n",
            "       [-0.31441495],\n",
            "       [-0.41583142],\n",
            "       [ 0.34440538],\n",
            "       [-0.12261248],\n",
            "       [-0.305877  ],\n",
            "       [-0.08119334],\n",
            "       [ 0.30028376],\n",
            "       [ 0.06723243],\n",
            "       [ 0.32385853],\n",
            "       [-0.17983937],\n",
            "       [-0.2348263 ],\n",
            "       [-0.09336496],\n",
            "       [ 0.2702717 ],\n",
            "       [ 0.31118888],\n",
            "       [ 0.3255008 ],\n",
            "       [ 0.10258187],\n",
            "       [-0.18629587],\n",
            "       [-0.25651205],\n",
            "       [ 0.16425948],\n",
            "       [ 0.3010946 ],\n",
            "       [ 0.09750181],\n",
            "       [-0.34450257],\n",
            "       [-0.13046099],\n",
            "       [ 0.00208206],\n",
            "       [ 0.12790647],\n",
            "       [-0.38311225],\n",
            "       [ 0.28630182],\n",
            "       [-0.18287136],\n",
            "       [-0.09878229],\n",
            "       [ 0.39986026],\n",
            "       [ 0.09931777]], dtype=float32), array([-0.00038561], dtype=float32)]\n"
          ]
        }
      ],
      "source": [
        "# printing validation results\n",
        "print(best_accuracy)\n",
        "print(best_loss)\n",
        "print(patience)\n",
        "print(weights)"
      ]
    }
  ],
  "metadata": {
    "accelerator": "GPU",
    "colab": {
      "gpuType": "V100",
      "machine_shape": "hm",
      "provenance": []
    },
    "kernelspec": {
      "display_name": "Python 3.9.0 64-bit",
      "language": "python",
      "name": "python3"
    },
    "language_info": {
      "name": "python",
      "version": "3.9.0"
    },
    "vscode": {
      "interpreter": {
        "hash": "5addf786bcd861d1ce5006f23111f8cbb206731e5b61b0a5632ba9e0252558a8"
      }
    }
  },
  "nbformat": 4,
  "nbformat_minor": 0
}
